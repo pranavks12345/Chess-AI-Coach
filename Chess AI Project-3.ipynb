{
 "cells": [
  {
   "cell_type": "code",
   "execution_count": 1,
   "id": "cd1b949a-5f9e-4f14-85dc-ee567dd72255",
   "metadata": {},
   "outputs": [
    {
     "data": {
      "text/plain": [
       "4"
      ]
     },
     "execution_count": 1,
     "metadata": {},
     "output_type": "execute_result"
    }
   ],
   "source": [
    "2+2"
   ]
  },
  {
   "cell_type": "code",
   "execution_count": 237,
   "id": "ea66f467-6ded-4ffe-bcaa-f637cddcb697",
   "metadata": {},
   "outputs": [
    {
     "name": "stdout",
     "output_type": "stream",
     "text": [
      "Requirement already satisfied: numpy in /Library/Frameworks/Python.framework/Versions/3.13/lib/python3.13/site-packages (2.2.0)\n",
      "Note: you may need to restart the kernel to use updated packages.\n"
     ]
    }
   ],
   "source": [
    "pip install numpy"
   ]
  },
  {
   "cell_type": "code",
   "execution_count": 2,
   "id": "1b5641c5-98f0-4eb6-8b24-8d9e7e61ae8f",
   "metadata": {},
   "outputs": [],
   "source": [
    "import numpy as np"
   ]
  },
  {
   "cell_type": "code",
   "execution_count": 239,
   "id": "d1922903-3476-4de8-9de9-78b6e9de6f82",
   "metadata": {},
   "outputs": [
    {
     "name": "stdout",
     "output_type": "stream",
     "text": [
      "Requirement already satisfied: pandas in /Library/Frameworks/Python.framework/Versions/3.13/lib/python3.13/site-packages (2.2.3)\n",
      "Requirement already satisfied: numpy>=1.26.0 in /Library/Frameworks/Python.framework/Versions/3.13/lib/python3.13/site-packages (from pandas) (2.2.0)\n",
      "Requirement already satisfied: python-dateutil>=2.8.2 in /Library/Frameworks/Python.framework/Versions/3.13/lib/python3.13/site-packages (from pandas) (2.9.0.post0)\n",
      "Requirement already satisfied: pytz>=2020.1 in /Library/Frameworks/Python.framework/Versions/3.13/lib/python3.13/site-packages (from pandas) (2024.2)\n",
      "Requirement already satisfied: tzdata>=2022.7 in /Library/Frameworks/Python.framework/Versions/3.13/lib/python3.13/site-packages (from pandas) (2024.2)\n",
      "Requirement already satisfied: six>=1.5 in /Library/Frameworks/Python.framework/Versions/3.13/lib/python3.13/site-packages (from python-dateutil>=2.8.2->pandas) (1.16.0)\n",
      "Note: you may need to restart the kernel to use updated packages.\n"
     ]
    }
   ],
   "source": [
    "pip install pandas"
   ]
  },
  {
   "cell_type": "code",
   "execution_count": 240,
   "id": "eb09c111-9327-4778-8ef7-6fd5fb53dd92",
   "metadata": {},
   "outputs": [
    {
     "name": "stdout",
     "output_type": "stream",
     "text": [
      "Requirement already satisfied: scikit-learn in /Library/Frameworks/Python.framework/Versions/3.13/lib/python3.13/site-packages (1.6.0)\n",
      "Requirement already satisfied: numpy>=1.19.5 in /Library/Frameworks/Python.framework/Versions/3.13/lib/python3.13/site-packages (from scikit-learn) (2.2.0)\n",
      "Requirement already satisfied: scipy>=1.6.0 in /Library/Frameworks/Python.framework/Versions/3.13/lib/python3.13/site-packages (from scikit-learn) (1.14.1)\n",
      "Requirement already satisfied: joblib>=1.2.0 in /Library/Frameworks/Python.framework/Versions/3.13/lib/python3.13/site-packages (from scikit-learn) (1.4.2)\n",
      "Requirement already satisfied: threadpoolctl>=3.1.0 in /Library/Frameworks/Python.framework/Versions/3.13/lib/python3.13/site-packages (from scikit-learn) (3.5.0)\n",
      "Note: you may need to restart the kernel to use updated packages.\n"
     ]
    }
   ],
   "source": [
    "pip install scikit-learn"
   ]
  },
  {
   "cell_type": "code",
   "execution_count": 3,
   "id": "f98ee5cb-60ce-43da-953e-b2bbd8f09d3d",
   "metadata": {},
   "outputs": [],
   "source": [
    "import pandas as pd"
   ]
  },
  {
   "cell_type": "code",
   "execution_count": 242,
   "id": "8ade7ab4-110a-4d31-9613-85c10aa331c8",
   "metadata": {},
   "outputs": [
    {
     "data": {
      "text/plain": [
       "<module 'pandas' from '/Library/Frameworks/Python.framework/Versions/3.13/lib/python3.13/site-packages/pandas/__init__.py'>"
      ]
     },
     "execution_count": 242,
     "metadata": {},
     "output_type": "execute_result"
    }
   ],
   "source": [
    "pd"
   ]
  },
  {
   "cell_type": "code",
   "execution_count": 4,
   "id": "52ded8d2-4e7c-4e8e-9b5c-e806fd88439c",
   "metadata": {},
   "outputs": [],
   "source": [
    "import time\n",
    "import json"
   ]
  },
  {
   "cell_type": "code",
   "execution_count": 244,
   "id": "dbdf5c1e-df0d-4a79-82a6-32a9c54f1f56",
   "metadata": {},
   "outputs": [
    {
     "name": "stdout",
     "output_type": "stream",
     "text": [
      "Requirement already satisfied: chess in /Library/Frameworks/Python.framework/Versions/3.13/lib/python3.13/site-packages (1.11.1)\n",
      "Note: you may need to restart the kernel to use updated packages.\n"
     ]
    }
   ],
   "source": [
    "pip install chess"
   ]
  },
  {
   "cell_type": "code",
   "execution_count": 5,
   "id": "d985812c-c091-4e99-9f97-890209aba21d",
   "metadata": {},
   "outputs": [],
   "source": [
    "import chess"
   ]
  },
  {
   "cell_type": "code",
   "execution_count": 6,
   "id": "54b22584-0eb5-445b-b8dc-c51832f0da9e",
   "metadata": {},
   "outputs": [],
   "source": [
    "board = chess.Board()"
   ]
  },
  {
   "cell_type": "code",
   "execution_count": 7,
   "id": "71b26c08-4fcd-4114-99b1-52fc5c18faa7",
   "metadata": {},
   "outputs": [
    {
     "data": {
      "image/svg+xml": [
       "<svg xmlns=\"http://www.w3.org/2000/svg\" xmlns:xlink=\"http://www.w3.org/1999/xlink\" viewBox=\"0 0 390 390\" width=\"390\" height=\"390\"><desc><pre>r n b q k b n r\n",
       "p p p p p p p p\n",
       ". . . . . . . .\n",
       ". . . . . . . .\n",
       ". . . . . . . .\n",
       ". . . . . . . .\n",
       "P P P P P P P P\n",
       "R N B Q K B N R</pre></desc><defs><g id=\"white-pawn\" class=\"white pawn\"><path d=\"M22.5 9c-2.21 0-4 1.79-4 4 0 .89.29 1.71.78 2.38C17.33 16.5 16 18.59 16 21c0 2.03.94 3.84 2.41 5.03-3 1.06-7.41 5.55-7.41 13.47h23c0-7.92-4.41-12.41-7.41-13.47 1.47-1.19 2.41-3 2.41-5.03 0-2.41-1.33-4.5-3.28-5.62.49-.67.78-1.49.78-2.38 0-2.21-1.79-4-4-4z\" fill=\"#fff\" stroke=\"#000\" stroke-width=\"1.5\" stroke-linecap=\"round\" /></g><g id=\"white-knight\" class=\"white knight\" fill=\"none\" fill-rule=\"evenodd\" stroke=\"#000\" stroke-width=\"1.5\" stroke-linecap=\"round\" stroke-linejoin=\"round\"><path d=\"M 22,10 C 32.5,11 38.5,18 38,39 L 15,39 C 15,30 25,32.5 23,18\" style=\"fill:#ffffff; stroke:#000000;\" /><path d=\"M 24,18 C 24.38,20.91 18.45,25.37 16,27 C 13,29 13.18,31.34 11,31 C 9.958,30.06 12.41,27.96 11,28 C 10,28 11.19,29.23 10,30 C 9,30 5.997,31 6,26 C 6,24 12,14 12,14 C 12,14 13.89,12.1 14,10.5 C 13.27,9.506 13.5,8.5 13.5,7.5 C 14.5,6.5 16.5,10 16.5,10 L 18.5,10 C 18.5,10 19.28,8.008 21,7 C 22,7 22,10 22,10\" style=\"fill:#ffffff; stroke:#000000;\" /><path d=\"M 9.5 25.5 A 0.5 0.5 0 1 1 8.5,25.5 A 0.5 0.5 0 1 1 9.5 25.5 z\" style=\"fill:#000000; stroke:#000000;\" /><path d=\"M 15 15.5 A 0.5 1.5 0 1 1 14,15.5 A 0.5 1.5 0 1 1 15 15.5 z\" transform=\"matrix(0.866,0.5,-0.5,0.866,9.693,-5.173)\" style=\"fill:#000000; stroke:#000000;\" /></g><g id=\"white-bishop\" class=\"white bishop\" fill=\"none\" fill-rule=\"evenodd\" stroke=\"#000\" stroke-width=\"1.5\" stroke-linecap=\"round\" stroke-linejoin=\"round\"><g fill=\"#fff\" stroke-linecap=\"butt\"><path d=\"M9 36c3.39-.97 10.11.43 13.5-2 3.39 2.43 10.11 1.03 13.5 2 0 0 1.65.54 3 2-.68.97-1.65.99-3 .5-3.39-.97-10.11.46-13.5-1-3.39 1.46-10.11.03-13.5 1-1.354.49-2.323.47-3-.5 1.354-1.94 3-2 3-2zM15 32c2.5 2.5 12.5 2.5 15 0 .5-1.5 0-2 0-2 0-2.5-2.5-4-2.5-4 5.5-1.5 6-11.5-5-15.5-11 4-10.5 14-5 15.5 0 0-2.5 1.5-2.5 4 0 0-.5.5 0 2zM25 8a2.5 2.5 0 1 1-5 0 2.5 2.5 0 1 1 5 0z\" /></g><path d=\"M17.5 26h10M15 30h15m-7.5-14.5v5M20 18h5\" stroke-linejoin=\"miter\" /></g><g id=\"white-rook\" class=\"white rook\" fill=\"#fff\" fill-rule=\"evenodd\" stroke=\"#000\" stroke-width=\"1.5\" stroke-linecap=\"round\" stroke-linejoin=\"round\"><path d=\"M9 39h27v-3H9v3zM12 36v-4h21v4H12zM11 14V9h4v2h5V9h5v2h5V9h4v5\" stroke-linecap=\"butt\" /><path d=\"M34 14l-3 3H14l-3-3\" /><path d=\"M31 17v12.5H14V17\" stroke-linecap=\"butt\" stroke-linejoin=\"miter\" /><path d=\"M31 29.5l1.5 2.5h-20l1.5-2.5\" /><path d=\"M11 14h23\" fill=\"none\" stroke-linejoin=\"miter\" /></g><g id=\"white-queen\" class=\"white queen\" fill=\"#fff\" fill-rule=\"evenodd\" stroke=\"#000\" stroke-width=\"1.5\" stroke-linecap=\"round\" stroke-linejoin=\"round\"><path d=\"M8 12a2 2 0 1 1-4 0 2 2 0 1 1 4 0zM24.5 7.5a2 2 0 1 1-4 0 2 2 0 1 1 4 0zM41 12a2 2 0 1 1-4 0 2 2 0 1 1 4 0zM16 8.5a2 2 0 1 1-4 0 2 2 0 1 1 4 0zM33 9a2 2 0 1 1-4 0 2 2 0 1 1 4 0z\" /><path d=\"M9 26c8.5-1.5 21-1.5 27 0l2-12-7 11V11l-5.5 13.5-3-15-3 15-5.5-14V25L7 14l2 12zM9 26c0 2 1.5 2 2.5 4 1 1.5 1 1 .5 3.5-1.5 1-1.5 2.5-1.5 2.5-1.5 1.5.5 2.5.5 2.5 6.5 1 16.5 1 23 0 0 0 1.5-1 0-2.5 0 0 .5-1.5-1-2.5-.5-2.5-.5-2 .5-3.5 1-2 2.5-2 2.5-4-8.5-1.5-18.5-1.5-27 0z\" stroke-linecap=\"butt\" /><path d=\"M11.5 30c3.5-1 18.5-1 22 0M12 33.5c6-1 15-1 21 0\" fill=\"none\" /></g><g id=\"white-king\" class=\"white king\" fill=\"none\" fill-rule=\"evenodd\" stroke=\"#000\" stroke-width=\"1.5\" stroke-linecap=\"round\" stroke-linejoin=\"round\"><path d=\"M22.5 11.63V6M20 8h5\" stroke-linejoin=\"miter\" /><path d=\"M22.5 25s4.5-7.5 3-10.5c0 0-1-2.5-3-2.5s-3 2.5-3 2.5c-1.5 3 3 10.5 3 10.5\" fill=\"#fff\" stroke-linecap=\"butt\" stroke-linejoin=\"miter\" /><path d=\"M11.5 37c5.5 3.5 15.5 3.5 21 0v-7s9-4.5 6-10.5c-4-6.5-13.5-3.5-16 4V27v-3.5c-3.5-7.5-13-10.5-16-4-3 6 5 10 5 10V37z\" fill=\"#fff\" /><path d=\"M11.5 30c5.5-3 15.5-3 21 0m-21 3.5c5.5-3 15.5-3 21 0m-21 3.5c5.5-3 15.5-3 21 0\" /></g><g id=\"black-pawn\" class=\"black pawn\"><path d=\"M22.5 9c-2.21 0-4 1.79-4 4 0 .89.29 1.71.78 2.38C17.33 16.5 16 18.59 16 21c0 2.03.94 3.84 2.41 5.03-3 1.06-7.41 5.55-7.41 13.47h23c0-7.92-4.41-12.41-7.41-13.47 1.47-1.19 2.41-3 2.41-5.03 0-2.41-1.33-4.5-3.28-5.62.49-.67.78-1.49.78-2.38 0-2.21-1.79-4-4-4z\" fill=\"#000\" stroke=\"#000\" stroke-width=\"1.5\" stroke-linecap=\"round\" /></g><g id=\"black-knight\" class=\"black knight\" fill=\"none\" fill-rule=\"evenodd\" stroke=\"#000\" stroke-width=\"1.5\" stroke-linecap=\"round\" stroke-linejoin=\"round\"><path d=\"M 22,10 C 32.5,11 38.5,18 38,39 L 15,39 C 15,30 25,32.5 23,18\" style=\"fill:#000000; stroke:#000000;\" /><path d=\"M 24,18 C 24.38,20.91 18.45,25.37 16,27 C 13,29 13.18,31.34 11,31 C 9.958,30.06 12.41,27.96 11,28 C 10,28 11.19,29.23 10,30 C 9,30 5.997,31 6,26 C 6,24 12,14 12,14 C 12,14 13.89,12.1 14,10.5 C 13.27,9.506 13.5,8.5 13.5,7.5 C 14.5,6.5 16.5,10 16.5,10 L 18.5,10 C 18.5,10 19.28,8.008 21,7 C 22,7 22,10 22,10\" style=\"fill:#000000; stroke:#000000;\" /><path d=\"M 9.5 25.5 A 0.5 0.5 0 1 1 8.5,25.5 A 0.5 0.5 0 1 1 9.5 25.5 z\" style=\"fill:#ececec; stroke:#ececec;\" /><path d=\"M 15 15.5 A 0.5 1.5 0 1 1 14,15.5 A 0.5 1.5 0 1 1 15 15.5 z\" transform=\"matrix(0.866,0.5,-0.5,0.866,9.693,-5.173)\" style=\"fill:#ececec; stroke:#ececec;\" /><path d=\"M 24.55,10.4 L 24.1,11.85 L 24.6,12 C 27.75,13 30.25,14.49 32.5,18.75 C 34.75,23.01 35.75,29.06 35.25,39 L 35.2,39.5 L 37.45,39.5 L 37.5,39 C 38,28.94 36.62,22.15 34.25,17.66 C 31.88,13.17 28.46,11.02 25.06,10.5 L 24.55,10.4 z \" style=\"fill:#ececec; stroke:none;\" /></g><g id=\"black-bishop\" class=\"black bishop\" fill=\"none\" fill-rule=\"evenodd\" stroke=\"#000\" stroke-width=\"1.5\" stroke-linecap=\"round\" stroke-linejoin=\"round\"><path d=\"M9 36c3.39-.97 10.11.43 13.5-2 3.39 2.43 10.11 1.03 13.5 2 0 0 1.65.54 3 2-.68.97-1.65.99-3 .5-3.39-.97-10.11.46-13.5-1-3.39 1.46-10.11.03-13.5 1-1.354.49-2.323.47-3-.5 1.354-1.94 3-2 3-2zm6-4c2.5 2.5 12.5 2.5 15 0 .5-1.5 0-2 0-2 0-2.5-2.5-4-2.5-4 5.5-1.5 6-11.5-5-15.5-11 4-10.5 14-5 15.5 0 0-2.5 1.5-2.5 4 0 0-.5.5 0 2zM25 8a2.5 2.5 0 1 1-5 0 2.5 2.5 0 1 1 5 0z\" fill=\"#000\" stroke-linecap=\"butt\" /><path d=\"M17.5 26h10M15 30h15m-7.5-14.5v5M20 18h5\" stroke=\"#fff\" stroke-linejoin=\"miter\" /></g><g id=\"black-rook\" class=\"black rook\" fill=\"#000\" fill-rule=\"evenodd\" stroke=\"#000\" stroke-width=\"1.5\" stroke-linecap=\"round\" stroke-linejoin=\"round\"><path d=\"M9 39h27v-3H9v3zM12.5 32l1.5-2.5h17l1.5 2.5h-20zM12 36v-4h21v4H12z\" stroke-linecap=\"butt\" /><path d=\"M14 29.5v-13h17v13H14z\" stroke-linecap=\"butt\" stroke-linejoin=\"miter\" /><path d=\"M14 16.5L11 14h23l-3 2.5H14zM11 14V9h4v2h5V9h5v2h5V9h4v5H11z\" stroke-linecap=\"butt\" /><path d=\"M12 35.5h21M13 31.5h19M14 29.5h17M14 16.5h17M11 14h23\" fill=\"none\" stroke=\"#fff\" stroke-width=\"1\" stroke-linejoin=\"miter\" /></g><g id=\"black-queen\" class=\"black queen\" fill=\"#000\" fill-rule=\"evenodd\" stroke=\"#000\" stroke-width=\"1.5\" stroke-linecap=\"round\" stroke-linejoin=\"round\"><g fill=\"#000\" stroke=\"none\"><circle cx=\"6\" cy=\"12\" r=\"2.75\" /><circle cx=\"14\" cy=\"9\" r=\"2.75\" /><circle cx=\"22.5\" cy=\"8\" r=\"2.75\" /><circle cx=\"31\" cy=\"9\" r=\"2.75\" /><circle cx=\"39\" cy=\"12\" r=\"2.75\" /></g><path d=\"M9 26c8.5-1.5 21-1.5 27 0l2.5-12.5L31 25l-.3-14.1-5.2 13.6-3-14.5-3 14.5-5.2-13.6L14 25 6.5 13.5 9 26zM9 26c0 2 1.5 2 2.5 4 1 1.5 1 1 .5 3.5-1.5 1-1.5 2.5-1.5 2.5-1.5 1.5.5 2.5.5 2.5 6.5 1 16.5 1 23 0 0 0 1.5-1 0-2.5 0 0 .5-1.5-1-2.5-.5-2.5-.5-2 .5-3.5 1-2 2.5-2 2.5-4-8.5-1.5-18.5-1.5-27 0z\" stroke-linecap=\"butt\" /><path d=\"M11 38.5a35 35 1 0 0 23 0\" fill=\"none\" stroke-linecap=\"butt\" /><path d=\"M11 29a35 35 1 0 1 23 0M12.5 31.5h20M11.5 34.5a35 35 1 0 0 22 0M10.5 37.5a35 35 1 0 0 24 0\" fill=\"none\" stroke=\"#fff\" /></g><g id=\"black-king\" class=\"black king\" fill=\"none\" fill-rule=\"evenodd\" stroke=\"#000\" stroke-width=\"1.5\" stroke-linecap=\"round\" stroke-linejoin=\"round\"><path d=\"M22.5 11.63V6\" stroke-linejoin=\"miter\" /><path d=\"M22.5 25s4.5-7.5 3-10.5c0 0-1-2.5-3-2.5s-3 2.5-3 2.5c-1.5 3 3 10.5 3 10.5\" fill=\"#000\" stroke-linecap=\"butt\" stroke-linejoin=\"miter\" /><path d=\"M11.5 37c5.5 3.5 15.5 3.5 21 0v-7s9-4.5 6-10.5c-4-6.5-13.5-3.5-16 4V27v-3.5c-3.5-7.5-13-10.5-16-4-3 6 5 10 5 10V37z\" fill=\"#000\" /><path d=\"M20 8h5\" stroke-linejoin=\"miter\" /><path d=\"M32 29.5s8.5-4 6.03-9.65C34.15 14 25 18 22.5 24.5l.01 2.1-.01-2.1C20 18 9.906 14 6.997 19.85c-2.497 5.65 4.853 9 4.853 9M11.5 30c5.5-3 15.5-3 21 0m-21 3.5c5.5-3 15.5-3 21 0m-21 3.5c5.5-3 15.5-3 21 0\" stroke=\"#fff\" /></g></defs><rect x=\"7.5\" y=\"7.5\" width=\"375\" height=\"375\" fill=\"none\" stroke=\"#212121\" stroke-width=\"15\" /><g transform=\"translate(20, 1) scale(0.75, 0.75)\" fill=\"#e5e5e5\" stroke=\"#e5e5e5\"><path d=\"M23.328 10.016q-1.742 0-2.414.398-.672.398-.672 1.36 0 .765.5 1.218.508.445 1.375.445 1.196 0 1.914-.843.727-.852.727-2.258v-.32zm2.867-.594v4.992h-1.437v-1.328q-.492.797-1.227 1.18-.734.375-1.797.375-1.343 0-2.14-.75-.79-.758-.79-2.024 0-1.476.985-2.226.992-.75 2.953-.75h2.016V8.75q0-.992-.656-1.531-.649-.547-1.829-.547-.75 0-1.46.18-.711.18-1.368.539V6.062q.79-.304 1.532-.453.742-.156 1.445-.156 1.898 0 2.836.984.937.985.937 2.985z\" /></g><g transform=\"translate(20, 375) scale(0.75, 0.75)\" fill=\"#e5e5e5\" stroke=\"#e5e5e5\"><path d=\"M23.328 10.016q-1.742 0-2.414.398-.672.398-.672 1.36 0 .765.5 1.218.508.445 1.375.445 1.196 0 1.914-.843.727-.852.727-2.258v-.32zm2.867-.594v4.992h-1.437v-1.328q-.492.797-1.227 1.18-.734.375-1.797.375-1.343 0-2.14-.75-.79-.758-.79-2.024 0-1.476.985-2.226.992-.75 2.953-.75h2.016V8.75q0-.992-.656-1.531-.649-.547-1.829-.547-.75 0-1.46.18-.711.18-1.368.539V6.062q.79-.304 1.532-.453.742-.156 1.445-.156 1.898 0 2.836.984.937.985.937 2.985z\" /></g><g transform=\"translate(65, 1) scale(0.75, 0.75)\" fill=\"#e5e5e5\" stroke=\"#e5e5e5\"><path d=\"M24.922 10.047q0-1.586-.656-2.485-.649-.906-1.79-.906-1.14 0-1.796.906-.649.899-.649 2.485 0 1.586.649 2.492.656.898 1.797.898 1.14 0 1.789-.898.656-.906.656-2.492zm-4.89-3.055q.452-.781 1.14-1.156.695-.383 1.656-.383 1.594 0 2.586 1.266 1 1.265 1 3.328 0 2.062-1 3.328-.992 1.266-2.586 1.266-.96 0-1.656-.375-.688-.383-1.14-1.164v1.312h-1.446V2.258h1.445z\" /></g><g transform=\"translate(65, 375) scale(0.75, 0.75)\" fill=\"#e5e5e5\" stroke=\"#e5e5e5\"><path d=\"M24.922 10.047q0-1.586-.656-2.485-.649-.906-1.79-.906-1.14 0-1.796.906-.649.899-.649 2.485 0 1.586.649 2.492.656.898 1.797.898 1.14 0 1.789-.898.656-.906.656-2.492zm-4.89-3.055q.452-.781 1.14-1.156.695-.383 1.656-.383 1.594 0 2.586 1.266 1 1.265 1 3.328 0 2.062-1 3.328-.992 1.266-2.586 1.266-.96 0-1.656-.375-.688-.383-1.14-1.164v1.312h-1.446V2.258h1.445z\" /></g><g transform=\"translate(110, 1) scale(0.75, 0.75)\" fill=\"#e5e5e5\" stroke=\"#e5e5e5\"><path d=\"M25.96 6v1.344q-.608-.336-1.226-.5-.609-.172-1.234-.172-1.398 0-2.172.89-.773.883-.773 2.485 0 1.601.773 2.492.774.883 2.172.883.625 0 1.234-.164.618-.172 1.227-.508v1.328q-.602.281-1.25.422-.64.14-1.367.14-1.977 0-3.14-1.242-1.165-1.242-1.165-3.351 0-2.14 1.172-3.367 1.18-1.227 3.227-1.227.664 0 1.296.14.633.134 1.227.407z\" /></g><g transform=\"translate(110, 375) scale(0.75, 0.75)\" fill=\"#e5e5e5\" stroke=\"#e5e5e5\"><path d=\"M25.96 6v1.344q-.608-.336-1.226-.5-.609-.172-1.234-.172-1.398 0-2.172.89-.773.883-.773 2.485 0 1.601.773 2.492.774.883 2.172.883.625 0 1.234-.164.618-.172 1.227-.508v1.328q-.602.281-1.25.422-.64.14-1.367.14-1.977 0-3.14-1.242-1.165-1.242-1.165-3.351 0-2.14 1.172-3.367 1.18-1.227 3.227-1.227.664 0 1.296.14.633.134 1.227.407z\" /></g><g transform=\"translate(155, 1) scale(0.75, 0.75)\" fill=\"#e5e5e5\" stroke=\"#e5e5e5\"><path d=\"M24.973 6.992V2.258h1.437v12.156h-1.437v-1.312q-.453.78-1.149 1.164-.687.375-1.656.375-1.586 0-2.586-1.266-.992-1.266-.992-3.328 0-2.063.992-3.328 1-1.266 2.586-1.266.969 0 1.656.383.696.375 1.149 1.156zm-4.899 3.055q0 1.586.649 2.492.656.898 1.797.898 1.14 0 1.796-.898.657-.906.657-2.492 0-1.586-.657-2.485-.656-.906-1.796-.906-1.141 0-1.797.906-.649.899-.649 2.485z\" /></g><g transform=\"translate(155, 375) scale(0.75, 0.75)\" fill=\"#e5e5e5\" stroke=\"#e5e5e5\"><path d=\"M24.973 6.992V2.258h1.437v12.156h-1.437v-1.312q-.453.78-1.149 1.164-.687.375-1.656.375-1.586 0-2.586-1.266-.992-1.266-.992-3.328 0-2.063.992-3.328 1-1.266 2.586-1.266.969 0 1.656.383.696.375 1.149 1.156zm-4.899 3.055q0 1.586.649 2.492.656.898 1.797.898 1.14 0 1.796-.898.657-.906.657-2.492 0-1.586-.657-2.485-.656-.906-1.796-.906-1.141 0-1.797.906-.649.899-.649 2.485z\" /></g><g transform=\"translate(200, 1) scale(0.75, 0.75)\" fill=\"#e5e5e5\" stroke=\"#e5e5e5\"><path d=\"M26.555 9.68v.703h-6.61q.094 1.484.89 2.265.806.774 2.235.774.828 0 1.602-.203.781-.203 1.547-.61v1.36q-.774.328-1.586.5-.813.172-1.649.172-2.093 0-3.32-1.22-1.219-1.218-1.219-3.296 0-2.148 1.157-3.406 1.164-1.266 3.132-1.266 1.766 0 2.79 1.14 1.03 1.134 1.03 3.087zm-1.438-.422q-.015-1.18-.664-1.883-.64-.703-1.703-.703-1.203 0-1.93.68-.718.68-.828 1.914z\" /></g><g transform=\"translate(200, 375) scale(0.75, 0.75)\" fill=\"#e5e5e5\" stroke=\"#e5e5e5\"><path d=\"M26.555 9.68v.703h-6.61q.094 1.484.89 2.265.806.774 2.235.774.828 0 1.602-.203.781-.203 1.547-.61v1.36q-.774.328-1.586.5-.813.172-1.649.172-2.093 0-3.32-1.22-1.219-1.218-1.219-3.296 0-2.148 1.157-3.406 1.164-1.266 3.132-1.266 1.766 0 2.79 1.14 1.03 1.134 1.03 3.087zm-1.438-.422q-.015-1.18-.664-1.883-.64-.703-1.703-.703-1.203 0-1.93.68-.718.68-.828 1.914z\" /></g><g transform=\"translate(245, 1) scale(0.75, 0.75)\" fill=\"#e5e5e5\" stroke=\"#e5e5e5\"><path d=\"M25.285 2.258v1.195H23.91q-.773 0-1.078.313-.297.312-.297 1.125v.773h2.367v1.117h-2.367v7.633H21.09V6.781h-1.375V5.664h1.375v-.61q0-1.46.68-2.124.68-.672 2.156-.672z\" /></g><g transform=\"translate(245, 375) scale(0.75, 0.75)\" fill=\"#e5e5e5\" stroke=\"#e5e5e5\"><path d=\"M25.285 2.258v1.195H23.91q-.773 0-1.078.313-.297.312-.297 1.125v.773h2.367v1.117h-2.367v7.633H21.09V6.781h-1.375V5.664h1.375v-.61q0-1.46.68-2.124.68-.672 2.156-.672z\" /></g><g transform=\"translate(290, 1) scale(0.75, 0.75)\" fill=\"#e5e5e5\" stroke=\"#e5e5e5\"><path d=\"M24.973 9.937q0-1.562-.649-2.421-.64-.86-1.804-.86-1.157 0-1.805.86-.64.859-.64 2.421 0 1.555.64 2.415.648.859 1.805.859 1.164 0 1.804-.86.649-.859.649-2.414zm1.437 3.391q0 2.234-.992 3.32-.992 1.094-3.04 1.094-.757 0-1.429-.117-.672-.11-1.304-.344v-1.398q.632.344 1.25.508.617.164 1.257.164 1.414 0 2.118-.743.703-.734.703-2.226v-.711q-.446.773-1.141 1.156-.695.383-1.664.383-1.61 0-2.594-1.227-.984-1.226-.984-3.25 0-2.03.984-3.257.985-1.227 2.594-1.227.969 0 1.664.383t1.14 1.156V5.664h1.438z\" /></g><g transform=\"translate(290, 375) scale(0.75, 0.75)\" fill=\"#e5e5e5\" stroke=\"#e5e5e5\"><path d=\"M24.973 9.937q0-1.562-.649-2.421-.64-.86-1.804-.86-1.157 0-1.805.86-.64.859-.64 2.421 0 1.555.64 2.415.648.859 1.805.859 1.164 0 1.804-.86.649-.859.649-2.414zm1.437 3.391q0 2.234-.992 3.32-.992 1.094-3.04 1.094-.757 0-1.429-.117-.672-.11-1.304-.344v-1.398q.632.344 1.25.508.617.164 1.257.164 1.414 0 2.118-.743.703-.734.703-2.226v-.711q-.446.773-1.141 1.156-.695.383-1.664.383-1.61 0-2.594-1.227-.984-1.226-.984-3.25 0-2.03.984-3.257.985-1.227 2.594-1.227.969 0 1.664.383t1.14 1.156V5.664h1.438z\" /></g><g transform=\"translate(335, 1) scale(0.75, 0.75)\" fill=\"#e5e5e5\" stroke=\"#e5e5e5\"><path d=\"M26.164 9.133v5.281h-1.437V9.18q0-1.243-.485-1.86-.484-.617-1.453-.617-1.164 0-1.836.742-.672.742-.672 2.024v4.945h-1.445V2.258h1.445v4.765q.516-.789 1.211-1.18.703-.39 1.617-.39 1.508 0 2.282.938.773.93.773 2.742z\" /></g><g transform=\"translate(335, 375) scale(0.75, 0.75)\" fill=\"#e5e5e5\" stroke=\"#e5e5e5\"><path d=\"M26.164 9.133v5.281h-1.437V9.18q0-1.243-.485-1.86-.484-.617-1.453-.617-1.164 0-1.836.742-.672.742-.672 2.024v4.945h-1.445V2.258h1.445v4.765q.516-.789 1.211-1.18.703-.39 1.617-.39 1.508 0 2.282.938.773.93.773 2.742z\" /></g><g transform=\"translate(0, 335) scale(0.75, 0.75)\" fill=\"#e5e5e5\" stroke=\"#e5e5e5\"><path d=\"M6.754 26.996h2.578v-8.898l-2.805.562v-1.437l2.79-.563h1.578v10.336h2.578v1.328h-6.72z\" /></g><g transform=\"translate(375, 335) scale(0.75, 0.75)\" fill=\"#e5e5e5\" stroke=\"#e5e5e5\"><path d=\"M6.754 26.996h2.578v-8.898l-2.805.562v-1.437l2.79-.563h1.578v10.336h2.578v1.328h-6.72z\" /></g><g transform=\"translate(0, 290) scale(0.75, 0.75)\" fill=\"#e5e5e5\" stroke=\"#e5e5e5\"><path d=\"M8.195 26.996h5.508v1.328H6.297v-1.328q.898-.93 2.445-2.492 1.555-1.57 1.953-2.024.758-.851 1.055-1.437.305-.594.305-1.164 0-.93-.657-1.516-.648-.586-1.695-.586-.742 0-1.57.258-.82.258-1.758.781v-1.593q.953-.383 1.781-.578.828-.196 1.516-.196 1.812 0 2.89.906 1.079.907 1.079 2.422 0 .72-.274 1.368-.265.64-.976 1.515-.196.227-1.243 1.313-1.046 1.078-2.953 3.023z\" /></g><g transform=\"translate(375, 290) scale(0.75, 0.75)\" fill=\"#e5e5e5\" stroke=\"#e5e5e5\"><path d=\"M8.195 26.996h5.508v1.328H6.297v-1.328q.898-.93 2.445-2.492 1.555-1.57 1.953-2.024.758-.851 1.055-1.437.305-.594.305-1.164 0-.93-.657-1.516-.648-.586-1.695-.586-.742 0-1.57.258-.82.258-1.758.781v-1.593q.953-.383 1.781-.578.828-.196 1.516-.196 1.812 0 2.89.906 1.079.907 1.079 2.422 0 .72-.274 1.368-.265.64-.976 1.515-.196.227-1.243 1.313-1.046 1.078-2.953 3.023z\" /></g><g transform=\"translate(0, 245) scale(0.75, 0.75)\" fill=\"#e5e5e5\" stroke=\"#e5e5e5\"><path d=\"M11.434 22.035q1.132.242 1.765 1.008.64.766.64 1.89 0 1.727-1.187 2.672-1.187.946-3.375.946-.734 0-1.515-.149-.774-.14-1.602-.43V26.45q.656.383 1.438.578.78.196 1.632.196 1.485 0 2.258-.586.782-.586.782-1.703 0-1.032-.727-1.61-.719-.586-2.008-.586h-1.36v-1.297h1.423q1.164 0 1.78-.46.618-.47.618-1.344 0-.899-.64-1.375-.633-.485-1.82-.485-.65 0-1.391.141-.743.14-1.633.437V16.95q.898-.25 1.68-.375.788-.125 1.484-.125 1.797 0 2.844.82 1.046.813 1.046 2.204 0 .968-.554 1.64-.555.664-1.578.922z\" /></g><g transform=\"translate(375, 245) scale(0.75, 0.75)\" fill=\"#e5e5e5\" stroke=\"#e5e5e5\"><path d=\"M11.434 22.035q1.132.242 1.765 1.008.64.766.64 1.89 0 1.727-1.187 2.672-1.187.946-3.375.946-.734 0-1.515-.149-.774-.14-1.602-.43V26.45q.656.383 1.438.578.78.196 1.632.196 1.485 0 2.258-.586.782-.586.782-1.703 0-1.032-.727-1.61-.719-.586-2.008-.586h-1.36v-1.297h1.423q1.164 0 1.78-.46.618-.47.618-1.344 0-.899-.64-1.375-.633-.485-1.82-.485-.65 0-1.391.141-.743.14-1.633.437V16.95q.898-.25 1.68-.375.788-.125 1.484-.125 1.797 0 2.844.82 1.046.813 1.046 2.204 0 .968-.554 1.64-.555.664-1.578.922z\" /></g><g transform=\"translate(0, 200) scale(0.75, 0.75)\" fill=\"#e5e5e5\" stroke=\"#e5e5e5\"><path d=\"M11.016 18.035L7.03 24.262h3.985zm-.414-1.375h1.984v7.602h1.664v1.312h-1.664v2.75h-1.57v-2.75H5.75v-1.523z\" /></g><g transform=\"translate(375, 200) scale(0.75, 0.75)\" fill=\"#e5e5e5\" stroke=\"#e5e5e5\"><path d=\"M11.016 18.035L7.03 24.262h3.985zm-.414-1.375h1.984v7.602h1.664v1.312h-1.664v2.75h-1.57v-2.75H5.75v-1.523z\" /></g><g transform=\"translate(0, 155) scale(0.75, 0.75)\" fill=\"#e5e5e5\" stroke=\"#e5e5e5\"><path d=\"M6.719 16.66h6.195v1.328h-4.75v2.86q.344-.118.688-.172.343-.063.687-.063 1.953 0 3.094 1.07 1.14 1.07 1.14 2.899 0 1.883-1.171 2.93-1.172 1.039-3.305 1.039-.735 0-1.5-.125-.758-.125-1.57-.375v-1.586q.703.383 1.453.57.75.188 1.586.188 1.351 0 2.14-.711.79-.711.79-1.93 0-1.219-.79-1.93-.789-.71-2.14-.71-.633 0-1.266.14-.625.14-1.281.438z\" /></g><g transform=\"translate(375, 155) scale(0.75, 0.75)\" fill=\"#e5e5e5\" stroke=\"#e5e5e5\"><path d=\"M6.719 16.66h6.195v1.328h-4.75v2.86q.344-.118.688-.172.343-.063.687-.063 1.953 0 3.094 1.07 1.14 1.07 1.14 2.899 0 1.883-1.171 2.93-1.172 1.039-3.305 1.039-.735 0-1.5-.125-.758-.125-1.57-.375v-1.586q.703.383 1.453.57.75.188 1.586.188 1.351 0 2.14-.711.79-.711.79-1.93 0-1.219-.79-1.93-.789-.71-2.14-.71-.633 0-1.266.14-.625.14-1.281.438z\" /></g><g transform=\"translate(0, 110) scale(0.75, 0.75)\" fill=\"#e5e5e5\" stroke=\"#e5e5e5\"><path d=\"M10.137 21.863q-1.063 0-1.688.727-.617.726-.617 1.992 0 1.258.617 1.992.625.727 1.688.727 1.062 0 1.68-.727.624-.734.624-1.992 0-1.266-.625-1.992-.617-.727-1.68-.727zm3.133-4.945v1.437q-.594-.28-1.204-.43-.601-.148-1.195-.148-1.562 0-2.39 1.055-.82 1.055-.938 3.188.46-.68 1.156-1.04.696-.367 1.531-.367 1.758 0 2.774 1.07 1.023 1.063 1.023 2.899 0 1.797-1.062 2.883-1.063 1.086-2.828 1.086-2.024 0-3.094-1.547-1.07-1.555-1.07-4.5 0-2.766 1.312-4.406 1.313-1.649 3.524-1.649.593 0 1.195.117.61.118 1.266.352z\" /></g><g transform=\"translate(375, 110) scale(0.75, 0.75)\" fill=\"#e5e5e5\" stroke=\"#e5e5e5\"><path d=\"M10.137 21.863q-1.063 0-1.688.727-.617.726-.617 1.992 0 1.258.617 1.992.625.727 1.688.727 1.062 0 1.68-.727.624-.734.624-1.992 0-1.266-.625-1.992-.617-.727-1.68-.727zm3.133-4.945v1.437q-.594-.28-1.204-.43-.601-.148-1.195-.148-1.562 0-2.39 1.055-.82 1.055-.938 3.188.46-.68 1.156-1.04.696-.367 1.531-.367 1.758 0 2.774 1.07 1.023 1.063 1.023 2.899 0 1.797-1.062 2.883-1.063 1.086-2.828 1.086-2.024 0-3.094-1.547-1.07-1.555-1.07-4.5 0-2.766 1.312-4.406 1.313-1.649 3.524-1.649.593 0 1.195.117.61.118 1.266.352z\" /></g><g transform=\"translate(0, 65) scale(0.75, 0.75)\" fill=\"#e5e5e5\" stroke=\"#e5e5e5\"><path d=\"M6.25 16.66h7.5v.672L9.516 28.324H7.867l3.985-10.336H6.25z\" /></g><g transform=\"translate(375, 65) scale(0.75, 0.75)\" fill=\"#e5e5e5\" stroke=\"#e5e5e5\"><path d=\"M6.25 16.66h7.5v.672L9.516 28.324H7.867l3.985-10.336H6.25z\" /></g><g transform=\"translate(0, 20) scale(0.75, 0.75)\" fill=\"#e5e5e5\" stroke=\"#e5e5e5\"><path d=\"M10 22.785q-1.125 0-1.773.602-.641.601-.641 1.656t.64 1.656q.649.602 1.774.602t1.773-.602q.649-.61.649-1.656 0-1.055-.649-1.656-.64-.602-1.773-.602zm-1.578-.672q-1.016-.25-1.586-.945-.563-.695-.563-1.695 0-1.399.993-2.211 1-.813 2.734-.813 1.742 0 2.734.813.993.812.993 2.21 0 1-.57 1.696-.563.695-1.571.945 1.14.266 1.773 1.04.641.773.641 1.89 0 1.695-1.04 2.602-1.03.906-2.96.906t-2.969-.906Q6 26.738 6 25.043q0-1.117.64-1.89.641-.774 1.782-1.04zm-.578-2.492q0 .906.562 1.414.57.508 1.594.508 1.016 0 1.586-.508.578-.508.578-1.414 0-.906-.578-1.414-.57-.508-1.586-.508-1.023 0-1.594.508-.562.508-.562 1.414z\" /></g><g transform=\"translate(375, 20) scale(0.75, 0.75)\" fill=\"#e5e5e5\" stroke=\"#e5e5e5\"><path d=\"M10 22.785q-1.125 0-1.773.602-.641.601-.641 1.656t.64 1.656q.649.602 1.774.602t1.773-.602q.649-.61.649-1.656 0-1.055-.649-1.656-.64-.602-1.773-.602zm-1.578-.672q-1.016-.25-1.586-.945-.563-.695-.563-1.695 0-1.399.993-2.211 1-.813 2.734-.813 1.742 0 2.734.813.993.812.993 2.21 0 1-.57 1.696-.563.695-1.571.945 1.14.266 1.773 1.04.641.773.641 1.89 0 1.695-1.04 2.602-1.03.906-2.96.906t-2.969-.906Q6 26.738 6 25.043q0-1.117.64-1.89.641-.774 1.782-1.04zm-.578-2.492q0 .906.562 1.414.57.508 1.594.508 1.016 0 1.586-.508.578-.508.578-1.414 0-.906-.578-1.414-.57-.508-1.586-.508-1.023 0-1.594.508-.562.508-.562 1.414z\" /></g><rect x=\"15\" y=\"330\" width=\"45\" height=\"45\" class=\"square dark a1\" stroke=\"none\" fill=\"#d18b47\" /><rect x=\"60\" y=\"330\" width=\"45\" height=\"45\" class=\"square light b1\" stroke=\"none\" fill=\"#ffce9e\" /><rect x=\"105\" y=\"330\" width=\"45\" height=\"45\" class=\"square dark c1\" stroke=\"none\" fill=\"#d18b47\" /><rect x=\"150\" y=\"330\" width=\"45\" height=\"45\" class=\"square light d1\" stroke=\"none\" fill=\"#ffce9e\" /><rect x=\"195\" y=\"330\" width=\"45\" height=\"45\" class=\"square dark e1\" stroke=\"none\" fill=\"#d18b47\" /><rect x=\"240\" y=\"330\" width=\"45\" height=\"45\" class=\"square light f1\" stroke=\"none\" fill=\"#ffce9e\" /><rect x=\"285\" y=\"330\" width=\"45\" height=\"45\" class=\"square dark g1\" stroke=\"none\" fill=\"#d18b47\" /><rect x=\"330\" y=\"330\" width=\"45\" height=\"45\" class=\"square light h1\" stroke=\"none\" fill=\"#ffce9e\" /><rect x=\"15\" y=\"285\" width=\"45\" height=\"45\" class=\"square light a2\" stroke=\"none\" fill=\"#ffce9e\" /><rect x=\"60\" y=\"285\" width=\"45\" height=\"45\" class=\"square dark b2\" stroke=\"none\" fill=\"#d18b47\" /><rect x=\"105\" y=\"285\" width=\"45\" height=\"45\" class=\"square light c2\" stroke=\"none\" fill=\"#ffce9e\" /><rect x=\"150\" y=\"285\" width=\"45\" height=\"45\" class=\"square dark d2\" stroke=\"none\" fill=\"#d18b47\" /><rect x=\"195\" y=\"285\" width=\"45\" height=\"45\" class=\"square light e2\" stroke=\"none\" fill=\"#ffce9e\" /><rect x=\"240\" y=\"285\" width=\"45\" height=\"45\" class=\"square dark f2\" stroke=\"none\" fill=\"#d18b47\" /><rect x=\"285\" y=\"285\" width=\"45\" height=\"45\" class=\"square light g2\" stroke=\"none\" fill=\"#ffce9e\" /><rect x=\"330\" y=\"285\" width=\"45\" height=\"45\" class=\"square dark h2\" stroke=\"none\" fill=\"#d18b47\" /><rect x=\"15\" y=\"240\" width=\"45\" height=\"45\" class=\"square dark a3\" stroke=\"none\" fill=\"#d18b47\" /><rect x=\"60\" y=\"240\" width=\"45\" height=\"45\" class=\"square light b3\" stroke=\"none\" fill=\"#ffce9e\" /><rect x=\"105\" y=\"240\" width=\"45\" height=\"45\" class=\"square dark c3\" stroke=\"none\" fill=\"#d18b47\" /><rect x=\"150\" y=\"240\" width=\"45\" height=\"45\" class=\"square light d3\" stroke=\"none\" fill=\"#ffce9e\" /><rect x=\"195\" y=\"240\" width=\"45\" height=\"45\" class=\"square dark e3\" stroke=\"none\" fill=\"#d18b47\" /><rect x=\"240\" y=\"240\" width=\"45\" height=\"45\" class=\"square light f3\" stroke=\"none\" fill=\"#ffce9e\" /><rect x=\"285\" y=\"240\" width=\"45\" height=\"45\" class=\"square dark g3\" stroke=\"none\" fill=\"#d18b47\" /><rect x=\"330\" y=\"240\" width=\"45\" height=\"45\" class=\"square light h3\" stroke=\"none\" fill=\"#ffce9e\" /><rect x=\"15\" y=\"195\" width=\"45\" height=\"45\" class=\"square light a4\" stroke=\"none\" fill=\"#ffce9e\" /><rect x=\"60\" y=\"195\" width=\"45\" height=\"45\" class=\"square dark b4\" stroke=\"none\" fill=\"#d18b47\" /><rect x=\"105\" y=\"195\" width=\"45\" height=\"45\" class=\"square light c4\" stroke=\"none\" fill=\"#ffce9e\" /><rect x=\"150\" y=\"195\" width=\"45\" height=\"45\" class=\"square dark d4\" stroke=\"none\" fill=\"#d18b47\" /><rect x=\"195\" y=\"195\" width=\"45\" height=\"45\" class=\"square light e4\" stroke=\"none\" fill=\"#ffce9e\" /><rect x=\"240\" y=\"195\" width=\"45\" height=\"45\" class=\"square dark f4\" stroke=\"none\" fill=\"#d18b47\" /><rect x=\"285\" y=\"195\" width=\"45\" height=\"45\" class=\"square light g4\" stroke=\"none\" fill=\"#ffce9e\" /><rect x=\"330\" y=\"195\" width=\"45\" height=\"45\" class=\"square dark h4\" stroke=\"none\" fill=\"#d18b47\" /><rect x=\"15\" y=\"150\" width=\"45\" height=\"45\" class=\"square dark a5\" stroke=\"none\" fill=\"#d18b47\" /><rect x=\"60\" y=\"150\" width=\"45\" height=\"45\" class=\"square light b5\" stroke=\"none\" fill=\"#ffce9e\" /><rect x=\"105\" y=\"150\" width=\"45\" height=\"45\" class=\"square dark c5\" stroke=\"none\" fill=\"#d18b47\" /><rect x=\"150\" y=\"150\" width=\"45\" height=\"45\" class=\"square light d5\" stroke=\"none\" fill=\"#ffce9e\" /><rect x=\"195\" y=\"150\" width=\"45\" height=\"45\" class=\"square dark e5\" stroke=\"none\" fill=\"#d18b47\" /><rect x=\"240\" y=\"150\" width=\"45\" height=\"45\" class=\"square light f5\" stroke=\"none\" fill=\"#ffce9e\" /><rect x=\"285\" y=\"150\" width=\"45\" height=\"45\" class=\"square dark g5\" stroke=\"none\" fill=\"#d18b47\" /><rect x=\"330\" y=\"150\" width=\"45\" height=\"45\" class=\"square light h5\" stroke=\"none\" fill=\"#ffce9e\" /><rect x=\"15\" y=\"105\" width=\"45\" height=\"45\" class=\"square light a6\" stroke=\"none\" fill=\"#ffce9e\" /><rect x=\"60\" y=\"105\" width=\"45\" height=\"45\" class=\"square dark b6\" stroke=\"none\" fill=\"#d18b47\" /><rect x=\"105\" y=\"105\" width=\"45\" height=\"45\" class=\"square light c6\" stroke=\"none\" fill=\"#ffce9e\" /><rect x=\"150\" y=\"105\" width=\"45\" height=\"45\" class=\"square dark d6\" stroke=\"none\" fill=\"#d18b47\" /><rect x=\"195\" y=\"105\" width=\"45\" height=\"45\" class=\"square light e6\" stroke=\"none\" fill=\"#ffce9e\" /><rect x=\"240\" y=\"105\" width=\"45\" height=\"45\" class=\"square dark f6\" stroke=\"none\" fill=\"#d18b47\" /><rect x=\"285\" y=\"105\" width=\"45\" height=\"45\" class=\"square light g6\" stroke=\"none\" fill=\"#ffce9e\" /><rect x=\"330\" y=\"105\" width=\"45\" height=\"45\" class=\"square dark h6\" stroke=\"none\" fill=\"#d18b47\" /><rect x=\"15\" y=\"60\" width=\"45\" height=\"45\" class=\"square dark a7\" stroke=\"none\" fill=\"#d18b47\" /><rect x=\"60\" y=\"60\" width=\"45\" height=\"45\" class=\"square light b7\" stroke=\"none\" fill=\"#ffce9e\" /><rect x=\"105\" y=\"60\" width=\"45\" height=\"45\" class=\"square dark c7\" stroke=\"none\" fill=\"#d18b47\" /><rect x=\"150\" y=\"60\" width=\"45\" height=\"45\" class=\"square light d7\" stroke=\"none\" fill=\"#ffce9e\" /><rect x=\"195\" y=\"60\" width=\"45\" height=\"45\" class=\"square dark e7\" stroke=\"none\" fill=\"#d18b47\" /><rect x=\"240\" y=\"60\" width=\"45\" height=\"45\" class=\"square light f7\" stroke=\"none\" fill=\"#ffce9e\" /><rect x=\"285\" y=\"60\" width=\"45\" height=\"45\" class=\"square dark g7\" stroke=\"none\" fill=\"#d18b47\" /><rect x=\"330\" y=\"60\" width=\"45\" height=\"45\" class=\"square light h7\" stroke=\"none\" fill=\"#ffce9e\" /><rect x=\"15\" y=\"15\" width=\"45\" height=\"45\" class=\"square light a8\" stroke=\"none\" fill=\"#ffce9e\" /><rect x=\"60\" y=\"15\" width=\"45\" height=\"45\" class=\"square dark b8\" stroke=\"none\" fill=\"#d18b47\" /><rect x=\"105\" y=\"15\" width=\"45\" height=\"45\" class=\"square light c8\" stroke=\"none\" fill=\"#ffce9e\" /><rect x=\"150\" y=\"15\" width=\"45\" height=\"45\" class=\"square dark d8\" stroke=\"none\" fill=\"#d18b47\" /><rect x=\"195\" y=\"15\" width=\"45\" height=\"45\" class=\"square light e8\" stroke=\"none\" fill=\"#ffce9e\" /><rect x=\"240\" y=\"15\" width=\"45\" height=\"45\" class=\"square dark f8\" stroke=\"none\" fill=\"#d18b47\" /><rect x=\"285\" y=\"15\" width=\"45\" height=\"45\" class=\"square light g8\" stroke=\"none\" fill=\"#ffce9e\" /><rect x=\"330\" y=\"15\" width=\"45\" height=\"45\" class=\"square dark h8\" stroke=\"none\" fill=\"#d18b47\" /><use href=\"#white-rook\" xlink:href=\"#white-rook\" transform=\"translate(15, 330)\" /><use href=\"#white-knight\" xlink:href=\"#white-knight\" transform=\"translate(60, 330)\" /><use href=\"#white-bishop\" xlink:href=\"#white-bishop\" transform=\"translate(105, 330)\" /><use href=\"#white-queen\" xlink:href=\"#white-queen\" transform=\"translate(150, 330)\" /><use href=\"#white-king\" xlink:href=\"#white-king\" transform=\"translate(195, 330)\" /><use href=\"#white-bishop\" xlink:href=\"#white-bishop\" transform=\"translate(240, 330)\" /><use href=\"#white-knight\" xlink:href=\"#white-knight\" transform=\"translate(285, 330)\" /><use href=\"#white-rook\" xlink:href=\"#white-rook\" transform=\"translate(330, 330)\" /><use href=\"#white-pawn\" xlink:href=\"#white-pawn\" transform=\"translate(15, 285)\" /><use href=\"#white-pawn\" xlink:href=\"#white-pawn\" transform=\"translate(60, 285)\" /><use href=\"#white-pawn\" xlink:href=\"#white-pawn\" transform=\"translate(105, 285)\" /><use href=\"#white-pawn\" xlink:href=\"#white-pawn\" transform=\"translate(150, 285)\" /><use href=\"#white-pawn\" xlink:href=\"#white-pawn\" transform=\"translate(195, 285)\" /><use href=\"#white-pawn\" xlink:href=\"#white-pawn\" transform=\"translate(240, 285)\" /><use href=\"#white-pawn\" xlink:href=\"#white-pawn\" transform=\"translate(285, 285)\" /><use href=\"#white-pawn\" xlink:href=\"#white-pawn\" transform=\"translate(330, 285)\" /><use href=\"#black-pawn\" xlink:href=\"#black-pawn\" transform=\"translate(15, 60)\" /><use href=\"#black-pawn\" xlink:href=\"#black-pawn\" transform=\"translate(60, 60)\" /><use href=\"#black-pawn\" xlink:href=\"#black-pawn\" transform=\"translate(105, 60)\" /><use href=\"#black-pawn\" xlink:href=\"#black-pawn\" transform=\"translate(150, 60)\" /><use href=\"#black-pawn\" xlink:href=\"#black-pawn\" transform=\"translate(195, 60)\" /><use href=\"#black-pawn\" xlink:href=\"#black-pawn\" transform=\"translate(240, 60)\" /><use href=\"#black-pawn\" xlink:href=\"#black-pawn\" transform=\"translate(285, 60)\" /><use href=\"#black-pawn\" xlink:href=\"#black-pawn\" transform=\"translate(330, 60)\" /><use href=\"#black-rook\" xlink:href=\"#black-rook\" transform=\"translate(15, 15)\" /><use href=\"#black-knight\" xlink:href=\"#black-knight\" transform=\"translate(60, 15)\" /><use href=\"#black-bishop\" xlink:href=\"#black-bishop\" transform=\"translate(105, 15)\" /><use href=\"#black-queen\" xlink:href=\"#black-queen\" transform=\"translate(150, 15)\" /><use href=\"#black-king\" xlink:href=\"#black-king\" transform=\"translate(195, 15)\" /><use href=\"#black-bishop\" xlink:href=\"#black-bishop\" transform=\"translate(240, 15)\" /><use href=\"#black-knight\" xlink:href=\"#black-knight\" transform=\"translate(285, 15)\" /><use href=\"#black-rook\" xlink:href=\"#black-rook\" transform=\"translate(330, 15)\" /></svg>"
      ],
      "text/plain": [
       "Board('rnbqkbnr/pppppppp/8/8/8/8/PPPPPPPP/RNBQKBNR w KQkq - 0 1')"
      ]
     },
     "execution_count": 7,
     "metadata": {},
     "output_type": "execute_result"
    }
   ],
   "source": [
    "board"
   ]
  },
  {
   "cell_type": "code",
   "execution_count": 8,
   "id": "6f86c1a9-9f2b-424e-84c1-554d87b1d60f",
   "metadata": {},
   "outputs": [
    {
     "data": {
      "text/plain": [
       "<LegalMoveGenerator at 0x10bb5ecf0 (Nh3, Nf3, Nc3, Na3, h3, g3, f3, e3, d3, c3, b3, a3, h4, g4, f4, e4, d4, c4, b4, a4)>"
      ]
     },
     "execution_count": 8,
     "metadata": {},
     "output_type": "execute_result"
    }
   ],
   "source": [
    "board.legal_moves"
   ]
  },
  {
   "cell_type": "code",
   "execution_count": 9,
   "id": "cb0d1e84-9f8e-4e69-af89-60a318163b2c",
   "metadata": {},
   "outputs": [
    {
     "data": {
      "text/plain": [
       "Move.from_uci('e2e4')"
      ]
     },
     "execution_count": 9,
     "metadata": {},
     "output_type": "execute_result"
    }
   ],
   "source": [
    "board.push_san(\"e4\")"
   ]
  },
  {
   "cell_type": "code",
   "execution_count": 10,
   "id": "3dbed887-e742-41c2-9531-e2e06f4589ad",
   "metadata": {},
   "outputs": [
    {
     "data": {
      "image/svg+xml": [
       "<svg xmlns=\"http://www.w3.org/2000/svg\" xmlns:xlink=\"http://www.w3.org/1999/xlink\" viewBox=\"0 0 390 390\" width=\"390\" height=\"390\"><desc><pre>r n b q k b n r\n",
       "p p p p p p p p\n",
       ". . . . . . . .\n",
       ". . . . . . . .\n",
       ". . . . P . . .\n",
       ". . . . . . . .\n",
       "P P P P . P P P\n",
       "R N B Q K B N R</pre></desc><defs><g id=\"white-pawn\" class=\"white pawn\"><path d=\"M22.5 9c-2.21 0-4 1.79-4 4 0 .89.29 1.71.78 2.38C17.33 16.5 16 18.59 16 21c0 2.03.94 3.84 2.41 5.03-3 1.06-7.41 5.55-7.41 13.47h23c0-7.92-4.41-12.41-7.41-13.47 1.47-1.19 2.41-3 2.41-5.03 0-2.41-1.33-4.5-3.28-5.62.49-.67.78-1.49.78-2.38 0-2.21-1.79-4-4-4z\" fill=\"#fff\" stroke=\"#000\" stroke-width=\"1.5\" stroke-linecap=\"round\" /></g><g id=\"white-knight\" class=\"white knight\" fill=\"none\" fill-rule=\"evenodd\" stroke=\"#000\" stroke-width=\"1.5\" stroke-linecap=\"round\" stroke-linejoin=\"round\"><path d=\"M 22,10 C 32.5,11 38.5,18 38,39 L 15,39 C 15,30 25,32.5 23,18\" style=\"fill:#ffffff; stroke:#000000;\" /><path d=\"M 24,18 C 24.38,20.91 18.45,25.37 16,27 C 13,29 13.18,31.34 11,31 C 9.958,30.06 12.41,27.96 11,28 C 10,28 11.19,29.23 10,30 C 9,30 5.997,31 6,26 C 6,24 12,14 12,14 C 12,14 13.89,12.1 14,10.5 C 13.27,9.506 13.5,8.5 13.5,7.5 C 14.5,6.5 16.5,10 16.5,10 L 18.5,10 C 18.5,10 19.28,8.008 21,7 C 22,7 22,10 22,10\" style=\"fill:#ffffff; stroke:#000000;\" /><path d=\"M 9.5 25.5 A 0.5 0.5 0 1 1 8.5,25.5 A 0.5 0.5 0 1 1 9.5 25.5 z\" style=\"fill:#000000; stroke:#000000;\" /><path d=\"M 15 15.5 A 0.5 1.5 0 1 1 14,15.5 A 0.5 1.5 0 1 1 15 15.5 z\" transform=\"matrix(0.866,0.5,-0.5,0.866,9.693,-5.173)\" style=\"fill:#000000; stroke:#000000;\" /></g><g id=\"white-bishop\" class=\"white bishop\" fill=\"none\" fill-rule=\"evenodd\" stroke=\"#000\" stroke-width=\"1.5\" stroke-linecap=\"round\" stroke-linejoin=\"round\"><g fill=\"#fff\" stroke-linecap=\"butt\"><path d=\"M9 36c3.39-.97 10.11.43 13.5-2 3.39 2.43 10.11 1.03 13.5 2 0 0 1.65.54 3 2-.68.97-1.65.99-3 .5-3.39-.97-10.11.46-13.5-1-3.39 1.46-10.11.03-13.5 1-1.354.49-2.323.47-3-.5 1.354-1.94 3-2 3-2zM15 32c2.5 2.5 12.5 2.5 15 0 .5-1.5 0-2 0-2 0-2.5-2.5-4-2.5-4 5.5-1.5 6-11.5-5-15.5-11 4-10.5 14-5 15.5 0 0-2.5 1.5-2.5 4 0 0-.5.5 0 2zM25 8a2.5 2.5 0 1 1-5 0 2.5 2.5 0 1 1 5 0z\" /></g><path d=\"M17.5 26h10M15 30h15m-7.5-14.5v5M20 18h5\" stroke-linejoin=\"miter\" /></g><g id=\"white-rook\" class=\"white rook\" fill=\"#fff\" fill-rule=\"evenodd\" stroke=\"#000\" stroke-width=\"1.5\" stroke-linecap=\"round\" stroke-linejoin=\"round\"><path d=\"M9 39h27v-3H9v3zM12 36v-4h21v4H12zM11 14V9h4v2h5V9h5v2h5V9h4v5\" stroke-linecap=\"butt\" /><path d=\"M34 14l-3 3H14l-3-3\" /><path d=\"M31 17v12.5H14V17\" stroke-linecap=\"butt\" stroke-linejoin=\"miter\" /><path d=\"M31 29.5l1.5 2.5h-20l1.5-2.5\" /><path d=\"M11 14h23\" fill=\"none\" stroke-linejoin=\"miter\" /></g><g id=\"white-queen\" class=\"white queen\" fill=\"#fff\" fill-rule=\"evenodd\" stroke=\"#000\" stroke-width=\"1.5\" stroke-linecap=\"round\" stroke-linejoin=\"round\"><path d=\"M8 12a2 2 0 1 1-4 0 2 2 0 1 1 4 0zM24.5 7.5a2 2 0 1 1-4 0 2 2 0 1 1 4 0zM41 12a2 2 0 1 1-4 0 2 2 0 1 1 4 0zM16 8.5a2 2 0 1 1-4 0 2 2 0 1 1 4 0zM33 9a2 2 0 1 1-4 0 2 2 0 1 1 4 0z\" /><path d=\"M9 26c8.5-1.5 21-1.5 27 0l2-12-7 11V11l-5.5 13.5-3-15-3 15-5.5-14V25L7 14l2 12zM9 26c0 2 1.5 2 2.5 4 1 1.5 1 1 .5 3.5-1.5 1-1.5 2.5-1.5 2.5-1.5 1.5.5 2.5.5 2.5 6.5 1 16.5 1 23 0 0 0 1.5-1 0-2.5 0 0 .5-1.5-1-2.5-.5-2.5-.5-2 .5-3.5 1-2 2.5-2 2.5-4-8.5-1.5-18.5-1.5-27 0z\" stroke-linecap=\"butt\" /><path d=\"M11.5 30c3.5-1 18.5-1 22 0M12 33.5c6-1 15-1 21 0\" fill=\"none\" /></g><g id=\"white-king\" class=\"white king\" fill=\"none\" fill-rule=\"evenodd\" stroke=\"#000\" stroke-width=\"1.5\" stroke-linecap=\"round\" stroke-linejoin=\"round\"><path d=\"M22.5 11.63V6M20 8h5\" stroke-linejoin=\"miter\" /><path d=\"M22.5 25s4.5-7.5 3-10.5c0 0-1-2.5-3-2.5s-3 2.5-3 2.5c-1.5 3 3 10.5 3 10.5\" fill=\"#fff\" stroke-linecap=\"butt\" stroke-linejoin=\"miter\" /><path d=\"M11.5 37c5.5 3.5 15.5 3.5 21 0v-7s9-4.5 6-10.5c-4-6.5-13.5-3.5-16 4V27v-3.5c-3.5-7.5-13-10.5-16-4-3 6 5 10 5 10V37z\" fill=\"#fff\" /><path d=\"M11.5 30c5.5-3 15.5-3 21 0m-21 3.5c5.5-3 15.5-3 21 0m-21 3.5c5.5-3 15.5-3 21 0\" /></g><g id=\"black-pawn\" class=\"black pawn\"><path d=\"M22.5 9c-2.21 0-4 1.79-4 4 0 .89.29 1.71.78 2.38C17.33 16.5 16 18.59 16 21c0 2.03.94 3.84 2.41 5.03-3 1.06-7.41 5.55-7.41 13.47h23c0-7.92-4.41-12.41-7.41-13.47 1.47-1.19 2.41-3 2.41-5.03 0-2.41-1.33-4.5-3.28-5.62.49-.67.78-1.49.78-2.38 0-2.21-1.79-4-4-4z\" fill=\"#000\" stroke=\"#000\" stroke-width=\"1.5\" stroke-linecap=\"round\" /></g><g id=\"black-knight\" class=\"black knight\" fill=\"none\" fill-rule=\"evenodd\" stroke=\"#000\" stroke-width=\"1.5\" stroke-linecap=\"round\" stroke-linejoin=\"round\"><path d=\"M 22,10 C 32.5,11 38.5,18 38,39 L 15,39 C 15,30 25,32.5 23,18\" style=\"fill:#000000; stroke:#000000;\" /><path d=\"M 24,18 C 24.38,20.91 18.45,25.37 16,27 C 13,29 13.18,31.34 11,31 C 9.958,30.06 12.41,27.96 11,28 C 10,28 11.19,29.23 10,30 C 9,30 5.997,31 6,26 C 6,24 12,14 12,14 C 12,14 13.89,12.1 14,10.5 C 13.27,9.506 13.5,8.5 13.5,7.5 C 14.5,6.5 16.5,10 16.5,10 L 18.5,10 C 18.5,10 19.28,8.008 21,7 C 22,7 22,10 22,10\" style=\"fill:#000000; stroke:#000000;\" /><path d=\"M 9.5 25.5 A 0.5 0.5 0 1 1 8.5,25.5 A 0.5 0.5 0 1 1 9.5 25.5 z\" style=\"fill:#ececec; stroke:#ececec;\" /><path d=\"M 15 15.5 A 0.5 1.5 0 1 1 14,15.5 A 0.5 1.5 0 1 1 15 15.5 z\" transform=\"matrix(0.866,0.5,-0.5,0.866,9.693,-5.173)\" style=\"fill:#ececec; stroke:#ececec;\" /><path d=\"M 24.55,10.4 L 24.1,11.85 L 24.6,12 C 27.75,13 30.25,14.49 32.5,18.75 C 34.75,23.01 35.75,29.06 35.25,39 L 35.2,39.5 L 37.45,39.5 L 37.5,39 C 38,28.94 36.62,22.15 34.25,17.66 C 31.88,13.17 28.46,11.02 25.06,10.5 L 24.55,10.4 z \" style=\"fill:#ececec; stroke:none;\" /></g><g id=\"black-bishop\" class=\"black bishop\" fill=\"none\" fill-rule=\"evenodd\" stroke=\"#000\" stroke-width=\"1.5\" stroke-linecap=\"round\" stroke-linejoin=\"round\"><path d=\"M9 36c3.39-.97 10.11.43 13.5-2 3.39 2.43 10.11 1.03 13.5 2 0 0 1.65.54 3 2-.68.97-1.65.99-3 .5-3.39-.97-10.11.46-13.5-1-3.39 1.46-10.11.03-13.5 1-1.354.49-2.323.47-3-.5 1.354-1.94 3-2 3-2zm6-4c2.5 2.5 12.5 2.5 15 0 .5-1.5 0-2 0-2 0-2.5-2.5-4-2.5-4 5.5-1.5 6-11.5-5-15.5-11 4-10.5 14-5 15.5 0 0-2.5 1.5-2.5 4 0 0-.5.5 0 2zM25 8a2.5 2.5 0 1 1-5 0 2.5 2.5 0 1 1 5 0z\" fill=\"#000\" stroke-linecap=\"butt\" /><path d=\"M17.5 26h10M15 30h15m-7.5-14.5v5M20 18h5\" stroke=\"#fff\" stroke-linejoin=\"miter\" /></g><g id=\"black-rook\" class=\"black rook\" fill=\"#000\" fill-rule=\"evenodd\" stroke=\"#000\" stroke-width=\"1.5\" stroke-linecap=\"round\" stroke-linejoin=\"round\"><path d=\"M9 39h27v-3H9v3zM12.5 32l1.5-2.5h17l1.5 2.5h-20zM12 36v-4h21v4H12z\" stroke-linecap=\"butt\" /><path d=\"M14 29.5v-13h17v13H14z\" stroke-linecap=\"butt\" stroke-linejoin=\"miter\" /><path d=\"M14 16.5L11 14h23l-3 2.5H14zM11 14V9h4v2h5V9h5v2h5V9h4v5H11z\" stroke-linecap=\"butt\" /><path d=\"M12 35.5h21M13 31.5h19M14 29.5h17M14 16.5h17M11 14h23\" fill=\"none\" stroke=\"#fff\" stroke-width=\"1\" stroke-linejoin=\"miter\" /></g><g id=\"black-queen\" class=\"black queen\" fill=\"#000\" fill-rule=\"evenodd\" stroke=\"#000\" stroke-width=\"1.5\" stroke-linecap=\"round\" stroke-linejoin=\"round\"><g fill=\"#000\" stroke=\"none\"><circle cx=\"6\" cy=\"12\" r=\"2.75\" /><circle cx=\"14\" cy=\"9\" r=\"2.75\" /><circle cx=\"22.5\" cy=\"8\" r=\"2.75\" /><circle cx=\"31\" cy=\"9\" r=\"2.75\" /><circle cx=\"39\" cy=\"12\" r=\"2.75\" /></g><path d=\"M9 26c8.5-1.5 21-1.5 27 0l2.5-12.5L31 25l-.3-14.1-5.2 13.6-3-14.5-3 14.5-5.2-13.6L14 25 6.5 13.5 9 26zM9 26c0 2 1.5 2 2.5 4 1 1.5 1 1 .5 3.5-1.5 1-1.5 2.5-1.5 2.5-1.5 1.5.5 2.5.5 2.5 6.5 1 16.5 1 23 0 0 0 1.5-1 0-2.5 0 0 .5-1.5-1-2.5-.5-2.5-.5-2 .5-3.5 1-2 2.5-2 2.5-4-8.5-1.5-18.5-1.5-27 0z\" stroke-linecap=\"butt\" /><path d=\"M11 38.5a35 35 1 0 0 23 0\" fill=\"none\" stroke-linecap=\"butt\" /><path d=\"M11 29a35 35 1 0 1 23 0M12.5 31.5h20M11.5 34.5a35 35 1 0 0 22 0M10.5 37.5a35 35 1 0 0 24 0\" fill=\"none\" stroke=\"#fff\" /></g><g id=\"black-king\" class=\"black king\" fill=\"none\" fill-rule=\"evenodd\" stroke=\"#000\" stroke-width=\"1.5\" stroke-linecap=\"round\" stroke-linejoin=\"round\"><path d=\"M22.5 11.63V6\" stroke-linejoin=\"miter\" /><path d=\"M22.5 25s4.5-7.5 3-10.5c0 0-1-2.5-3-2.5s-3 2.5-3 2.5c-1.5 3 3 10.5 3 10.5\" fill=\"#000\" stroke-linecap=\"butt\" stroke-linejoin=\"miter\" /><path d=\"M11.5 37c5.5 3.5 15.5 3.5 21 0v-7s9-4.5 6-10.5c-4-6.5-13.5-3.5-16 4V27v-3.5c-3.5-7.5-13-10.5-16-4-3 6 5 10 5 10V37z\" fill=\"#000\" /><path d=\"M20 8h5\" stroke-linejoin=\"miter\" /><path d=\"M32 29.5s8.5-4 6.03-9.65C34.15 14 25 18 22.5 24.5l.01 2.1-.01-2.1C20 18 9.906 14 6.997 19.85c-2.497 5.65 4.853 9 4.853 9M11.5 30c5.5-3 15.5-3 21 0m-21 3.5c5.5-3 15.5-3 21 0m-21 3.5c5.5-3 15.5-3 21 0\" stroke=\"#fff\" /></g></defs><rect x=\"7.5\" y=\"7.5\" width=\"375\" height=\"375\" fill=\"none\" stroke=\"#212121\" stroke-width=\"15\" /><g transform=\"translate(20, 1) scale(0.75, 0.75)\" fill=\"#e5e5e5\" stroke=\"#e5e5e5\"><path d=\"M23.328 10.016q-1.742 0-2.414.398-.672.398-.672 1.36 0 .765.5 1.218.508.445 1.375.445 1.196 0 1.914-.843.727-.852.727-2.258v-.32zm2.867-.594v4.992h-1.437v-1.328q-.492.797-1.227 1.18-.734.375-1.797.375-1.343 0-2.14-.75-.79-.758-.79-2.024 0-1.476.985-2.226.992-.75 2.953-.75h2.016V8.75q0-.992-.656-1.531-.649-.547-1.829-.547-.75 0-1.46.18-.711.18-1.368.539V6.062q.79-.304 1.532-.453.742-.156 1.445-.156 1.898 0 2.836.984.937.985.937 2.985z\" /></g><g transform=\"translate(20, 375) scale(0.75, 0.75)\" fill=\"#e5e5e5\" stroke=\"#e5e5e5\"><path d=\"M23.328 10.016q-1.742 0-2.414.398-.672.398-.672 1.36 0 .765.5 1.218.508.445 1.375.445 1.196 0 1.914-.843.727-.852.727-2.258v-.32zm2.867-.594v4.992h-1.437v-1.328q-.492.797-1.227 1.18-.734.375-1.797.375-1.343 0-2.14-.75-.79-.758-.79-2.024 0-1.476.985-2.226.992-.75 2.953-.75h2.016V8.75q0-.992-.656-1.531-.649-.547-1.829-.547-.75 0-1.46.18-.711.18-1.368.539V6.062q.79-.304 1.532-.453.742-.156 1.445-.156 1.898 0 2.836.984.937.985.937 2.985z\" /></g><g transform=\"translate(65, 1) scale(0.75, 0.75)\" fill=\"#e5e5e5\" stroke=\"#e5e5e5\"><path d=\"M24.922 10.047q0-1.586-.656-2.485-.649-.906-1.79-.906-1.14 0-1.796.906-.649.899-.649 2.485 0 1.586.649 2.492.656.898 1.797.898 1.14 0 1.789-.898.656-.906.656-2.492zm-4.89-3.055q.452-.781 1.14-1.156.695-.383 1.656-.383 1.594 0 2.586 1.266 1 1.265 1 3.328 0 2.062-1 3.328-.992 1.266-2.586 1.266-.96 0-1.656-.375-.688-.383-1.14-1.164v1.312h-1.446V2.258h1.445z\" /></g><g transform=\"translate(65, 375) scale(0.75, 0.75)\" fill=\"#e5e5e5\" stroke=\"#e5e5e5\"><path d=\"M24.922 10.047q0-1.586-.656-2.485-.649-.906-1.79-.906-1.14 0-1.796.906-.649.899-.649 2.485 0 1.586.649 2.492.656.898 1.797.898 1.14 0 1.789-.898.656-.906.656-2.492zm-4.89-3.055q.452-.781 1.14-1.156.695-.383 1.656-.383 1.594 0 2.586 1.266 1 1.265 1 3.328 0 2.062-1 3.328-.992 1.266-2.586 1.266-.96 0-1.656-.375-.688-.383-1.14-1.164v1.312h-1.446V2.258h1.445z\" /></g><g transform=\"translate(110, 1) scale(0.75, 0.75)\" fill=\"#e5e5e5\" stroke=\"#e5e5e5\"><path d=\"M25.96 6v1.344q-.608-.336-1.226-.5-.609-.172-1.234-.172-1.398 0-2.172.89-.773.883-.773 2.485 0 1.601.773 2.492.774.883 2.172.883.625 0 1.234-.164.618-.172 1.227-.508v1.328q-.602.281-1.25.422-.64.14-1.367.14-1.977 0-3.14-1.242-1.165-1.242-1.165-3.351 0-2.14 1.172-3.367 1.18-1.227 3.227-1.227.664 0 1.296.14.633.134 1.227.407z\" /></g><g transform=\"translate(110, 375) scale(0.75, 0.75)\" fill=\"#e5e5e5\" stroke=\"#e5e5e5\"><path d=\"M25.96 6v1.344q-.608-.336-1.226-.5-.609-.172-1.234-.172-1.398 0-2.172.89-.773.883-.773 2.485 0 1.601.773 2.492.774.883 2.172.883.625 0 1.234-.164.618-.172 1.227-.508v1.328q-.602.281-1.25.422-.64.14-1.367.14-1.977 0-3.14-1.242-1.165-1.242-1.165-3.351 0-2.14 1.172-3.367 1.18-1.227 3.227-1.227.664 0 1.296.14.633.134 1.227.407z\" /></g><g transform=\"translate(155, 1) scale(0.75, 0.75)\" fill=\"#e5e5e5\" stroke=\"#e5e5e5\"><path d=\"M24.973 6.992V2.258h1.437v12.156h-1.437v-1.312q-.453.78-1.149 1.164-.687.375-1.656.375-1.586 0-2.586-1.266-.992-1.266-.992-3.328 0-2.063.992-3.328 1-1.266 2.586-1.266.969 0 1.656.383.696.375 1.149 1.156zm-4.899 3.055q0 1.586.649 2.492.656.898 1.797.898 1.14 0 1.796-.898.657-.906.657-2.492 0-1.586-.657-2.485-.656-.906-1.796-.906-1.141 0-1.797.906-.649.899-.649 2.485z\" /></g><g transform=\"translate(155, 375) scale(0.75, 0.75)\" fill=\"#e5e5e5\" stroke=\"#e5e5e5\"><path d=\"M24.973 6.992V2.258h1.437v12.156h-1.437v-1.312q-.453.78-1.149 1.164-.687.375-1.656.375-1.586 0-2.586-1.266-.992-1.266-.992-3.328 0-2.063.992-3.328 1-1.266 2.586-1.266.969 0 1.656.383.696.375 1.149 1.156zm-4.899 3.055q0 1.586.649 2.492.656.898 1.797.898 1.14 0 1.796-.898.657-.906.657-2.492 0-1.586-.657-2.485-.656-.906-1.796-.906-1.141 0-1.797.906-.649.899-.649 2.485z\" /></g><g transform=\"translate(200, 1) scale(0.75, 0.75)\" fill=\"#e5e5e5\" stroke=\"#e5e5e5\"><path d=\"M26.555 9.68v.703h-6.61q.094 1.484.89 2.265.806.774 2.235.774.828 0 1.602-.203.781-.203 1.547-.61v1.36q-.774.328-1.586.5-.813.172-1.649.172-2.093 0-3.32-1.22-1.219-1.218-1.219-3.296 0-2.148 1.157-3.406 1.164-1.266 3.132-1.266 1.766 0 2.79 1.14 1.03 1.134 1.03 3.087zm-1.438-.422q-.015-1.18-.664-1.883-.64-.703-1.703-.703-1.203 0-1.93.68-.718.68-.828 1.914z\" /></g><g transform=\"translate(200, 375) scale(0.75, 0.75)\" fill=\"#e5e5e5\" stroke=\"#e5e5e5\"><path d=\"M26.555 9.68v.703h-6.61q.094 1.484.89 2.265.806.774 2.235.774.828 0 1.602-.203.781-.203 1.547-.61v1.36q-.774.328-1.586.5-.813.172-1.649.172-2.093 0-3.32-1.22-1.219-1.218-1.219-3.296 0-2.148 1.157-3.406 1.164-1.266 3.132-1.266 1.766 0 2.79 1.14 1.03 1.134 1.03 3.087zm-1.438-.422q-.015-1.18-.664-1.883-.64-.703-1.703-.703-1.203 0-1.93.68-.718.68-.828 1.914z\" /></g><g transform=\"translate(245, 1) scale(0.75, 0.75)\" fill=\"#e5e5e5\" stroke=\"#e5e5e5\"><path d=\"M25.285 2.258v1.195H23.91q-.773 0-1.078.313-.297.312-.297 1.125v.773h2.367v1.117h-2.367v7.633H21.09V6.781h-1.375V5.664h1.375v-.61q0-1.46.68-2.124.68-.672 2.156-.672z\" /></g><g transform=\"translate(245, 375) scale(0.75, 0.75)\" fill=\"#e5e5e5\" stroke=\"#e5e5e5\"><path d=\"M25.285 2.258v1.195H23.91q-.773 0-1.078.313-.297.312-.297 1.125v.773h2.367v1.117h-2.367v7.633H21.09V6.781h-1.375V5.664h1.375v-.61q0-1.46.68-2.124.68-.672 2.156-.672z\" /></g><g transform=\"translate(290, 1) scale(0.75, 0.75)\" fill=\"#e5e5e5\" stroke=\"#e5e5e5\"><path d=\"M24.973 9.937q0-1.562-.649-2.421-.64-.86-1.804-.86-1.157 0-1.805.86-.64.859-.64 2.421 0 1.555.64 2.415.648.859 1.805.859 1.164 0 1.804-.86.649-.859.649-2.414zm1.437 3.391q0 2.234-.992 3.32-.992 1.094-3.04 1.094-.757 0-1.429-.117-.672-.11-1.304-.344v-1.398q.632.344 1.25.508.617.164 1.257.164 1.414 0 2.118-.743.703-.734.703-2.226v-.711q-.446.773-1.141 1.156-.695.383-1.664.383-1.61 0-2.594-1.227-.984-1.226-.984-3.25 0-2.03.984-3.257.985-1.227 2.594-1.227.969 0 1.664.383t1.14 1.156V5.664h1.438z\" /></g><g transform=\"translate(290, 375) scale(0.75, 0.75)\" fill=\"#e5e5e5\" stroke=\"#e5e5e5\"><path d=\"M24.973 9.937q0-1.562-.649-2.421-.64-.86-1.804-.86-1.157 0-1.805.86-.64.859-.64 2.421 0 1.555.64 2.415.648.859 1.805.859 1.164 0 1.804-.86.649-.859.649-2.414zm1.437 3.391q0 2.234-.992 3.32-.992 1.094-3.04 1.094-.757 0-1.429-.117-.672-.11-1.304-.344v-1.398q.632.344 1.25.508.617.164 1.257.164 1.414 0 2.118-.743.703-.734.703-2.226v-.711q-.446.773-1.141 1.156-.695.383-1.664.383-1.61 0-2.594-1.227-.984-1.226-.984-3.25 0-2.03.984-3.257.985-1.227 2.594-1.227.969 0 1.664.383t1.14 1.156V5.664h1.438z\" /></g><g transform=\"translate(335, 1) scale(0.75, 0.75)\" fill=\"#e5e5e5\" stroke=\"#e5e5e5\"><path d=\"M26.164 9.133v5.281h-1.437V9.18q0-1.243-.485-1.86-.484-.617-1.453-.617-1.164 0-1.836.742-.672.742-.672 2.024v4.945h-1.445V2.258h1.445v4.765q.516-.789 1.211-1.18.703-.39 1.617-.39 1.508 0 2.282.938.773.93.773 2.742z\" /></g><g transform=\"translate(335, 375) scale(0.75, 0.75)\" fill=\"#e5e5e5\" stroke=\"#e5e5e5\"><path d=\"M26.164 9.133v5.281h-1.437V9.18q0-1.243-.485-1.86-.484-.617-1.453-.617-1.164 0-1.836.742-.672.742-.672 2.024v4.945h-1.445V2.258h1.445v4.765q.516-.789 1.211-1.18.703-.39 1.617-.39 1.508 0 2.282.938.773.93.773 2.742z\" /></g><g transform=\"translate(0, 335) scale(0.75, 0.75)\" fill=\"#e5e5e5\" stroke=\"#e5e5e5\"><path d=\"M6.754 26.996h2.578v-8.898l-2.805.562v-1.437l2.79-.563h1.578v10.336h2.578v1.328h-6.72z\" /></g><g transform=\"translate(375, 335) scale(0.75, 0.75)\" fill=\"#e5e5e5\" stroke=\"#e5e5e5\"><path d=\"M6.754 26.996h2.578v-8.898l-2.805.562v-1.437l2.79-.563h1.578v10.336h2.578v1.328h-6.72z\" /></g><g transform=\"translate(0, 290) scale(0.75, 0.75)\" fill=\"#e5e5e5\" stroke=\"#e5e5e5\"><path d=\"M8.195 26.996h5.508v1.328H6.297v-1.328q.898-.93 2.445-2.492 1.555-1.57 1.953-2.024.758-.851 1.055-1.437.305-.594.305-1.164 0-.93-.657-1.516-.648-.586-1.695-.586-.742 0-1.57.258-.82.258-1.758.781v-1.593q.953-.383 1.781-.578.828-.196 1.516-.196 1.812 0 2.89.906 1.079.907 1.079 2.422 0 .72-.274 1.368-.265.64-.976 1.515-.196.227-1.243 1.313-1.046 1.078-2.953 3.023z\" /></g><g transform=\"translate(375, 290) scale(0.75, 0.75)\" fill=\"#e5e5e5\" stroke=\"#e5e5e5\"><path d=\"M8.195 26.996h5.508v1.328H6.297v-1.328q.898-.93 2.445-2.492 1.555-1.57 1.953-2.024.758-.851 1.055-1.437.305-.594.305-1.164 0-.93-.657-1.516-.648-.586-1.695-.586-.742 0-1.57.258-.82.258-1.758.781v-1.593q.953-.383 1.781-.578.828-.196 1.516-.196 1.812 0 2.89.906 1.079.907 1.079 2.422 0 .72-.274 1.368-.265.64-.976 1.515-.196.227-1.243 1.313-1.046 1.078-2.953 3.023z\" /></g><g transform=\"translate(0, 245) scale(0.75, 0.75)\" fill=\"#e5e5e5\" stroke=\"#e5e5e5\"><path d=\"M11.434 22.035q1.132.242 1.765 1.008.64.766.64 1.89 0 1.727-1.187 2.672-1.187.946-3.375.946-.734 0-1.515-.149-.774-.14-1.602-.43V26.45q.656.383 1.438.578.78.196 1.632.196 1.485 0 2.258-.586.782-.586.782-1.703 0-1.032-.727-1.61-.719-.586-2.008-.586h-1.36v-1.297h1.423q1.164 0 1.78-.46.618-.47.618-1.344 0-.899-.64-1.375-.633-.485-1.82-.485-.65 0-1.391.141-.743.14-1.633.437V16.95q.898-.25 1.68-.375.788-.125 1.484-.125 1.797 0 2.844.82 1.046.813 1.046 2.204 0 .968-.554 1.64-.555.664-1.578.922z\" /></g><g transform=\"translate(375, 245) scale(0.75, 0.75)\" fill=\"#e5e5e5\" stroke=\"#e5e5e5\"><path d=\"M11.434 22.035q1.132.242 1.765 1.008.64.766.64 1.89 0 1.727-1.187 2.672-1.187.946-3.375.946-.734 0-1.515-.149-.774-.14-1.602-.43V26.45q.656.383 1.438.578.78.196 1.632.196 1.485 0 2.258-.586.782-.586.782-1.703 0-1.032-.727-1.61-.719-.586-2.008-.586h-1.36v-1.297h1.423q1.164 0 1.78-.46.618-.47.618-1.344 0-.899-.64-1.375-.633-.485-1.82-.485-.65 0-1.391.141-.743.14-1.633.437V16.95q.898-.25 1.68-.375.788-.125 1.484-.125 1.797 0 2.844.82 1.046.813 1.046 2.204 0 .968-.554 1.64-.555.664-1.578.922z\" /></g><g transform=\"translate(0, 200) scale(0.75, 0.75)\" fill=\"#e5e5e5\" stroke=\"#e5e5e5\"><path d=\"M11.016 18.035L7.03 24.262h3.985zm-.414-1.375h1.984v7.602h1.664v1.312h-1.664v2.75h-1.57v-2.75H5.75v-1.523z\" /></g><g transform=\"translate(375, 200) scale(0.75, 0.75)\" fill=\"#e5e5e5\" stroke=\"#e5e5e5\"><path d=\"M11.016 18.035L7.03 24.262h3.985zm-.414-1.375h1.984v7.602h1.664v1.312h-1.664v2.75h-1.57v-2.75H5.75v-1.523z\" /></g><g transform=\"translate(0, 155) scale(0.75, 0.75)\" fill=\"#e5e5e5\" stroke=\"#e5e5e5\"><path d=\"M6.719 16.66h6.195v1.328h-4.75v2.86q.344-.118.688-.172.343-.063.687-.063 1.953 0 3.094 1.07 1.14 1.07 1.14 2.899 0 1.883-1.171 2.93-1.172 1.039-3.305 1.039-.735 0-1.5-.125-.758-.125-1.57-.375v-1.586q.703.383 1.453.57.75.188 1.586.188 1.351 0 2.14-.711.79-.711.79-1.93 0-1.219-.79-1.93-.789-.71-2.14-.71-.633 0-1.266.14-.625.14-1.281.438z\" /></g><g transform=\"translate(375, 155) scale(0.75, 0.75)\" fill=\"#e5e5e5\" stroke=\"#e5e5e5\"><path d=\"M6.719 16.66h6.195v1.328h-4.75v2.86q.344-.118.688-.172.343-.063.687-.063 1.953 0 3.094 1.07 1.14 1.07 1.14 2.899 0 1.883-1.171 2.93-1.172 1.039-3.305 1.039-.735 0-1.5-.125-.758-.125-1.57-.375v-1.586q.703.383 1.453.57.75.188 1.586.188 1.351 0 2.14-.711.79-.711.79-1.93 0-1.219-.79-1.93-.789-.71-2.14-.71-.633 0-1.266.14-.625.14-1.281.438z\" /></g><g transform=\"translate(0, 110) scale(0.75, 0.75)\" fill=\"#e5e5e5\" stroke=\"#e5e5e5\"><path d=\"M10.137 21.863q-1.063 0-1.688.727-.617.726-.617 1.992 0 1.258.617 1.992.625.727 1.688.727 1.062 0 1.68-.727.624-.734.624-1.992 0-1.266-.625-1.992-.617-.727-1.68-.727zm3.133-4.945v1.437q-.594-.28-1.204-.43-.601-.148-1.195-.148-1.562 0-2.39 1.055-.82 1.055-.938 3.188.46-.68 1.156-1.04.696-.367 1.531-.367 1.758 0 2.774 1.07 1.023 1.063 1.023 2.899 0 1.797-1.062 2.883-1.063 1.086-2.828 1.086-2.024 0-3.094-1.547-1.07-1.555-1.07-4.5 0-2.766 1.312-4.406 1.313-1.649 3.524-1.649.593 0 1.195.117.61.118 1.266.352z\" /></g><g transform=\"translate(375, 110) scale(0.75, 0.75)\" fill=\"#e5e5e5\" stroke=\"#e5e5e5\"><path d=\"M10.137 21.863q-1.063 0-1.688.727-.617.726-.617 1.992 0 1.258.617 1.992.625.727 1.688.727 1.062 0 1.68-.727.624-.734.624-1.992 0-1.266-.625-1.992-.617-.727-1.68-.727zm3.133-4.945v1.437q-.594-.28-1.204-.43-.601-.148-1.195-.148-1.562 0-2.39 1.055-.82 1.055-.938 3.188.46-.68 1.156-1.04.696-.367 1.531-.367 1.758 0 2.774 1.07 1.023 1.063 1.023 2.899 0 1.797-1.062 2.883-1.063 1.086-2.828 1.086-2.024 0-3.094-1.547-1.07-1.555-1.07-4.5 0-2.766 1.312-4.406 1.313-1.649 3.524-1.649.593 0 1.195.117.61.118 1.266.352z\" /></g><g transform=\"translate(0, 65) scale(0.75, 0.75)\" fill=\"#e5e5e5\" stroke=\"#e5e5e5\"><path d=\"M6.25 16.66h7.5v.672L9.516 28.324H7.867l3.985-10.336H6.25z\" /></g><g transform=\"translate(375, 65) scale(0.75, 0.75)\" fill=\"#e5e5e5\" stroke=\"#e5e5e5\"><path d=\"M6.25 16.66h7.5v.672L9.516 28.324H7.867l3.985-10.336H6.25z\" /></g><g transform=\"translate(0, 20) scale(0.75, 0.75)\" fill=\"#e5e5e5\" stroke=\"#e5e5e5\"><path d=\"M10 22.785q-1.125 0-1.773.602-.641.601-.641 1.656t.64 1.656q.649.602 1.774.602t1.773-.602q.649-.61.649-1.656 0-1.055-.649-1.656-.64-.602-1.773-.602zm-1.578-.672q-1.016-.25-1.586-.945-.563-.695-.563-1.695 0-1.399.993-2.211 1-.813 2.734-.813 1.742 0 2.734.813.993.812.993 2.21 0 1-.57 1.696-.563.695-1.571.945 1.14.266 1.773 1.04.641.773.641 1.89 0 1.695-1.04 2.602-1.03.906-2.96.906t-2.969-.906Q6 26.738 6 25.043q0-1.117.64-1.89.641-.774 1.782-1.04zm-.578-2.492q0 .906.562 1.414.57.508 1.594.508 1.016 0 1.586-.508.578-.508.578-1.414 0-.906-.578-1.414-.57-.508-1.586-.508-1.023 0-1.594.508-.562.508-.562 1.414z\" /></g><g transform=\"translate(375, 20) scale(0.75, 0.75)\" fill=\"#e5e5e5\" stroke=\"#e5e5e5\"><path d=\"M10 22.785q-1.125 0-1.773.602-.641.601-.641 1.656t.64 1.656q.649.602 1.774.602t1.773-.602q.649-.61.649-1.656 0-1.055-.649-1.656-.64-.602-1.773-.602zm-1.578-.672q-1.016-.25-1.586-.945-.563-.695-.563-1.695 0-1.399.993-2.211 1-.813 2.734-.813 1.742 0 2.734.813.993.812.993 2.21 0 1-.57 1.696-.563.695-1.571.945 1.14.266 1.773 1.04.641.773.641 1.89 0 1.695-1.04 2.602-1.03.906-2.96.906t-2.969-.906Q6 26.738 6 25.043q0-1.117.64-1.89.641-.774 1.782-1.04zm-.578-2.492q0 .906.562 1.414.57.508 1.594.508 1.016 0 1.586-.508.578-.508.578-1.414 0-.906-.578-1.414-.57-.508-1.586-.508-1.023 0-1.594.508-.562.508-.562 1.414z\" /></g><rect x=\"15\" y=\"330\" width=\"45\" height=\"45\" class=\"square dark a1\" stroke=\"none\" fill=\"#d18b47\" /><rect x=\"60\" y=\"330\" width=\"45\" height=\"45\" class=\"square light b1\" stroke=\"none\" fill=\"#ffce9e\" /><rect x=\"105\" y=\"330\" width=\"45\" height=\"45\" class=\"square dark c1\" stroke=\"none\" fill=\"#d18b47\" /><rect x=\"150\" y=\"330\" width=\"45\" height=\"45\" class=\"square light d1\" stroke=\"none\" fill=\"#ffce9e\" /><rect x=\"195\" y=\"330\" width=\"45\" height=\"45\" class=\"square dark e1\" stroke=\"none\" fill=\"#d18b47\" /><rect x=\"240\" y=\"330\" width=\"45\" height=\"45\" class=\"square light f1\" stroke=\"none\" fill=\"#ffce9e\" /><rect x=\"285\" y=\"330\" width=\"45\" height=\"45\" class=\"square dark g1\" stroke=\"none\" fill=\"#d18b47\" /><rect x=\"330\" y=\"330\" width=\"45\" height=\"45\" class=\"square light h1\" stroke=\"none\" fill=\"#ffce9e\" /><rect x=\"15\" y=\"285\" width=\"45\" height=\"45\" class=\"square light a2\" stroke=\"none\" fill=\"#ffce9e\" /><rect x=\"60\" y=\"285\" width=\"45\" height=\"45\" class=\"square dark b2\" stroke=\"none\" fill=\"#d18b47\" /><rect x=\"105\" y=\"285\" width=\"45\" height=\"45\" class=\"square light c2\" stroke=\"none\" fill=\"#ffce9e\" /><rect x=\"150\" y=\"285\" width=\"45\" height=\"45\" class=\"square dark d2\" stroke=\"none\" fill=\"#d18b47\" /><rect x=\"195\" y=\"285\" width=\"45\" height=\"45\" class=\"square light lastmove e2\" stroke=\"none\" fill=\"#cdd16a\" /><rect x=\"240\" y=\"285\" width=\"45\" height=\"45\" class=\"square dark f2\" stroke=\"none\" fill=\"#d18b47\" /><rect x=\"285\" y=\"285\" width=\"45\" height=\"45\" class=\"square light g2\" stroke=\"none\" fill=\"#ffce9e\" /><rect x=\"330\" y=\"285\" width=\"45\" height=\"45\" class=\"square dark h2\" stroke=\"none\" fill=\"#d18b47\" /><rect x=\"15\" y=\"240\" width=\"45\" height=\"45\" class=\"square dark a3\" stroke=\"none\" fill=\"#d18b47\" /><rect x=\"60\" y=\"240\" width=\"45\" height=\"45\" class=\"square light b3\" stroke=\"none\" fill=\"#ffce9e\" /><rect x=\"105\" y=\"240\" width=\"45\" height=\"45\" class=\"square dark c3\" stroke=\"none\" fill=\"#d18b47\" /><rect x=\"150\" y=\"240\" width=\"45\" height=\"45\" class=\"square light d3\" stroke=\"none\" fill=\"#ffce9e\" /><rect x=\"195\" y=\"240\" width=\"45\" height=\"45\" class=\"square dark e3\" stroke=\"none\" fill=\"#d18b47\" /><rect x=\"240\" y=\"240\" width=\"45\" height=\"45\" class=\"square light f3\" stroke=\"none\" fill=\"#ffce9e\" /><rect x=\"285\" y=\"240\" width=\"45\" height=\"45\" class=\"square dark g3\" stroke=\"none\" fill=\"#d18b47\" /><rect x=\"330\" y=\"240\" width=\"45\" height=\"45\" class=\"square light h3\" stroke=\"none\" fill=\"#ffce9e\" /><rect x=\"15\" y=\"195\" width=\"45\" height=\"45\" class=\"square light a4\" stroke=\"none\" fill=\"#ffce9e\" /><rect x=\"60\" y=\"195\" width=\"45\" height=\"45\" class=\"square dark b4\" stroke=\"none\" fill=\"#d18b47\" /><rect x=\"105\" y=\"195\" width=\"45\" height=\"45\" class=\"square light c4\" stroke=\"none\" fill=\"#ffce9e\" /><rect x=\"150\" y=\"195\" width=\"45\" height=\"45\" class=\"square dark d4\" stroke=\"none\" fill=\"#d18b47\" /><rect x=\"195\" y=\"195\" width=\"45\" height=\"45\" class=\"square light lastmove e4\" stroke=\"none\" fill=\"#cdd16a\" /><rect x=\"240\" y=\"195\" width=\"45\" height=\"45\" class=\"square dark f4\" stroke=\"none\" fill=\"#d18b47\" /><rect x=\"285\" y=\"195\" width=\"45\" height=\"45\" class=\"square light g4\" stroke=\"none\" fill=\"#ffce9e\" /><rect x=\"330\" y=\"195\" width=\"45\" height=\"45\" class=\"square dark h4\" stroke=\"none\" fill=\"#d18b47\" /><rect x=\"15\" y=\"150\" width=\"45\" height=\"45\" class=\"square dark a5\" stroke=\"none\" fill=\"#d18b47\" /><rect x=\"60\" y=\"150\" width=\"45\" height=\"45\" class=\"square light b5\" stroke=\"none\" fill=\"#ffce9e\" /><rect x=\"105\" y=\"150\" width=\"45\" height=\"45\" class=\"square dark c5\" stroke=\"none\" fill=\"#d18b47\" /><rect x=\"150\" y=\"150\" width=\"45\" height=\"45\" class=\"square light d5\" stroke=\"none\" fill=\"#ffce9e\" /><rect x=\"195\" y=\"150\" width=\"45\" height=\"45\" class=\"square dark e5\" stroke=\"none\" fill=\"#d18b47\" /><rect x=\"240\" y=\"150\" width=\"45\" height=\"45\" class=\"square light f5\" stroke=\"none\" fill=\"#ffce9e\" /><rect x=\"285\" y=\"150\" width=\"45\" height=\"45\" class=\"square dark g5\" stroke=\"none\" fill=\"#d18b47\" /><rect x=\"330\" y=\"150\" width=\"45\" height=\"45\" class=\"square light h5\" stroke=\"none\" fill=\"#ffce9e\" /><rect x=\"15\" y=\"105\" width=\"45\" height=\"45\" class=\"square light a6\" stroke=\"none\" fill=\"#ffce9e\" /><rect x=\"60\" y=\"105\" width=\"45\" height=\"45\" class=\"square dark b6\" stroke=\"none\" fill=\"#d18b47\" /><rect x=\"105\" y=\"105\" width=\"45\" height=\"45\" class=\"square light c6\" stroke=\"none\" fill=\"#ffce9e\" /><rect x=\"150\" y=\"105\" width=\"45\" height=\"45\" class=\"square dark d6\" stroke=\"none\" fill=\"#d18b47\" /><rect x=\"195\" y=\"105\" width=\"45\" height=\"45\" class=\"square light e6\" stroke=\"none\" fill=\"#ffce9e\" /><rect x=\"240\" y=\"105\" width=\"45\" height=\"45\" class=\"square dark f6\" stroke=\"none\" fill=\"#d18b47\" /><rect x=\"285\" y=\"105\" width=\"45\" height=\"45\" class=\"square light g6\" stroke=\"none\" fill=\"#ffce9e\" /><rect x=\"330\" y=\"105\" width=\"45\" height=\"45\" class=\"square dark h6\" stroke=\"none\" fill=\"#d18b47\" /><rect x=\"15\" y=\"60\" width=\"45\" height=\"45\" class=\"square dark a7\" stroke=\"none\" fill=\"#d18b47\" /><rect x=\"60\" y=\"60\" width=\"45\" height=\"45\" class=\"square light b7\" stroke=\"none\" fill=\"#ffce9e\" /><rect x=\"105\" y=\"60\" width=\"45\" height=\"45\" class=\"square dark c7\" stroke=\"none\" fill=\"#d18b47\" /><rect x=\"150\" y=\"60\" width=\"45\" height=\"45\" class=\"square light d7\" stroke=\"none\" fill=\"#ffce9e\" /><rect x=\"195\" y=\"60\" width=\"45\" height=\"45\" class=\"square dark e7\" stroke=\"none\" fill=\"#d18b47\" /><rect x=\"240\" y=\"60\" width=\"45\" height=\"45\" class=\"square light f7\" stroke=\"none\" fill=\"#ffce9e\" /><rect x=\"285\" y=\"60\" width=\"45\" height=\"45\" class=\"square dark g7\" stroke=\"none\" fill=\"#d18b47\" /><rect x=\"330\" y=\"60\" width=\"45\" height=\"45\" class=\"square light h7\" stroke=\"none\" fill=\"#ffce9e\" /><rect x=\"15\" y=\"15\" width=\"45\" height=\"45\" class=\"square light a8\" stroke=\"none\" fill=\"#ffce9e\" /><rect x=\"60\" y=\"15\" width=\"45\" height=\"45\" class=\"square dark b8\" stroke=\"none\" fill=\"#d18b47\" /><rect x=\"105\" y=\"15\" width=\"45\" height=\"45\" class=\"square light c8\" stroke=\"none\" fill=\"#ffce9e\" /><rect x=\"150\" y=\"15\" width=\"45\" height=\"45\" class=\"square dark d8\" stroke=\"none\" fill=\"#d18b47\" /><rect x=\"195\" y=\"15\" width=\"45\" height=\"45\" class=\"square light e8\" stroke=\"none\" fill=\"#ffce9e\" /><rect x=\"240\" y=\"15\" width=\"45\" height=\"45\" class=\"square dark f8\" stroke=\"none\" fill=\"#d18b47\" /><rect x=\"285\" y=\"15\" width=\"45\" height=\"45\" class=\"square light g8\" stroke=\"none\" fill=\"#ffce9e\" /><rect x=\"330\" y=\"15\" width=\"45\" height=\"45\" class=\"square dark h8\" stroke=\"none\" fill=\"#d18b47\" /><use href=\"#white-rook\" xlink:href=\"#white-rook\" transform=\"translate(15, 330)\" /><use href=\"#white-knight\" xlink:href=\"#white-knight\" transform=\"translate(60, 330)\" /><use href=\"#white-bishop\" xlink:href=\"#white-bishop\" transform=\"translate(105, 330)\" /><use href=\"#white-queen\" xlink:href=\"#white-queen\" transform=\"translate(150, 330)\" /><use href=\"#white-king\" xlink:href=\"#white-king\" transform=\"translate(195, 330)\" /><use href=\"#white-bishop\" xlink:href=\"#white-bishop\" transform=\"translate(240, 330)\" /><use href=\"#white-knight\" xlink:href=\"#white-knight\" transform=\"translate(285, 330)\" /><use href=\"#white-rook\" xlink:href=\"#white-rook\" transform=\"translate(330, 330)\" /><use href=\"#white-pawn\" xlink:href=\"#white-pawn\" transform=\"translate(15, 285)\" /><use href=\"#white-pawn\" xlink:href=\"#white-pawn\" transform=\"translate(60, 285)\" /><use href=\"#white-pawn\" xlink:href=\"#white-pawn\" transform=\"translate(105, 285)\" /><use href=\"#white-pawn\" xlink:href=\"#white-pawn\" transform=\"translate(150, 285)\" /><use href=\"#white-pawn\" xlink:href=\"#white-pawn\" transform=\"translate(240, 285)\" /><use href=\"#white-pawn\" xlink:href=\"#white-pawn\" transform=\"translate(285, 285)\" /><use href=\"#white-pawn\" xlink:href=\"#white-pawn\" transform=\"translate(330, 285)\" /><use href=\"#white-pawn\" xlink:href=\"#white-pawn\" transform=\"translate(195, 195)\" /><use href=\"#black-pawn\" xlink:href=\"#black-pawn\" transform=\"translate(15, 60)\" /><use href=\"#black-pawn\" xlink:href=\"#black-pawn\" transform=\"translate(60, 60)\" /><use href=\"#black-pawn\" xlink:href=\"#black-pawn\" transform=\"translate(105, 60)\" /><use href=\"#black-pawn\" xlink:href=\"#black-pawn\" transform=\"translate(150, 60)\" /><use href=\"#black-pawn\" xlink:href=\"#black-pawn\" transform=\"translate(195, 60)\" /><use href=\"#black-pawn\" xlink:href=\"#black-pawn\" transform=\"translate(240, 60)\" /><use href=\"#black-pawn\" xlink:href=\"#black-pawn\" transform=\"translate(285, 60)\" /><use href=\"#black-pawn\" xlink:href=\"#black-pawn\" transform=\"translate(330, 60)\" /><use href=\"#black-rook\" xlink:href=\"#black-rook\" transform=\"translate(15, 15)\" /><use href=\"#black-knight\" xlink:href=\"#black-knight\" transform=\"translate(60, 15)\" /><use href=\"#black-bishop\" xlink:href=\"#black-bishop\" transform=\"translate(105, 15)\" /><use href=\"#black-queen\" xlink:href=\"#black-queen\" transform=\"translate(150, 15)\" /><use href=\"#black-king\" xlink:href=\"#black-king\" transform=\"translate(195, 15)\" /><use href=\"#black-bishop\" xlink:href=\"#black-bishop\" transform=\"translate(240, 15)\" /><use href=\"#black-knight\" xlink:href=\"#black-knight\" transform=\"translate(285, 15)\" /><use href=\"#black-rook\" xlink:href=\"#black-rook\" transform=\"translate(330, 15)\" /></svg>"
      ],
      "text/plain": [
       "Board('rnbqkbnr/pppppppp/8/8/4P3/8/PPPP1PPP/RNBQKBNR b KQkq - 0 1')"
      ]
     },
     "execution_count": 10,
     "metadata": {},
     "output_type": "execute_result"
    }
   ],
   "source": [
    "board"
   ]
  },
  {
   "cell_type": "code",
   "execution_count": 11,
   "id": "f97cb7e3-74ea-420d-8ed2-8ad47a9cb24e",
   "metadata": {},
   "outputs": [
    {
     "data": {
      "text/plain": [
       "False"
      ]
     },
     "execution_count": 11,
     "metadata": {},
     "output_type": "execute_result"
    }
   ],
   "source": [
    "board.is_checkmate()"
   ]
  },
  {
   "cell_type": "code",
   "execution_count": 12,
   "id": "9022d9c5-54ef-4510-bd08-4f505de51b11",
   "metadata": {},
   "outputs": [],
   "source": [
    "import chess.pgn"
   ]
  },
  {
   "cell_type": "code",
   "execution_count": 13,
   "id": "f6704523-71ed-45ce-9266-d71bdfe393dc",
   "metadata": {},
   "outputs": [
    {
     "data": {
      "text/plain": [
       "<module 'chess.pgn' from '/Library/Frameworks/Python.framework/Versions/3.13/lib/python3.13/site-packages/chess/pgn.py'>"
      ]
     },
     "execution_count": 13,
     "metadata": {},
     "output_type": "execute_result"
    }
   ],
   "source": [
    "chess.pgn"
   ]
  },
  {
   "cell_type": "code",
   "execution_count": 14,
   "id": "7c1dad7d-5d4a-49dc-89d5-2ae6eb4ba902",
   "metadata": {},
   "outputs": [],
   "source": [
    "pgn = open(\"marwanchessksa_vs_pranavks_2024.12.17.pgn\")"
   ]
  },
  {
   "cell_type": "code",
   "execution_count": 15,
   "id": "42b2ea6c-b3f0-4384-a520-f50ff2a5785a",
   "metadata": {},
   "outputs": [],
   "source": [
    "pgn_name=\"marwanchessksa_vs_pranavks_2024.12.17.pgn\""
   ]
  },
  {
   "cell_type": "code",
   "execution_count": 16,
   "id": "29d15e8a-6f54-4e6e-aa7c-7617933c9357",
   "metadata": {},
   "outputs": [],
   "source": [
    "first_game = chess.pgn.read_game(pgn)"
   ]
  },
  {
   "cell_type": "code",
   "execution_count": 17,
   "id": "34a1d956-dc1b-46e6-a0c3-2d45fe9ba8d7",
   "metadata": {},
   "outputs": [
    {
     "data": {
      "text/plain": [
       "<Game at 0x10beb4830 ('marwanchessksa' vs. 'pranavks', '2024.12.17' at 'Chess.com')>"
      ]
     },
     "execution_count": 17,
     "metadata": {},
     "output_type": "execute_result"
    }
   ],
   "source": [
    "first_game"
   ]
  },
  {
   "cell_type": "code",
   "execution_count": 18,
   "id": "ea7fd3c1-9741-47dd-8069-c04dda60bb2f",
   "metadata": {},
   "outputs": [],
   "source": [
    "first_game.move"
   ]
  },
  {
   "cell_type": "code",
   "execution_count": 19,
   "id": "2c007ca9-f21a-433c-ad17-99b3d955f806",
   "metadata": {},
   "outputs": [
    {
     "name": "stdout",
     "output_type": "stream",
     "text": [
      "e4\n",
      "e5\n",
      "Nc3\n",
      "Nc6\n",
      "Bc4\n",
      "Nf6\n",
      "Nge2\n",
      "Bc5\n",
      "O-O\n",
      "O-O\n",
      "d3\n",
      "a6\n",
      "a4\n",
      "d6\n",
      "Bg5\n",
      "Be6\n",
      "Nd5\n",
      "Bxd5\n",
      "exd5\n",
      "Na5\n",
      "Ba2\n",
      "b5\n",
      "c3\n",
      "Ba7\n",
      "b4\n",
      "Nb7\n",
      "axb5\n",
      "axb5\n",
      "Bb3\n",
      "h6\n",
      "Bh4\n",
      "g5\n",
      "Bg3\n",
      "c5\n",
      "c4\n",
      "bxc4\n",
      "dxc4\n",
      "cxb4\n",
      "Nc1\n",
      "Nc5\n",
      "Nd3\n",
      "Nxb3\n",
      "Qxb3\n",
      "e4\n",
      "Nxb4\n",
      "Bc5\n",
      "Nc6\n",
      "Qc7\n",
      "Rxa8\n",
      "Rxa8\n",
      "h3\n",
      "h5\n",
      "Qb2\n",
      "Kg7\n",
      "h4\n",
      "gxh4\n",
      "Bxh4\n",
      "Qd7\n",
      "Qxf6+\n",
      "Kh7\n",
      "Re1\n",
      "Qg4\n",
      "Qxf7+\n",
      "Qg7\n",
      "Qxg7+\n",
      "Kxg7\n",
      "Rxe4\n",
      "Ra1+\n",
      "Kh2\n",
      "Ra2\n",
      "Rf4\n",
      "Kh6\n",
      "Ne7\n",
      "Bd4\n",
      "Nf5+\n",
      "Kg6\n",
      "Nxd4\n",
      "Rd2\n",
      "Nf3\n"
     ]
    }
   ],
   "source": [
    "board = first_game.board()\n",
    "for move in first_game.mainline_moves():\n",
    "    print(board.san(move))  # Convert the move to SAN notation\n",
    "    board.push(move)"
   ]
  },
  {
   "cell_type": "code",
   "execution_count": 20,
   "id": "7f2d90d2-e083-467b-a999-8bf644077276",
   "metadata": {},
   "outputs": [
    {
     "data": {
      "image/svg+xml": [
       "<svg xmlns=\"http://www.w3.org/2000/svg\" xmlns:xlink=\"http://www.w3.org/1999/xlink\" viewBox=\"0 0 390 390\" width=\"390\" height=\"390\"><desc><pre>. . . . . . . .\n",
       ". . . . . . . .\n",
       ". . . p . . k .\n",
       ". . . P . . . p\n",
       ". . P . . R . B\n",
       ". . . . . N . .\n",
       ". . . r . P P K\n",
       ". . . . . . . .</pre></desc><defs><g id=\"white-pawn\" class=\"white pawn\"><path d=\"M22.5 9c-2.21 0-4 1.79-4 4 0 .89.29 1.71.78 2.38C17.33 16.5 16 18.59 16 21c0 2.03.94 3.84 2.41 5.03-3 1.06-7.41 5.55-7.41 13.47h23c0-7.92-4.41-12.41-7.41-13.47 1.47-1.19 2.41-3 2.41-5.03 0-2.41-1.33-4.5-3.28-5.62.49-.67.78-1.49.78-2.38 0-2.21-1.79-4-4-4z\" fill=\"#fff\" stroke=\"#000\" stroke-width=\"1.5\" stroke-linecap=\"round\" /></g><g id=\"white-knight\" class=\"white knight\" fill=\"none\" fill-rule=\"evenodd\" stroke=\"#000\" stroke-width=\"1.5\" stroke-linecap=\"round\" stroke-linejoin=\"round\"><path d=\"M 22,10 C 32.5,11 38.5,18 38,39 L 15,39 C 15,30 25,32.5 23,18\" style=\"fill:#ffffff; stroke:#000000;\" /><path d=\"M 24,18 C 24.38,20.91 18.45,25.37 16,27 C 13,29 13.18,31.34 11,31 C 9.958,30.06 12.41,27.96 11,28 C 10,28 11.19,29.23 10,30 C 9,30 5.997,31 6,26 C 6,24 12,14 12,14 C 12,14 13.89,12.1 14,10.5 C 13.27,9.506 13.5,8.5 13.5,7.5 C 14.5,6.5 16.5,10 16.5,10 L 18.5,10 C 18.5,10 19.28,8.008 21,7 C 22,7 22,10 22,10\" style=\"fill:#ffffff; stroke:#000000;\" /><path d=\"M 9.5 25.5 A 0.5 0.5 0 1 1 8.5,25.5 A 0.5 0.5 0 1 1 9.5 25.5 z\" style=\"fill:#000000; stroke:#000000;\" /><path d=\"M 15 15.5 A 0.5 1.5 0 1 1 14,15.5 A 0.5 1.5 0 1 1 15 15.5 z\" transform=\"matrix(0.866,0.5,-0.5,0.866,9.693,-5.173)\" style=\"fill:#000000; stroke:#000000;\" /></g><g id=\"white-bishop\" class=\"white bishop\" fill=\"none\" fill-rule=\"evenodd\" stroke=\"#000\" stroke-width=\"1.5\" stroke-linecap=\"round\" stroke-linejoin=\"round\"><g fill=\"#fff\" stroke-linecap=\"butt\"><path d=\"M9 36c3.39-.97 10.11.43 13.5-2 3.39 2.43 10.11 1.03 13.5 2 0 0 1.65.54 3 2-.68.97-1.65.99-3 .5-3.39-.97-10.11.46-13.5-1-3.39 1.46-10.11.03-13.5 1-1.354.49-2.323.47-3-.5 1.354-1.94 3-2 3-2zM15 32c2.5 2.5 12.5 2.5 15 0 .5-1.5 0-2 0-2 0-2.5-2.5-4-2.5-4 5.5-1.5 6-11.5-5-15.5-11 4-10.5 14-5 15.5 0 0-2.5 1.5-2.5 4 0 0-.5.5 0 2zM25 8a2.5 2.5 0 1 1-5 0 2.5 2.5 0 1 1 5 0z\" /></g><path d=\"M17.5 26h10M15 30h15m-7.5-14.5v5M20 18h5\" stroke-linejoin=\"miter\" /></g><g id=\"white-rook\" class=\"white rook\" fill=\"#fff\" fill-rule=\"evenodd\" stroke=\"#000\" stroke-width=\"1.5\" stroke-linecap=\"round\" stroke-linejoin=\"round\"><path d=\"M9 39h27v-3H9v3zM12 36v-4h21v4H12zM11 14V9h4v2h5V9h5v2h5V9h4v5\" stroke-linecap=\"butt\" /><path d=\"M34 14l-3 3H14l-3-3\" /><path d=\"M31 17v12.5H14V17\" stroke-linecap=\"butt\" stroke-linejoin=\"miter\" /><path d=\"M31 29.5l1.5 2.5h-20l1.5-2.5\" /><path d=\"M11 14h23\" fill=\"none\" stroke-linejoin=\"miter\" /></g><g id=\"white-king\" class=\"white king\" fill=\"none\" fill-rule=\"evenodd\" stroke=\"#000\" stroke-width=\"1.5\" stroke-linecap=\"round\" stroke-linejoin=\"round\"><path d=\"M22.5 11.63V6M20 8h5\" stroke-linejoin=\"miter\" /><path d=\"M22.5 25s4.5-7.5 3-10.5c0 0-1-2.5-3-2.5s-3 2.5-3 2.5c-1.5 3 3 10.5 3 10.5\" fill=\"#fff\" stroke-linecap=\"butt\" stroke-linejoin=\"miter\" /><path d=\"M11.5 37c5.5 3.5 15.5 3.5 21 0v-7s9-4.5 6-10.5c-4-6.5-13.5-3.5-16 4V27v-3.5c-3.5-7.5-13-10.5-16-4-3 6 5 10 5 10V37z\" fill=\"#fff\" /><path d=\"M11.5 30c5.5-3 15.5-3 21 0m-21 3.5c5.5-3 15.5-3 21 0m-21 3.5c5.5-3 15.5-3 21 0\" /></g><g id=\"black-pawn\" class=\"black pawn\"><path d=\"M22.5 9c-2.21 0-4 1.79-4 4 0 .89.29 1.71.78 2.38C17.33 16.5 16 18.59 16 21c0 2.03.94 3.84 2.41 5.03-3 1.06-7.41 5.55-7.41 13.47h23c0-7.92-4.41-12.41-7.41-13.47 1.47-1.19 2.41-3 2.41-5.03 0-2.41-1.33-4.5-3.28-5.62.49-.67.78-1.49.78-2.38 0-2.21-1.79-4-4-4z\" fill=\"#000\" stroke=\"#000\" stroke-width=\"1.5\" stroke-linecap=\"round\" /></g><g id=\"black-rook\" class=\"black rook\" fill=\"#000\" fill-rule=\"evenodd\" stroke=\"#000\" stroke-width=\"1.5\" stroke-linecap=\"round\" stroke-linejoin=\"round\"><path d=\"M9 39h27v-3H9v3zM12.5 32l1.5-2.5h17l1.5 2.5h-20zM12 36v-4h21v4H12z\" stroke-linecap=\"butt\" /><path d=\"M14 29.5v-13h17v13H14z\" stroke-linecap=\"butt\" stroke-linejoin=\"miter\" /><path d=\"M14 16.5L11 14h23l-3 2.5H14zM11 14V9h4v2h5V9h5v2h5V9h4v5H11z\" stroke-linecap=\"butt\" /><path d=\"M12 35.5h21M13 31.5h19M14 29.5h17M14 16.5h17M11 14h23\" fill=\"none\" stroke=\"#fff\" stroke-width=\"1\" stroke-linejoin=\"miter\" /></g><g id=\"black-king\" class=\"black king\" fill=\"none\" fill-rule=\"evenodd\" stroke=\"#000\" stroke-width=\"1.5\" stroke-linecap=\"round\" stroke-linejoin=\"round\"><path d=\"M22.5 11.63V6\" stroke-linejoin=\"miter\" /><path d=\"M22.5 25s4.5-7.5 3-10.5c0 0-1-2.5-3-2.5s-3 2.5-3 2.5c-1.5 3 3 10.5 3 10.5\" fill=\"#000\" stroke-linecap=\"butt\" stroke-linejoin=\"miter\" /><path d=\"M11.5 37c5.5 3.5 15.5 3.5 21 0v-7s9-4.5 6-10.5c-4-6.5-13.5-3.5-16 4V27v-3.5c-3.5-7.5-13-10.5-16-4-3 6 5 10 5 10V37z\" fill=\"#000\" /><path d=\"M20 8h5\" stroke-linejoin=\"miter\" /><path d=\"M32 29.5s8.5-4 6.03-9.65C34.15 14 25 18 22.5 24.5l.01 2.1-.01-2.1C20 18 9.906 14 6.997 19.85c-2.497 5.65 4.853 9 4.853 9M11.5 30c5.5-3 15.5-3 21 0m-21 3.5c5.5-3 15.5-3 21 0m-21 3.5c5.5-3 15.5-3 21 0\" stroke=\"#fff\" /></g></defs><rect x=\"7.5\" y=\"7.5\" width=\"375\" height=\"375\" fill=\"none\" stroke=\"#212121\" stroke-width=\"15\" /><g transform=\"translate(20, 1) scale(0.75, 0.75)\" fill=\"#e5e5e5\" stroke=\"#e5e5e5\"><path d=\"M23.328 10.016q-1.742 0-2.414.398-.672.398-.672 1.36 0 .765.5 1.218.508.445 1.375.445 1.196 0 1.914-.843.727-.852.727-2.258v-.32zm2.867-.594v4.992h-1.437v-1.328q-.492.797-1.227 1.18-.734.375-1.797.375-1.343 0-2.14-.75-.79-.758-.79-2.024 0-1.476.985-2.226.992-.75 2.953-.75h2.016V8.75q0-.992-.656-1.531-.649-.547-1.829-.547-.75 0-1.46.18-.711.18-1.368.539V6.062q.79-.304 1.532-.453.742-.156 1.445-.156 1.898 0 2.836.984.937.985.937 2.985z\" /></g><g transform=\"translate(20, 375) scale(0.75, 0.75)\" fill=\"#e5e5e5\" stroke=\"#e5e5e5\"><path d=\"M23.328 10.016q-1.742 0-2.414.398-.672.398-.672 1.36 0 .765.5 1.218.508.445 1.375.445 1.196 0 1.914-.843.727-.852.727-2.258v-.32zm2.867-.594v4.992h-1.437v-1.328q-.492.797-1.227 1.18-.734.375-1.797.375-1.343 0-2.14-.75-.79-.758-.79-2.024 0-1.476.985-2.226.992-.75 2.953-.75h2.016V8.75q0-.992-.656-1.531-.649-.547-1.829-.547-.75 0-1.46.18-.711.18-1.368.539V6.062q.79-.304 1.532-.453.742-.156 1.445-.156 1.898 0 2.836.984.937.985.937 2.985z\" /></g><g transform=\"translate(65, 1) scale(0.75, 0.75)\" fill=\"#e5e5e5\" stroke=\"#e5e5e5\"><path d=\"M24.922 10.047q0-1.586-.656-2.485-.649-.906-1.79-.906-1.14 0-1.796.906-.649.899-.649 2.485 0 1.586.649 2.492.656.898 1.797.898 1.14 0 1.789-.898.656-.906.656-2.492zm-4.89-3.055q.452-.781 1.14-1.156.695-.383 1.656-.383 1.594 0 2.586 1.266 1 1.265 1 3.328 0 2.062-1 3.328-.992 1.266-2.586 1.266-.96 0-1.656-.375-.688-.383-1.14-1.164v1.312h-1.446V2.258h1.445z\" /></g><g transform=\"translate(65, 375) scale(0.75, 0.75)\" fill=\"#e5e5e5\" stroke=\"#e5e5e5\"><path d=\"M24.922 10.047q0-1.586-.656-2.485-.649-.906-1.79-.906-1.14 0-1.796.906-.649.899-.649 2.485 0 1.586.649 2.492.656.898 1.797.898 1.14 0 1.789-.898.656-.906.656-2.492zm-4.89-3.055q.452-.781 1.14-1.156.695-.383 1.656-.383 1.594 0 2.586 1.266 1 1.265 1 3.328 0 2.062-1 3.328-.992 1.266-2.586 1.266-.96 0-1.656-.375-.688-.383-1.14-1.164v1.312h-1.446V2.258h1.445z\" /></g><g transform=\"translate(110, 1) scale(0.75, 0.75)\" fill=\"#e5e5e5\" stroke=\"#e5e5e5\"><path d=\"M25.96 6v1.344q-.608-.336-1.226-.5-.609-.172-1.234-.172-1.398 0-2.172.89-.773.883-.773 2.485 0 1.601.773 2.492.774.883 2.172.883.625 0 1.234-.164.618-.172 1.227-.508v1.328q-.602.281-1.25.422-.64.14-1.367.14-1.977 0-3.14-1.242-1.165-1.242-1.165-3.351 0-2.14 1.172-3.367 1.18-1.227 3.227-1.227.664 0 1.296.14.633.134 1.227.407z\" /></g><g transform=\"translate(110, 375) scale(0.75, 0.75)\" fill=\"#e5e5e5\" stroke=\"#e5e5e5\"><path d=\"M25.96 6v1.344q-.608-.336-1.226-.5-.609-.172-1.234-.172-1.398 0-2.172.89-.773.883-.773 2.485 0 1.601.773 2.492.774.883 2.172.883.625 0 1.234-.164.618-.172 1.227-.508v1.328q-.602.281-1.25.422-.64.14-1.367.14-1.977 0-3.14-1.242-1.165-1.242-1.165-3.351 0-2.14 1.172-3.367 1.18-1.227 3.227-1.227.664 0 1.296.14.633.134 1.227.407z\" /></g><g transform=\"translate(155, 1) scale(0.75, 0.75)\" fill=\"#e5e5e5\" stroke=\"#e5e5e5\"><path d=\"M24.973 6.992V2.258h1.437v12.156h-1.437v-1.312q-.453.78-1.149 1.164-.687.375-1.656.375-1.586 0-2.586-1.266-.992-1.266-.992-3.328 0-2.063.992-3.328 1-1.266 2.586-1.266.969 0 1.656.383.696.375 1.149 1.156zm-4.899 3.055q0 1.586.649 2.492.656.898 1.797.898 1.14 0 1.796-.898.657-.906.657-2.492 0-1.586-.657-2.485-.656-.906-1.796-.906-1.141 0-1.797.906-.649.899-.649 2.485z\" /></g><g transform=\"translate(155, 375) scale(0.75, 0.75)\" fill=\"#e5e5e5\" stroke=\"#e5e5e5\"><path d=\"M24.973 6.992V2.258h1.437v12.156h-1.437v-1.312q-.453.78-1.149 1.164-.687.375-1.656.375-1.586 0-2.586-1.266-.992-1.266-.992-3.328 0-2.063.992-3.328 1-1.266 2.586-1.266.969 0 1.656.383.696.375 1.149 1.156zm-4.899 3.055q0 1.586.649 2.492.656.898 1.797.898 1.14 0 1.796-.898.657-.906.657-2.492 0-1.586-.657-2.485-.656-.906-1.796-.906-1.141 0-1.797.906-.649.899-.649 2.485z\" /></g><g transform=\"translate(200, 1) scale(0.75, 0.75)\" fill=\"#e5e5e5\" stroke=\"#e5e5e5\"><path d=\"M26.555 9.68v.703h-6.61q.094 1.484.89 2.265.806.774 2.235.774.828 0 1.602-.203.781-.203 1.547-.61v1.36q-.774.328-1.586.5-.813.172-1.649.172-2.093 0-3.32-1.22-1.219-1.218-1.219-3.296 0-2.148 1.157-3.406 1.164-1.266 3.132-1.266 1.766 0 2.79 1.14 1.03 1.134 1.03 3.087zm-1.438-.422q-.015-1.18-.664-1.883-.64-.703-1.703-.703-1.203 0-1.93.68-.718.68-.828 1.914z\" /></g><g transform=\"translate(200, 375) scale(0.75, 0.75)\" fill=\"#e5e5e5\" stroke=\"#e5e5e5\"><path d=\"M26.555 9.68v.703h-6.61q.094 1.484.89 2.265.806.774 2.235.774.828 0 1.602-.203.781-.203 1.547-.61v1.36q-.774.328-1.586.5-.813.172-1.649.172-2.093 0-3.32-1.22-1.219-1.218-1.219-3.296 0-2.148 1.157-3.406 1.164-1.266 3.132-1.266 1.766 0 2.79 1.14 1.03 1.134 1.03 3.087zm-1.438-.422q-.015-1.18-.664-1.883-.64-.703-1.703-.703-1.203 0-1.93.68-.718.68-.828 1.914z\" /></g><g transform=\"translate(245, 1) scale(0.75, 0.75)\" fill=\"#e5e5e5\" stroke=\"#e5e5e5\"><path d=\"M25.285 2.258v1.195H23.91q-.773 0-1.078.313-.297.312-.297 1.125v.773h2.367v1.117h-2.367v7.633H21.09V6.781h-1.375V5.664h1.375v-.61q0-1.46.68-2.124.68-.672 2.156-.672z\" /></g><g transform=\"translate(245, 375) scale(0.75, 0.75)\" fill=\"#e5e5e5\" stroke=\"#e5e5e5\"><path d=\"M25.285 2.258v1.195H23.91q-.773 0-1.078.313-.297.312-.297 1.125v.773h2.367v1.117h-2.367v7.633H21.09V6.781h-1.375V5.664h1.375v-.61q0-1.46.68-2.124.68-.672 2.156-.672z\" /></g><g transform=\"translate(290, 1) scale(0.75, 0.75)\" fill=\"#e5e5e5\" stroke=\"#e5e5e5\"><path d=\"M24.973 9.937q0-1.562-.649-2.421-.64-.86-1.804-.86-1.157 0-1.805.86-.64.859-.64 2.421 0 1.555.64 2.415.648.859 1.805.859 1.164 0 1.804-.86.649-.859.649-2.414zm1.437 3.391q0 2.234-.992 3.32-.992 1.094-3.04 1.094-.757 0-1.429-.117-.672-.11-1.304-.344v-1.398q.632.344 1.25.508.617.164 1.257.164 1.414 0 2.118-.743.703-.734.703-2.226v-.711q-.446.773-1.141 1.156-.695.383-1.664.383-1.61 0-2.594-1.227-.984-1.226-.984-3.25 0-2.03.984-3.257.985-1.227 2.594-1.227.969 0 1.664.383t1.14 1.156V5.664h1.438z\" /></g><g transform=\"translate(290, 375) scale(0.75, 0.75)\" fill=\"#e5e5e5\" stroke=\"#e5e5e5\"><path d=\"M24.973 9.937q0-1.562-.649-2.421-.64-.86-1.804-.86-1.157 0-1.805.86-.64.859-.64 2.421 0 1.555.64 2.415.648.859 1.805.859 1.164 0 1.804-.86.649-.859.649-2.414zm1.437 3.391q0 2.234-.992 3.32-.992 1.094-3.04 1.094-.757 0-1.429-.117-.672-.11-1.304-.344v-1.398q.632.344 1.25.508.617.164 1.257.164 1.414 0 2.118-.743.703-.734.703-2.226v-.711q-.446.773-1.141 1.156-.695.383-1.664.383-1.61 0-2.594-1.227-.984-1.226-.984-3.25 0-2.03.984-3.257.985-1.227 2.594-1.227.969 0 1.664.383t1.14 1.156V5.664h1.438z\" /></g><g transform=\"translate(335, 1) scale(0.75, 0.75)\" fill=\"#e5e5e5\" stroke=\"#e5e5e5\"><path d=\"M26.164 9.133v5.281h-1.437V9.18q0-1.243-.485-1.86-.484-.617-1.453-.617-1.164 0-1.836.742-.672.742-.672 2.024v4.945h-1.445V2.258h1.445v4.765q.516-.789 1.211-1.18.703-.39 1.617-.39 1.508 0 2.282.938.773.93.773 2.742z\" /></g><g transform=\"translate(335, 375) scale(0.75, 0.75)\" fill=\"#e5e5e5\" stroke=\"#e5e5e5\"><path d=\"M26.164 9.133v5.281h-1.437V9.18q0-1.243-.485-1.86-.484-.617-1.453-.617-1.164 0-1.836.742-.672.742-.672 2.024v4.945h-1.445V2.258h1.445v4.765q.516-.789 1.211-1.18.703-.39 1.617-.39 1.508 0 2.282.938.773.93.773 2.742z\" /></g><g transform=\"translate(0, 335) scale(0.75, 0.75)\" fill=\"#e5e5e5\" stroke=\"#e5e5e5\"><path d=\"M6.754 26.996h2.578v-8.898l-2.805.562v-1.437l2.79-.563h1.578v10.336h2.578v1.328h-6.72z\" /></g><g transform=\"translate(375, 335) scale(0.75, 0.75)\" fill=\"#e5e5e5\" stroke=\"#e5e5e5\"><path d=\"M6.754 26.996h2.578v-8.898l-2.805.562v-1.437l2.79-.563h1.578v10.336h2.578v1.328h-6.72z\" /></g><g transform=\"translate(0, 290) scale(0.75, 0.75)\" fill=\"#e5e5e5\" stroke=\"#e5e5e5\"><path d=\"M8.195 26.996h5.508v1.328H6.297v-1.328q.898-.93 2.445-2.492 1.555-1.57 1.953-2.024.758-.851 1.055-1.437.305-.594.305-1.164 0-.93-.657-1.516-.648-.586-1.695-.586-.742 0-1.57.258-.82.258-1.758.781v-1.593q.953-.383 1.781-.578.828-.196 1.516-.196 1.812 0 2.89.906 1.079.907 1.079 2.422 0 .72-.274 1.368-.265.64-.976 1.515-.196.227-1.243 1.313-1.046 1.078-2.953 3.023z\" /></g><g transform=\"translate(375, 290) scale(0.75, 0.75)\" fill=\"#e5e5e5\" stroke=\"#e5e5e5\"><path d=\"M8.195 26.996h5.508v1.328H6.297v-1.328q.898-.93 2.445-2.492 1.555-1.57 1.953-2.024.758-.851 1.055-1.437.305-.594.305-1.164 0-.93-.657-1.516-.648-.586-1.695-.586-.742 0-1.57.258-.82.258-1.758.781v-1.593q.953-.383 1.781-.578.828-.196 1.516-.196 1.812 0 2.89.906 1.079.907 1.079 2.422 0 .72-.274 1.368-.265.64-.976 1.515-.196.227-1.243 1.313-1.046 1.078-2.953 3.023z\" /></g><g transform=\"translate(0, 245) scale(0.75, 0.75)\" fill=\"#e5e5e5\" stroke=\"#e5e5e5\"><path d=\"M11.434 22.035q1.132.242 1.765 1.008.64.766.64 1.89 0 1.727-1.187 2.672-1.187.946-3.375.946-.734 0-1.515-.149-.774-.14-1.602-.43V26.45q.656.383 1.438.578.78.196 1.632.196 1.485 0 2.258-.586.782-.586.782-1.703 0-1.032-.727-1.61-.719-.586-2.008-.586h-1.36v-1.297h1.423q1.164 0 1.78-.46.618-.47.618-1.344 0-.899-.64-1.375-.633-.485-1.82-.485-.65 0-1.391.141-.743.14-1.633.437V16.95q.898-.25 1.68-.375.788-.125 1.484-.125 1.797 0 2.844.82 1.046.813 1.046 2.204 0 .968-.554 1.64-.555.664-1.578.922z\" /></g><g transform=\"translate(375, 245) scale(0.75, 0.75)\" fill=\"#e5e5e5\" stroke=\"#e5e5e5\"><path d=\"M11.434 22.035q1.132.242 1.765 1.008.64.766.64 1.89 0 1.727-1.187 2.672-1.187.946-3.375.946-.734 0-1.515-.149-.774-.14-1.602-.43V26.45q.656.383 1.438.578.78.196 1.632.196 1.485 0 2.258-.586.782-.586.782-1.703 0-1.032-.727-1.61-.719-.586-2.008-.586h-1.36v-1.297h1.423q1.164 0 1.78-.46.618-.47.618-1.344 0-.899-.64-1.375-.633-.485-1.82-.485-.65 0-1.391.141-.743.14-1.633.437V16.95q.898-.25 1.68-.375.788-.125 1.484-.125 1.797 0 2.844.82 1.046.813 1.046 2.204 0 .968-.554 1.64-.555.664-1.578.922z\" /></g><g transform=\"translate(0, 200) scale(0.75, 0.75)\" fill=\"#e5e5e5\" stroke=\"#e5e5e5\"><path d=\"M11.016 18.035L7.03 24.262h3.985zm-.414-1.375h1.984v7.602h1.664v1.312h-1.664v2.75h-1.57v-2.75H5.75v-1.523z\" /></g><g transform=\"translate(375, 200) scale(0.75, 0.75)\" fill=\"#e5e5e5\" stroke=\"#e5e5e5\"><path d=\"M11.016 18.035L7.03 24.262h3.985zm-.414-1.375h1.984v7.602h1.664v1.312h-1.664v2.75h-1.57v-2.75H5.75v-1.523z\" /></g><g transform=\"translate(0, 155) scale(0.75, 0.75)\" fill=\"#e5e5e5\" stroke=\"#e5e5e5\"><path d=\"M6.719 16.66h6.195v1.328h-4.75v2.86q.344-.118.688-.172.343-.063.687-.063 1.953 0 3.094 1.07 1.14 1.07 1.14 2.899 0 1.883-1.171 2.93-1.172 1.039-3.305 1.039-.735 0-1.5-.125-.758-.125-1.57-.375v-1.586q.703.383 1.453.57.75.188 1.586.188 1.351 0 2.14-.711.79-.711.79-1.93 0-1.219-.79-1.93-.789-.71-2.14-.71-.633 0-1.266.14-.625.14-1.281.438z\" /></g><g transform=\"translate(375, 155) scale(0.75, 0.75)\" fill=\"#e5e5e5\" stroke=\"#e5e5e5\"><path d=\"M6.719 16.66h6.195v1.328h-4.75v2.86q.344-.118.688-.172.343-.063.687-.063 1.953 0 3.094 1.07 1.14 1.07 1.14 2.899 0 1.883-1.171 2.93-1.172 1.039-3.305 1.039-.735 0-1.5-.125-.758-.125-1.57-.375v-1.586q.703.383 1.453.57.75.188 1.586.188 1.351 0 2.14-.711.79-.711.79-1.93 0-1.219-.79-1.93-.789-.71-2.14-.71-.633 0-1.266.14-.625.14-1.281.438z\" /></g><g transform=\"translate(0, 110) scale(0.75, 0.75)\" fill=\"#e5e5e5\" stroke=\"#e5e5e5\"><path d=\"M10.137 21.863q-1.063 0-1.688.727-.617.726-.617 1.992 0 1.258.617 1.992.625.727 1.688.727 1.062 0 1.68-.727.624-.734.624-1.992 0-1.266-.625-1.992-.617-.727-1.68-.727zm3.133-4.945v1.437q-.594-.28-1.204-.43-.601-.148-1.195-.148-1.562 0-2.39 1.055-.82 1.055-.938 3.188.46-.68 1.156-1.04.696-.367 1.531-.367 1.758 0 2.774 1.07 1.023 1.063 1.023 2.899 0 1.797-1.062 2.883-1.063 1.086-2.828 1.086-2.024 0-3.094-1.547-1.07-1.555-1.07-4.5 0-2.766 1.312-4.406 1.313-1.649 3.524-1.649.593 0 1.195.117.61.118 1.266.352z\" /></g><g transform=\"translate(375, 110) scale(0.75, 0.75)\" fill=\"#e5e5e5\" stroke=\"#e5e5e5\"><path d=\"M10.137 21.863q-1.063 0-1.688.727-.617.726-.617 1.992 0 1.258.617 1.992.625.727 1.688.727 1.062 0 1.68-.727.624-.734.624-1.992 0-1.266-.625-1.992-.617-.727-1.68-.727zm3.133-4.945v1.437q-.594-.28-1.204-.43-.601-.148-1.195-.148-1.562 0-2.39 1.055-.82 1.055-.938 3.188.46-.68 1.156-1.04.696-.367 1.531-.367 1.758 0 2.774 1.07 1.023 1.063 1.023 2.899 0 1.797-1.062 2.883-1.063 1.086-2.828 1.086-2.024 0-3.094-1.547-1.07-1.555-1.07-4.5 0-2.766 1.312-4.406 1.313-1.649 3.524-1.649.593 0 1.195.117.61.118 1.266.352z\" /></g><g transform=\"translate(0, 65) scale(0.75, 0.75)\" fill=\"#e5e5e5\" stroke=\"#e5e5e5\"><path d=\"M6.25 16.66h7.5v.672L9.516 28.324H7.867l3.985-10.336H6.25z\" /></g><g transform=\"translate(375, 65) scale(0.75, 0.75)\" fill=\"#e5e5e5\" stroke=\"#e5e5e5\"><path d=\"M6.25 16.66h7.5v.672L9.516 28.324H7.867l3.985-10.336H6.25z\" /></g><g transform=\"translate(0, 20) scale(0.75, 0.75)\" fill=\"#e5e5e5\" stroke=\"#e5e5e5\"><path d=\"M10 22.785q-1.125 0-1.773.602-.641.601-.641 1.656t.64 1.656q.649.602 1.774.602t1.773-.602q.649-.61.649-1.656 0-1.055-.649-1.656-.64-.602-1.773-.602zm-1.578-.672q-1.016-.25-1.586-.945-.563-.695-.563-1.695 0-1.399.993-2.211 1-.813 2.734-.813 1.742 0 2.734.813.993.812.993 2.21 0 1-.57 1.696-.563.695-1.571.945 1.14.266 1.773 1.04.641.773.641 1.89 0 1.695-1.04 2.602-1.03.906-2.96.906t-2.969-.906Q6 26.738 6 25.043q0-1.117.64-1.89.641-.774 1.782-1.04zm-.578-2.492q0 .906.562 1.414.57.508 1.594.508 1.016 0 1.586-.508.578-.508.578-1.414 0-.906-.578-1.414-.57-.508-1.586-.508-1.023 0-1.594.508-.562.508-.562 1.414z\" /></g><g transform=\"translate(375, 20) scale(0.75, 0.75)\" fill=\"#e5e5e5\" stroke=\"#e5e5e5\"><path d=\"M10 22.785q-1.125 0-1.773.602-.641.601-.641 1.656t.64 1.656q.649.602 1.774.602t1.773-.602q.649-.61.649-1.656 0-1.055-.649-1.656-.64-.602-1.773-.602zm-1.578-.672q-1.016-.25-1.586-.945-.563-.695-.563-1.695 0-1.399.993-2.211 1-.813 2.734-.813 1.742 0 2.734.813.993.812.993 2.21 0 1-.57 1.696-.563.695-1.571.945 1.14.266 1.773 1.04.641.773.641 1.89 0 1.695-1.04 2.602-1.03.906-2.96.906t-2.969-.906Q6 26.738 6 25.043q0-1.117.64-1.89.641-.774 1.782-1.04zm-.578-2.492q0 .906.562 1.414.57.508 1.594.508 1.016 0 1.586-.508.578-.508.578-1.414 0-.906-.578-1.414-.57-.508-1.586-.508-1.023 0-1.594.508-.562.508-.562 1.414z\" /></g><rect x=\"15\" y=\"330\" width=\"45\" height=\"45\" class=\"square dark a1\" stroke=\"none\" fill=\"#d18b47\" /><rect x=\"60\" y=\"330\" width=\"45\" height=\"45\" class=\"square light b1\" stroke=\"none\" fill=\"#ffce9e\" /><rect x=\"105\" y=\"330\" width=\"45\" height=\"45\" class=\"square dark c1\" stroke=\"none\" fill=\"#d18b47\" /><rect x=\"150\" y=\"330\" width=\"45\" height=\"45\" class=\"square light d1\" stroke=\"none\" fill=\"#ffce9e\" /><rect x=\"195\" y=\"330\" width=\"45\" height=\"45\" class=\"square dark e1\" stroke=\"none\" fill=\"#d18b47\" /><rect x=\"240\" y=\"330\" width=\"45\" height=\"45\" class=\"square light f1\" stroke=\"none\" fill=\"#ffce9e\" /><rect x=\"285\" y=\"330\" width=\"45\" height=\"45\" class=\"square dark g1\" stroke=\"none\" fill=\"#d18b47\" /><rect x=\"330\" y=\"330\" width=\"45\" height=\"45\" class=\"square light h1\" stroke=\"none\" fill=\"#ffce9e\" /><rect x=\"15\" y=\"285\" width=\"45\" height=\"45\" class=\"square light a2\" stroke=\"none\" fill=\"#ffce9e\" /><rect x=\"60\" y=\"285\" width=\"45\" height=\"45\" class=\"square dark b2\" stroke=\"none\" fill=\"#d18b47\" /><rect x=\"105\" y=\"285\" width=\"45\" height=\"45\" class=\"square light c2\" stroke=\"none\" fill=\"#ffce9e\" /><rect x=\"150\" y=\"285\" width=\"45\" height=\"45\" class=\"square dark d2\" stroke=\"none\" fill=\"#d18b47\" /><rect x=\"195\" y=\"285\" width=\"45\" height=\"45\" class=\"square light e2\" stroke=\"none\" fill=\"#ffce9e\" /><rect x=\"240\" y=\"285\" width=\"45\" height=\"45\" class=\"square dark f2\" stroke=\"none\" fill=\"#d18b47\" /><rect x=\"285\" y=\"285\" width=\"45\" height=\"45\" class=\"square light g2\" stroke=\"none\" fill=\"#ffce9e\" /><rect x=\"330\" y=\"285\" width=\"45\" height=\"45\" class=\"square dark h2\" stroke=\"none\" fill=\"#d18b47\" /><rect x=\"15\" y=\"240\" width=\"45\" height=\"45\" class=\"square dark a3\" stroke=\"none\" fill=\"#d18b47\" /><rect x=\"60\" y=\"240\" width=\"45\" height=\"45\" class=\"square light b3\" stroke=\"none\" fill=\"#ffce9e\" /><rect x=\"105\" y=\"240\" width=\"45\" height=\"45\" class=\"square dark c3\" stroke=\"none\" fill=\"#d18b47\" /><rect x=\"150\" y=\"240\" width=\"45\" height=\"45\" class=\"square light d3\" stroke=\"none\" fill=\"#ffce9e\" /><rect x=\"195\" y=\"240\" width=\"45\" height=\"45\" class=\"square dark e3\" stroke=\"none\" fill=\"#d18b47\" /><rect x=\"240\" y=\"240\" width=\"45\" height=\"45\" class=\"square light lastmove f3\" stroke=\"none\" fill=\"#cdd16a\" /><rect x=\"285\" y=\"240\" width=\"45\" height=\"45\" class=\"square dark g3\" stroke=\"none\" fill=\"#d18b47\" /><rect x=\"330\" y=\"240\" width=\"45\" height=\"45\" class=\"square light h3\" stroke=\"none\" fill=\"#ffce9e\" /><rect x=\"15\" y=\"195\" width=\"45\" height=\"45\" class=\"square light a4\" stroke=\"none\" fill=\"#ffce9e\" /><rect x=\"60\" y=\"195\" width=\"45\" height=\"45\" class=\"square dark b4\" stroke=\"none\" fill=\"#d18b47\" /><rect x=\"105\" y=\"195\" width=\"45\" height=\"45\" class=\"square light c4\" stroke=\"none\" fill=\"#ffce9e\" /><rect x=\"150\" y=\"195\" width=\"45\" height=\"45\" class=\"square dark lastmove d4\" stroke=\"none\" fill=\"#aaa23b\" /><rect x=\"195\" y=\"195\" width=\"45\" height=\"45\" class=\"square light e4\" stroke=\"none\" fill=\"#ffce9e\" /><rect x=\"240\" y=\"195\" width=\"45\" height=\"45\" class=\"square dark f4\" stroke=\"none\" fill=\"#d18b47\" /><rect x=\"285\" y=\"195\" width=\"45\" height=\"45\" class=\"square light g4\" stroke=\"none\" fill=\"#ffce9e\" /><rect x=\"330\" y=\"195\" width=\"45\" height=\"45\" class=\"square dark h4\" stroke=\"none\" fill=\"#d18b47\" /><rect x=\"15\" y=\"150\" width=\"45\" height=\"45\" class=\"square dark a5\" stroke=\"none\" fill=\"#d18b47\" /><rect x=\"60\" y=\"150\" width=\"45\" height=\"45\" class=\"square light b5\" stroke=\"none\" fill=\"#ffce9e\" /><rect x=\"105\" y=\"150\" width=\"45\" height=\"45\" class=\"square dark c5\" stroke=\"none\" fill=\"#d18b47\" /><rect x=\"150\" y=\"150\" width=\"45\" height=\"45\" class=\"square light d5\" stroke=\"none\" fill=\"#ffce9e\" /><rect x=\"195\" y=\"150\" width=\"45\" height=\"45\" class=\"square dark e5\" stroke=\"none\" fill=\"#d18b47\" /><rect x=\"240\" y=\"150\" width=\"45\" height=\"45\" class=\"square light f5\" stroke=\"none\" fill=\"#ffce9e\" /><rect x=\"285\" y=\"150\" width=\"45\" height=\"45\" class=\"square dark g5\" stroke=\"none\" fill=\"#d18b47\" /><rect x=\"330\" y=\"150\" width=\"45\" height=\"45\" class=\"square light h5\" stroke=\"none\" fill=\"#ffce9e\" /><rect x=\"15\" y=\"105\" width=\"45\" height=\"45\" class=\"square light a6\" stroke=\"none\" fill=\"#ffce9e\" /><rect x=\"60\" y=\"105\" width=\"45\" height=\"45\" class=\"square dark b6\" stroke=\"none\" fill=\"#d18b47\" /><rect x=\"105\" y=\"105\" width=\"45\" height=\"45\" class=\"square light c6\" stroke=\"none\" fill=\"#ffce9e\" /><rect x=\"150\" y=\"105\" width=\"45\" height=\"45\" class=\"square dark d6\" stroke=\"none\" fill=\"#d18b47\" /><rect x=\"195\" y=\"105\" width=\"45\" height=\"45\" class=\"square light e6\" stroke=\"none\" fill=\"#ffce9e\" /><rect x=\"240\" y=\"105\" width=\"45\" height=\"45\" class=\"square dark f6\" stroke=\"none\" fill=\"#d18b47\" /><rect x=\"285\" y=\"105\" width=\"45\" height=\"45\" class=\"square light g6\" stroke=\"none\" fill=\"#ffce9e\" /><rect x=\"330\" y=\"105\" width=\"45\" height=\"45\" class=\"square dark h6\" stroke=\"none\" fill=\"#d18b47\" /><rect x=\"15\" y=\"60\" width=\"45\" height=\"45\" class=\"square dark a7\" stroke=\"none\" fill=\"#d18b47\" /><rect x=\"60\" y=\"60\" width=\"45\" height=\"45\" class=\"square light b7\" stroke=\"none\" fill=\"#ffce9e\" /><rect x=\"105\" y=\"60\" width=\"45\" height=\"45\" class=\"square dark c7\" stroke=\"none\" fill=\"#d18b47\" /><rect x=\"150\" y=\"60\" width=\"45\" height=\"45\" class=\"square light d7\" stroke=\"none\" fill=\"#ffce9e\" /><rect x=\"195\" y=\"60\" width=\"45\" height=\"45\" class=\"square dark e7\" stroke=\"none\" fill=\"#d18b47\" /><rect x=\"240\" y=\"60\" width=\"45\" height=\"45\" class=\"square light f7\" stroke=\"none\" fill=\"#ffce9e\" /><rect x=\"285\" y=\"60\" width=\"45\" height=\"45\" class=\"square dark g7\" stroke=\"none\" fill=\"#d18b47\" /><rect x=\"330\" y=\"60\" width=\"45\" height=\"45\" class=\"square light h7\" stroke=\"none\" fill=\"#ffce9e\" /><rect x=\"15\" y=\"15\" width=\"45\" height=\"45\" class=\"square light a8\" stroke=\"none\" fill=\"#ffce9e\" /><rect x=\"60\" y=\"15\" width=\"45\" height=\"45\" class=\"square dark b8\" stroke=\"none\" fill=\"#d18b47\" /><rect x=\"105\" y=\"15\" width=\"45\" height=\"45\" class=\"square light c8\" stroke=\"none\" fill=\"#ffce9e\" /><rect x=\"150\" y=\"15\" width=\"45\" height=\"45\" class=\"square dark d8\" stroke=\"none\" fill=\"#d18b47\" /><rect x=\"195\" y=\"15\" width=\"45\" height=\"45\" class=\"square light e8\" stroke=\"none\" fill=\"#ffce9e\" /><rect x=\"240\" y=\"15\" width=\"45\" height=\"45\" class=\"square dark f8\" stroke=\"none\" fill=\"#d18b47\" /><rect x=\"285\" y=\"15\" width=\"45\" height=\"45\" class=\"square light g8\" stroke=\"none\" fill=\"#ffce9e\" /><rect x=\"330\" y=\"15\" width=\"45\" height=\"45\" class=\"square dark h8\" stroke=\"none\" fill=\"#d18b47\" /><use href=\"#black-rook\" xlink:href=\"#black-rook\" transform=\"translate(150, 285)\" /><use href=\"#white-pawn\" xlink:href=\"#white-pawn\" transform=\"translate(240, 285)\" /><use href=\"#white-pawn\" xlink:href=\"#white-pawn\" transform=\"translate(285, 285)\" /><use href=\"#white-king\" xlink:href=\"#white-king\" transform=\"translate(330, 285)\" /><use href=\"#white-knight\" xlink:href=\"#white-knight\" transform=\"translate(240, 240)\" /><use href=\"#white-pawn\" xlink:href=\"#white-pawn\" transform=\"translate(105, 195)\" /><use href=\"#white-rook\" xlink:href=\"#white-rook\" transform=\"translate(240, 195)\" /><use href=\"#white-bishop\" xlink:href=\"#white-bishop\" transform=\"translate(330, 195)\" /><use href=\"#white-pawn\" xlink:href=\"#white-pawn\" transform=\"translate(150, 150)\" /><use href=\"#black-pawn\" xlink:href=\"#black-pawn\" transform=\"translate(330, 150)\" /><use href=\"#black-pawn\" xlink:href=\"#black-pawn\" transform=\"translate(150, 105)\" /><use href=\"#black-king\" xlink:href=\"#black-king\" transform=\"translate(285, 105)\" /></svg>"
      ],
      "text/plain": [
       "Board('8/8/3p2k1/3P3p/2P2R1B/5N2/3r1PPK/8 b - - 2 40')"
      ]
     },
     "execution_count": 20,
     "metadata": {},
     "output_type": "execute_result"
    }
   ],
   "source": [
    "board"
   ]
  },
  {
   "cell_type": "code",
   "execution_count": 146,
   "id": "46d836fb-a969-46d8-b6bb-2f1fafe76210",
   "metadata": {},
   "outputs": [
    {
     "name": "stdout",
     "output_type": "stream",
     "text": [
      "Requirement already satisfied: stockfish in /Library/Frameworks/Python.framework/Versions/3.13/lib/python3.13/site-packages (3.28.0)\n",
      "Note: you may need to restart the kernel to use updated packages.\n"
     ]
    }
   ],
   "source": [
    "pip install stockfish"
   ]
  },
  {
   "cell_type": "code",
   "execution_count": 224,
   "id": "7e437ec5-2b6b-4922-916a-8cdac846514f",
   "metadata": {},
   "outputs": [],
   "source": [
    "import stockfish"
   ]
  },
  {
   "cell_type": "code",
   "execution_count": 225,
   "id": "c78d6d84-2a19-4e29-b40c-367661de6c41",
   "metadata": {},
   "outputs": [],
   "source": [
    "from stockfish import Stockfish"
   ]
  },
  {
   "cell_type": "code",
   "execution_count": 226,
   "id": "60645a0f-3490-4212-b0f1-f1702a798cc2",
   "metadata": {},
   "outputs": [
    {
     "name": "stdout",
     "output_type": "stream",
     "text": [
      "Requirement already satisfied: chess.com in /Library/Frameworks/Python.framework/Versions/3.13/lib/python3.13/site-packages (3.7.0)\n",
      "Requirement already satisfied: aiohttp>=3 in /Library/Frameworks/Python.framework/Versions/3.13/lib/python3.13/site-packages (from chess.com) (3.11.11)\n",
      "Requirement already satisfied: requests>=2 in /Library/Frameworks/Python.framework/Versions/3.13/lib/python3.13/site-packages (from chess.com) (2.32.3)\n",
      "Requirement already satisfied: aiohappyeyeballs>=2.3.0 in /Library/Frameworks/Python.framework/Versions/3.13/lib/python3.13/site-packages (from aiohttp>=3->chess.com) (2.4.4)\n",
      "Requirement already satisfied: aiosignal>=1.1.2 in /Library/Frameworks/Python.framework/Versions/3.13/lib/python3.13/site-packages (from aiohttp>=3->chess.com) (1.3.2)\n",
      "Requirement already satisfied: attrs>=17.3.0 in /Library/Frameworks/Python.framework/Versions/3.13/lib/python3.13/site-packages (from aiohttp>=3->chess.com) (24.2.0)\n",
      "Requirement already satisfied: frozenlist>=1.1.1 in /Library/Frameworks/Python.framework/Versions/3.13/lib/python3.13/site-packages (from aiohttp>=3->chess.com) (1.5.0)\n",
      "Requirement already satisfied: multidict<7.0,>=4.5 in /Library/Frameworks/Python.framework/Versions/3.13/lib/python3.13/site-packages (from aiohttp>=3->chess.com) (6.1.0)\n",
      "Requirement already satisfied: propcache>=0.2.0 in /Library/Frameworks/Python.framework/Versions/3.13/lib/python3.13/site-packages (from aiohttp>=3->chess.com) (0.2.1)\n",
      "Requirement already satisfied: yarl<2.0,>=1.17.0 in /Library/Frameworks/Python.framework/Versions/3.13/lib/python3.13/site-packages (from aiohttp>=3->chess.com) (1.18.3)\n",
      "Requirement already satisfied: charset-normalizer<4,>=2 in /Library/Frameworks/Python.framework/Versions/3.13/lib/python3.13/site-packages (from requests>=2->chess.com) (3.4.0)\n",
      "Requirement already satisfied: idna<4,>=2.5 in /Library/Frameworks/Python.framework/Versions/3.13/lib/python3.13/site-packages (from requests>=2->chess.com) (3.10)\n",
      "Requirement already satisfied: urllib3<3,>=1.21.1 in /Library/Frameworks/Python.framework/Versions/3.13/lib/python3.13/site-packages (from requests>=2->chess.com) (2.2.3)\n",
      "Requirement already satisfied: certifi>=2017.4.17 in /Library/Frameworks/Python.framework/Versions/3.13/lib/python3.13/site-packages (from requests>=2->chess.com) (2024.8.30)\n",
      "Note: you may need to restart the kernel to use updated packages.\n"
     ]
    }
   ],
   "source": [
    "pip install chess.com"
   ]
  },
  {
   "cell_type": "code",
   "execution_count": 227,
   "id": "0c75b79a-678e-4398-aa02-3810749e8006",
   "metadata": {},
   "outputs": [],
   "source": [
    "from chessdotcom import ChessDotComClient"
   ]
  },
  {
   "cell_type": "code",
   "execution_count": 228,
   "id": "cd3a24fe-1bfc-42c0-b359-ec548f10fd1c",
   "metadata": {},
   "outputs": [],
   "source": [
    "client = ChessDotComClient(user_agent = \"My Python Application...\")\n",
    "\n",
    "response = client.get_player_profile(\"pranavks\")"
   ]
  },
  {
   "cell_type": "code",
   "execution_count": 229,
   "id": "2867f530-2b87-4f1c-87b7-6928402c8e56",
   "metadata": {},
   "outputs": [
    {
     "data": {
      "text/plain": [
       "'Pranav Kumarsubha'"
      ]
     },
     "execution_count": 229,
     "metadata": {},
     "output_type": "execute_result"
    }
   ],
   "source": [
    "response.player.name"
   ]
  },
  {
   "cell_type": "code",
   "execution_count": 230,
   "id": "c0a882fb-f14a-4f2f-b3c5-a7c9444fe6a0",
   "metadata": {
    "scrolled": true
   },
   "outputs": [
    {
     "name": "stdout",
     "output_type": "stream",
     "text": [
      "Requirement already satisfied: python-chess in /Library/Frameworks/Python.framework/Versions/3.13/lib/python3.13/site-packages (1.999)\n",
      "Requirement already satisfied: chess<2,>=1 in /Library/Frameworks/Python.framework/Versions/3.13/lib/python3.13/site-packages (from python-chess) (1.11.1)\n",
      "Note: you may need to restart the kernel to use updated packages.\n"
     ]
    }
   ],
   "source": [
    "pip install python-chess"
   ]
  },
  {
   "cell_type": "code",
   "execution_count": null,
   "id": "d8895512-a0d2-400d-848b-cf18f857eba6",
   "metadata": {},
   "outputs": [],
   "source": []
  },
  {
   "cell_type": "code",
   "execution_count": 231,
   "id": "9728bfb0-9b7e-4bd8-9ac1-f03db806d041",
   "metadata": {},
   "outputs": [],
   "source": [
    "from stockfish import Stockfish"
   ]
  },
  {
   "cell_type": "code",
   "execution_count": 232,
   "id": "ed57fe45-fbb0-43d9-9cf1-135e94bc29c8",
   "metadata": {},
   "outputs": [
    {
     "data": {
      "text/plain": [
       "{'Debug Log File': '',\n",
       " 'Contempt': 0,\n",
       " 'Min Split Depth': 0,\n",
       " 'Ponder': 'false',\n",
       " 'MultiPV': 1,\n",
       " 'Skill Level': 20,\n",
       " 'Move Overhead': 10,\n",
       " 'Minimum Thinking Time': 20,\n",
       " 'Slow Mover': 100,\n",
       " 'UCI_Chess960': 'false',\n",
       " 'UCI_LimitStrength': 'false',\n",
       " 'UCI_Elo': 1350,\n",
       " 'Threads': 1,\n",
       " 'Hash': 16}"
      ]
     },
     "execution_count": 232,
     "metadata": {},
     "output_type": "execute_result"
    }
   ],
   "source": [
    "stockfish=Stockfish(\"/opt/homebrew/bin/stockfish\")\n",
    "stockfish.set_depth(20)#How deep the AI looks\n",
    "stockfish.set_skill_level(20)#Highest rank stockfish\n",
    "stockfish.get_parameters()"
   ]
  },
  {
   "cell_type": "code",
   "execution_count": 233,
   "id": "0ed972eb-f014-4a43-9501-4462b8c95288",
   "metadata": {},
   "outputs": [],
   "source": [
    "stockfish.set_elo_rating(3000)\n"
   ]
  },
  {
   "cell_type": "code",
   "execution_count": 234,
   "id": "6125349e-c869-49f2-9b12-5e01d820600a",
   "metadata": {},
   "outputs": [
    {
     "data": {
      "text/plain": [
       "{'Debug Log File': '',\n",
       " 'Contempt': 0,\n",
       " 'Min Split Depth': 0,\n",
       " 'Ponder': 'false',\n",
       " 'MultiPV': 1,\n",
       " 'Skill Level': 20,\n",
       " 'Move Overhead': 10,\n",
       " 'Minimum Thinking Time': 20,\n",
       " 'Slow Mover': 100,\n",
       " 'UCI_Chess960': 'false',\n",
       " 'UCI_LimitStrength': 'true',\n",
       " 'UCI_Elo': 3000,\n",
       " 'Threads': 1,\n",
       " 'Hash': 16}"
      ]
     },
     "execution_count": 234,
     "metadata": {},
     "output_type": "execute_result"
    }
   ],
   "source": [
    "stockfish.get_parameters()"
   ]
  },
  {
   "cell_type": "code",
   "execution_count": 273,
   "id": "df733e8b-18d0-408f-aa48-ef247433b43d",
   "metadata": {},
   "outputs": [
    {
     "data": {
      "text/plain": [
       "'\\nimport chess.pgn\\nwith open(pgn_name) as f:\\n    first_game = chess.pgn.read_game(f)\\n\\n# Initialize the board\\nboard = first_game.board()\\n\\nfor move in first_game.mainline_moves():\\n    # Get SAN before applying the move\\n    san_move = board.san(move)\\n    \\n    # Apply the move to the board\\n    board.push(move)\\n    \\n    # Set the current board position in Stockfish\\n    stockfish.set_fen_position(board.fen())\\n    \\n    # Get evaluation from Stockfish\\n    evaluation = stockfish.get_evaluation()\\n    \\n    # Format and print evaluation\\n    if evaluation[\"type\"] == \"mate\":\\n        print(f\"Move: {san_move}, Evaluation: Mate in {evaluation[\\'value\\']}\")\\n    else:\\n        print(f\"Move: {san_move}, Evaluation: {evaluation[\\'value\\'] / 100}\")\\n'"
      ]
     },
     "execution_count": 273,
     "metadata": {},
     "output_type": "execute_result"
    }
   ],
   "source": [
    "'''\n",
    "import chess.pgn\n",
    "with open(pgn_name) as f:\n",
    "    first_game = chess.pgn.read_game(f)\n",
    "\n",
    "# Initialize the board\n",
    "board = first_game.board()\n",
    "\n",
    "for move in first_game.mainline_moves():\n",
    "    # Get SAN before applying the move\n",
    "    san_move = board.san(move)\n",
    "    \n",
    "    # Apply the move to the board\n",
    "    board.push(move)\n",
    "    \n",
    "    # Set the current board position in Stockfish\n",
    "    stockfish.set_fen_position(board.fen())\n",
    "    \n",
    "    # Get evaluation from Stockfish\n",
    "    evaluation = stockfish.get_evaluation()\n",
    "    \n",
    "    # Format and print evaluation\n",
    "    if evaluation[\"type\"] == \"mate\":\n",
    "        print(f\"Move: {san_move}, Evaluation: Mate in {evaluation['value']}\")\n",
    "    else:\n",
    "        print(f\"Move: {san_move}, Evaluation: {evaluation['value'] / 100}\")\n",
    "'''"
   ]
  },
  {
   "cell_type": "code",
   "execution_count": 274,
   "id": "bda86369-f169-4079-90d3-758afbcd2d94",
   "metadata": {},
   "outputs": [
    {
     "data": {
      "text/plain": [
       "'\\nwith open(pgn_name, \"r\") as pgn_file:  # Ensure it\\'s opened in read mode\\n    first_game = chess.pgn.read_game(pgn_file)\\n\\n# Initialize the board\\nboard = first_game.board()\\npiece_names = {\\n    chess.PAWN: \"P\",\\n    chess.KNIGHT: \"N\",\\n    chess.BISHOP: \"B\",\\n    chess.ROOK: \"R\",\\n    chess.QUEEN: \"Q\",\\n    chess.KING: \"K\",\\n}\\n# Iterate through moves and evaluate\\nfor move in first_game.mainline_moves():\\n    # Get the piece that made the move\\n    from_square = move.from_square  # Starting square of the move\\n    piece_type = board.piece_type_at(from_square)  # Get piece type\\n    piece_name = piece_names.get(piece_type, \"Unknown\")  # Get piece name\\n    # Apply the move to the board\\n    board.push(move)\\n    # Set the current board position in Stockfish\\n    stockfish.set_fen_position(board.fen())\\n    \\n    # Get evaluation from Stockfish\\n    evaluation = stockfish.get_evaluation()\\n    \\n    # Format the evaluation\\n    if evaluation[\"type\"] == \"mate\":\\n        eval_text = f\"Mate in {evaluation[\\'value\\']}\"\\n    else:\\n        eval_text = f\"{evaluation[\\'value\\']/100}\"\\n    \\n    # Print the move with the piece type\\n    print(f\"Move: {move}, Piece: {piece_name}, Evaluation: {eval_text}\")\\n'"
      ]
     },
     "execution_count": 274,
     "metadata": {},
     "output_type": "execute_result"
    }
   ],
   "source": [
    "\"\"\"\n",
    "with open(pgn_name, \"r\") as pgn_file:  # Ensure it's opened in read mode\n",
    "    first_game = chess.pgn.read_game(pgn_file)\n",
    "\n",
    "# Initialize the board\n",
    "board = first_game.board()\n",
    "piece_names = {\n",
    "    chess.PAWN: \"P\",\n",
    "    chess.KNIGHT: \"N\",\n",
    "    chess.BISHOP: \"B\",\n",
    "    chess.ROOK: \"R\",\n",
    "    chess.QUEEN: \"Q\",\n",
    "    chess.KING: \"K\",\n",
    "}\n",
    "# Iterate through moves and evaluate\n",
    "for move in first_game.mainline_moves():\n",
    "    # Get the piece that made the move\n",
    "    from_square = move.from_square  # Starting square of the move\n",
    "    piece_type = board.piece_type_at(from_square)  # Get piece type\n",
    "    piece_name = piece_names.get(piece_type, \"Unknown\")  # Get piece name\n",
    "    # Apply the move to the board\n",
    "    board.push(move)\n",
    "    # Set the current board position in Stockfish\n",
    "    stockfish.set_fen_position(board.fen())\n",
    "    \n",
    "    # Get evaluation from Stockfish\n",
    "    evaluation = stockfish.get_evaluation()\n",
    "    \n",
    "    # Format the evaluation\n",
    "    if evaluation[\"type\"] == \"mate\":\n",
    "        eval_text = f\"Mate in {evaluation['value']}\"\n",
    "    else:\n",
    "        eval_text = f\"{evaluation['value']/100}\"\n",
    "    \n",
    "    # Print the move with the piece type\n",
    "    print(f\"Move: {move}, Piece: {piece_name}, Evaluation: {eval_text}\")\n",
    "\"\"\""
   ]
  },
  {
   "cell_type": "code",
   "execution_count": 29,
   "id": "31bd0e7d-ec70-4e50-b4ea-ed9d3c4db7af",
   "metadata": {},
   "outputs": [
    {
     "data": {
      "text/plain": [
       "'marwanchessksa_vs_pranavks_2024.12.17.pgn'"
      ]
     },
     "execution_count": 29,
     "metadata": {},
     "output_type": "execute_result"
    }
   ],
   "source": [
    "pgn_name"
   ]
  },
  {
   "cell_type": "code",
   "execution_count": 276,
   "id": "ed0faa04-0ab8-475b-a03f-1f74b2d413cf",
   "metadata": {},
   "outputs": [
    {
     "data": {
      "text/plain": [
       "<_io.TextIOWrapper name='marwanchessksa_vs_pranavks_2024.12.17.pgn' mode='r' encoding='UTF-8'>"
      ]
     },
     "execution_count": 276,
     "metadata": {},
     "output_type": "execute_result"
    }
   ],
   "source": [
    "pgn\n"
   ]
  },
  {
   "cell_type": "code",
   "execution_count": 198,
   "id": "6922528a-2418-43a0-b8a4-3faf67404da7",
   "metadata": {},
   "outputs": [
    {
     "data": {
      "text/plain": [
       "<stockfish.models.Stockfish at 0x119ed1f50>"
      ]
     },
     "execution_count": 198,
     "metadata": {},
     "output_type": "execute_result"
    }
   ],
   "source": [
    "stockfish"
   ]
  },
  {
   "cell_type": "code",
   "execution_count": 278,
   "id": "b4297575-c73c-424f-ae1e-251f8755e1b9",
   "metadata": {},
   "outputs": [
    {
     "data": {
      "text/plain": [
       "'\\nimport chess.pgn\\nwith open(pgn_name) as f:\\n    first_game = chess.pgn.read_game(f)\\n\\n# Initialize the board\\nboard = first_game.board()\\n\\nTHRESHOLDS = {\\n    \"best\": 0,\\n    \"great\": 0.2,  # Up to 0.2 pawns deviation\\n    \"good\": 0.5,   # Up to 0.5 pawns deviation\\n    \"inaccuracy\": 1.0,  # Up to 1 pawn deviation\\n    \"mistake\": 3.0,  # Up to 3 pawns deviation\\n    \"blunder\": float(\"inf\")  # More than 3 pawns deviation\\n}\\n\\n# Function to classify moves based on evaluation difference\\ndef classify_move(eval_diff):\\n    if eval_diff <= THRESHOLDS[\"great\"]:\\n        return \"Best Move\"\\n    elif eval_diff <= THRESHOLDS[\"good\"]:\\n        return \"Great Move\"\\n    elif eval_diff <= THRESHOLDS[\"inaccuracy\"]:\\n        return \"Inaccuracy\"\\n    elif eval_diff <= THRESHOLDS[\"mistake\"]:\\n        return \"Mistake\"\\n    else:\\n        return \"Blunder\"\\n\\n# Iterate through moves\\nfor move in first_game.mainline_moves():\\n    # Get SAN before applying the move\\n    san_move = board.san(move)\\n\\n    # Get the evaluation of the current position\\n    stockfish.set_fen_position(board.fen())\\n    current_eval = stockfish.get_evaluation()\\n\\n    # Apply the move\\n    board.push(move)\\n\\n    # Get the evaluation after the move\\n    stockfish.set_fen_position(board.fen())\\n    played_eval = stockfish.get_evaluation()\\n\\n    # Convert evaluations to pawns (divide centipawns by 100)\\n    if current_eval[\"type\"] == \"cp\" and played_eval[\"type\"] == \"cp\":\\n        eval_diff = abs((played_eval[\"value\"] - current_eval[\"value\"]) / 100)  # Evaluation difference in pawns\\n        move_classification = classify_move(eval_diff)\\n        print(f\"Move: {san_move}, Classification: {move_classification}, Eval Diff: {eval_diff} pawns\")\\n    elif played_eval[\"type\"] == \"mate\":\\n        print(f\"Move: {san_move}, Classification: Mate in {played_eval[\\'value\\']}\")\\n'"
      ]
     },
     "execution_count": 278,
     "metadata": {},
     "output_type": "execute_result"
    }
   ],
   "source": [
    "\"\"\"\n",
    "import chess.pgn\n",
    "with open(pgn_name) as f:\n",
    "    first_game = chess.pgn.read_game(f)\n",
    "\n",
    "# Initialize the board\n",
    "board = first_game.board()\n",
    "\n",
    "THRESHOLDS = {\n",
    "    \"best\": 0,\n",
    "    \"great\": 0.2,  # Up to 0.2 pawns deviation\n",
    "    \"good\": 0.5,   # Up to 0.5 pawns deviation\n",
    "    \"inaccuracy\": 1.0,  # Up to 1 pawn deviation\n",
    "    \"mistake\": 3.0,  # Up to 3 pawns deviation\n",
    "    \"blunder\": float(\"inf\")  # More than 3 pawns deviation\n",
    "}\n",
    "\n",
    "# Function to classify moves based on evaluation difference\n",
    "def classify_move(eval_diff):\n",
    "    if eval_diff <= THRESHOLDS[\"great\"]:\n",
    "        return \"Best Move\"\n",
    "    elif eval_diff <= THRESHOLDS[\"good\"]:\n",
    "        return \"Great Move\"\n",
    "    elif eval_diff <= THRESHOLDS[\"inaccuracy\"]:\n",
    "        return \"Inaccuracy\"\n",
    "    elif eval_diff <= THRESHOLDS[\"mistake\"]:\n",
    "        return \"Mistake\"\n",
    "    else:\n",
    "        return \"Blunder\"\n",
    "\n",
    "# Iterate through moves\n",
    "for move in first_game.mainline_moves():\n",
    "    # Get SAN before applying the move\n",
    "    san_move = board.san(move)\n",
    "\n",
    "    # Get the evaluation of the current position\n",
    "    stockfish.set_fen_position(board.fen())\n",
    "    current_eval = stockfish.get_evaluation()\n",
    "\n",
    "    # Apply the move\n",
    "    board.push(move)\n",
    "\n",
    "    # Get the evaluation after the move\n",
    "    stockfish.set_fen_position(board.fen())\n",
    "    played_eval = stockfish.get_evaluation()\n",
    "\n",
    "    # Convert evaluations to pawns (divide centipawns by 100)\n",
    "    if current_eval[\"type\"] == \"cp\" and played_eval[\"type\"] == \"cp\":\n",
    "        eval_diff = abs((played_eval[\"value\"] - current_eval[\"value\"]) / 100)  # Evaluation difference in pawns\n",
    "        move_classification = classify_move(eval_diff)\n",
    "        print(f\"Move: {san_move}, Classification: {move_classification}, Eval Diff: {eval_diff} pawns\")\n",
    "    elif played_eval[\"type\"] == \"mate\":\n",
    "        print(f\"Move: {san_move}, Classification: Mate in {played_eval['value']}\")\n",
    "\"\"\""
   ]
  },
  {
   "cell_type": "code",
   "execution_count": 279,
   "id": "fceca529-0353-4f9a-b607-e1bd462c66cd",
   "metadata": {},
   "outputs": [
    {
     "data": {
      "text/plain": [
       "'\\nimport chess.pgn\\nwith open(pgn_name) as f:\\n    first_game = chess.pgn.read_game(f)\\n\\n# Initialize the board\\nboard = first_game.board()\\n\\nTHRESHOLDS = {\\n    \"best\": 0,\\n    \"great\": 0.2,  # Up to 0.2 pawns deviation\\n    \"good\": 0.5,   # Up to 0.5 pawns deviation\\n    \"inaccuracy\": 1.0,  # Up to 1 pawn deviation\\n    \"mistake\": 3.0,  # Up to 3 pawns deviation\\n    \"blunder\": float(\"inf\")  # More than 3 pawns deviation\\n}\\n\\n# Function to classify moves based on evaluation difference\\ndef classify_move(eval_diff):\\n    if eval_diff == 0:  # Exact match with the engine\\'s top move\\n        return \"Best Move\"\\n    elif eval_diff <= THRESHOLDS[\"great\"]:  # Within 0.2 pawns deviation\\n        return \"Great Move\"\\n    elif eval_diff <= THRESHOLDS[\"good\"]:  # Within 0.5 pawns deviation\\n        return \"Good Move\"\\n    elif eval_diff <= THRESHOLDS[\"inaccuracy\"]:  # Within 1 pawn deviation\\n        return \"Inaccuracy\"\\n    elif eval_diff <= THRESHOLDS[\"mistake\"]:  # Within 3 pawns deviation\\n        return \"Mistake\"\\n    else:  # Greater than 3 pawns deviation\\n        return \"Blunder\"\\ncounter=1\\n# Iterate through moves\\nfor move in first_game.mainline_moves():\\n    # Get SAN before applying the move\\n    san_move = board.san(move)\\n\\n    # Get the evaluation of the current position\\n    stockfish.set_fen_position(board.fen())\\n    current_eval = stockfish.get_evaluation()\\n\\n    # Apply the move\\n    board.push(move)\\n    \\n    # Get the evaluation after the move\\n    stockfish.set_fen_position(board.fen())\\n    played_eval = stockfish.get_evaluation()\\n    \\n    # Convert evaluations to pawns (divide centipawns by 100)\\n    if current_eval[\"type\"] == \"cp\" and played_eval[\"type\"] == \"cp\":\\n        eval_diff = abs((played_eval[\"value\"] - current_eval[\"value\"]) / 100)  # Evaluation difference in pawns\\n        move_classification = classify_move(eval_diff)\\n\\n        print(f\"{counter}.{san_move}, Classification: {move_classification}, Eval Diff: {eval_diff}\")\\n    elif played_eval[\"type\"] == \"mate\":\\n        print(f\"{counter}.{san_move}, Classification: Mate in {played_eval[\\'value\\']}\")\\n    counter+=1\\n'"
      ]
     },
     "execution_count": 279,
     "metadata": {},
     "output_type": "execute_result"
    }
   ],
   "source": [
    "'''\n",
    "import chess.pgn\n",
    "with open(pgn_name) as f:\n",
    "    first_game = chess.pgn.read_game(f)\n",
    "\n",
    "# Initialize the board\n",
    "board = first_game.board()\n",
    "\n",
    "THRESHOLDS = {\n",
    "    \"best\": 0,\n",
    "    \"great\": 0.2,  # Up to 0.2 pawns deviation\n",
    "    \"good\": 0.5,   # Up to 0.5 pawns deviation\n",
    "    \"inaccuracy\": 1.0,  # Up to 1 pawn deviation\n",
    "    \"mistake\": 3.0,  # Up to 3 pawns deviation\n",
    "    \"blunder\": float(\"inf\")  # More than 3 pawns deviation\n",
    "}\n",
    "\n",
    "# Function to classify moves based on evaluation difference\n",
    "def classify_move(eval_diff):\n",
    "    if eval_diff == 0:  # Exact match with the engine's top move\n",
    "        return \"Best Move\"\n",
    "    elif eval_diff <= THRESHOLDS[\"great\"]:  # Within 0.2 pawns deviation\n",
    "        return \"Great Move\"\n",
    "    elif eval_diff <= THRESHOLDS[\"good\"]:  # Within 0.5 pawns deviation\n",
    "        return \"Good Move\"\n",
    "    elif eval_diff <= THRESHOLDS[\"inaccuracy\"]:  # Within 1 pawn deviation\n",
    "        return \"Inaccuracy\"\n",
    "    elif eval_diff <= THRESHOLDS[\"mistake\"]:  # Within 3 pawns deviation\n",
    "        return \"Mistake\"\n",
    "    else:  # Greater than 3 pawns deviation\n",
    "        return \"Blunder\"\n",
    "counter=1\n",
    "# Iterate through moves\n",
    "for move in first_game.mainline_moves():\n",
    "    # Get SAN before applying the move\n",
    "    san_move = board.san(move)\n",
    "\n",
    "    # Get the evaluation of the current position\n",
    "    stockfish.set_fen_position(board.fen())\n",
    "    current_eval = stockfish.get_evaluation()\n",
    "\n",
    "    # Apply the move\n",
    "    board.push(move)\n",
    "    \n",
    "    # Get the evaluation after the move\n",
    "    stockfish.set_fen_position(board.fen())\n",
    "    played_eval = stockfish.get_evaluation()\n",
    "    \n",
    "    # Convert evaluations to pawns (divide centipawns by 100)\n",
    "    if current_eval[\"type\"] == \"cp\" and played_eval[\"type\"] == \"cp\":\n",
    "        eval_diff = abs((played_eval[\"value\"] - current_eval[\"value\"]) / 100)  # Evaluation difference in pawns\n",
    "        move_classification = classify_move(eval_diff)\n",
    "\n",
    "        print(f\"{counter}.{san_move}, Classification: {move_classification}, Eval Diff: {eval_diff}\")\n",
    "    elif played_eval[\"type\"] == \"mate\":\n",
    "        print(f\"{counter}.{san_move}, Classification: Mate in {played_eval['value']}\")\n",
    "    counter+=1\n",
    "'''"
   ]
  },
  {
   "cell_type": "code",
   "execution_count": 280,
   "id": "2b70dff7-7aa6-4390-87f0-620afb20df5c",
   "metadata": {},
   "outputs": [
    {
     "data": {
      "text/plain": [
       "'\\nimport chess.pgn\\n\\nwith open(pgn_name) as f:\\n    first_game = chess.pgn.read_game(f)\\n\\n# Initialize the board\\nboard = first_game.board()\\n\\nTHRESHOLDS = {\\n    \"best\": 0,\\n    \"great\": 0.2,  # Up to 0.2 pawns deviation\\n    \"good\": 0.5,   # Up to 0.5 pawns deviation\\n    \"inaccuracy\": 1.0,  # Up to 1 pawn deviation\\n    \"mistake\": 3.0,  # Up to 3 pawns deviation\\n    \"blunder\": float(\"inf\")  # More than 3 pawns deviation\\n}\\n\\n# Function to classify moves based on evaluation difference\\ndef classify_move(eval_diff):\\n    if eval_diff == 0:  # Exact match with the engine\\'s top move\\n        return \"Best Move\"\\n    elif eval_diff <= THRESHOLDS[\"great\"]:  # Within 0.2 pawns deviation\\n        return \"Great Move\"\\n    elif eval_diff <= THRESHOLDS[\"good\"]:  # Within 0.5 pawns deviation\\n        return \"Good Move\"\\n    elif eval_diff <= THRESHOLDS[\"inaccuracy\"]:  # Within 1 pawn deviation\\n        return \"Inaccuracy\"\\n    elif eval_diff <= THRESHOLDS[\"mistake\"]:  # Within 3 pawns deviation\\n        return \"Mistake\"\\n    else:  # Greater than 3 pawns deviation\\n        return \"Blunder\"\\n\\n# Initialize counters for move classifications\\nmove_counts = {\\n    \"White\": {\"Best Move\": 0, \"Great Move\": 0, \"Good Move\": 0, \"Inaccuracy\": 0, \"Mistake\": 0, \"Blunder\": 0},\\n    \"Black\": {\"Best Move\": 0, \"Great Move\": 0, \"Good Move\": 0, \"Inaccuracy\": 0, \"Mistake\": 0, \"Blunder\": 0}\\n}\\n\\ncounter = 1  # Move number\\n# Iterate through moves\\nfor move in first_game.mainline_moves():\\n    # Get SAN before applying the move\\n    san_move = board.san(move)\\n\\n    # Get the evaluation of the current position\\n    stockfish.set_fen_position(board.fen())\\n    current_eval = stockfish.get_evaluation()\\n\\n    # Apply the move\\n    board.push(move)\\n    \\n    # Get the evaluation after the move\\n    stockfish.set_fen_position(board.fen())\\n    played_eval = stockfish.get_evaluation()\\n    \\n    # Determine which player made the move\\n    player = \"White\" if board.turn else \"Black\"  # `board.turn` is True for White, False for Black\\n    \\n    # Convert evaluations to pawns (divide centipawns by 100)\\n    if current_eval[\"type\"] == \"cp\" and played_eval[\"type\"] == \"cp\":\\n        eval_diff = abs((played_eval[\"value\"] - current_eval[\"value\"]) / 100)  # Evaluation difference in pawns\\n        move_classification = classify_move(eval_diff)\\n\\n        # Increment the count for the classification\\n        move_counts[player][move_classification] += 1\\n\\n        print(f\"{counter}.{san_move}, Classification: {move_classification}, Eval Diff: {eval_diff}\")\\n    elif played_eval[\"type\"] == \"mate\":\\n        print(f\"{counter}.{san_move}, Classification: Mate in {played_eval[\\'value\\']}\")\\n    counter += 1\\n\\n# Print summary of move classifications\\nprint(\"\\nMove Classification Counts:\")\\nfor player, counts in move_counts.items():\\n    print(f\"{player}:\")\\n    for classification, count in counts.items():\\n        print(f\"  {classification}: {count}\")\\n'"
      ]
     },
     "execution_count": 280,
     "metadata": {},
     "output_type": "execute_result"
    }
   ],
   "source": [
    "'''\n",
    "import chess.pgn\n",
    "\n",
    "with open(pgn_name) as f:\n",
    "    first_game = chess.pgn.read_game(f)\n",
    "\n",
    "# Initialize the board\n",
    "board = first_game.board()\n",
    "\n",
    "THRESHOLDS = {\n",
    "    \"best\": 0,\n",
    "    \"great\": 0.2,  # Up to 0.2 pawns deviation\n",
    "    \"good\": 0.5,   # Up to 0.5 pawns deviation\n",
    "    \"inaccuracy\": 1.0,  # Up to 1 pawn deviation\n",
    "    \"mistake\": 3.0,  # Up to 3 pawns deviation\n",
    "    \"blunder\": float(\"inf\")  # More than 3 pawns deviation\n",
    "}\n",
    "\n",
    "# Function to classify moves based on evaluation difference\n",
    "def classify_move(eval_diff):\n",
    "    if eval_diff == 0:  # Exact match with the engine's top move\n",
    "        return \"Best Move\"\n",
    "    elif eval_diff <= THRESHOLDS[\"great\"]:  # Within 0.2 pawns deviation\n",
    "        return \"Great Move\"\n",
    "    elif eval_diff <= THRESHOLDS[\"good\"]:  # Within 0.5 pawns deviation\n",
    "        return \"Good Move\"\n",
    "    elif eval_diff <= THRESHOLDS[\"inaccuracy\"]:  # Within 1 pawn deviation\n",
    "        return \"Inaccuracy\"\n",
    "    elif eval_diff <= THRESHOLDS[\"mistake\"]:  # Within 3 pawns deviation\n",
    "        return \"Mistake\"\n",
    "    else:  # Greater than 3 pawns deviation\n",
    "        return \"Blunder\"\n",
    "\n",
    "# Initialize counters for move classifications\n",
    "move_counts = {\n",
    "    \"White\": {\"Best Move\": 0, \"Great Move\": 0, \"Good Move\": 0, \"Inaccuracy\": 0, \"Mistake\": 0, \"Blunder\": 0},\n",
    "    \"Black\": {\"Best Move\": 0, \"Great Move\": 0, \"Good Move\": 0, \"Inaccuracy\": 0, \"Mistake\": 0, \"Blunder\": 0}\n",
    "}\n",
    "\n",
    "counter = 1  # Move number\n",
    "# Iterate through moves\n",
    "for move in first_game.mainline_moves():\n",
    "    # Get SAN before applying the move\n",
    "    san_move = board.san(move)\n",
    "\n",
    "    # Get the evaluation of the current position\n",
    "    stockfish.set_fen_position(board.fen())\n",
    "    current_eval = stockfish.get_evaluation()\n",
    "\n",
    "    # Apply the move\n",
    "    board.push(move)\n",
    "    \n",
    "    # Get the evaluation after the move\n",
    "    stockfish.set_fen_position(board.fen())\n",
    "    played_eval = stockfish.get_evaluation()\n",
    "    \n",
    "    # Determine which player made the move\n",
    "    player = \"White\" if board.turn else \"Black\"  # `board.turn` is True for White, False for Black\n",
    "    \n",
    "    # Convert evaluations to pawns (divide centipawns by 100)\n",
    "    if current_eval[\"type\"] == \"cp\" and played_eval[\"type\"] == \"cp\":\n",
    "        eval_diff = abs((played_eval[\"value\"] - current_eval[\"value\"]) / 100)  # Evaluation difference in pawns\n",
    "        move_classification = classify_move(eval_diff)\n",
    "\n",
    "        # Increment the count for the classification\n",
    "        move_counts[player][move_classification] += 1\n",
    "\n",
    "        print(f\"{counter}.{san_move}, Classification: {move_classification}, Eval Diff: {eval_diff}\")\n",
    "    elif played_eval[\"type\"] == \"mate\":\n",
    "        print(f\"{counter}.{san_move}, Classification: Mate in {played_eval['value']}\")\n",
    "    counter += 1\n",
    "\n",
    "# Print summary of move classifications\n",
    "print(\"\\nMove Classification Counts:\")\n",
    "for player, counts in move_counts.items():\n",
    "    print(f\"{player}:\")\n",
    "    for classification, count in counts.items():\n",
    "        print(f\"  {classification}: {count}\")\n",
    "'''"
   ]
  },
  {
   "cell_type": "code",
   "execution_count": 281,
   "id": "e55eb285-b9e0-4a7b-85b3-2724a9ee7a40",
   "metadata": {
    "scrolled": true
   },
   "outputs": [
    {
     "data": {
      "text/plain": [
       "'\\nimport chess.pgn\\n\\nwith open(pgn_name) as f:\\n    first_game = chess.pgn.read_game(f)\\n\\n# Initialize the board\\nboard = first_game.board()\\n\\n# Thresholds for move classifications\\nTHRESHOLDS = {\\n    \"best\": 0,\\n    \"great\": 0.2,\\n    \"good\": 0.5,\\n    \"inaccuracy\": 1.0,\\n    \"mistake\": 3.0,\\n    \"blunder\": float(\"inf\")\\n}\\n\\n# Classification scores for accuracy calculation\\nMOVE_SCORES = {\\n    \"Best Move\": 1.0,\\n    \"Great Move\": 0.9,\\n    \"Good Move\": 0.7,\\n    \"Inaccuracy\": 0.5,\\n    \"Mistake\": 0.3,\\n    \"Blunder\": 0.0\\n}\\n\\n# Function to classify moves based on evaluation difference\\ndef classify_move(eval_diff):\\n    if eval_diff == 0:\\n        return \"Best Move\"\\n    elif eval_diff <= THRESHOLDS[\"great\"]:\\n        return \"Great Move\"\\n    elif eval_diff <= THRESHOLDS[\"good\"]:\\n        return \"Good Move\"\\n    elif eval_diff <= THRESHOLDS[\"inaccuracy\"]:\\n        return \"Inaccuracy\"\\n    elif eval_diff <= THRESHOLDS[\"mistake\"]:\\n        return \"Mistake\"\\n    else:\\n        return \"Blunder\"\\n\\n# Initialize move counts and scores\\nmove_counts = {\\n    \"White\": {\"Best Move\": 0, \"Great Move\": 0, \"Good Move\": 0, \"Inaccuracy\": 0, \"Mistake\": 0, \"Blunder\": 0},\\n    \"Black\": {\"Best Move\": 0, \"Great Move\": 0, \"Good Move\": 0, \"Inaccuracy\": 0, \"Mistake\": 0, \"Blunder\": 0}\\n}\\ncumulative_scores = {\"White\": 0.0, \"Black\": 0.0}  # Track total scores\\ntotal_moves = {\"White\": 0, \"Black\": 0}  # Track total moves\\n\\ncounter = 1  # Move counter\\n# Iterate through moves\\nfor move in first_game.mainline_moves():\\n    # Get SAN before applying the move\\n    san_move = board.san(move)\\n\\n    # Get the evaluation of the current position\\n    stockfish.set_fen_position(board.fen())\\n    current_eval = stockfish.get_evaluation()\\n\\n    # Apply the move\\n    board.push(move)\\n    \\n    # Get the evaluation after the move\\n    stockfish.set_fen_position(board.fen())\\n    played_eval = stockfish.get_evaluation()\\n    \\n    # Determine which player made the move\\n    player = \"White\" if board.turn else \"Black\"  # True for White, False for Black\\n    \\n    # Convert evaluations to pawns (divide centipawns by 100)\\n    if current_eval[\"type\"] == \"cp\" and played_eval[\"type\"] == \"cp\":\\n        eval_diff = abs((played_eval[\"value\"] - current_eval[\"value\"]) / 100)  # Evaluation difference in pawns\\n        move_classification = classify_move(eval_diff)\\n\\n        # Increment the count for the classification\\n        move_counts[player][move_classification] += 1\\n        cumulative_scores[player] += MOVE_SCORES[move_classification]\\n        total_moves[player] += 1\\n\\n        print(f\"{counter}.{san_move}, Classification: {move_classification}, Eval Diff: {eval_diff}\")\\n    elif played_eval[\"type\"] == \"mate\":\\n        print(f\"{counter}.{san_move}, Classification: Mate in {played_eval[\\'value\\']}\")\\n    counter += 1\\n\\n# Calculate and print accuracy for each player\\nprint(\"\\nMove Classification Counts and Accuracy:\")\\nfor player in [\"White\", \"Black\"]:\\n    print(f\"{player}:\")\\n    for classification, count in move_counts[player].items():\\n        print(f\"  {classification}: {count}\")\\n    if total_moves[player] > 0:\\n        accuracy = (cumulative_scores[player] / total_moves[player]) * 100\\n        print(f\"  Accuracy: {accuracy:.2f}%\")\\n    else:\\n        print(\"  No moves made.\")\\n'"
      ]
     },
     "execution_count": 281,
     "metadata": {},
     "output_type": "execute_result"
    }
   ],
   "source": [
    "'''\n",
    "import chess.pgn\n",
    "\n",
    "with open(pgn_name) as f:\n",
    "    first_game = chess.pgn.read_game(f)\n",
    "\n",
    "# Initialize the board\n",
    "board = first_game.board()\n",
    "\n",
    "# Thresholds for move classifications\n",
    "THRESHOLDS = {\n",
    "    \"best\": 0,\n",
    "    \"great\": 0.2,\n",
    "    \"good\": 0.5,\n",
    "    \"inaccuracy\": 1.0,\n",
    "    \"mistake\": 3.0,\n",
    "    \"blunder\": float(\"inf\")\n",
    "}\n",
    "\n",
    "# Classification scores for accuracy calculation\n",
    "MOVE_SCORES = {\n",
    "    \"Best Move\": 1.0,\n",
    "    \"Great Move\": 0.9,\n",
    "    \"Good Move\": 0.7,\n",
    "    \"Inaccuracy\": 0.5,\n",
    "    \"Mistake\": 0.3,\n",
    "    \"Blunder\": 0.0\n",
    "}\n",
    "\n",
    "# Function to classify moves based on evaluation difference\n",
    "def classify_move(eval_diff):\n",
    "    if eval_diff == 0:\n",
    "        return \"Best Move\"\n",
    "    elif eval_diff <= THRESHOLDS[\"great\"]:\n",
    "        return \"Great Move\"\n",
    "    elif eval_diff <= THRESHOLDS[\"good\"]:\n",
    "        return \"Good Move\"\n",
    "    elif eval_diff <= THRESHOLDS[\"inaccuracy\"]:\n",
    "        return \"Inaccuracy\"\n",
    "    elif eval_diff <= THRESHOLDS[\"mistake\"]:\n",
    "        return \"Mistake\"\n",
    "    else:\n",
    "        return \"Blunder\"\n",
    "\n",
    "# Initialize move counts and scores\n",
    "move_counts = {\n",
    "    \"White\": {\"Best Move\": 0, \"Great Move\": 0, \"Good Move\": 0, \"Inaccuracy\": 0, \"Mistake\": 0, \"Blunder\": 0},\n",
    "    \"Black\": {\"Best Move\": 0, \"Great Move\": 0, \"Good Move\": 0, \"Inaccuracy\": 0, \"Mistake\": 0, \"Blunder\": 0}\n",
    "}\n",
    "cumulative_scores = {\"White\": 0.0, \"Black\": 0.0}  # Track total scores\n",
    "total_moves = {\"White\": 0, \"Black\": 0}  # Track total moves\n",
    "\n",
    "counter = 1  # Move counter\n",
    "# Iterate through moves\n",
    "for move in first_game.mainline_moves():\n",
    "    # Get SAN before applying the move\n",
    "    san_move = board.san(move)\n",
    "\n",
    "    # Get the evaluation of the current position\n",
    "    stockfish.set_fen_position(board.fen())\n",
    "    current_eval = stockfish.get_evaluation()\n",
    "\n",
    "    # Apply the move\n",
    "    board.push(move)\n",
    "    \n",
    "    # Get the evaluation after the move\n",
    "    stockfish.set_fen_position(board.fen())\n",
    "    played_eval = stockfish.get_evaluation()\n",
    "    \n",
    "    # Determine which player made the move\n",
    "    player = \"White\" if board.turn else \"Black\"  # True for White, False for Black\n",
    "    \n",
    "    # Convert evaluations to pawns (divide centipawns by 100)\n",
    "    if current_eval[\"type\"] == \"cp\" and played_eval[\"type\"] == \"cp\":\n",
    "        eval_diff = abs((played_eval[\"value\"] - current_eval[\"value\"]) / 100)  # Evaluation difference in pawns\n",
    "        move_classification = classify_move(eval_diff)\n",
    "\n",
    "        # Increment the count for the classification\n",
    "        move_counts[player][move_classification] += 1\n",
    "        cumulative_scores[player] += MOVE_SCORES[move_classification]\n",
    "        total_moves[player] += 1\n",
    "\n",
    "        print(f\"{counter}.{san_move}, Classification: {move_classification}, Eval Diff: {eval_diff}\")\n",
    "    elif played_eval[\"type\"] == \"mate\":\n",
    "        print(f\"{counter}.{san_move}, Classification: Mate in {played_eval['value']}\")\n",
    "    counter += 1\n",
    "\n",
    "# Calculate and print accuracy for each player\n",
    "print(\"\\nMove Classification Counts and Accuracy:\")\n",
    "for player in [\"White\", \"Black\"]:\n",
    "    print(f\"{player}:\")\n",
    "    for classification, count in move_counts[player].items():\n",
    "        print(f\"  {classification}: {count}\")\n",
    "    if total_moves[player] > 0:\n",
    "        accuracy = (cumulative_scores[player] / total_moves[player]) * 100\n",
    "        print(f\"  Accuracy: {accuracy:.2f}%\")\n",
    "    else:\n",
    "        print(\"  No moves made.\")\n",
    "'''"
   ]
  },
  {
   "cell_type": "code",
   "execution_count": 282,
   "id": "d923a645-f5ca-4126-b4f9-f33dd2da4176",
   "metadata": {},
   "outputs": [
    {
     "data": {
      "text/plain": [
       "'\\nimport chess.pgn\\n\\nwith open(pgn_name) as f:\\n    first_game = chess.pgn.read_game(f)\\n\\n# Initialize the board\\nboard = first_game.board()\\n\\n# Thresholds for move classifications\\nTHRESHOLDS = {\\n    \"best\": 0,\\n    \"great\": 0.2,\\n    \"good\": 0.5,\\n    \"inaccuracy\": 1.0,\\n    \"mistake\": 3.0,\\n    \"blunder\": float(\"inf\")\\n}\\n\\n# Classification scores for accuracy calculation\\nMOVE_SCORES = {\\n    \"Best Move\": 1.0,\\n    \"Great Move\": 0.9,\\n    \"Good Move\": 0.7,\\n    \"Inaccuracy\": 0.5,\\n    \"Mistake\": 0.3,\\n    \"Blunder\": 0.0\\n}\\n\\n# Function to classify moves based on evaluation difference\\ndef classify_move(eval_diff):\\n    if eval_diff == 0:\\n        return \"Best Move\"\\n    elif eval_diff <= THRESHOLDS[\"great\"]:\\n        return \"Great Move\"\\n    elif eval_diff <= THRESHOLDS[\"good\"]:\\n        return \"Good Move\"\\n    elif eval_diff <= THRESHOLDS[\"inaccuracy\"]:\\n        return \"Inaccuracy\"\\n    elif eval_diff <= THRESHOLDS[\"mistake\"]:\\n        return \"Mistake\"\\n    else:\\n        return \"Blunder\"\\n\\n# Initialize move counts and scores\\nmove_counts = {\\n    \"White\": {\"Best Move\": 0, \"Great Move\": 0, \"Good Move\": 0, \"Inaccuracy\": 0, \"Mistake\": 0, \"Blunder\": 0},\\n    \"Black\": {\"Best Move\": 0, \"Great Move\": 0, \"Good Move\": 0, \"Inaccuracy\": 0, \"Mistake\": 0, \"Blunder\": 0}\\n}\\ncumulative_scores = {\"White\": 0.0, \"Black\": 0.0}  # Track total scores\\ntotal_moves = {\"White\": 0, \"Black\": 0}  # Track total moves\\n\\ncounter = 1  # Move counter\\n# Iterate through moves\\nfor move in first_game.mainline_moves():\\n    # Get SAN before applying the move\\n    san_move = board.san(move)\\n\\n    # Get the evaluation of the current position\\n    stockfish.set_fen_position(board.fen())\\n    current_eval = stockfish.get_evaluation()\\n\\n    # Apply the move\\n    board.push(move)\\n    \\n    # Get the evaluation after the move\\n    stockfish.set_fen_position(board.fen())\\n    played_eval = stockfish.get_evaluation()\\n    \\n    # Determine which player made the move\\n    player = \"White\" if board.turn else \"Black\"  # True for White, False for Black\\n    \\n    # Convert evaluations to pawns (divide centipawns by 100)\\n    if current_eval[\"type\"] == \"cp\" and played_eval[\"type\"] == \"cp\":\\n        eval_diff = abs((played_eval[\"value\"] - current_eval[\"value\"]) / 100)  # Evaluation difference in pawns\\n        move_classification = classify_move(eval_diff)\\n\\n        # Increment the count for the classification\\n        move_counts[player][move_classification] += 1\\n        cumulative_scores[player] += MOVE_SCORES[move_classification]\\n        total_moves[player] += 1\\n\\n        #print(f\"{counter}.{san_move}, Classification: {move_classification}, Eval Diff: {eval_diff}\")\\n    #elif played_eval[\"type\"] == \"mate\":\\n        #print(f\"{counter}.{san_move}, Classification: Mate in {played_eval[\\'value\\']}\")\\n    counter += 1\\n\\n# Calculate and print accuracy for each player\\nprint(\"\\nMove Classification Counts and Accuracy:\")\\nfor player in [\"White\", \"Black\"]:\\n    print(f\"{player}:\")\\n    for classification, count in move_counts[player].items():\\n        print(f\"  {classification}: {count}\")\\n    if total_moves[player] > 0:\\n        accuracy = (cumulative_scores[player] / total_moves[player]) * 100\\n        print(f\"  Accuracy: {accuracy:.2f}%\")\\n    else:\\n        print(\"  No moves made.\")\\n'"
      ]
     },
     "execution_count": 282,
     "metadata": {},
     "output_type": "execute_result"
    }
   ],
   "source": [
    "'''\n",
    "import chess.pgn\n",
    "\n",
    "with open(pgn_name) as f:\n",
    "    first_game = chess.pgn.read_game(f)\n",
    "\n",
    "# Initialize the board\n",
    "board = first_game.board()\n",
    "\n",
    "# Thresholds for move classifications\n",
    "THRESHOLDS = {\n",
    "    \"best\": 0,\n",
    "    \"great\": 0.2,\n",
    "    \"good\": 0.5,\n",
    "    \"inaccuracy\": 1.0,\n",
    "    \"mistake\": 3.0,\n",
    "    \"blunder\": float(\"inf\")\n",
    "}\n",
    "\n",
    "# Classification scores for accuracy calculation\n",
    "MOVE_SCORES = {\n",
    "    \"Best Move\": 1.0,\n",
    "    \"Great Move\": 0.9,\n",
    "    \"Good Move\": 0.7,\n",
    "    \"Inaccuracy\": 0.5,\n",
    "    \"Mistake\": 0.3,\n",
    "    \"Blunder\": 0.0\n",
    "}\n",
    "\n",
    "# Function to classify moves based on evaluation difference\n",
    "def classify_move(eval_diff):\n",
    "    if eval_diff == 0:\n",
    "        return \"Best Move\"\n",
    "    elif eval_diff <= THRESHOLDS[\"great\"]:\n",
    "        return \"Great Move\"\n",
    "    elif eval_diff <= THRESHOLDS[\"good\"]:\n",
    "        return \"Good Move\"\n",
    "    elif eval_diff <= THRESHOLDS[\"inaccuracy\"]:\n",
    "        return \"Inaccuracy\"\n",
    "    elif eval_diff <= THRESHOLDS[\"mistake\"]:\n",
    "        return \"Mistake\"\n",
    "    else:\n",
    "        return \"Blunder\"\n",
    "\n",
    "# Initialize move counts and scores\n",
    "move_counts = {\n",
    "    \"White\": {\"Best Move\": 0, \"Great Move\": 0, \"Good Move\": 0, \"Inaccuracy\": 0, \"Mistake\": 0, \"Blunder\": 0},\n",
    "    \"Black\": {\"Best Move\": 0, \"Great Move\": 0, \"Good Move\": 0, \"Inaccuracy\": 0, \"Mistake\": 0, \"Blunder\": 0}\n",
    "}\n",
    "cumulative_scores = {\"White\": 0.0, \"Black\": 0.0}  # Track total scores\n",
    "total_moves = {\"White\": 0, \"Black\": 0}  # Track total moves\n",
    "\n",
    "counter = 1  # Move counter\n",
    "# Iterate through moves\n",
    "for move in first_game.mainline_moves():\n",
    "    # Get SAN before applying the move\n",
    "    san_move = board.san(move)\n",
    "\n",
    "    # Get the evaluation of the current position\n",
    "    stockfish.set_fen_position(board.fen())\n",
    "    current_eval = stockfish.get_evaluation()\n",
    "\n",
    "    # Apply the move\n",
    "    board.push(move)\n",
    "    \n",
    "    # Get the evaluation after the move\n",
    "    stockfish.set_fen_position(board.fen())\n",
    "    played_eval = stockfish.get_evaluation()\n",
    "    \n",
    "    # Determine which player made the move\n",
    "    player = \"White\" if board.turn else \"Black\"  # True for White, False for Black\n",
    "    \n",
    "    # Convert evaluations to pawns (divide centipawns by 100)\n",
    "    if current_eval[\"type\"] == \"cp\" and played_eval[\"type\"] == \"cp\":\n",
    "        eval_diff = abs((played_eval[\"value\"] - current_eval[\"value\"]) / 100)  # Evaluation difference in pawns\n",
    "        move_classification = classify_move(eval_diff)\n",
    "\n",
    "        # Increment the count for the classification\n",
    "        move_counts[player][move_classification] += 1\n",
    "        cumulative_scores[player] += MOVE_SCORES[move_classification]\n",
    "        total_moves[player] += 1\n",
    "\n",
    "        #print(f\"{counter}.{san_move}, Classification: {move_classification}, Eval Diff: {eval_diff}\")\n",
    "    #elif played_eval[\"type\"] == \"mate\":\n",
    "        #print(f\"{counter}.{san_move}, Classification: Mate in {played_eval['value']}\")\n",
    "    counter += 1\n",
    "\n",
    "# Calculate and print accuracy for each player\n",
    "print(\"\\nMove Classification Counts and Accuracy:\")\n",
    "for player in [\"White\", \"Black\"]:\n",
    "    print(f\"{player}:\")\n",
    "    for classification, count in move_counts[player].items():\n",
    "        print(f\"  {classification}: {count}\")\n",
    "    if total_moves[player] > 0:\n",
    "        accuracy = (cumulative_scores[player] / total_moves[player]) * 100\n",
    "        print(f\"  Accuracy: {accuracy:.2f}%\")\n",
    "    else:\n",
    "        print(\"  No moves made.\")\n",
    "'''"
   ]
  },
  {
   "cell_type": "code",
   "execution_count": 283,
   "id": "2e9c9a3b-0f69-4937-a7b8-d1a308c6e191",
   "metadata": {},
   "outputs": [
    {
     "data": {
      "text/plain": [
       "'\\nimport chess.pgn\\n\\nwith open(pgn_name) as f:\\n    first_game = chess.pgn.read_game(f)\\n\\n# Initialize the board\\nboard = first_game.board()\\n\\n# Thresholds for move classifications\\nTHRESHOLDS = {\\n    \"best\": 0,\\n    \"great\": 0.2,\\n    \"good\": 0.5,\\n    \"inaccuracy\": 1.0,\\n    \"mistake\": 3.0,\\n    \"blunder\": float(\"inf\")\\n}\\n\\n# Classification scores for accuracy calculation\\nMOVE_SCORES = {\\n    \"Best Move\": 1.0,\\n    \"Great Move\": 0.9,\\n    \"Good Move\": 0.7,\\n    \"Inaccuracy\": 0.5,\\n    \"Mistake\": 0.3,\\n    \"Blunder\": 0.0\\n}\\n\\n# Function to classify moves based on evaluation difference\\ndef classify_move(eval_diff):\\n    if eval_diff == 0:\\n        return \"Best Move\"\\n    elif eval_diff <= THRESHOLDS[\"great\"]:\\n        return \"Great Move\"\\n    elif eval_diff <= THRESHOLDS[\"good\"]:\\n        return \"Good Move\"\\n    elif eval_diff <= THRESHOLDS[\"inaccuracy\"]:\\n        return \"Inaccuracy\"\\n    elif eval_diff <= THRESHOLDS[\"mistake\"]:\\n        return \"Mistake\"\\n    else:\\n        return \"Blunder\"\\n\\n# Initialize move counts and scores\\nmove_counts = {\\n    \"White\": {\"Best Move\": 0, \"Great Move\": 0, \"Good Move\": 0, \"Inaccuracy\": 0, \"Mistake\": 0, \"Blunder\": 0},\\n    \"Black\": {\"Best Move\": 0, \"Great Move\": 0, \"Good Move\": 0, \"Inaccuracy\": 0, \"Mistake\": 0, \"Blunder\": 0}\\n}\\ncumulative_scores = {\"White\": 0.0, \"Black\": 0.0}  # Track total scores\\ntotal_moves = {\"White\": 0, \"Black\": 0}  # Track total moves\\n\\n\\ncounter = 1  # Move counter\\n# Iterate through moves\\nfor move in first_game.mainline_moves():\\n    # Determine which player made the move before pushing\\n    player = \"White\" if board.turn else \"Black\"  # Check before applying the move\\n\\n    # Get SAN before applying the move\\n    san_move = board.san(move)\\n\\n    # Get the evaluation of the current position\\n    stockfish.set_fen_position(board.fen())\\n    current_eval = stockfish.get_evaluation()\\n\\n    # Apply the move\\n    board.push(move)\\n    \\n    # Get the evaluation after the move\\n    stockfish.set_fen_position(board.fen())\\n    played_eval = stockfish.get_evaluation()\\n    \\n    # Convert evaluations to pawns (divide centipawns by 100)\\n    if current_eval[\"type\"] == \"cp\" and played_eval[\"type\"] == \"cp\":\\n        eval_diff = abs((played_eval[\"value\"] - current_eval[\"value\"]) / 100)  # Evaluation difference in pawns\\n        move_classification = classify_move(eval_diff)\\n\\n        # Increment the count for the classification\\n        move_counts[player][move_classification] += 1\\n        cumulative_scores[player] += MOVE_SCORES[move_classification]\\n        total_moves[player] += 1\\n\\n        # Debugging: Print move classification\\n        #print(f\"{counter}.{san_move}, Classification: {move_classification}, Eval Diff: {eval_diff}\")\\n    #elif played_eval[\"type\"] == \"mate\":\\n        #print(f\"{counter}.{san_move}, Classification: Mate in {played_eval[\\'value\\']}\")\\n    counter += 1\\n\\n# Calculate and print accuracy for each player\\nprint(\"\\nMove Classification Counts and Accuracy:\")\\nfor player in [\"White\", \"Black\"]:\\n    print(f\"{player}:\")\\n    for classification, count in move_counts[player].items():\\n        print(f\"  {classification}: {count}\")\\n    if total_moves[player] > 0:\\n        accuracy = (cumulative_scores[player] / total_moves[player]) * 100\\n        print(f\"  Accuracy: {accuracy:.2f}%\")\\n    else:\\n        print(\"  No moves made.\")\\n'"
      ]
     },
     "execution_count": 283,
     "metadata": {},
     "output_type": "execute_result"
    }
   ],
   "source": [
    "\"\"\"\n",
    "import chess.pgn\n",
    "\n",
    "with open(pgn_name) as f:\n",
    "    first_game = chess.pgn.read_game(f)\n",
    "\n",
    "# Initialize the board\n",
    "board = first_game.board()\n",
    "\n",
    "# Thresholds for move classifications\n",
    "THRESHOLDS = {\n",
    "    \"best\": 0,\n",
    "    \"great\": 0.2,\n",
    "    \"good\": 0.5,\n",
    "    \"inaccuracy\": 1.0,\n",
    "    \"mistake\": 3.0,\n",
    "    \"blunder\": float(\"inf\")\n",
    "}\n",
    "\n",
    "# Classification scores for accuracy calculation\n",
    "MOVE_SCORES = {\n",
    "    \"Best Move\": 1.0,\n",
    "    \"Great Move\": 0.9,\n",
    "    \"Good Move\": 0.7,\n",
    "    \"Inaccuracy\": 0.5,\n",
    "    \"Mistake\": 0.3,\n",
    "    \"Blunder\": 0.0\n",
    "}\n",
    "\n",
    "# Function to classify moves based on evaluation difference\n",
    "def classify_move(eval_diff):\n",
    "    if eval_diff == 0:\n",
    "        return \"Best Move\"\n",
    "    elif eval_diff <= THRESHOLDS[\"great\"]:\n",
    "        return \"Great Move\"\n",
    "    elif eval_diff <= THRESHOLDS[\"good\"]:\n",
    "        return \"Good Move\"\n",
    "    elif eval_diff <= THRESHOLDS[\"inaccuracy\"]:\n",
    "        return \"Inaccuracy\"\n",
    "    elif eval_diff <= THRESHOLDS[\"mistake\"]:\n",
    "        return \"Mistake\"\n",
    "    else:\n",
    "        return \"Blunder\"\n",
    "\n",
    "# Initialize move counts and scores\n",
    "move_counts = {\n",
    "    \"White\": {\"Best Move\": 0, \"Great Move\": 0, \"Good Move\": 0, \"Inaccuracy\": 0, \"Mistake\": 0, \"Blunder\": 0},\n",
    "    \"Black\": {\"Best Move\": 0, \"Great Move\": 0, \"Good Move\": 0, \"Inaccuracy\": 0, \"Mistake\": 0, \"Blunder\": 0}\n",
    "}\n",
    "cumulative_scores = {\"White\": 0.0, \"Black\": 0.0}  # Track total scores\n",
    "total_moves = {\"White\": 0, \"Black\": 0}  # Track total moves\n",
    "\n",
    "\n",
    "counter = 1  # Move counter\n",
    "# Iterate through moves\n",
    "for move in first_game.mainline_moves():\n",
    "    # Determine which player made the move before pushing\n",
    "    player = \"White\" if board.turn else \"Black\"  # Check before applying the move\n",
    "\n",
    "    # Get SAN before applying the move\n",
    "    san_move = board.san(move)\n",
    "\n",
    "    # Get the evaluation of the current position\n",
    "    stockfish.set_fen_position(board.fen())\n",
    "    current_eval = stockfish.get_evaluation()\n",
    "\n",
    "    # Apply the move\n",
    "    board.push(move)\n",
    "    \n",
    "    # Get the evaluation after the move\n",
    "    stockfish.set_fen_position(board.fen())\n",
    "    played_eval = stockfish.get_evaluation()\n",
    "    \n",
    "    # Convert evaluations to pawns (divide centipawns by 100)\n",
    "    if current_eval[\"type\"] == \"cp\" and played_eval[\"type\"] == \"cp\":\n",
    "        eval_diff = abs((played_eval[\"value\"] - current_eval[\"value\"]) / 100)  # Evaluation difference in pawns\n",
    "        move_classification = classify_move(eval_diff)\n",
    "\n",
    "        # Increment the count for the classification\n",
    "        move_counts[player][move_classification] += 1\n",
    "        cumulative_scores[player] += MOVE_SCORES[move_classification]\n",
    "        total_moves[player] += 1\n",
    "\n",
    "        # Debugging: Print move classification\n",
    "        #print(f\"{counter}.{san_move}, Classification: {move_classification}, Eval Diff: {eval_diff}\")\n",
    "    #elif played_eval[\"type\"] == \"mate\":\n",
    "        #print(f\"{counter}.{san_move}, Classification: Mate in {played_eval['value']}\")\n",
    "    counter += 1\n",
    "\n",
    "# Calculate and print accuracy for each player\n",
    "print(\"\\nMove Classification Counts and Accuracy:\")\n",
    "for player in [\"White\", \"Black\"]:\n",
    "    print(f\"{player}:\")\n",
    "    for classification, count in move_counts[player].items():\n",
    "        print(f\"  {classification}: {count}\")\n",
    "    if total_moves[player] > 0:\n",
    "        accuracy = (cumulative_scores[player] / total_moves[player]) * 100\n",
    "        print(f\"  Accuracy: {accuracy:.2f}%\")\n",
    "    else:\n",
    "        print(\"  No moves made.\")\n",
    "\"\"\""
   ]
  },
  {
   "cell_type": "code",
   "execution_count": 284,
   "id": "006958d3-5926-412f-ae5a-62daaef8039b",
   "metadata": {},
   "outputs": [],
   "source": [
    "import pandas as pd"
   ]
  },
  {
   "cell_type": "code",
   "execution_count": 285,
   "id": "825150c9-1bc1-4f21-ada7-0eca99d3da08",
   "metadata": {},
   "outputs": [],
   "source": [
    "df=pd.DataFrame()"
   ]
  },
  {
   "cell_type": "code",
   "execution_count": 33,
   "id": "3a0d4f8d-9429-4da2-888a-890d8770feb4",
   "metadata": {},
   "outputs": [],
   "source": [
    "games_df = pd.DataFrame(columns=['Color', 'Opponent', 'Accuracy',\"Result\",\"Number of Moves\",\"Date\"])"
   ]
  },
  {
   "cell_type": "code",
   "execution_count": 34,
   "id": "842a669a-44fe-4711-86b4-91eb2efb4ce0",
   "metadata": {},
   "outputs": [
    {
     "data": {
      "text/plain": [
       "'marwanchessksa_vs_pranavks_2024.12.17.pgn'"
      ]
     },
     "execution_count": 34,
     "metadata": {},
     "output_type": "execute_result"
    }
   ],
   "source": [
    "pgn_name"
   ]
  },
  {
   "cell_type": "code",
   "execution_count": 211,
   "id": "5864a4db-b526-4646-9bff-a33d79b5f5ba",
   "metadata": {},
   "outputs": [
    {
     "data": {
      "text/html": [
       "<div>\n",
       "<style scoped>\n",
       "    .dataframe tbody tr th:only-of-type {\n",
       "        vertical-align: middle;\n",
       "    }\n",
       "\n",
       "    .dataframe tbody tr th {\n",
       "        vertical-align: top;\n",
       "    }\n",
       "\n",
       "    .dataframe thead th {\n",
       "        text-align: right;\n",
       "    }\n",
       "</style>\n",
       "<table border=\"1\" class=\"dataframe\">\n",
       "  <thead>\n",
       "    <tr style=\"text-align: right;\">\n",
       "      <th></th>\n",
       "      <th>Color</th>\n",
       "      <th>Opponent</th>\n",
       "      <th>Accuracy</th>\n",
       "      <th>Result</th>\n",
       "      <th>Number of Moves</th>\n",
       "      <th>ECO</th>\n",
       "      <th>Opening Name</th>\n",
       "      <th>Date</th>\n",
       "      <th>PGN Name</th>\n",
       "      <th>Opening Accuracy</th>\n",
       "    </tr>\n",
       "  </thead>\n",
       "  <tbody>\n",
       "    <tr>\n",
       "      <th>0</th>\n",
       "      <td>Black</td>\n",
       "      <td>marwanchessksa</td>\n",
       "      <td>69.24</td>\n",
       "      <td>1-0</td>\n",
       "      <td>79</td>\n",
       "      <td>C28</td>\n",
       "      <td>Bishop's Opening: Vienna Hybrid, Hromádka Vari...</td>\n",
       "      <td>2024.12.17</td>\n",
       "      <td>marwanchessksa_vs_pranavks_2024.12.17.pgn</td>\n",
       "      <td>81.25</td>\n",
       "    </tr>\n",
       "  </tbody>\n",
       "</table>\n",
       "</div>"
      ],
      "text/plain": [
       "   Color        Opponent  Accuracy Result Number of Moves  ECO  \\\n",
       "0  Black  marwanchessksa     69.24    1-0              79  C28   \n",
       "\n",
       "                                        Opening Name        Date  \\\n",
       "0  Bishop's Opening: Vienna Hybrid, Hromádka Vari...  2024.12.17   \n",
       "\n",
       "                                    PGN Name  Opening Accuracy  \n",
       "0  marwanchessksa_vs_pranavks_2024.12.17.pgn             81.25  "
      ]
     },
     "execution_count": 211,
     "metadata": {},
     "output_type": "execute_result"
    }
   ],
   "source": [
    "new_d"
   ]
  },
  {
   "cell_type": "code",
   "execution_count": 232,
   "id": "46dde266-b78b-4d42-b40d-a6d32227bbbd",
   "metadata": {},
   "outputs": [
    {
     "ename": "KeyboardInterrupt",
     "evalue": "",
     "output_type": "error",
     "traceback": [
      "\u001b[0;31m---------------------------------------------------------------------------\u001b[0m",
      "\u001b[0;31mKeyboardInterrupt\u001b[0m                         Traceback (most recent call last)",
      "Cell \u001b[0;32mIn[232], line 72\u001b[0m\n\u001b[1;32m     69\u001b[0m \u001b[38;5;28;01mfor\u001b[39;00m move \u001b[38;5;129;01min\u001b[39;00m first_game\u001b[38;5;241m.\u001b[39mmainline_moves():\n\u001b[1;32m     70\u001b[0m     \u001b[38;5;66;03m# Get evaluation before the move\u001b[39;00m\n\u001b[1;32m     71\u001b[0m     stockfish\u001b[38;5;241m.\u001b[39mset_fen_position(board\u001b[38;5;241m.\u001b[39mfen())\n\u001b[0;32m---> 72\u001b[0m     current_eval \u001b[38;5;241m=\u001b[39m \u001b[43mstockfish\u001b[49m\u001b[38;5;241;43m.\u001b[39;49m\u001b[43mget_evaluation\u001b[49m\u001b[43m(\u001b[49m\u001b[43m)\u001b[49m\n\u001b[1;32m     74\u001b[0m     \u001b[38;5;66;03m# Apply the move\u001b[39;00m\n\u001b[1;32m     75\u001b[0m     board\u001b[38;5;241m.\u001b[39mpush(move)\n",
      "File \u001b[0;32m/Library/Frameworks/Python.framework/Versions/3.13/lib/python3.13/site-packages/stockfish/models.py:505\u001b[0m, in \u001b[0;36mStockfish.get_evaluation\u001b[0;34m(self)\u001b[0m\n\u001b[1;32m    503\u001b[0m \u001b[38;5;28mself\u001b[39m\u001b[38;5;241m.\u001b[39m_go()\n\u001b[1;32m    504\u001b[0m \u001b[38;5;28;01mwhile\u001b[39;00m \u001b[38;5;28;01mTrue\u001b[39;00m:\n\u001b[0;32m--> 505\u001b[0m     text \u001b[38;5;241m=\u001b[39m \u001b[38;5;28;43mself\u001b[39;49m\u001b[38;5;241;43m.\u001b[39;49m\u001b[43m_read_line\u001b[49m\u001b[43m(\u001b[49m\u001b[43m)\u001b[49m\n\u001b[1;32m    506\u001b[0m     splitted_text \u001b[38;5;241m=\u001b[39m text\u001b[38;5;241m.\u001b[39msplit(\u001b[38;5;124m\"\u001b[39m\u001b[38;5;124m \u001b[39m\u001b[38;5;124m\"\u001b[39m)\n\u001b[1;32m    507\u001b[0m     \u001b[38;5;28;01mif\u001b[39;00m splitted_text[\u001b[38;5;241m0\u001b[39m] \u001b[38;5;241m==\u001b[39m \u001b[38;5;124m\"\u001b[39m\u001b[38;5;124minfo\u001b[39m\u001b[38;5;124m\"\u001b[39m:\n",
      "File \u001b[0;32m/Library/Frameworks/Python.framework/Versions/3.13/lib/python3.13/site-packages/stockfish/models.py:161\u001b[0m, in \u001b[0;36mStockfish._read_line\u001b[0;34m(self)\u001b[0m\n\u001b[1;32m    159\u001b[0m \u001b[38;5;28;01mif\u001b[39;00m \u001b[38;5;28mself\u001b[39m\u001b[38;5;241m.\u001b[39m_stockfish\u001b[38;5;241m.\u001b[39mpoll() \u001b[38;5;129;01mis\u001b[39;00m \u001b[38;5;129;01mnot\u001b[39;00m \u001b[38;5;28;01mNone\u001b[39;00m:\n\u001b[1;32m    160\u001b[0m     \u001b[38;5;28;01mraise\u001b[39;00m StockfishException(\u001b[38;5;124m\"\u001b[39m\u001b[38;5;124mThe Stockfish process has crashed\u001b[39m\u001b[38;5;124m\"\u001b[39m)\n\u001b[0;32m--> 161\u001b[0m \u001b[38;5;28;01mreturn\u001b[39;00m \u001b[38;5;28;43mself\u001b[39;49m\u001b[38;5;241;43m.\u001b[39;49m\u001b[43m_stockfish\u001b[49m\u001b[38;5;241;43m.\u001b[39;49m\u001b[43mstdout\u001b[49m\u001b[38;5;241;43m.\u001b[39;49m\u001b[43mreadline\u001b[49m\u001b[43m(\u001b[49m\u001b[43m)\u001b[49m\u001b[38;5;241m.\u001b[39mstrip()\n",
      "\u001b[0;31mKeyboardInterrupt\u001b[0m: "
     ]
    }
   ],
   "source": [
    "games_df = pd.DataFrame(columns=['Color', 'Opponent', 'Accuracy', 'Result', 'Number of Moves', 'Date'])\n",
    "\n",
    "# Thresholds for move classifications\n",
    "THRESHOLDS = {\n",
    "    \"best\": 0,\n",
    "    \"great\": 0.2,\n",
    "    \"good\": 0.5,\n",
    "    \"inaccuracy\": 1.0,\n",
    "    \"mistake\": 3.0,\n",
    "    \"blunder\": float(\"inf\")\n",
    "}\n",
    "\n",
    "# Classification scores for accuracy calculation\n",
    "MOVE_SCORES = {\n",
    "    \"Best Move\": 1.0,\n",
    "    \"Great Move\": 0.9,\n",
    "    \"Good Move\": 0.7,\n",
    "    \"Inaccuracy\": 0.5,\n",
    "    \"Mistake\": 0.3,\n",
    "    \"Blunder\": 0.0\n",
    "}\n",
    "\n",
    "# Function to classify moves based on evaluation difference\n",
    "def classify_move(eval_diff):\n",
    "    if eval_diff == 0:\n",
    "        return \"Best Move\"\n",
    "    elif eval_diff <= THRESHOLDS[\"great\"]:\n",
    "        return \"Great Move\"\n",
    "    elif eval_diff <= THRESHOLDS[\"good\"]:\n",
    "        return \"Good Move\"\n",
    "    elif eval_diff <= THRESHOLDS[\"inaccuracy\"]:\n",
    "        return \"Inaccuracy\"\n",
    "    elif eval_diff <= THRESHOLDS[\"mistake\"]:\n",
    "        return \"Mistake\"\n",
    "    else:\n",
    "        return \"Blunder\"\n",
    "\n",
    "# Function to calculate accuracy\n",
    "def calculate_accuracy(move_counts):\n",
    "    total_moves = sum(move_counts.values())\n",
    "    if total_moves == 0:\n",
    "        return 0.0\n",
    "    score = sum(move_counts[move] * MOVE_SCORES[move] for move in move_counts)\n",
    "    return (score / total_moves) * 100\n",
    "\n",
    "# Read and analyze the game\n",
    "with open(pgn_name, \"r\") as f:\n",
    "    first_game = chess.pgn.read_game(f)\n",
    "\n",
    "# Extract metadata\n",
    "white_player = first_game.headers[\"White\"]\n",
    "black_player = first_game.headers[\"Black\"]\n",
    "result = first_game.headers[\"Result\"]\n",
    "date = first_game.headers[\"Date\"]\n",
    "\n",
    "# Determine your color and opponent\n",
    "if \"pranavks\" in white_player.lower():\n",
    "    color = \"White\"\n",
    "    opponent = black_player\n",
    "else:\n",
    "    color = \"Black\"\n",
    "    opponent = white_player\n",
    "\n",
    "# Initialize board and move counts\n",
    "board = first_game.board()\n",
    "move_counts = {\"Best Move\": 0, \"Great Move\": 0, \"Good Move\": 0, \"Inaccuracy\": 0, \"Mistake\": 0, \"Blunder\": 0}\n",
    "\n",
    "# Analyze moves\n",
    "for move in first_game.mainline_moves():\n",
    "    # Get evaluation before the move\n",
    "    stockfish.set_fen_position(board.fen())\n",
    "    current_eval = stockfish.get_evaluation()\n",
    "\n",
    "    # Apply the move\n",
    "    board.push(move)\n",
    "\n",
    "    # Get evaluation after the move\n",
    "    stockfish.set_fen_position(board.fen())\n",
    "    played_eval = stockfish.get_evaluation()\n",
    "\n",
    "    # Classify the move\n",
    "    if current_eval[\"type\"] == \"cp\" and played_eval[\"type\"] == \"cp\":\n",
    "        eval_diff = abs((played_eval[\"value\"] - current_eval[\"value\"]) / 100)\n",
    "        classification = classify_move(eval_diff)\n",
    "        move_counts[classification] += 1\n",
    "\n",
    "# Calculate accuracy and total moves\n",
    "accuracy = calculate_accuracy(move_counts)\n",
    "number_of_moves = len(list(first_game.mainline_moves()))\n",
    "\n",
    "new_row = pd.DataFrame([{\n",
    "    \"Color\": color,\n",
    "    \"Opponent\": opponent,\n",
    "    \"Accuracy\": round(accuracy, 2),\n",
    "    \"Result\": result,\n",
    "    \"Number of Moves\": number_of_moves,\n",
    "    \"Date\": date\n",
    "}])\n",
    "games_df.loc[len(games_df)] = [color,opponent,round(accuracy, 2),result,number_of_moves,date]\n"
   ]
  },
  {
   "cell_type": "code",
   "execution_count": 289,
   "id": "58515603-b665-4d79-8237-bf12d85e22a3",
   "metadata": {},
   "outputs": [
    {
     "data": {
      "text/html": [
       "<div>\n",
       "<style scoped>\n",
       "    .dataframe tbody tr th:only-of-type {\n",
       "        vertical-align: middle;\n",
       "    }\n",
       "\n",
       "    .dataframe tbody tr th {\n",
       "        vertical-align: top;\n",
       "    }\n",
       "\n",
       "    .dataframe thead th {\n",
       "        text-align: right;\n",
       "    }\n",
       "</style>\n",
       "<table border=\"1\" class=\"dataframe\">\n",
       "  <thead>\n",
       "    <tr style=\"text-align: right;\">\n",
       "      <th></th>\n",
       "      <th>Color</th>\n",
       "      <th>Opponent</th>\n",
       "      <th>Accuracy</th>\n",
       "      <th>Result</th>\n",
       "      <th>Number of Moves</th>\n",
       "      <th>Date</th>\n",
       "    </tr>\n",
       "  </thead>\n",
       "  <tbody>\n",
       "  </tbody>\n",
       "</table>\n",
       "</div>"
      ],
      "text/plain": [
       "Empty DataFrame\n",
       "Columns: [Color, Opponent, Accuracy, Result, Number of Moves, Date]\n",
       "Index: []"
      ]
     },
     "execution_count": 289,
     "metadata": {},
     "output_type": "execute_result"
    }
   ],
   "source": [
    "games_df"
   ]
  },
  {
   "cell_type": "code",
   "execution_count": 290,
   "id": "970e4517-9258-4301-9d3c-7b22ed3f71df",
   "metadata": {},
   "outputs": [],
   "source": [
    "new_df = pd.DataFrame(columns=['Color', 'Opponent', 'Accuracy',\"Result\",\"Number of Moves\",\"Date\"])"
   ]
  },
  {
   "cell_type": "code",
   "execution_count": 291,
   "id": "e187058c-4dc8-426f-99de-76b33f9b60ad",
   "metadata": {},
   "outputs": [],
   "source": [
    "new_df.loc[len(new_df)]=[2,2,2,2,2,2]"
   ]
  },
  {
   "cell_type": "code",
   "execution_count": 292,
   "id": "6d406b94-10d9-4e91-b6e1-0097676c68f1",
   "metadata": {},
   "outputs": [
    {
     "data": {
      "text/html": [
       "<div>\n",
       "<style scoped>\n",
       "    .dataframe tbody tr th:only-of-type {\n",
       "        vertical-align: middle;\n",
       "    }\n",
       "\n",
       "    .dataframe tbody tr th {\n",
       "        vertical-align: top;\n",
       "    }\n",
       "\n",
       "    .dataframe thead th {\n",
       "        text-align: right;\n",
       "    }\n",
       "</style>\n",
       "<table border=\"1\" class=\"dataframe\">\n",
       "  <thead>\n",
       "    <tr style=\"text-align: right;\">\n",
       "      <th></th>\n",
       "      <th>Color</th>\n",
       "      <th>Opponent</th>\n",
       "      <th>Accuracy</th>\n",
       "      <th>Result</th>\n",
       "      <th>Number of Moves</th>\n",
       "      <th>Date</th>\n",
       "    </tr>\n",
       "  </thead>\n",
       "  <tbody>\n",
       "    <tr>\n",
       "      <th>0</th>\n",
       "      <td>2</td>\n",
       "      <td>2</td>\n",
       "      <td>2</td>\n",
       "      <td>2</td>\n",
       "      <td>2</td>\n",
       "      <td>2</td>\n",
       "    </tr>\n",
       "  </tbody>\n",
       "</table>\n",
       "</div>"
      ],
      "text/plain": [
       "   Color  Opponent  Accuracy  Result  Number of Moves  Date\n",
       "0      2         2         2       2                2     2"
      ]
     },
     "execution_count": 292,
     "metadata": {},
     "output_type": "execute_result"
    }
   ],
   "source": [
    "new_df\n"
   ]
  },
  {
   "cell_type": "code",
   "execution_count": 59,
   "id": "5a871477-8eba-40f6-bc54-df9d54c95020",
   "metadata": {},
   "outputs": [
    {
     "data": {
      "text/plain": [
       "<_io.TextIOWrapper name='marwanchessksa_vs_pranavks_2024.12.17.pgn' mode='r' encoding='UTF-8'>"
      ]
     },
     "execution_count": 59,
     "metadata": {},
     "output_type": "execute_result"
    }
   ],
   "source": [
    "pgn."
   ]
  },
  {
   "cell_type": "code",
   "execution_count": 293,
   "id": "9381d096-7737-4790-b0dc-b6384d876743",
   "metadata": {},
   "outputs": [
    {
     "ename": "AttributeError",
     "evalue": "module 'chess' has no attribute 'eco'",
     "output_type": "error",
     "traceback": [
      "\u001b[0;31m---------------------------------------------------------------------------\u001b[0m",
      "\u001b[0;31mAttributeError\u001b[0m                            Traceback (most recent call last)",
      "Cell \u001b[0;32mIn[293], line 7\u001b[0m\n\u001b[1;32m      5\u001b[0m \u001b[38;5;28;01mfor\u001b[39;00m move \u001b[38;5;129;01min\u001b[39;00m first_game\u001b[38;5;241m.\u001b[39mmainline_moves():\n\u001b[1;32m      6\u001b[0m     board\u001b[38;5;241m.\u001b[39mpush(move)\n\u001b[0;32m----> 7\u001b[0m     eco_info \u001b[38;5;241m=\u001b[39m \u001b[43mchess\u001b[49m\u001b[38;5;241;43m.\u001b[39;49m\u001b[43meco\u001b[49m\u001b[38;5;241m.\u001b[39meco_opening(board)\n\u001b[1;32m      8\u001b[0m     \u001b[38;5;28;01mif\u001b[39;00m eco_info:\n\u001b[1;32m      9\u001b[0m         \u001b[38;5;28mprint\u001b[39m(\u001b[38;5;124mf\u001b[39m\u001b[38;5;124m\"\u001b[39m\u001b[38;5;124mECO Code: \u001b[39m\u001b[38;5;132;01m{\u001b[39;00meco_info\u001b[38;5;241m.\u001b[39meco\u001b[38;5;132;01m}\u001b[39;00m\u001b[38;5;124m, Opening Name: \u001b[39m\u001b[38;5;132;01m{\u001b[39;00meco_info\u001b[38;5;241m.\u001b[39mname\u001b[38;5;132;01m}\u001b[39;00m\u001b[38;5;124m, Volume: \u001b[39m\u001b[38;5;132;01m{\u001b[39;00meco_info\u001b[38;5;241m.\u001b[39mvolume\u001b[38;5;132;01m}\u001b[39;00m\u001b[38;5;124m\"\u001b[39m)\n",
      "\u001b[0;31mAttributeError\u001b[0m: module 'chess' has no attribute 'eco'"
     ]
    }
   ],
   "source": [
    "game = chess.pgn.read_game(pgn)\n",
    "\n",
    "# Setup the board\n",
    "board = first_game.board()\n",
    "for move in first_game.mainline_moves():\n",
    "    board.push(move)\n",
    "    eco_info = chess.eco.eco_opening(board)\n",
    "    if eco_info:\n",
    "        print(f\"ECO Code: {eco_info.eco}, Opening Name: {eco_info.name}, Volume: {eco_info.volume}\")\n",
    "        break  # This example breaks after finding the first ECO classification, but you can adjust as needed\n"
   ]
  },
  {
   "cell_type": "code",
   "execution_count": 294,
   "id": "89c3ae68-1d6d-4a1d-aa3a-39973a3f09ce",
   "metadata": {},
   "outputs": [
    {
     "data": {
      "text/plain": [
       "<_io.TextIOWrapper name='marwanchessksa_vs_pranavks_2024.12.17.pgn' mode='r' encoding='UTF-8'>"
      ]
     },
     "execution_count": 294,
     "metadata": {},
     "output_type": "execute_result"
    }
   ],
   "source": [
    "pgn"
   ]
  },
  {
   "cell_type": "code",
   "execution_count": 36,
   "id": "a2a98633-5172-4790-8eb9-625c48f60675",
   "metadata": {},
   "outputs": [],
   "source": [
    "import pandas as pd\n",
    "\n",
    "# Load the TSV file into a DataFrame\n",
    "file_path = 'a.tsv'\n",
    "Aopenings_df = pd.read_csv('a.tsv', delimiter='\\t')\n",
    "Bopenings_df = pd.read_csv('b.tsv', delimiter='\\t')\n",
    "Copenings_df = pd.read_csv('c.tsv', delimiter='\\t')\n",
    "Dopenings_df = pd.read_csv('d.tsv', delimiter='\\t')\n",
    "Eopenings_df = pd.read_csv('e.tsv', delimiter='\\t')\n",
    "# Display the first few rows of the DataFrame to check its contents\n"
   ]
  },
  {
   "cell_type": "code",
   "execution_count": 37,
   "id": "82be0c18-6eaa-4e72-8296-0f59bedc401d",
   "metadata": {},
   "outputs": [
    {
     "data": {
      "text/html": [
       "<div>\n",
       "<style scoped>\n",
       "    .dataframe tbody tr th:only-of-type {\n",
       "        vertical-align: middle;\n",
       "    }\n",
       "\n",
       "    .dataframe tbody tr th {\n",
       "        vertical-align: top;\n",
       "    }\n",
       "\n",
       "    .dataframe thead th {\n",
       "        text-align: right;\n",
       "    }\n",
       "</style>\n",
       "<table border=\"1\" class=\"dataframe\">\n",
       "  <thead>\n",
       "    <tr style=\"text-align: right;\">\n",
       "      <th></th>\n",
       "      <th>eco</th>\n",
       "      <th>name</th>\n",
       "      <th>pgn</th>\n",
       "    </tr>\n",
       "  </thead>\n",
       "  <tbody>\n",
       "    <tr>\n",
       "      <th>0</th>\n",
       "      <td>A00</td>\n",
       "      <td>Amar Opening</td>\n",
       "      <td>1. Nh3</td>\n",
       "    </tr>\n",
       "    <tr>\n",
       "      <th>1</th>\n",
       "      <td>A00</td>\n",
       "      <td>Amar Opening: Paris Gambit</td>\n",
       "      <td>1. Nh3 d5 2. g3 e5 3. f4</td>\n",
       "    </tr>\n",
       "    <tr>\n",
       "      <th>2</th>\n",
       "      <td>A00</td>\n",
       "      <td>Amar Opening: Paris Gambit, Gent Gambit</td>\n",
       "      <td>1. Nh3 d5 2. g3 e5 3. f4 Bxh3 4. Bxh3 exf4 5. ...</td>\n",
       "    </tr>\n",
       "    <tr>\n",
       "      <th>3</th>\n",
       "      <td>A00</td>\n",
       "      <td>Amsterdam Attack</td>\n",
       "      <td>1. e3 e5 2. c4 d6 3. Nc3 Nc6 4. b3 Nf6</td>\n",
       "    </tr>\n",
       "    <tr>\n",
       "      <th>4</th>\n",
       "      <td>A00</td>\n",
       "      <td>Anderssen's Opening</td>\n",
       "      <td>1. a3</td>\n",
       "    </tr>\n",
       "    <tr>\n",
       "      <th>...</th>\n",
       "      <td>...</td>\n",
       "      <td>...</td>\n",
       "      <td>...</td>\n",
       "    </tr>\n",
       "    <tr>\n",
       "      <th>723</th>\n",
       "      <td>A96</td>\n",
       "      <td>Dutch Defense: Classical Variation, Huisl Vari...</td>\n",
       "      <td>1. d4 f5 2. c4 Nf6 3. g3 e6 4. Bg2 Be7 5. Nf3 ...</td>\n",
       "    </tr>\n",
       "    <tr>\n",
       "      <th>724</th>\n",
       "      <td>A97</td>\n",
       "      <td>Dutch Defense: Classical Variation, Ilyin-Zhen...</td>\n",
       "      <td>1. d4 f5 2. c4 Nf6 3. g3 e6 4. Bg2 Be7 5. Nf3 ...</td>\n",
       "    </tr>\n",
       "    <tr>\n",
       "      <th>725</th>\n",
       "      <td>A97</td>\n",
       "      <td>Dutch Defense: Classical Variation, Ilyin-Zhen...</td>\n",
       "      <td>1. d4 f5 2. c4 Nf6 3. g3 e6 4. Bg2 Be7 5. Nf3 ...</td>\n",
       "    </tr>\n",
       "    <tr>\n",
       "      <th>726</th>\n",
       "      <td>A98</td>\n",
       "      <td>Dutch Defense: Classical Variation, Ilyin-Zhen...</td>\n",
       "      <td>1. d4 f5 2. c4 Nf6 3. g3 e6 4. Bg2 Be7 5. Nf3 ...</td>\n",
       "    </tr>\n",
       "    <tr>\n",
       "      <th>727</th>\n",
       "      <td>A99</td>\n",
       "      <td>Dutch Defense: Classical Variation, Ilyin-Zhen...</td>\n",
       "      <td>1. d4 f5 2. c4 Nf6 3. g3 e6 4. Bg2 Be7 5. Nf3 ...</td>\n",
       "    </tr>\n",
       "  </tbody>\n",
       "</table>\n",
       "<p>728 rows × 3 columns</p>\n",
       "</div>"
      ],
      "text/plain": [
       "     eco                                               name  \\\n",
       "0    A00                                       Amar Opening   \n",
       "1    A00                         Amar Opening: Paris Gambit   \n",
       "2    A00            Amar Opening: Paris Gambit, Gent Gambit   \n",
       "3    A00                                   Amsterdam Attack   \n",
       "4    A00                                Anderssen's Opening   \n",
       "..   ...                                                ...   \n",
       "723  A96  Dutch Defense: Classical Variation, Huisl Vari...   \n",
       "724  A97  Dutch Defense: Classical Variation, Ilyin-Zhen...   \n",
       "725  A97  Dutch Defense: Classical Variation, Ilyin-Zhen...   \n",
       "726  A98  Dutch Defense: Classical Variation, Ilyin-Zhen...   \n",
       "727  A99  Dutch Defense: Classical Variation, Ilyin-Zhen...   \n",
       "\n",
       "                                                   pgn  \n",
       "0                                               1. Nh3  \n",
       "1                             1. Nh3 d5 2. g3 e5 3. f4  \n",
       "2    1. Nh3 d5 2. g3 e5 3. f4 Bxh3 4. Bxh3 exf4 5. ...  \n",
       "3               1. e3 e5 2. c4 d6 3. Nc3 Nc6 4. b3 Nf6  \n",
       "4                                                1. a3  \n",
       "..                                                 ...  \n",
       "723  1. d4 f5 2. c4 Nf6 3. g3 e6 4. Bg2 Be7 5. Nf3 ...  \n",
       "724  1. d4 f5 2. c4 Nf6 3. g3 e6 4. Bg2 Be7 5. Nf3 ...  \n",
       "725  1. d4 f5 2. c4 Nf6 3. g3 e6 4. Bg2 Be7 5. Nf3 ...  \n",
       "726  1. d4 f5 2. c4 Nf6 3. g3 e6 4. Bg2 Be7 5. Nf3 ...  \n",
       "727  1. d4 f5 2. c4 Nf6 3. g3 e6 4. Bg2 Be7 5. Nf3 ...  \n",
       "\n",
       "[728 rows x 3 columns]"
      ]
     },
     "execution_count": 37,
     "metadata": {},
     "output_type": "execute_result"
    }
   ],
   "source": [
    "Aopenings_df"
   ]
  },
  {
   "cell_type": "code",
   "execution_count": 38,
   "id": "af210bd1-1b63-4b8d-b38e-ecf9a0400f93",
   "metadata": {},
   "outputs": [],
   "source": [
    "all_openings_df = pd.concat([Aopenings_df, Bopenings_df, Copenings_df, Dopenings_df, Eopenings_df])"
   ]
  },
  {
   "cell_type": "code",
   "execution_count": 39,
   "id": "28fa0b48-ec55-400d-b898-834fc7aa6872",
   "metadata": {},
   "outputs": [],
   "source": [
    "all_openings_df=all_openings_df.reset_index()"
   ]
  },
  {
   "cell_type": "code",
   "execution_count": null,
   "id": "dd1d0bbb-29d2-408c-b664-c35e5fea6036",
   "metadata": {},
   "outputs": [],
   "source": []
  },
  {
   "cell_type": "code",
   "execution_count": 40,
   "id": "acb6fe2e-9106-4ff1-b94a-8f9a79dcb10b",
   "metadata": {},
   "outputs": [],
   "source": [
    "def load_pgn_moves(pgn_path):\n",
    "    pgn = open(pgn_path)\n",
    "    game = chess.pgn.read_game(pgn)\n",
    "    board = game.board()\n",
    "    moves_san = []\n",
    "    for move in game.mainline_moves():\n",
    "        moves_san.append(board.san(move))\n",
    "        board.push(move)\n",
    "    return ' '.join(moves_san)"
   ]
  },
  {
   "cell_type": "code",
   "execution_count": 41,
   "id": "5dd4dfb1-6127-4285-9ec9-f086eaab9171",
   "metadata": {},
   "outputs": [],
   "source": [
    "all_openings_df=all_openings_df.drop(columns='index')"
   ]
  },
  {
   "cell_type": "code",
   "execution_count": 42,
   "id": "77532083-460d-480b-921a-91bc1b8b4d74",
   "metadata": {},
   "outputs": [],
   "source": [
    "pgn_file = open('marwanchessksa_vs_pranavks_2024.12.17.pgn', 'r', encoding='UTF-8')"
   ]
  },
  {
   "cell_type": "code",
   "execution_count": 43,
   "id": "c92e95b3-e269-4f4d-8c57-0a28645aca53",
   "metadata": {},
   "outputs": [
    {
     "data": {
      "text/html": [
       "<div>\n",
       "<style scoped>\n",
       "    .dataframe tbody tr th:only-of-type {\n",
       "        vertical-align: middle;\n",
       "    }\n",
       "\n",
       "    .dataframe tbody tr th {\n",
       "        vertical-align: top;\n",
       "    }\n",
       "\n",
       "    .dataframe thead th {\n",
       "        text-align: right;\n",
       "    }\n",
       "</style>\n",
       "<table border=\"1\" class=\"dataframe\">\n",
       "  <thead>\n",
       "    <tr style=\"text-align: right;\">\n",
       "      <th></th>\n",
       "      <th>eco</th>\n",
       "      <th>name</th>\n",
       "      <th>pgn</th>\n",
       "    </tr>\n",
       "  </thead>\n",
       "  <tbody>\n",
       "    <tr>\n",
       "      <th>0</th>\n",
       "      <td>A00</td>\n",
       "      <td>Amar Opening</td>\n",
       "      <td>1. Nh3</td>\n",
       "    </tr>\n",
       "    <tr>\n",
       "      <th>1</th>\n",
       "      <td>A00</td>\n",
       "      <td>Amar Opening: Paris Gambit</td>\n",
       "      <td>1. Nh3 d5 2. g3 e5 3. f4</td>\n",
       "    </tr>\n",
       "    <tr>\n",
       "      <th>2</th>\n",
       "      <td>A00</td>\n",
       "      <td>Amar Opening: Paris Gambit, Gent Gambit</td>\n",
       "      <td>1. Nh3 d5 2. g3 e5 3. f4 Bxh3 4. Bxh3 exf4 5. ...</td>\n",
       "    </tr>\n",
       "    <tr>\n",
       "      <th>3</th>\n",
       "      <td>A00</td>\n",
       "      <td>Amsterdam Attack</td>\n",
       "      <td>1. e3 e5 2. c4 d6 3. Nc3 Nc6 4. b3 Nf6</td>\n",
       "    </tr>\n",
       "    <tr>\n",
       "      <th>4</th>\n",
       "      <td>A00</td>\n",
       "      <td>Anderssen's Opening</td>\n",
       "      <td>1. a3</td>\n",
       "    </tr>\n",
       "    <tr>\n",
       "      <th>...</th>\n",
       "      <td>...</td>\n",
       "      <td>...</td>\n",
       "      <td>...</td>\n",
       "    </tr>\n",
       "    <tr>\n",
       "      <th>3502</th>\n",
       "      <td>E98</td>\n",
       "      <td>King's Indian Defense: Orthodox Variation, Cla...</td>\n",
       "      <td>1. d4 Nf6 2. c4 g6 3. Nc3 Bg7 4. e4 d6 5. Nf3 ...</td>\n",
       "    </tr>\n",
       "    <tr>\n",
       "      <th>3503</th>\n",
       "      <td>E98</td>\n",
       "      <td>King's Indian Defense: Orthodox Variation, Cla...</td>\n",
       "      <td>1. d4 Nf6 2. c4 g6 3. Nc3 Bg7 4. e4 d6 5. Nf3 ...</td>\n",
       "    </tr>\n",
       "    <tr>\n",
       "      <th>3504</th>\n",
       "      <td>E98</td>\n",
       "      <td>King's Indian Defense: Orthodox Variation, Cla...</td>\n",
       "      <td>1. d4 Nf6 2. c4 g6 3. Nc3 Bg7 4. e4 d6 5. Nf3 ...</td>\n",
       "    </tr>\n",
       "    <tr>\n",
       "      <th>3505</th>\n",
       "      <td>E99</td>\n",
       "      <td>King's Indian Defense: Orthodox Variation, Cla...</td>\n",
       "      <td>1. d4 Nf6 2. c4 g6 3. Nc3 Bg7 4. e4 d6 5. Nf3 ...</td>\n",
       "    </tr>\n",
       "    <tr>\n",
       "      <th>3506</th>\n",
       "      <td>E99</td>\n",
       "      <td>King's Indian Defense: Orthodox Variation, Cla...</td>\n",
       "      <td>1. d4 Nf6 2. c4 g6 3. Nc3 Bg7 4. e4 d6 5. Nf3 ...</td>\n",
       "    </tr>\n",
       "  </tbody>\n",
       "</table>\n",
       "<p>3507 rows × 3 columns</p>\n",
       "</div>"
      ],
      "text/plain": [
       "      eco                                               name  \\\n",
       "0     A00                                       Amar Opening   \n",
       "1     A00                         Amar Opening: Paris Gambit   \n",
       "2     A00            Amar Opening: Paris Gambit, Gent Gambit   \n",
       "3     A00                                   Amsterdam Attack   \n",
       "4     A00                                Anderssen's Opening   \n",
       "...   ...                                                ...   \n",
       "3502  E98  King's Indian Defense: Orthodox Variation, Cla...   \n",
       "3503  E98  King's Indian Defense: Orthodox Variation, Cla...   \n",
       "3504  E98  King's Indian Defense: Orthodox Variation, Cla...   \n",
       "3505  E99  King's Indian Defense: Orthodox Variation, Cla...   \n",
       "3506  E99  King's Indian Defense: Orthodox Variation, Cla...   \n",
       "\n",
       "                                                    pgn  \n",
       "0                                                1. Nh3  \n",
       "1                              1. Nh3 d5 2. g3 e5 3. f4  \n",
       "2     1. Nh3 d5 2. g3 e5 3. f4 Bxh3 4. Bxh3 exf4 5. ...  \n",
       "3                1. e3 e5 2. c4 d6 3. Nc3 Nc6 4. b3 Nf6  \n",
       "4                                                 1. a3  \n",
       "...                                                 ...  \n",
       "3502  1. d4 Nf6 2. c4 g6 3. Nc3 Bg7 4. e4 d6 5. Nf3 ...  \n",
       "3503  1. d4 Nf6 2. c4 g6 3. Nc3 Bg7 4. e4 d6 5. Nf3 ...  \n",
       "3504  1. d4 Nf6 2. c4 g6 3. Nc3 Bg7 4. e4 d6 5. Nf3 ...  \n",
       "3505  1. d4 Nf6 2. c4 g6 3. Nc3 Bg7 4. e4 d6 5. Nf3 ...  \n",
       "3506  1. d4 Nf6 2. c4 g6 3. Nc3 Bg7 4. e4 d6 5. Nf3 ...  \n",
       "\n",
       "[3507 rows x 3 columns]"
      ]
     },
     "execution_count": 43,
     "metadata": {},
     "output_type": "execute_result"
    }
   ],
   "source": [
    "all_openings_df"
   ]
  },
  {
   "cell_type": "code",
   "execution_count": 44,
   "id": "ddf2a24d-dbf0-4cec-841c-d5af25c438e5",
   "metadata": {},
   "outputs": [],
   "source": [
    "def load_pgn_moves(pgn_file):\n",
    "    game = chess.pgn.read_game(pgn_file)\n",
    "    board = game.board()\n",
    "    moves_san = []\n",
    "    for move in game.mainline_moves():\n",
    "        moves_san.append(board.san(move))\n",
    "        board.push(move)\n",
    "    print(\"Extracted Moves:\", ' '.join(moves_san))  # Debug: print the moves\n",
    "    return ' '.join(moves_san)"
   ]
  },
  {
   "cell_type": "code",
   "execution_count": 45,
   "id": "96c2ac33-a8c9-477e-9c06-d62919eb6270",
   "metadata": {},
   "outputs": [
    {
     "name": "stdout",
     "output_type": "stream",
     "text": [
      "Extracted Moves: e4 e5 Nc3 Nc6 Bc4 Nf6 Nge2 Bc5 O-O O-O d3 a6 a4 d6 Bg5 Be6 Nd5 Bxd5 exd5 Na5 Ba2 b5 c3 Ba7 b4 Nb7 axb5 axb5 Bb3 h6 Bh4 g5 Bg3 c5 c4 bxc4 dxc4 cxb4 Nc1 Nc5 Nd3 Nxb3 Qxb3 e4 Nxb4 Bc5 Nc6 Qc7 Rxa8 Rxa8 h3 h5 Qb2 Kg7 h4 gxh4 Bxh4 Qd7 Qxf6+ Kh7 Re1 Qg4 Qxf7+ Qg7 Qxg7+ Kxg7 Rxe4 Ra1+ Kh2 Ra2 Rf4 Kh6 Ne7 Bd4 Nf5+ Kg6 Nxd4 Rd2 Nf3\n"
     ]
    },
    {
     "data": {
      "text/plain": [
       "'e4 e5 Nc3 Nc6 Bc4 Nf6 Nge2 Bc5 O-O O-O d3 a6 a4 d6 Bg5 Be6 Nd5 Bxd5 exd5 Na5 Ba2 b5 c3 Ba7 b4 Nb7 axb5 axb5 Bb3 h6 Bh4 g5 Bg3 c5 c4 bxc4 dxc4 cxb4 Nc1 Nc5 Nd3 Nxb3 Qxb3 e4 Nxb4 Bc5 Nc6 Qc7 Rxa8 Rxa8 h3 h5 Qb2 Kg7 h4 gxh4 Bxh4 Qd7 Qxf6+ Kh7 Re1 Qg4 Qxf7+ Qg7 Qxg7+ Kxg7 Rxe4 Ra1+ Kh2 Ra2 Rf4 Kh6 Ne7 Bd4 Nf5+ Kg6 Nxd4 Rd2 Nf3'"
      ]
     },
     "execution_count": 45,
     "metadata": {},
     "output_type": "execute_result"
    }
   ],
   "source": [
    "load_pgn_moves(pgn_file)"
   ]
  },
  {
   "cell_type": "code",
   "execution_count": 46,
   "id": "59c290df-b4a0-4edc-8b34-7ad54bead0b6",
   "metadata": {},
   "outputs": [
    {
     "data": {
      "text/plain": [
       "'1. e4 f6'"
      ]
     },
     "execution_count": 46,
     "metadata": {},
     "output_type": "execute_result"
    }
   ],
   "source": [
    "all_openings_df['pgn'][728]"
   ]
  },
  {
   "cell_type": "code",
   "execution_count": null,
   "id": "9891cb41-e710-4922-b582-c0b9cd80bb31",
   "metadata": {},
   "outputs": [],
   "source": []
  },
  {
   "cell_type": "code",
   "execution_count": null,
   "id": "cf0b9e8c-0751-4532-8db9-f6e4d9d30d79",
   "metadata": {},
   "outputs": [],
   "source": []
  },
  {
   "cell_type": "code",
   "execution_count": null,
   "id": "a046bb7d-2adb-45f0-bc65-09e723915a5e",
   "metadata": {},
   "outputs": [],
   "source": []
  },
  {
   "cell_type": "code",
   "execution_count": 47,
   "id": "0d03c694-6344-4bca-8477-eece8d1f7b29",
   "metadata": {},
   "outputs": [
    {
     "name": "stdout",
     "output_type": "stream",
     "text": [
      "e4 d6 f4 d5 exd5 Nf6\n"
     ]
    }
   ],
   "source": [
    "import re\n",
    "\n",
    "def normalize_moves(move_sequence):\n",
    "    # Improved regex: Specifically targets move numbers followed by a dot and optional spaces\n",
    "    normalized_sequence = re.sub(r'\\b\\d+\\.\\s*', '', move_sequence)\n",
    "    \n",
    "    # Remove extra spaces\n",
    "    normalized_sequence = ' '.join(normalized_sequence.split())\n",
    "    \n",
    "    return normalized_sequence\n",
    "\n",
    "# Test the function with a sample string\n",
    "test_moves = all_openings_df['pgn'][800]\n",
    "normalized_moves = normalize_moves(test_moves)\n",
    "print(normalized_moves)"
   ]
  },
  {
   "cell_type": "code",
   "execution_count": null,
   "id": "19f16c26-788e-4714-bb70-e708823b746c",
   "metadata": {},
   "outputs": [],
   "source": []
  },
  {
   "cell_type": "code",
   "execution_count": 149,
   "id": "72138437-4993-485f-84fd-bdc4973bde4e",
   "metadata": {},
   "outputs": [],
   "source": [
    "import re\n",
    "\n",
    "def normalize_moves(move_sequence):\n",
    "    # Remove move numbers and periods that come after the move numbers\n",
    "    normalized_sequence = re.sub(r'\\d+\\.', '', move_sequence)\n",
    "    # Remove extra spaces\n",
    "    normalized_sequence = ' '.join(normalized_sequence.split())\n",
    "    return normalized_sequence"
   ]
  },
  {
   "cell_type": "code",
   "execution_count": 49,
   "id": "aef7fe89-4955-4d89-9279-bb9fc0dc8dd7",
   "metadata": {},
   "outputs": [],
   "source": [
    "import pandas as pd\n",
    "\n",
    "# Assuming 'openings_df' is your DataFrame and it has a column named 'pgn'\n",
    "all_openings_df['normalized_pgn'] = all_openings_df['pgn'].apply(normalize_moves)\n",
    "\n",
    "# Check the result to ensure normalization worked as expected\n"
   ]
  },
  {
   "cell_type": "code",
   "execution_count": 50,
   "id": "62fa78a1-c8e7-4449-9c32-d430fc2bc675",
   "metadata": {},
   "outputs": [],
   "source": [
    "all_openings_df=all_openings_df.reset_index()"
   ]
  },
  {
   "cell_type": "code",
   "execution_count": 51,
   "id": "89a6bb06-bcd7-457b-9bfb-ab774fb12651",
   "metadata": {},
   "outputs": [
    {
     "data": {
      "text/html": [
       "<div>\n",
       "<style scoped>\n",
       "    .dataframe tbody tr th:only-of-type {\n",
       "        vertical-align: middle;\n",
       "    }\n",
       "\n",
       "    .dataframe tbody tr th {\n",
       "        vertical-align: top;\n",
       "    }\n",
       "\n",
       "    .dataframe thead th {\n",
       "        text-align: right;\n",
       "    }\n",
       "</style>\n",
       "<table border=\"1\" class=\"dataframe\">\n",
       "  <thead>\n",
       "    <tr style=\"text-align: right;\">\n",
       "      <th></th>\n",
       "      <th>index</th>\n",
       "      <th>eco</th>\n",
       "      <th>name</th>\n",
       "      <th>pgn</th>\n",
       "      <th>normalized_pgn</th>\n",
       "    </tr>\n",
       "  </thead>\n",
       "  <tbody>\n",
       "    <tr>\n",
       "      <th>0</th>\n",
       "      <td>0</td>\n",
       "      <td>A00</td>\n",
       "      <td>Amar Opening</td>\n",
       "      <td>1. Nh3</td>\n",
       "      <td>Nh3</td>\n",
       "    </tr>\n",
       "    <tr>\n",
       "      <th>1</th>\n",
       "      <td>1</td>\n",
       "      <td>A00</td>\n",
       "      <td>Amar Opening: Paris Gambit</td>\n",
       "      <td>1. Nh3 d5 2. g3 e5 3. f4</td>\n",
       "      <td>Nh3 d5 g3 e5 f4</td>\n",
       "    </tr>\n",
       "    <tr>\n",
       "      <th>2</th>\n",
       "      <td>2</td>\n",
       "      <td>A00</td>\n",
       "      <td>Amar Opening: Paris Gambit, Gent Gambit</td>\n",
       "      <td>1. Nh3 d5 2. g3 e5 3. f4 Bxh3 4. Bxh3 exf4 5. ...</td>\n",
       "      <td>Nh3 d5 g3 e5 f4 Bxh3 Bxh3 exf4 O-O fxg3 hxg3</td>\n",
       "    </tr>\n",
       "    <tr>\n",
       "      <th>3</th>\n",
       "      <td>3</td>\n",
       "      <td>A00</td>\n",
       "      <td>Amsterdam Attack</td>\n",
       "      <td>1. e3 e5 2. c4 d6 3. Nc3 Nc6 4. b3 Nf6</td>\n",
       "      <td>e3 e5 c4 d6 Nc3 Nc6 b3 Nf6</td>\n",
       "    </tr>\n",
       "    <tr>\n",
       "      <th>4</th>\n",
       "      <td>4</td>\n",
       "      <td>A00</td>\n",
       "      <td>Anderssen's Opening</td>\n",
       "      <td>1. a3</td>\n",
       "      <td>a3</td>\n",
       "    </tr>\n",
       "    <tr>\n",
       "      <th>...</th>\n",
       "      <td>...</td>\n",
       "      <td>...</td>\n",
       "      <td>...</td>\n",
       "      <td>...</td>\n",
       "      <td>...</td>\n",
       "    </tr>\n",
       "    <tr>\n",
       "      <th>3502</th>\n",
       "      <td>3502</td>\n",
       "      <td>E98</td>\n",
       "      <td>King's Indian Defense: Orthodox Variation, Cla...</td>\n",
       "      <td>1. d4 Nf6 2. c4 g6 3. Nc3 Bg7 4. e4 d6 5. Nf3 ...</td>\n",
       "      <td>d4 Nf6 c4 g6 Nc3 Bg7 e4 d6 Nf3 O-O Be2 e5 O-O ...</td>\n",
       "    </tr>\n",
       "    <tr>\n",
       "      <th>3503</th>\n",
       "      <td>3503</td>\n",
       "      <td>E98</td>\n",
       "      <td>King's Indian Defense: Orthodox Variation, Cla...</td>\n",
       "      <td>1. d4 Nf6 2. c4 g6 3. Nc3 Bg7 4. e4 d6 5. Nf3 ...</td>\n",
       "      <td>d4 Nf6 c4 g6 Nc3 Bg7 e4 d6 Nf3 O-O Be2 e5 O-O ...</td>\n",
       "    </tr>\n",
       "    <tr>\n",
       "      <th>3504</th>\n",
       "      <td>3504</td>\n",
       "      <td>E98</td>\n",
       "      <td>King's Indian Defense: Orthodox Variation, Cla...</td>\n",
       "      <td>1. d4 Nf6 2. c4 g6 3. Nc3 Bg7 4. e4 d6 5. Nf3 ...</td>\n",
       "      <td>d4 Nf6 c4 g6 Nc3 Bg7 e4 d6 Nf3 O-O Be2 e5 O-O ...</td>\n",
       "    </tr>\n",
       "    <tr>\n",
       "      <th>3505</th>\n",
       "      <td>3505</td>\n",
       "      <td>E99</td>\n",
       "      <td>King's Indian Defense: Orthodox Variation, Cla...</td>\n",
       "      <td>1. d4 Nf6 2. c4 g6 3. Nc3 Bg7 4. e4 d6 5. Nf3 ...</td>\n",
       "      <td>d4 Nf6 c4 g6 Nc3 Bg7 e4 d6 Nf3 O-O Be2 e5 O-O ...</td>\n",
       "    </tr>\n",
       "    <tr>\n",
       "      <th>3506</th>\n",
       "      <td>3506</td>\n",
       "      <td>E99</td>\n",
       "      <td>King's Indian Defense: Orthodox Variation, Cla...</td>\n",
       "      <td>1. d4 Nf6 2. c4 g6 3. Nc3 Bg7 4. e4 d6 5. Nf3 ...</td>\n",
       "      <td>d4 Nf6 c4 g6 Nc3 Bg7 e4 d6 Nf3 O-O Be2 e5 O-O ...</td>\n",
       "    </tr>\n",
       "  </tbody>\n",
       "</table>\n",
       "<p>3507 rows × 5 columns</p>\n",
       "</div>"
      ],
      "text/plain": [
       "      index  eco                                               name  \\\n",
       "0         0  A00                                       Amar Opening   \n",
       "1         1  A00                         Amar Opening: Paris Gambit   \n",
       "2         2  A00            Amar Opening: Paris Gambit, Gent Gambit   \n",
       "3         3  A00                                   Amsterdam Attack   \n",
       "4         4  A00                                Anderssen's Opening   \n",
       "...     ...  ...                                                ...   \n",
       "3502   3502  E98  King's Indian Defense: Orthodox Variation, Cla...   \n",
       "3503   3503  E98  King's Indian Defense: Orthodox Variation, Cla...   \n",
       "3504   3504  E98  King's Indian Defense: Orthodox Variation, Cla...   \n",
       "3505   3505  E99  King's Indian Defense: Orthodox Variation, Cla...   \n",
       "3506   3506  E99  King's Indian Defense: Orthodox Variation, Cla...   \n",
       "\n",
       "                                                    pgn  \\\n",
       "0                                                1. Nh3   \n",
       "1                              1. Nh3 d5 2. g3 e5 3. f4   \n",
       "2     1. Nh3 d5 2. g3 e5 3. f4 Bxh3 4. Bxh3 exf4 5. ...   \n",
       "3                1. e3 e5 2. c4 d6 3. Nc3 Nc6 4. b3 Nf6   \n",
       "4                                                 1. a3   \n",
       "...                                                 ...   \n",
       "3502  1. d4 Nf6 2. c4 g6 3. Nc3 Bg7 4. e4 d6 5. Nf3 ...   \n",
       "3503  1. d4 Nf6 2. c4 g6 3. Nc3 Bg7 4. e4 d6 5. Nf3 ...   \n",
       "3504  1. d4 Nf6 2. c4 g6 3. Nc3 Bg7 4. e4 d6 5. Nf3 ...   \n",
       "3505  1. d4 Nf6 2. c4 g6 3. Nc3 Bg7 4. e4 d6 5. Nf3 ...   \n",
       "3506  1. d4 Nf6 2. c4 g6 3. Nc3 Bg7 4. e4 d6 5. Nf3 ...   \n",
       "\n",
       "                                         normalized_pgn  \n",
       "0                                                   Nh3  \n",
       "1                                       Nh3 d5 g3 e5 f4  \n",
       "2          Nh3 d5 g3 e5 f4 Bxh3 Bxh3 exf4 O-O fxg3 hxg3  \n",
       "3                            e3 e5 c4 d6 Nc3 Nc6 b3 Nf6  \n",
       "4                                                    a3  \n",
       "...                                                 ...  \n",
       "3502  d4 Nf6 c4 g6 Nc3 Bg7 e4 d6 Nf3 O-O Be2 e5 O-O ...  \n",
       "3503  d4 Nf6 c4 g6 Nc3 Bg7 e4 d6 Nf3 O-O Be2 e5 O-O ...  \n",
       "3504  d4 Nf6 c4 g6 Nc3 Bg7 e4 d6 Nf3 O-O Be2 e5 O-O ...  \n",
       "3505  d4 Nf6 c4 g6 Nc3 Bg7 e4 d6 Nf3 O-O Be2 e5 O-O ...  \n",
       "3506  d4 Nf6 c4 g6 Nc3 Bg7 e4 d6 Nf3 O-O Be2 e5 O-O ...  \n",
       "\n",
       "[3507 rows x 5 columns]"
      ]
     },
     "execution_count": 51,
     "metadata": {},
     "output_type": "execute_result"
    }
   ],
   "source": [
    "all_openings_df"
   ]
  },
  {
   "cell_type": "code",
   "execution_count": 99,
   "id": "525bf98b-585f-493a-869b-745a1194f676",
   "metadata": {},
   "outputs": [
    {
     "name": "stdout",
     "output_type": "stream",
     "text": [
      "No matching opening found.\n",
      "Extracted Moves: e4 e5 Nc3 Nc6 Bc4 Nf6 Nge2 Bc5 O-O O-O d3 a6 a4 d6 Bg5 Be6 Nd5 Bxd5 exd5 Na5 Ba2 b5 c3 Ba7 b4 Nb7 axb5 axb5 Bb3 h6 Bh4 g5 Bg3 c5 c4 bxc4 dxc4 cxb4 Nc1 Nc5 Nd3 Nxb3 Qxb3 e4 Nxb4 Bc5 Nc6 Qc7 Rxa8 Rxa8 h3 h5 Qb2 Kg7 h4 gxh4 Bxh4 Qd7 Qxf6+ Kh7 Re1 Qg4 Qxf7+ Qg7 Qxg7+ Kxg7 Rxe4 Ra1+ Kh2 Ra2 Rf4 Kh6 Ne7 Bd4 Nf5+ Kg6 Nxd4 Rd2 Nf3\n"
     ]
    }
   ],
   "source": [
    "import chess.pgn\n",
    "import pandas as pd\n",
    "import re\n",
    "\n",
    "# Function to normalize chess move sequences\n",
    "def normalize_moves(move_sequence):\n",
    "    normalized_sequence = re.sub(r'\\d+\\.', '', move_sequence)  # Remove move numbers and dots\n",
    "    normalized_sequence = ' '.join(normalized_sequence.split())  # Remove extra spaces\n",
    "    return normalized_sequence\n",
    "\n",
    "# Function to load moves from a game\n",
    "def load_pgn_moves(pgn_file):\n",
    "    game = chess.pgn.read_game(pgn_file)\n",
    "    board = game.board()\n",
    "    moves_san = []\n",
    "    for move in game.mainline_moves():\n",
    "        moves_san.append(board.san(move))\n",
    "        board.push(move)\n",
    "    moves_san_string = ' '.join(moves_san)\n",
    "    print(\"Extracted Moves:\", moves_san_string)  # Debug: print the moves\n",
    "    return normalize_moves(moves_san_string)\n",
    "\n",
    "# Function to find the opening from the DataFrame\n",
    "def find_opening(df, game_moves, move_limit=20):\n",
    "    # Truncate the game moves to the first 'move_limit' moves for comparison\n",
    "    game_move_list = game_moves.split()[:move_limit]\n",
    "    truncated_game_moves = ' '.join(game_move_list)\n",
    "    \n",
    "    for index, row in openings_df.iterrows():\n",
    "        db_move_list = row['normalized_pgn'].split()[:move_limit]\n",
    "        truncated_db_moves = ' '.join(db_move_list)\n",
    "        \n",
    "        if truncated_game_moves.startswith(truncated_db_moves):\n",
    "            return row['eco'], row['name']\n",
    "    return None, None\n",
    "\n",
    "# Re-run the find_opening function with the new logic\n",
    "eco_code, opening_name = find_opening(openings_df, game_moves)\n",
    "\n",
    "if eco_code:\n",
    "    print(f\"ECO Code: {eco_code}, Opening Name: {opening_name}\")\n",
    "else:\n",
    "    print(\"No matching opening found.\")\n",
    "\n",
    "# Assuming the DataFrame 'openings_df' is already loaded and has a column 'normalized_pgn'\n",
    "# You might need to run the normalization on the DataFrame if not already done:\n",
    "# openings_df['normalized_pgn'] = openings_df['pgn'].apply(normalize_moves)\n",
    "\n",
    "# Load PGN file\n",
    "pgn_path = 'marwanchessksa_vs_pranavks_2024.12.17.pgn'  # Adjust this path to where your PGN file is stored\n",
    "with open(pgn_path, 'r', encoding='UTF-8') as pgn_file:\n",
    "    game_moves = load_pgn_moves(pgn_file)\n"
   ]
  },
  {
   "cell_type": "code",
   "execution_count": 52,
   "id": "0e9688fa-a745-4d03-ac9a-cf422af554f5",
   "metadata": {},
   "outputs": [
    {
     "name": "stdout",
     "output_type": "stream",
     "text": [
      "ECO Code: C28, Opening Name: Bishop's Opening: Vienna Hybrid, Hromádka Variation, Moves Matched: 6\n"
     ]
    }
   ],
   "source": [
    "def find_longest_matching_opening(df, game_moves):\n",
    "    game_move_list = game_moves.split()\n",
    "    max_match_length = 0\n",
    "    best_match_eco = None\n",
    "    best_match_name = None\n",
    "\n",
    "    # Iterate through each opening in the DataFrame\n",
    "    for index, row in df.iterrows():\n",
    "        db_move_list = row['normalized_pgn'].split()\n",
    "        # Find the longest match starting from the beginning\n",
    "        match_length = 0\n",
    "        for gm, dm in zip(game_move_list, db_move_list):\n",
    "            if gm == dm:\n",
    "                match_length += 1\n",
    "            else:\n",
    "                break       \n",
    "        # Update the best match if the current match is longer\n",
    "        if match_length > max_match_length:\n",
    "            max_match_length = match_length\n",
    "            best_match_eco = row['eco']\n",
    "            best_match_name = row['name']\n",
    "\n",
    "    return best_match_eco, best_match_name, max_match_length\n",
    "\n",
    "# Example usage\n",
    "game_moves = 'e4 e5 Nc3 Nc6 Bc4 Nf6 Nge2 Bc5 O-O O-O d3 a6 a4 d6 Bg5 Be6'\n",
    "eco_code, opening_name, match_length = find_longest_matching_opening(all_openings_df, game_moves)\n",
    "\n",
    "if eco_code:\n",
    "    print(f\"ECO Code: {eco_code}, Opening Name: {opening_name}, Moves Matched: {match_length}\")\n",
    "else:\n",
    "    print(\"No matching opening found.\")"
   ]
  },
  {
   "cell_type": "code",
   "execution_count": 107,
   "id": "d54b7e3c-47a0-4992-98e5-761d4fa1dd28",
   "metadata": {},
   "outputs": [
    {
     "data": {
      "text/plain": [
       "Index(['eco', 'name', 'pgn', 'normalized_pgn'], dtype='object')"
      ]
     },
     "execution_count": 107,
     "metadata": {},
     "output_type": "execute_result"
    }
   ],
   "source": [
    "openings_df.columns"
   ]
  },
  {
   "cell_type": "code",
   "execution_count": 53,
   "id": "9f0b7324-86d4-4ffb-aec1-887c8af6ff90",
   "metadata": {},
   "outputs": [
    {
     "name": "stdout",
     "output_type": "stream",
     "text": [
      "Empty DataFrame\n",
      "Columns: [index, eco, name, pgn, normalized_pgn]\n",
      "Index: []\n"
     ]
    }
   ],
   "source": [
    "print(all_openings_df[all_openings_df['normalized_pgn'].isnull()])"
   ]
  },
  {
   "cell_type": "code",
   "execution_count": 175,
   "id": "fac60961-eba0-4e5d-b288-3295d503d6de",
   "metadata": {},
   "outputs": [
    {
     "data": {
      "text/plain": [
       "'1. e4 d6 2. f4 d5 3. exd5 Nf6'"
      ]
     },
     "execution_count": 175,
     "metadata": {},
     "output_type": "execute_result"
    }
   ],
   "source": [
    "all_openings_df['pgn'][800]"
   ]
  },
  {
   "cell_type": "code",
   "execution_count": 54,
   "id": "246d686b-2d2a-4dfa-bf45-d673f713c176",
   "metadata": {},
   "outputs": [],
   "source": [
    "def normalize_moves(move_sequence):\n",
    "    # Remove move numbers and periods that come after the move numbers\n",
    "    normalized_sequence = re.sub(r'\\d+\\.', '', move_sequence)\n",
    "    # Remove extra spaces\n",
    "    normalized_sequence = ' '.join(normalized_sequence.split())\n",
    "    return normalized_sequence"
   ]
  },
  {
   "cell_type": "code",
   "execution_count": 55,
   "id": "cc874c68-487f-45f2-a937-e0818a5c06bf",
   "metadata": {},
   "outputs": [],
   "source": [
    "all_openings_df['new_normalized_pgn'] = all_openings_df['pgn'].apply(normalize_moves)"
   ]
  },
  {
   "cell_type": "code",
   "execution_count": 56,
   "id": "4f6191fb-97a4-496e-8411-45685db61d1c",
   "metadata": {},
   "outputs": [
    {
     "data": {
      "text/plain": [
       "'d4 f5 c4 Nf6 g3'"
      ]
     },
     "execution_count": 56,
     "metadata": {},
     "output_type": "execute_result"
    }
   ],
   "source": [
    "all_openings_df['normalized_pgn'][700]"
   ]
  },
  {
   "cell_type": "code",
   "execution_count": 57,
   "id": "e081aabf-5f71-447f-9146-b57d1ac79c44",
   "metadata": {},
   "outputs": [
    {
     "name": "stdout",
     "output_type": "stream",
     "text": [
      "1. e4 d6 2. f4 d5 3. exd5 Nf6\n"
     ]
    }
   ],
   "source": [
    "print(all_openings_df['pgn'].iloc[800])"
   ]
  },
  {
   "cell_type": "code",
   "execution_count": 58,
   "id": "d860d40d-61b4-4ddb-93ed-0ca75ccb42db",
   "metadata": {},
   "outputs": [],
   "source": [
    "all_openings_df['pgn'] = all_openings_df['pgn'].astype(str)"
   ]
  },
  {
   "cell_type": "code",
   "execution_count": 59,
   "id": "15eb55ff-4b99-42e0-ad07-d44bd51dbd71",
   "metadata": {},
   "outputs": [
    {
     "data": {
      "text/plain": [
       "'e4 d6 f4 d5 exd5 Nf6'"
      ]
     },
     "execution_count": 59,
     "metadata": {},
     "output_type": "execute_result"
    }
   ],
   "source": [
    "normalize_moves('1. e4 d6 2. f4 d5 3. exd5 Nf6')"
   ]
  },
  {
   "cell_type": "code",
   "execution_count": 60,
   "id": "69d51e17-afa1-4aa4-99df-694b7e3ef4dd",
   "metadata": {},
   "outputs": [
    {
     "data": {
      "text/plain": [
       "'Nf3 d6'"
      ]
     },
     "execution_count": 60,
     "metadata": {},
     "output_type": "execute_result"
    }
   ],
   "source": [
    "all_openings_df['normalized_pgn'][200]"
   ]
  },
  {
   "cell_type": "code",
   "execution_count": 61,
   "id": "dd6ca7e0-e196-4423-8a46-9bfe99ad41cd",
   "metadata": {},
   "outputs": [
    {
     "data": {
      "text/plain": [
       "'1. e4 e5 2. Nf3 d5 3. exd5 e4'"
      ]
     },
     "execution_count": 61,
     "metadata": {},
     "output_type": "execute_result"
    }
   ],
   "source": [
    "all_openings_df['pgn'][2000]"
   ]
  },
  {
   "cell_type": "code",
   "execution_count": 62,
   "id": "d3234741-1567-4f50-8422-1261185f965b",
   "metadata": {},
   "outputs": [],
   "source": [
    "import pandas as pd\n",
    "import re\n",
    "\n",
    "# Normalization function\n",
    "def normalize_moves(move_sequence):\n",
    "    if pd.isna(move_sequence):\n",
    "        return move_sequence  # Handle NaN values appropriately\n",
    "    normalized_sequence = re.sub(r'\\d+\\.', '', str(move_sequence))  # Convert to string and remove move numbers\n",
    "    normalized_sequence = ' '.join(normalized_sequence.split())  # Remove extra spaces\n",
    "    return normalized_sequence\n",
    "\n",
    "# Load the TSV files into DataFrames\n",
    "Aopenings_df = pd.read_csv('a.tsv', delimiter='\\t')\n",
    "Bopenings_df = pd.read_csv('b.tsv', delimiter='\\t')\n",
    "Copenings_df = pd.read_csv('c.tsv', delimiter='\\t')\n",
    "Dopenings_df = pd.read_csv('d.tsv', delimiter='\\t')\n",
    "Eopenings_df = pd.read_csv('e.tsv', delimiter='\\t')\n",
    "\n",
    "# List of DataFrames for easier processing\n",
    "dfs = [Aopenings_df, Bopenings_df, Copenings_df, Dopenings_df, Eopenings_df]\n",
    "\n",
    "# Apply normalization to each DataFrame\n",
    "for df in dfs:\n",
    "    df['pgn'] = df['pgn'].astype(str)  # Ensure all pgn entries are strings\n",
    "    df['normalized_pgn'] = df['pgn'].apply(normalize_moves)\n"
   ]
  },
  {
   "cell_type": "code",
   "execution_count": 63,
   "id": "cb378416-5869-44d6-9fe8-f38136a32778",
   "metadata": {},
   "outputs": [
    {
     "data": {
      "text/html": [
       "<div>\n",
       "<style scoped>\n",
       "    .dataframe tbody tr th:only-of-type {\n",
       "        vertical-align: middle;\n",
       "    }\n",
       "\n",
       "    .dataframe tbody tr th {\n",
       "        vertical-align: top;\n",
       "    }\n",
       "\n",
       "    .dataframe thead th {\n",
       "        text-align: right;\n",
       "    }\n",
       "</style>\n",
       "<table border=\"1\" class=\"dataframe\">\n",
       "  <thead>\n",
       "    <tr style=\"text-align: right;\">\n",
       "      <th></th>\n",
       "      <th>eco</th>\n",
       "      <th>name</th>\n",
       "      <th>pgn</th>\n",
       "      <th>normalized_pgn</th>\n",
       "    </tr>\n",
       "  </thead>\n",
       "  <tbody>\n",
       "    <tr>\n",
       "      <th>0</th>\n",
       "      <td>B00</td>\n",
       "      <td>Barnes Defense</td>\n",
       "      <td>1. e4 f6</td>\n",
       "      <td>e4 f6</td>\n",
       "    </tr>\n",
       "    <tr>\n",
       "      <th>1</th>\n",
       "      <td>B00</td>\n",
       "      <td>Borg Defense</td>\n",
       "      <td>1. e4 g5</td>\n",
       "      <td>e4 g5</td>\n",
       "    </tr>\n",
       "    <tr>\n",
       "      <th>2</th>\n",
       "      <td>B00</td>\n",
       "      <td>Borg Defense: Borg Gambit</td>\n",
       "      <td>1. e4 g5 2. d4 Bg7</td>\n",
       "      <td>e4 g5 d4 Bg7</td>\n",
       "    </tr>\n",
       "    <tr>\n",
       "      <th>3</th>\n",
       "      <td>B00</td>\n",
       "      <td>Borg Defense: Troon Gambit</td>\n",
       "      <td>1. e4 g5 2. d4 h6 3. h4 g4</td>\n",
       "      <td>e4 g5 d4 h6 h4 g4</td>\n",
       "    </tr>\n",
       "    <tr>\n",
       "      <th>4</th>\n",
       "      <td>B00</td>\n",
       "      <td>Borg Defense: Zilbermints Gambit</td>\n",
       "      <td>1. e4 g5 2. d4 e5</td>\n",
       "      <td>e4 g5 d4 e5</td>\n",
       "    </tr>\n",
       "    <tr>\n",
       "      <th>...</th>\n",
       "      <td>...</td>\n",
       "      <td>...</td>\n",
       "      <td>...</td>\n",
       "      <td>...</td>\n",
       "    </tr>\n",
       "    <tr>\n",
       "      <th>739</th>\n",
       "      <td>B98</td>\n",
       "      <td>Sicilian Defense: Najdorf Variation</td>\n",
       "      <td>1. e4 c5 2. Nf3 d6 3. d4 cxd4 4. Nxd4 Nf6 5. N...</td>\n",
       "      <td>e4 c5 Nf3 d6 d4 cxd4 Nxd4 Nf6 Nc3 a6 Bg5 e6 f4...</td>\n",
       "    </tr>\n",
       "    <tr>\n",
       "      <th>740</th>\n",
       "      <td>B98</td>\n",
       "      <td>Sicilian Defense: Najdorf Variation, Browne Va...</td>\n",
       "      <td>1. e4 c5 2. Nf3 d6 3. d4 cxd4 4. Nxd4 Nf6 5. N...</td>\n",
       "      <td>e4 c5 Nf3 d6 d4 cxd4 Nxd4 Nf6 Nc3 a6 Bg5 e6 f4...</td>\n",
       "    </tr>\n",
       "    <tr>\n",
       "      <th>741</th>\n",
       "      <td>B98</td>\n",
       "      <td>Sicilian Defense: Najdorf Variation, Goteborg ...</td>\n",
       "      <td>1. e4 c5 2. Nf3 d6 3. d4 cxd4 4. Nxd4 Nf6 5. N...</td>\n",
       "      <td>e4 c5 Nf3 d6 d4 cxd4 Nxd4 Nf6 Nc3 a6 Bg5 e6 f4...</td>\n",
       "    </tr>\n",
       "    <tr>\n",
       "      <th>742</th>\n",
       "      <td>B98</td>\n",
       "      <td>Sicilian Defense: Najdorf Variation, Tradition...</td>\n",
       "      <td>1. e4 c5 2. Nf3 d6 3. d4 cxd4 4. Nxd4 Nf6 5. N...</td>\n",
       "      <td>e4 c5 Nf3 d6 d4 cxd4 Nxd4 Nf6 Nc3 a6 Bg5 e6 f4...</td>\n",
       "    </tr>\n",
       "    <tr>\n",
       "      <th>743</th>\n",
       "      <td>B99</td>\n",
       "      <td>Sicilian Defense: Najdorf Variation, Main Line</td>\n",
       "      <td>1. e4 c5 2. Nf3 d6 3. d4 cxd4 4. Nxd4 Nf6 5. N...</td>\n",
       "      <td>e4 c5 Nf3 d6 d4 cxd4 Nxd4 Nf6 Nc3 a6 Bg5 e6 f4...</td>\n",
       "    </tr>\n",
       "  </tbody>\n",
       "</table>\n",
       "<p>744 rows × 4 columns</p>\n",
       "</div>"
      ],
      "text/plain": [
       "     eco                                               name  \\\n",
       "0    B00                                     Barnes Defense   \n",
       "1    B00                                       Borg Defense   \n",
       "2    B00                          Borg Defense: Borg Gambit   \n",
       "3    B00                         Borg Defense: Troon Gambit   \n",
       "4    B00                   Borg Defense: Zilbermints Gambit   \n",
       "..   ...                                                ...   \n",
       "739  B98                Sicilian Defense: Najdorf Variation   \n",
       "740  B98  Sicilian Defense: Najdorf Variation, Browne Va...   \n",
       "741  B98  Sicilian Defense: Najdorf Variation, Goteborg ...   \n",
       "742  B98  Sicilian Defense: Najdorf Variation, Tradition...   \n",
       "743  B99     Sicilian Defense: Najdorf Variation, Main Line   \n",
       "\n",
       "                                                   pgn  \\\n",
       "0                                             1. e4 f6   \n",
       "1                                             1. e4 g5   \n",
       "2                                   1. e4 g5 2. d4 Bg7   \n",
       "3                           1. e4 g5 2. d4 h6 3. h4 g4   \n",
       "4                                    1. e4 g5 2. d4 e5   \n",
       "..                                                 ...   \n",
       "739  1. e4 c5 2. Nf3 d6 3. d4 cxd4 4. Nxd4 Nf6 5. N...   \n",
       "740  1. e4 c5 2. Nf3 d6 3. d4 cxd4 4. Nxd4 Nf6 5. N...   \n",
       "741  1. e4 c5 2. Nf3 d6 3. d4 cxd4 4. Nxd4 Nf6 5. N...   \n",
       "742  1. e4 c5 2. Nf3 d6 3. d4 cxd4 4. Nxd4 Nf6 5. N...   \n",
       "743  1. e4 c5 2. Nf3 d6 3. d4 cxd4 4. Nxd4 Nf6 5. N...   \n",
       "\n",
       "                                        normalized_pgn  \n",
       "0                                                e4 f6  \n",
       "1                                                e4 g5  \n",
       "2                                         e4 g5 d4 Bg7  \n",
       "3                                    e4 g5 d4 h6 h4 g4  \n",
       "4                                          e4 g5 d4 e5  \n",
       "..                                                 ...  \n",
       "739  e4 c5 Nf3 d6 d4 cxd4 Nxd4 Nf6 Nc3 a6 Bg5 e6 f4...  \n",
       "740  e4 c5 Nf3 d6 d4 cxd4 Nxd4 Nf6 Nc3 a6 Bg5 e6 f4...  \n",
       "741  e4 c5 Nf3 d6 d4 cxd4 Nxd4 Nf6 Nc3 a6 Bg5 e6 f4...  \n",
       "742  e4 c5 Nf3 d6 d4 cxd4 Nxd4 Nf6 Nc3 a6 Bg5 e6 f4...  \n",
       "743  e4 c5 Nf3 d6 d4 cxd4 Nxd4 Nf6 Nc3 a6 Bg5 e6 f4...  \n",
       "\n",
       "[744 rows x 4 columns]"
      ]
     },
     "execution_count": 63,
     "metadata": {},
     "output_type": "execute_result"
    }
   ],
   "source": [
    "Bopenings_df"
   ]
  },
  {
   "cell_type": "code",
   "execution_count": 64,
   "id": "d056b80b-b055-43c8-9a18-f6b7378e985c",
   "metadata": {},
   "outputs": [],
   "source": [
    "all_openings_df = pd.concat(dfs, ignore_index=True)\n",
    "\n"
   ]
  },
  {
   "cell_type": "code",
   "execution_count": 65,
   "id": "ec57875c-f49c-4d0f-9e95-8891194c015d",
   "metadata": {
    "scrolled": true
   },
   "outputs": [
    {
     "data": {
      "text/html": [
       "<div>\n",
       "<style scoped>\n",
       "    .dataframe tbody tr th:only-of-type {\n",
       "        vertical-align: middle;\n",
       "    }\n",
       "\n",
       "    .dataframe tbody tr th {\n",
       "        vertical-align: top;\n",
       "    }\n",
       "\n",
       "    .dataframe thead th {\n",
       "        text-align: right;\n",
       "    }\n",
       "</style>\n",
       "<table border=\"1\" class=\"dataframe\">\n",
       "  <thead>\n",
       "    <tr style=\"text-align: right;\">\n",
       "      <th></th>\n",
       "      <th>eco</th>\n",
       "      <th>name</th>\n",
       "      <th>pgn</th>\n",
       "      <th>normalized_pgn</th>\n",
       "    </tr>\n",
       "  </thead>\n",
       "  <tbody>\n",
       "    <tr>\n",
       "      <th>0</th>\n",
       "      <td>A00</td>\n",
       "      <td>Amar Opening</td>\n",
       "      <td>1. Nh3</td>\n",
       "      <td>Nh3</td>\n",
       "    </tr>\n",
       "    <tr>\n",
       "      <th>1</th>\n",
       "      <td>A00</td>\n",
       "      <td>Amar Opening: Paris Gambit</td>\n",
       "      <td>1. Nh3 d5 2. g3 e5 3. f4</td>\n",
       "      <td>Nh3 d5 g3 e5 f4</td>\n",
       "    </tr>\n",
       "    <tr>\n",
       "      <th>2</th>\n",
       "      <td>A00</td>\n",
       "      <td>Amar Opening: Paris Gambit, Gent Gambit</td>\n",
       "      <td>1. Nh3 d5 2. g3 e5 3. f4 Bxh3 4. Bxh3 exf4 5. ...</td>\n",
       "      <td>Nh3 d5 g3 e5 f4 Bxh3 Bxh3 exf4 O-O fxg3 hxg3</td>\n",
       "    </tr>\n",
       "    <tr>\n",
       "      <th>3</th>\n",
       "      <td>A00</td>\n",
       "      <td>Amsterdam Attack</td>\n",
       "      <td>1. e3 e5 2. c4 d6 3. Nc3 Nc6 4. b3 Nf6</td>\n",
       "      <td>e3 e5 c4 d6 Nc3 Nc6 b3 Nf6</td>\n",
       "    </tr>\n",
       "    <tr>\n",
       "      <th>4</th>\n",
       "      <td>A00</td>\n",
       "      <td>Anderssen's Opening</td>\n",
       "      <td>1. a3</td>\n",
       "      <td>a3</td>\n",
       "    </tr>\n",
       "    <tr>\n",
       "      <th>...</th>\n",
       "      <td>...</td>\n",
       "      <td>...</td>\n",
       "      <td>...</td>\n",
       "      <td>...</td>\n",
       "    </tr>\n",
       "    <tr>\n",
       "      <th>3502</th>\n",
       "      <td>E98</td>\n",
       "      <td>King's Indian Defense: Orthodox Variation, Cla...</td>\n",
       "      <td>1. d4 Nf6 2. c4 g6 3. Nc3 Bg7 4. e4 d6 5. Nf3 ...</td>\n",
       "      <td>d4 Nf6 c4 g6 Nc3 Bg7 e4 d6 Nf3 O-O Be2 e5 O-O ...</td>\n",
       "    </tr>\n",
       "    <tr>\n",
       "      <th>3503</th>\n",
       "      <td>E98</td>\n",
       "      <td>King's Indian Defense: Orthodox Variation, Cla...</td>\n",
       "      <td>1. d4 Nf6 2. c4 g6 3. Nc3 Bg7 4. e4 d6 5. Nf3 ...</td>\n",
       "      <td>d4 Nf6 c4 g6 Nc3 Bg7 e4 d6 Nf3 O-O Be2 e5 O-O ...</td>\n",
       "    </tr>\n",
       "    <tr>\n",
       "      <th>3504</th>\n",
       "      <td>E98</td>\n",
       "      <td>King's Indian Defense: Orthodox Variation, Cla...</td>\n",
       "      <td>1. d4 Nf6 2. c4 g6 3. Nc3 Bg7 4. e4 d6 5. Nf3 ...</td>\n",
       "      <td>d4 Nf6 c4 g6 Nc3 Bg7 e4 d6 Nf3 O-O Be2 e5 O-O ...</td>\n",
       "    </tr>\n",
       "    <tr>\n",
       "      <th>3505</th>\n",
       "      <td>E99</td>\n",
       "      <td>King's Indian Defense: Orthodox Variation, Cla...</td>\n",
       "      <td>1. d4 Nf6 2. c4 g6 3. Nc3 Bg7 4. e4 d6 5. Nf3 ...</td>\n",
       "      <td>d4 Nf6 c4 g6 Nc3 Bg7 e4 d6 Nf3 O-O Be2 e5 O-O ...</td>\n",
       "    </tr>\n",
       "    <tr>\n",
       "      <th>3506</th>\n",
       "      <td>E99</td>\n",
       "      <td>King's Indian Defense: Orthodox Variation, Cla...</td>\n",
       "      <td>1. d4 Nf6 2. c4 g6 3. Nc3 Bg7 4. e4 d6 5. Nf3 ...</td>\n",
       "      <td>d4 Nf6 c4 g6 Nc3 Bg7 e4 d6 Nf3 O-O Be2 e5 O-O ...</td>\n",
       "    </tr>\n",
       "  </tbody>\n",
       "</table>\n",
       "<p>3507 rows × 4 columns</p>\n",
       "</div>"
      ],
      "text/plain": [
       "      eco                                               name  \\\n",
       "0     A00                                       Amar Opening   \n",
       "1     A00                         Amar Opening: Paris Gambit   \n",
       "2     A00            Amar Opening: Paris Gambit, Gent Gambit   \n",
       "3     A00                                   Amsterdam Attack   \n",
       "4     A00                                Anderssen's Opening   \n",
       "...   ...                                                ...   \n",
       "3502  E98  King's Indian Defense: Orthodox Variation, Cla...   \n",
       "3503  E98  King's Indian Defense: Orthodox Variation, Cla...   \n",
       "3504  E98  King's Indian Defense: Orthodox Variation, Cla...   \n",
       "3505  E99  King's Indian Defense: Orthodox Variation, Cla...   \n",
       "3506  E99  King's Indian Defense: Orthodox Variation, Cla...   \n",
       "\n",
       "                                                    pgn  \\\n",
       "0                                                1. Nh3   \n",
       "1                              1. Nh3 d5 2. g3 e5 3. f4   \n",
       "2     1. Nh3 d5 2. g3 e5 3. f4 Bxh3 4. Bxh3 exf4 5. ...   \n",
       "3                1. e3 e5 2. c4 d6 3. Nc3 Nc6 4. b3 Nf6   \n",
       "4                                                 1. a3   \n",
       "...                                                 ...   \n",
       "3502  1. d4 Nf6 2. c4 g6 3. Nc3 Bg7 4. e4 d6 5. Nf3 ...   \n",
       "3503  1. d4 Nf6 2. c4 g6 3. Nc3 Bg7 4. e4 d6 5. Nf3 ...   \n",
       "3504  1. d4 Nf6 2. c4 g6 3. Nc3 Bg7 4. e4 d6 5. Nf3 ...   \n",
       "3505  1. d4 Nf6 2. c4 g6 3. Nc3 Bg7 4. e4 d6 5. Nf3 ...   \n",
       "3506  1. d4 Nf6 2. c4 g6 3. Nc3 Bg7 4. e4 d6 5. Nf3 ...   \n",
       "\n",
       "                                         normalized_pgn  \n",
       "0                                                   Nh3  \n",
       "1                                       Nh3 d5 g3 e5 f4  \n",
       "2          Nh3 d5 g3 e5 f4 Bxh3 Bxh3 exf4 O-O fxg3 hxg3  \n",
       "3                            e3 e5 c4 d6 Nc3 Nc6 b3 Nf6  \n",
       "4                                                    a3  \n",
       "...                                                 ...  \n",
       "3502  d4 Nf6 c4 g6 Nc3 Bg7 e4 d6 Nf3 O-O Be2 e5 O-O ...  \n",
       "3503  d4 Nf6 c4 g6 Nc3 Bg7 e4 d6 Nf3 O-O Be2 e5 O-O ...  \n",
       "3504  d4 Nf6 c4 g6 Nc3 Bg7 e4 d6 Nf3 O-O Be2 e5 O-O ...  \n",
       "3505  d4 Nf6 c4 g6 Nc3 Bg7 e4 d6 Nf3 O-O Be2 e5 O-O ...  \n",
       "3506  d4 Nf6 c4 g6 Nc3 Bg7 e4 d6 Nf3 O-O Be2 e5 O-O ...  \n",
       "\n",
       "[3507 rows x 4 columns]"
      ]
     },
     "execution_count": 65,
     "metadata": {},
     "output_type": "execute_result"
    }
   ],
   "source": [
    "all_openings_df"
   ]
  },
  {
   "cell_type": "code",
   "execution_count": 67,
   "id": "503e3ed7-9695-4ea4-bd47-42dd657aae90",
   "metadata": {
    "scrolled": true
   },
   "outputs": [
    {
     "name": "stdout",
     "output_type": "stream",
     "text": [
      "Empty DataFrame\n",
      "Columns: [eco, name, pgn, normalized_pgn]\n",
      "Index: []\n"
     ]
    }
   ],
   "source": [
    "print(all_openings_df[all_openings_df['normalized_pgn'].isnull()])"
   ]
  },
  {
   "cell_type": "code",
   "execution_count": null,
   "id": "6fa3cf89-c7bb-4816-9067-c3763074479f",
   "metadata": {},
   "outputs": [],
   "source": []
  },
  {
   "cell_type": "code",
   "execution_count": 68,
   "id": "a4028adb-dcbe-4471-9677-38e311473e7f",
   "metadata": {},
   "outputs": [],
   "source": [
    "all_openings_df.to_csv(\"all_openings_normalized.csv\", index=False)"
   ]
  },
  {
   "cell_type": "code",
   "execution_count": null,
   "id": "beb28e33-a346-4967-814d-0e7cb2d5b21b",
   "metadata": {},
   "outputs": [],
   "source": []
  },
  {
   "cell_type": "code",
   "execution_count": 76,
   "id": "fbb13a23-85b1-4d2e-8421-99a23e652d36",
   "metadata": {},
   "outputs": [
    {
     "name": "stdout",
     "output_type": "stream",
     "text": [
      "ECO Code: C28, Opening Name: Bishop's Opening: Vienna Hybrid, Hromádka Variation, Moves Matched: 6\n"
     ]
    }
   ],
   "source": [
    "def find_longest_matching_opening(df, game_moves):\n",
    "    game_move_list = game_moves.split()\n",
    "    max_match_length = 0\n",
    "    best_match_eco = None\n",
    "    best_match_name = None\n",
    "\n",
    "    # Iterate through each opening in the DataFrame\n",
    "    for index, row in df.iterrows():\n",
    "        db_move_list = row['normalized_pgn'].split()\n",
    "        # Find the longest match starting from the beginning\n",
    "        match_length = 0\n",
    "        for gm, dm in zip(game_move_list, db_move_list):\n",
    "            if gm == dm:\n",
    "                match_length += 1\n",
    "            else:\n",
    "                break       \n",
    "        # Update the best match if the current match is longer\n",
    "        if match_length > max_match_length:\n",
    "            max_match_length = match_length\n",
    "            best_match_eco = row['eco']\n",
    "            best_match_name = row['name']\n",
    "\n",
    "    return best_match_eco, best_match_name, max_match_length\n",
    "\n",
    "# Example usage\n",
    "game_moves = 'e4 e5 Nc3 Nc6 Bc4 Nf6 Nge2 Bc5 O-O O-O d3 a6 a4 d6 Bg5 Be6'\n",
    "eco_code, opening_name, match_length = find_longest_matching_opening(all_openings_df, game_moves)\n",
    "\n",
    "if eco_code:\n",
    "    print(f\"ECO Code: {eco_code}, Opening Name: {opening_name}, Moves Matched: {match_length}\")\n",
    "else:\n",
    "    print(\"No matching opening found.\")"
   ]
  },
  {
   "cell_type": "code",
   "execution_count": null,
   "id": "9f4e04a8-210d-424a-9eab-31273e54f591",
   "metadata": {},
   "outputs": [],
   "source": []
  },
  {
   "cell_type": "code",
   "execution_count": 77,
   "id": "ec31743c-70a4-4af8-a3f9-18074c04021f",
   "metadata": {},
   "outputs": [],
   "source": [
    "def load_pgn_moves(pgn_file_path):\n",
    "    # Open the PGN file\n",
    "    with open(pgn_file_path, 'r') as pgn_file:\n",
    "        # Read the first game in the PGN file\n",
    "        game = chess.pgn.read_game(pgn_file)\n",
    "        \n",
    "        # Initialize the board and move list\n",
    "        board = game.board()\n",
    "        moves_san = []\n",
    "        \n",
    "        # Extract moves in SAN (Standard Algebraic Notation)\n",
    "        for move in game.mainline_moves():\n",
    "            moves_san.append(board.san(move))\n",
    "            board.push(move)\n",
    "        \n",
    "        # Join the moves into a single string\n",
    "        moves_sequence = ' '.join(moves_san)\n",
    "        return moves_sequence"
   ]
  },
  {
   "cell_type": "code",
   "execution_count": 78,
   "id": "45f8ca8e-23ee-49a5-885d-5df468346b3d",
   "metadata": {},
   "outputs": [
    {
     "data": {
      "text/plain": [
       "'e4 e5 Nc3 Nc6 Bc4 Nf6 Nge2 Bc5 O-O O-O d3 a6 a4 d6 Bg5 Be6 Nd5 Bxd5 exd5 Na5 Ba2 b5 c3 Ba7 b4 Nb7 axb5 axb5 Bb3 h6 Bh4 g5 Bg3 c5 c4 bxc4 dxc4 cxb4 Nc1 Nc5 Nd3 Nxb3 Qxb3 e4 Nxb4 Bc5 Nc6 Qc7 Rxa8 Rxa8 h3 h5 Qb2 Kg7 h4 gxh4 Bxh4 Qd7 Qxf6+ Kh7 Re1 Qg4 Qxf7+ Qg7 Qxg7+ Kxg7 Rxe4 Ra1+ Kh2 Ra2 Rf4 Kh6 Ne7 Bd4 Nf5+ Kg6 Nxd4 Rd2 Nf3'"
      ]
     },
     "execution_count": 78,
     "metadata": {},
     "output_type": "execute_result"
    }
   ],
   "source": [
    "load_pgn_moves('marwanchessksa_vs_pranavks_2024.12.17.pgn')"
   ]
  },
  {
   "cell_type": "code",
   "execution_count": 79,
   "id": "0e00d358-48fc-4f8b-ace7-9ce791134ec2",
   "metadata": {},
   "outputs": [],
   "source": [
    "def normalize_moves(move_sequence):\n",
    "    # Remove move numbers and periods\n",
    "    import re\n",
    "    normalized_sequence = re.sub(r'\\d+\\.', '', move_sequence)\n",
    "    # Remove extra spaces\n",
    "    normalized_sequence = ' '.join(normalized_sequence.split())\n",
    "    return normalized_sequence"
   ]
  },
  {
   "cell_type": "code",
   "execution_count": 80,
   "id": "1d805a5b-34eb-44b6-b031-bbbe70e0b687",
   "metadata": {},
   "outputs": [
    {
     "name": "stdout",
     "output_type": "stream",
     "text": [
      "ECO Code: C28, Opening Name: Bishop's Opening: Vienna Hybrid, Hromádka Variation, Moves Matched: 6\n"
     ]
    }
   ],
   "source": [
    "# Extract and normalize moves from the PGN file\n",
    "game_moves = load_pgn_moves('marwanchessksa_vs_pranavks_2024.12.17.pgn')\n",
    "normalized_game_moves = normalize_moves(game_moves)\n",
    "\n",
    "# Find the best matching opening\n",
    "eco_code, opening_name, match_length = find_longest_matching_opening(all_openings_df, normalized_game_moves)\n",
    "\n",
    "# Display the result\n",
    "if eco_code:\n",
    "    print(f\"ECO Code: {eco_code}, Opening Name: {opening_name}, Moves Matched: {match_length}\")\n",
    "else:\n",
    "    print(\"No matching opening found.\")"
   ]
  },
  {
   "cell_type": "code",
   "execution_count": 212,
   "id": "cc74583a-98d1-414b-8ae1-74f1a226566e",
   "metadata": {},
   "outputs": [
    {
     "data": {
      "text/html": [
       "<div>\n",
       "<style scoped>\n",
       "    .dataframe tbody tr th:only-of-type {\n",
       "        vertical-align: middle;\n",
       "    }\n",
       "\n",
       "    .dataframe tbody tr th {\n",
       "        vertical-align: top;\n",
       "    }\n",
       "\n",
       "    .dataframe thead th {\n",
       "        text-align: right;\n",
       "    }\n",
       "</style>\n",
       "<table border=\"1\" class=\"dataframe\">\n",
       "  <thead>\n",
       "    <tr style=\"text-align: right;\">\n",
       "      <th></th>\n",
       "      <th>eco</th>\n",
       "      <th>name</th>\n",
       "      <th>pgn</th>\n",
       "      <th>normalized_pgn</th>\n",
       "    </tr>\n",
       "  </thead>\n",
       "  <tbody>\n",
       "    <tr>\n",
       "      <th>0</th>\n",
       "      <td>E00</td>\n",
       "      <td>Catalan Opening</td>\n",
       "      <td>1. d4 Nf6 2. c4 e6 3. g3</td>\n",
       "      <td>d4 Nf6 c4 e6 g3</td>\n",
       "    </tr>\n",
       "    <tr>\n",
       "      <th>1</th>\n",
       "      <td>E00</td>\n",
       "      <td>Catalan Opening</td>\n",
       "      <td>1. d4 Nf6 2. c4 e6 3. g3 d5</td>\n",
       "      <td>d4 Nf6 c4 e6 g3 d5</td>\n",
       "    </tr>\n",
       "    <tr>\n",
       "      <th>2</th>\n",
       "      <td>E00</td>\n",
       "      <td>Catalan Opening: Hungarian Gambit</td>\n",
       "      <td>1. d4 Nf6 2. c4 e6 3. g3 e5</td>\n",
       "      <td>d4 Nf6 c4 e6 g3 e5</td>\n",
       "    </tr>\n",
       "    <tr>\n",
       "      <th>3</th>\n",
       "      <td>E00</td>\n",
       "      <td>Indian Defense</td>\n",
       "      <td>1. d4 Nf6 2. c4 e6 3. Qb3</td>\n",
       "      <td>d4 Nf6 c4 e6 Qb3</td>\n",
       "    </tr>\n",
       "    <tr>\n",
       "      <th>4</th>\n",
       "      <td>E00</td>\n",
       "      <td>Indian Defense: Devin Gambit</td>\n",
       "      <td>1. d4 Nf6 2. c4 e6 3. g4</td>\n",
       "      <td>d4 Nf6 c4 e6 g4</td>\n",
       "    </tr>\n",
       "    <tr>\n",
       "      <th>...</th>\n",
       "      <td>...</td>\n",
       "      <td>...</td>\n",
       "      <td>...</td>\n",
       "      <td>...</td>\n",
       "    </tr>\n",
       "    <tr>\n",
       "      <th>313</th>\n",
       "      <td>E98</td>\n",
       "      <td>King's Indian Defense: Orthodox Variation, Cla...</td>\n",
       "      <td>1. d4 Nf6 2. c4 g6 3. Nc3 Bg7 4. e4 d6 5. Nf3 ...</td>\n",
       "      <td>d4 Nf6 c4 g6 Nc3 Bg7 e4 d6 Nf3 O-O Be2 e5 O-O ...</td>\n",
       "    </tr>\n",
       "    <tr>\n",
       "      <th>314</th>\n",
       "      <td>E98</td>\n",
       "      <td>King's Indian Defense: Orthodox Variation, Cla...</td>\n",
       "      <td>1. d4 Nf6 2. c4 g6 3. Nc3 Bg7 4. e4 d6 5. Nf3 ...</td>\n",
       "      <td>d4 Nf6 c4 g6 Nc3 Bg7 e4 d6 Nf3 O-O Be2 e5 O-O ...</td>\n",
       "    </tr>\n",
       "    <tr>\n",
       "      <th>315</th>\n",
       "      <td>E98</td>\n",
       "      <td>King's Indian Defense: Orthodox Variation, Cla...</td>\n",
       "      <td>1. d4 Nf6 2. c4 g6 3. Nc3 Bg7 4. e4 d6 5. Nf3 ...</td>\n",
       "      <td>d4 Nf6 c4 g6 Nc3 Bg7 e4 d6 Nf3 O-O Be2 e5 O-O ...</td>\n",
       "    </tr>\n",
       "    <tr>\n",
       "      <th>316</th>\n",
       "      <td>E99</td>\n",
       "      <td>King's Indian Defense: Orthodox Variation, Cla...</td>\n",
       "      <td>1. d4 Nf6 2. c4 g6 3. Nc3 Bg7 4. e4 d6 5. Nf3 ...</td>\n",
       "      <td>d4 Nf6 c4 g6 Nc3 Bg7 e4 d6 Nf3 O-O Be2 e5 O-O ...</td>\n",
       "    </tr>\n",
       "    <tr>\n",
       "      <th>317</th>\n",
       "      <td>E99</td>\n",
       "      <td>King's Indian Defense: Orthodox Variation, Cla...</td>\n",
       "      <td>1. d4 Nf6 2. c4 g6 3. Nc3 Bg7 4. e4 d6 5. Nf3 ...</td>\n",
       "      <td>d4 Nf6 c4 g6 Nc3 Bg7 e4 d6 Nf3 O-O Be2 e5 O-O ...</td>\n",
       "    </tr>\n",
       "  </tbody>\n",
       "</table>\n",
       "<p>318 rows × 4 columns</p>\n",
       "</div>"
      ],
      "text/plain": [
       "     eco                                               name  \\\n",
       "0    E00                                    Catalan Opening   \n",
       "1    E00                                    Catalan Opening   \n",
       "2    E00                  Catalan Opening: Hungarian Gambit   \n",
       "3    E00                                     Indian Defense   \n",
       "4    E00                       Indian Defense: Devin Gambit   \n",
       "..   ...                                                ...   \n",
       "313  E98  King's Indian Defense: Orthodox Variation, Cla...   \n",
       "314  E98  King's Indian Defense: Orthodox Variation, Cla...   \n",
       "315  E98  King's Indian Defense: Orthodox Variation, Cla...   \n",
       "316  E99  King's Indian Defense: Orthodox Variation, Cla...   \n",
       "317  E99  King's Indian Defense: Orthodox Variation, Cla...   \n",
       "\n",
       "                                                   pgn  \\\n",
       "0                             1. d4 Nf6 2. c4 e6 3. g3   \n",
       "1                          1. d4 Nf6 2. c4 e6 3. g3 d5   \n",
       "2                          1. d4 Nf6 2. c4 e6 3. g3 e5   \n",
       "3                            1. d4 Nf6 2. c4 e6 3. Qb3   \n",
       "4                             1. d4 Nf6 2. c4 e6 3. g4   \n",
       "..                                                 ...   \n",
       "313  1. d4 Nf6 2. c4 g6 3. Nc3 Bg7 4. e4 d6 5. Nf3 ...   \n",
       "314  1. d4 Nf6 2. c4 g6 3. Nc3 Bg7 4. e4 d6 5. Nf3 ...   \n",
       "315  1. d4 Nf6 2. c4 g6 3. Nc3 Bg7 4. e4 d6 5. Nf3 ...   \n",
       "316  1. d4 Nf6 2. c4 g6 3. Nc3 Bg7 4. e4 d6 5. Nf3 ...   \n",
       "317  1. d4 Nf6 2. c4 g6 3. Nc3 Bg7 4. e4 d6 5. Nf3 ...   \n",
       "\n",
       "                                        normalized_pgn  \n",
       "0                                      d4 Nf6 c4 e6 g3  \n",
       "1                                   d4 Nf6 c4 e6 g3 d5  \n",
       "2                                   d4 Nf6 c4 e6 g3 e5  \n",
       "3                                     d4 Nf6 c4 e6 Qb3  \n",
       "4                                      d4 Nf6 c4 e6 g4  \n",
       "..                                                 ...  \n",
       "313  d4 Nf6 c4 g6 Nc3 Bg7 e4 d6 Nf3 O-O Be2 e5 O-O ...  \n",
       "314  d4 Nf6 c4 g6 Nc3 Bg7 e4 d6 Nf3 O-O Be2 e5 O-O ...  \n",
       "315  d4 Nf6 c4 g6 Nc3 Bg7 e4 d6 Nf3 O-O Be2 e5 O-O ...  \n",
       "316  d4 Nf6 c4 g6 Nc3 Bg7 e4 d6 Nf3 O-O Be2 e5 O-O ...  \n",
       "317  d4 Nf6 c4 g6 Nc3 Bg7 e4 d6 Nf3 O-O Be2 e5 O-O ...  \n",
       "\n",
       "[318 rows x 4 columns]"
      ]
     },
     "execution_count": 212,
     "metadata": {},
     "output_type": "execute_result"
    }
   ],
   "source": []
  },
  {
   "cell_type": "markdown",
   "id": "f79ec555-afe3-404d-b6d8-be279e4371ba",
   "metadata": {},
   "source": []
  },
  {
   "cell_type": "code",
   "execution_count": 81,
   "id": "b7c45ebc-e3c8-403b-b3b4-ad819b5e9107",
   "metadata": {},
   "outputs": [
    {
     "name": "stderr",
     "output_type": "stream",
     "text": [
      "/var/folders/4z/ggrzkm3159nfsmc7nz4hty1r0000gn/T/ipykernel_46823/1433636862.py:109: FutureWarning: The behavior of DataFrame concatenation with empty or all-NA entries is deprecated. In a future version, this will no longer exclude empty or all-NA columns when determining the result dtypes. To retain the old behavior, exclude the relevant entries before the concat operation.\n",
      "  games_df = pd.concat([games_df, new_row], ignore_index=True)\n"
     ]
    }
   ],
   "source": [
    "games_df = pd.DataFrame(columns=['Color', 'Opponent', 'Accuracy', 'Result', 'Number of Moves', 'ECO', 'Opening Name', 'Date'])\n",
    "\n",
    "# Thresholds for move classifications\n",
    "THRESHOLDS = {\n",
    "    \"best\": 0,\n",
    "    \"great\": 0.2,\n",
    "    \"good\": 0.5,\n",
    "    \"inaccuracy\": 1.0,\n",
    "    \"mistake\": 3.0,\n",
    "    \"blunder\": float(\"inf\")\n",
    "}\n",
    "\n",
    "# Classification scores for accuracy calculation\n",
    "MOVE_SCORES = {\n",
    "    \"Best Move\": 1.0,\n",
    "    \"Great Move\": 0.9,\n",
    "    \"Good Move\": 0.7,\n",
    "    \"Inaccuracy\": 0.5,\n",
    "    \"Mistake\": 0.3,\n",
    "    \"Blunder\": 0.0\n",
    "}\n",
    "\n",
    "# Function to classify moves based on evaluation difference\n",
    "def classify_move(eval_diff):\n",
    "    if eval_diff == 0:\n",
    "        return \"Best Move\"\n",
    "    elif eval_diff <= THRESHOLDS[\"great\"]:\n",
    "        return \"Great Move\"\n",
    "    elif eval_diff <= THRESHOLDS[\"good\"]:\n",
    "        return \"Good Move\"\n",
    "    elif eval_diff <= THRESHOLDS[\"inaccuracy\"]:\n",
    "        return \"Inaccuracy\"\n",
    "    elif eval_diff <= THRESHOLDS[\"mistake\"]:\n",
    "        return \"Mistake\"\n",
    "    else:\n",
    "        return \"Blunder\"\n",
    "\n",
    "# Function to calculate accuracy\n",
    "def calculate_accuracy(move_counts):\n",
    "    total_moves = sum(move_counts.values())\n",
    "    if total_moves == 0:\n",
    "        return 0.0\n",
    "    score = sum(move_counts[move] * MOVE_SCORES[move] for move in move_counts)\n",
    "    return (score / total_moves) * 100\n",
    "\n",
    "# Read and analyze the game\n",
    "with open(pgn_name, \"r\") as f:\n",
    "    first_game = chess.pgn.read_game(f)\n",
    "\n",
    "# Extract metadata\n",
    "white_player = first_game.headers[\"White\"]\n",
    "black_player = first_game.headers[\"Black\"]\n",
    "result = first_game.headers[\"Result\"]\n",
    "date = first_game.headers[\"Date\"]\n",
    "\n",
    "# Determine your color and opponent\n",
    "if \"pranavks\" in white_player.lower():\n",
    "    color = \"White\"\n",
    "    opponent = black_player\n",
    "else:\n",
    "    color = \"Black\"\n",
    "    opponent = white_player\n",
    "\n",
    "# Initialize board and move counts\n",
    "board = first_game.board()\n",
    "move_counts = {\"Best Move\": 0, \"Great Move\": 0, \"Good Move\": 0, \"Inaccuracy\": 0, \"Mistake\": 0, \"Blunder\": 0}\n",
    "\n",
    "# Analyze moves\n",
    "for move in first_game.mainline_moves():\n",
    "    # Get evaluation before the move\n",
    "    stockfish.set_fen_position(board.fen())\n",
    "    current_eval = stockfish.get_evaluation()\n",
    "\n",
    "    # Apply the move\n",
    "    board.push(move)\n",
    "\n",
    "    # Get evaluation after the move\n",
    "    stockfish.set_fen_position(board.fen())\n",
    "    played_eval = stockfish.get_evaluation()\n",
    "\n",
    "    # Classify the move\n",
    "    if current_eval[\"type\"] == \"cp\" and played_eval[\"type\"] == \"cp\":\n",
    "        eval_diff = abs((played_eval[\"value\"] - current_eval[\"value\"]) / 100)\n",
    "        classification = classify_move(eval_diff)\n",
    "        move_counts[classification] += 1\n",
    "\n",
    "# Calculate accuracy and total moves\n",
    "accuracy = calculate_accuracy(move_counts)\n",
    "number_of_moves = len(list(first_game.mainline_moves()))\n",
    "\n",
    "# Extract and normalize moves from the PGN file\n",
    "game_moves = load_pgn_moves('marwanchessksa_vs_pranavks_2024.12.17.pgn')\n",
    "normalized_game_moves = normalize_moves(game_moves)\n",
    "\n",
    "# Find the best matching opening\n",
    "eco_code, opening_name, match_length = find_longest_matching_opening(all_openings_df, normalized_game_moves)\n",
    "\n",
    "# Add the new row to the games DataFrame\n",
    "new_row = pd.DataFrame([{\n",
    "    \"Color\": color,\n",
    "    \"Opponent\": opponent,\n",
    "    \"Accuracy\": round(accuracy, 2),\n",
    "    \"Result\": result,\n",
    "    \"Number of Moves\": number_of_moves,\n",
    "    \"ECO\": eco_code,\n",
    "    \"Opening Name\": opening_name,\n",
    "    \"Date\": date\n",
    "}])\n",
    "games_df = pd.concat([games_df, new_row], ignore_index=True)\n"
   ]
  },
  {
   "cell_type": "code",
   "execution_count": 82,
   "id": "b598ad18-7c24-425b-8bb2-a1c305be89fc",
   "metadata": {},
   "outputs": [
    {
     "data": {
      "text/html": [
       "<div>\n",
       "<style scoped>\n",
       "    .dataframe tbody tr th:only-of-type {\n",
       "        vertical-align: middle;\n",
       "    }\n",
       "\n",
       "    .dataframe tbody tr th {\n",
       "        vertical-align: top;\n",
       "    }\n",
       "\n",
       "    .dataframe thead th {\n",
       "        text-align: right;\n",
       "    }\n",
       "</style>\n",
       "<table border=\"1\" class=\"dataframe\">\n",
       "  <thead>\n",
       "    <tr style=\"text-align: right;\">\n",
       "      <th></th>\n",
       "      <th>Color</th>\n",
       "      <th>Opponent</th>\n",
       "      <th>Accuracy</th>\n",
       "      <th>Result</th>\n",
       "      <th>Number of Moves</th>\n",
       "      <th>ECO</th>\n",
       "      <th>Opening Name</th>\n",
       "      <th>Date</th>\n",
       "    </tr>\n",
       "  </thead>\n",
       "  <tbody>\n",
       "    <tr>\n",
       "      <th>0</th>\n",
       "      <td>Black</td>\n",
       "      <td>marwanchessksa</td>\n",
       "      <td>69.24</td>\n",
       "      <td>1-0</td>\n",
       "      <td>79</td>\n",
       "      <td>C28</td>\n",
       "      <td>Bishop's Opening: Vienna Hybrid, Hromádka Vari...</td>\n",
       "      <td>2024.12.17</td>\n",
       "    </tr>\n",
       "  </tbody>\n",
       "</table>\n",
       "</div>"
      ],
      "text/plain": [
       "   Color        Opponent  Accuracy Result Number of Moves  ECO  \\\n",
       "0  Black  marwanchessksa     69.24    1-0              79  C28   \n",
       "\n",
       "                                        Opening Name        Date  \n",
       "0  Bishop's Opening: Vienna Hybrid, Hromádka Vari...  2024.12.17  "
      ]
     },
     "execution_count": 82,
     "metadata": {},
     "output_type": "execute_result"
    }
   ],
   "source": [
    "games_df"
   ]
  },
  {
   "cell_type": "code",
   "execution_count": 311,
   "id": "f4d65d06-f0a3-4f85-9047-acb6279cd9db",
   "metadata": {},
   "outputs": [],
   "source": [
    "games_df.to_csv(\"one_game.csv\", index=False)"
   ]
  },
  {
   "cell_type": "code",
   "execution_count": 224,
   "id": "6c4d1698-692b-4bad-be14-00fc099b94b8",
   "metadata": {},
   "outputs": [
    {
     "data": {
      "text/plain": [
       "''"
      ]
     },
     "execution_count": 224,
     "metadata": {},
     "output_type": "execute_result"
    }
   ],
   "source": [
    "game_moves"
   ]
  },
  {
   "cell_type": "code",
   "execution_count": 225,
   "id": "51aa606d-0392-4f68-af13-2f06771dd0bf",
   "metadata": {},
   "outputs": [
    {
     "data": {
      "text/plain": [
       "[]"
      ]
     },
     "execution_count": 225,
     "metadata": {},
     "output_type": "execute_result"
    }
   ],
   "source": [
    "game_moves_san"
   ]
  },
  {
   "cell_type": "code",
   "execution_count": 319,
   "id": "cb75c67d-8ef5-467c-9813-2c6133d64e71",
   "metadata": {},
   "outputs": [
    {
     "data": {
      "text/plain": [
       "'marwanchessksa_vs_pranavks_2024.12.17.pgn'"
      ]
     },
     "execution_count": 319,
     "metadata": {},
     "output_type": "execute_result"
    }
   ],
   "source": [
    "pgn_name"
   ]
  },
  {
   "cell_type": "code",
   "execution_count": 317,
   "id": "f71eca75-6096-4c5c-aa32-62efb782650c",
   "metadata": {},
   "outputs": [],
   "source": [
    "games_df.to_csv('yoooo')"
   ]
  },
  {
   "cell_type": "code",
   "execution_count": 87,
   "id": "15e1181b-0f81-4222-b2d8-f3dd0ad078f6",
   "metadata": {},
   "outputs": [],
   "source": [
    "games_df['PGN Name']=pgn_name"
   ]
  },
  {
   "cell_type": "code",
   "execution_count": 89,
   "id": "f93f3ada-c2d9-4683-a453-4597e7feb02b",
   "metadata": {},
   "outputs": [],
   "source": [
    "games_df.to_csv(\"one_game.csv\", index=False)"
   ]
  },
  {
   "cell_type": "code",
   "execution_count": 322,
   "id": "12470b6e-a45a-4b65-8c4c-32a5cb3f1d3d",
   "metadata": {},
   "outputs": [
    {
     "data": {
      "text/plain": [
       "'e4 e5 Nc3 Nc6 Bc4 Nf6 Nge2 Bc5 O-O O-O d3 a6 a4 d6 Bg5 Be6 Nd5 Bxd5 exd5 Na5 Ba2 b5 c3 Ba7 b4 Nb7 axb5 axb5 Bb3 h6 Bh4 g5 Bg3 c5 c4 bxc4 dxc4 cxb4 Nc1 Nc5 Nd3 Nxb3 Qxb3 e4 Nxb4 Bc5 Nc6 Qc7 Rxa8 Rxa8 h3 h5 Qb2 Kg7 h4 gxh4 Bxh4 Qd7 Qxf6+ Kh7 Re1 Qg4 Qxf7+ Qg7 Qxg7+ Kxg7 Rxe4 Ra1+ Kh2 Ra2 Rf4 Kh6 Ne7 Bd4 Nf5+ Kg6 Nxd4 Rd2 Nf3'"
      ]
     },
     "execution_count": 322,
     "metadata": {},
     "output_type": "execute_result"
    }
   ],
   "source": [
    "game_moves"
   ]
  },
  {
   "cell_type": "code",
   "execution_count": 324,
   "id": "393aad44-0999-4965-92d4-c19234e88abd",
   "metadata": {},
   "outputs": [
    {
     "name": "stdout",
     "output_type": "stream",
     "text": [
      "All moves: ['e4', 'e5', 'Nc3', 'Nc6', 'Bc4', 'Nf6', 'Nge2', 'Bc5', 'O-O', 'O-O', 'd3', 'a6', 'a4', 'd6', 'Bg5', 'Be6', 'Nd5', 'Bxd5', 'exd5', 'Na5', 'Ba2', 'b5', 'c3', 'Ba7', 'b4', 'Nb7', 'axb5', 'axb5', 'Bb3', 'h6', 'Bh4', 'g5', 'Bg3', 'c5', 'c4', 'bxc4', 'dxc4', 'cxb4', 'Nc1', 'Nc5', 'Nd3', 'Nxb3', 'Qxb3', 'e4', 'Nxb4', 'Bc5', 'Nc6', 'Qc7', 'Rxa8', 'Rxa8', 'h3', 'h5', 'Qb2', 'Kg7', 'h4', 'gxh4', 'Bxh4', 'Qd7', 'Qxf6+', 'Kh7', 'Re1', 'Qg4', 'Qxf7+', 'Qg7', 'Qxg7+', 'Kxg7', 'Rxe4', 'Ra1+', 'Kh2', 'Ra2', 'Rf4', 'Kh6', 'Ne7', 'Bd4', 'Nf5+', 'Kg6', 'Nxd4', 'Rd2', 'Nf3']\n"
     ]
    }
   ],
   "source": [
    "with open('marwanchessksa_vs_pranavks_2024.12.17.pgn', 'r') as pgn_file:\n",
    "    game = chess.pgn.read_game(pgn_file)  # Read the first game from the file\n",
    "    \n",
    "    # Extract moves\n",
    "    moves = []\n",
    "    board = game.board()\n",
    "    for move in game.mainline_moves():\n",
    "        moves.append(board.san(move))  # Standard Algebraic Notation (SAN) of the moves\n",
    "        board.push(move)  # Push the move to the board\n",
    "\n",
    "# Print all moves\n",
    "print(\"All moves:\", moves)"
   ]
  },
  {
   "cell_type": "code",
   "execution_count": 325,
   "id": "026d6694-2a10-4f49-aae2-a6e676c8e602",
   "metadata": {},
   "outputs": [
    {
     "data": {
      "text/html": [
       "<div>\n",
       "<style scoped>\n",
       "    .dataframe tbody tr th:only-of-type {\n",
       "        vertical-align: middle;\n",
       "    }\n",
       "\n",
       "    .dataframe tbody tr th {\n",
       "        vertical-align: top;\n",
       "    }\n",
       "\n",
       "    .dataframe thead th {\n",
       "        text-align: right;\n",
       "    }\n",
       "</style>\n",
       "<table border=\"1\" class=\"dataframe\">\n",
       "  <thead>\n",
       "    <tr style=\"text-align: right;\">\n",
       "      <th></th>\n",
       "      <th>eco</th>\n",
       "      <th>name</th>\n",
       "      <th>pgn</th>\n",
       "      <th>normalized_pgn</th>\n",
       "    </tr>\n",
       "  </thead>\n",
       "  <tbody>\n",
       "    <tr>\n",
       "      <th>0</th>\n",
       "      <td>A00</td>\n",
       "      <td>Amar Opening</td>\n",
       "      <td>1. Nh3</td>\n",
       "      <td>Nh3</td>\n",
       "    </tr>\n",
       "    <tr>\n",
       "      <th>1</th>\n",
       "      <td>A00</td>\n",
       "      <td>Amar Opening: Paris Gambit</td>\n",
       "      <td>1. Nh3 d5 2. g3 e5 3. f4</td>\n",
       "      <td>Nh3 d5 g3 e5 f4</td>\n",
       "    </tr>\n",
       "    <tr>\n",
       "      <th>2</th>\n",
       "      <td>A00</td>\n",
       "      <td>Amar Opening: Paris Gambit, Gent Gambit</td>\n",
       "      <td>1. Nh3 d5 2. g3 e5 3. f4 Bxh3 4. Bxh3 exf4 5. ...</td>\n",
       "      <td>Nh3 d5 g3 e5 f4 Bxh3 Bxh3 exf4 O-O fxg3 hxg3</td>\n",
       "    </tr>\n",
       "    <tr>\n",
       "      <th>3</th>\n",
       "      <td>A00</td>\n",
       "      <td>Amsterdam Attack</td>\n",
       "      <td>1. e3 e5 2. c4 d6 3. Nc3 Nc6 4. b3 Nf6</td>\n",
       "      <td>e3 e5 c4 d6 Nc3 Nc6 b3 Nf6</td>\n",
       "    </tr>\n",
       "    <tr>\n",
       "      <th>4</th>\n",
       "      <td>A00</td>\n",
       "      <td>Anderssen's Opening</td>\n",
       "      <td>1. a3</td>\n",
       "      <td>a3</td>\n",
       "    </tr>\n",
       "    <tr>\n",
       "      <th>...</th>\n",
       "      <td>...</td>\n",
       "      <td>...</td>\n",
       "      <td>...</td>\n",
       "      <td>...</td>\n",
       "    </tr>\n",
       "    <tr>\n",
       "      <th>3502</th>\n",
       "      <td>E98</td>\n",
       "      <td>King's Indian Defense: Orthodox Variation, Cla...</td>\n",
       "      <td>1. d4 Nf6 2. c4 g6 3. Nc3 Bg7 4. e4 d6 5. Nf3 ...</td>\n",
       "      <td>d4 Nf6 c4 g6 Nc3 Bg7 e4 d6 Nf3 O-O Be2 e5 O-O ...</td>\n",
       "    </tr>\n",
       "    <tr>\n",
       "      <th>3503</th>\n",
       "      <td>E98</td>\n",
       "      <td>King's Indian Defense: Orthodox Variation, Cla...</td>\n",
       "      <td>1. d4 Nf6 2. c4 g6 3. Nc3 Bg7 4. e4 d6 5. Nf3 ...</td>\n",
       "      <td>d4 Nf6 c4 g6 Nc3 Bg7 e4 d6 Nf3 O-O Be2 e5 O-O ...</td>\n",
       "    </tr>\n",
       "    <tr>\n",
       "      <th>3504</th>\n",
       "      <td>E98</td>\n",
       "      <td>King's Indian Defense: Orthodox Variation, Cla...</td>\n",
       "      <td>1. d4 Nf6 2. c4 g6 3. Nc3 Bg7 4. e4 d6 5. Nf3 ...</td>\n",
       "      <td>d4 Nf6 c4 g6 Nc3 Bg7 e4 d6 Nf3 O-O Be2 e5 O-O ...</td>\n",
       "    </tr>\n",
       "    <tr>\n",
       "      <th>3505</th>\n",
       "      <td>E99</td>\n",
       "      <td>King's Indian Defense: Orthodox Variation, Cla...</td>\n",
       "      <td>1. d4 Nf6 2. c4 g6 3. Nc3 Bg7 4. e4 d6 5. Nf3 ...</td>\n",
       "      <td>d4 Nf6 c4 g6 Nc3 Bg7 e4 d6 Nf3 O-O Be2 e5 O-O ...</td>\n",
       "    </tr>\n",
       "    <tr>\n",
       "      <th>3506</th>\n",
       "      <td>E99</td>\n",
       "      <td>King's Indian Defense: Orthodox Variation, Cla...</td>\n",
       "      <td>1. d4 Nf6 2. c4 g6 3. Nc3 Bg7 4. e4 d6 5. Nf3 ...</td>\n",
       "      <td>d4 Nf6 c4 g6 Nc3 Bg7 e4 d6 Nf3 O-O Be2 e5 O-O ...</td>\n",
       "    </tr>\n",
       "  </tbody>\n",
       "</table>\n",
       "<p>3507 rows × 4 columns</p>\n",
       "</div>"
      ],
      "text/plain": [
       "      eco                                               name  \\\n",
       "0     A00                                       Amar Opening   \n",
       "1     A00                         Amar Opening: Paris Gambit   \n",
       "2     A00            Amar Opening: Paris Gambit, Gent Gambit   \n",
       "3     A00                                   Amsterdam Attack   \n",
       "4     A00                                Anderssen's Opening   \n",
       "...   ...                                                ...   \n",
       "3502  E98  King's Indian Defense: Orthodox Variation, Cla...   \n",
       "3503  E98  King's Indian Defense: Orthodox Variation, Cla...   \n",
       "3504  E98  King's Indian Defense: Orthodox Variation, Cla...   \n",
       "3505  E99  King's Indian Defense: Orthodox Variation, Cla...   \n",
       "3506  E99  King's Indian Defense: Orthodox Variation, Cla...   \n",
       "\n",
       "                                                    pgn  \\\n",
       "0                                                1. Nh3   \n",
       "1                              1. Nh3 d5 2. g3 e5 3. f4   \n",
       "2     1. Nh3 d5 2. g3 e5 3. f4 Bxh3 4. Bxh3 exf4 5. ...   \n",
       "3                1. e3 e5 2. c4 d6 3. Nc3 Nc6 4. b3 Nf6   \n",
       "4                                                 1. a3   \n",
       "...                                                 ...   \n",
       "3502  1. d4 Nf6 2. c4 g6 3. Nc3 Bg7 4. e4 d6 5. Nf3 ...   \n",
       "3503  1. d4 Nf6 2. c4 g6 3. Nc3 Bg7 4. e4 d6 5. Nf3 ...   \n",
       "3504  1. d4 Nf6 2. c4 g6 3. Nc3 Bg7 4. e4 d6 5. Nf3 ...   \n",
       "3505  1. d4 Nf6 2. c4 g6 3. Nc3 Bg7 4. e4 d6 5. Nf3 ...   \n",
       "3506  1. d4 Nf6 2. c4 g6 3. Nc3 Bg7 4. e4 d6 5. Nf3 ...   \n",
       "\n",
       "                                         normalized_pgn  \n",
       "0                                                   Nh3  \n",
       "1                                       Nh3 d5 g3 e5 f4  \n",
       "2          Nh3 d5 g3 e5 f4 Bxh3 Bxh3 exf4 O-O fxg3 hxg3  \n",
       "3                            e3 e5 c4 d6 Nc3 Nc6 b3 Nf6  \n",
       "4                                                    a3  \n",
       "...                                                 ...  \n",
       "3502  d4 Nf6 c4 g6 Nc3 Bg7 e4 d6 Nf3 O-O Be2 e5 O-O ...  \n",
       "3503  d4 Nf6 c4 g6 Nc3 Bg7 e4 d6 Nf3 O-O Be2 e5 O-O ...  \n",
       "3504  d4 Nf6 c4 g6 Nc3 Bg7 e4 d6 Nf3 O-O Be2 e5 O-O ...  \n",
       "3505  d4 Nf6 c4 g6 Nc3 Bg7 e4 d6 Nf3 O-O Be2 e5 O-O ...  \n",
       "3506  d4 Nf6 c4 g6 Nc3 Bg7 e4 d6 Nf3 O-O Be2 e5 O-O ...  \n",
       "\n",
       "[3507 rows x 4 columns]"
      ]
     },
     "execution_count": 325,
     "metadata": {},
     "output_type": "execute_result"
    }
   ],
   "source": [
    "all_openings_df"
   ]
  },
  {
   "cell_type": "code",
   "execution_count": 90,
   "id": "788fc86b-4fcd-4b98-b73d-2ffe1601fde3",
   "metadata": {},
   "outputs": [
    {
     "name": "stdout",
     "output_type": "stream",
     "text": [
      "Numbered Moves:\n",
      "1. e4 e5 2. Nc3 Nc6 3. Bc4 Nf6 4. Nge2 Bc5 5. O-O O-O 6. d3 a6 7. a4 d6 8. Bg5 Be6 9. Nd5 Bxd5 10. exd5 Na5 11. Ba2 b5 12. c3 Ba7 13. b4 Nb7 14. axb5 axb5 15. Bb3 h6 16. Bh4 g5 17. Bg3 c5 18. c4 bxc4 19. dxc4 cxb4 20. Nc1 Nc5 21. Nd3 Nxb3 22. Qxb3 e4 23. Nxb4 Bc5 24. Nc6 Qc7 25. Rxa8 Rxa8 26. h3 h5 27. Qb2 Kg7 28. h4 gxh4 29. Bxh4 Qd7 30. Qxf6+ Kh7 31. Re1 Qg4 32. Qxf7+ Qg7 33. Qxg7+ Kxg7 34. Rxe4 Ra1+ 35. Kh2 Ra2 36. Rf4 Kh6 37. Ne7 Bd4 38. Nf5+ Kg6 39. Nxd4 Rd2 40. Nf3\n"
     ]
    }
   ],
   "source": [
    "with open('marwanchessksa_vs_pranavks_2024.12.17.pgn', 'r') as pgn_file:\n",
    "    game = chess.pgn.read_game(pgn_file)  # Read the first game from the file\n",
    "    \n",
    "    # Extract moves with numbering\n",
    "    numbered_moves = []\n",
    "    board = game.board()\n",
    "    move_number = 1\n",
    "    for move in game.mainline_moves():\n",
    "        if board.turn:  # White's turn\n",
    "            numbered_moves.append(f\"{move_number}. {board.san(move)}\")\n",
    "        else:  # Black's turn\n",
    "            numbered_moves[-1] += f\" {board.san(move)}\"\n",
    "            move_number += 1\n",
    "        board.push(move)  # Push the move to the board\n",
    "\n",
    "# Combine moves into a single string\n",
    "formatted_moves = \" \".join(numbered_moves)\n",
    "\n",
    "# Print all numbered moves\n",
    "print(\"Numbered Moves:\")\n",
    "print(formatted_moves)"
   ]
  },
  {
   "cell_type": "code",
   "execution_count": 91,
   "id": "b17a7cb9-ea9e-4fdd-9e36-78beb8204f39",
   "metadata": {},
   "outputs": [
    {
     "data": {
      "text/html": [
       "<div>\n",
       "<style scoped>\n",
       "    .dataframe tbody tr th:only-of-type {\n",
       "        vertical-align: middle;\n",
       "    }\n",
       "\n",
       "    .dataframe tbody tr th {\n",
       "        vertical-align: top;\n",
       "    }\n",
       "\n",
       "    .dataframe thead th {\n",
       "        text-align: right;\n",
       "    }\n",
       "</style>\n",
       "<table border=\"1\" class=\"dataframe\">\n",
       "  <thead>\n",
       "    <tr style=\"text-align: right;\">\n",
       "      <th></th>\n",
       "      <th>eco</th>\n",
       "      <th>name</th>\n",
       "      <th>pgn</th>\n",
       "      <th>normalized_pgn</th>\n",
       "    </tr>\n",
       "  </thead>\n",
       "  <tbody>\n",
       "    <tr>\n",
       "      <th>1794</th>\n",
       "      <td>C28</td>\n",
       "      <td>Bishop's Opening: Vienna Hybrid, Hromádka Vari...</td>\n",
       "      <td>1. e4 e5 2. Nc3 Nc6 3. Bc4 Nf6 4. d3 Bb4 5. Ne2</td>\n",
       "      <td>e4 e5 Nc3 Nc6 Bc4 Nf6 d3 Bb4 Ne2</td>\n",
       "    </tr>\n",
       "  </tbody>\n",
       "</table>\n",
       "</div>"
      ],
      "text/plain": [
       "      eco                                               name  \\\n",
       "1794  C28  Bishop's Opening: Vienna Hybrid, Hromádka Vari...   \n",
       "\n",
       "                                                  pgn  \\\n",
       "1794  1. e4 e5 2. Nc3 Nc6 3. Bc4 Nf6 4. d3 Bb4 5. Ne2   \n",
       "\n",
       "                        normalized_pgn  \n",
       "1794  e4 e5 Nc3 Nc6 Bc4 Nf6 d3 Bb4 Ne2  "
      ]
     },
     "execution_count": 91,
     "metadata": {},
     "output_type": "execute_result"
    }
   ],
   "source": [
    "all_openings_df[(all_openings_df['eco'] == 'C28') & (all_openings_df['name']==\"Bishop's Opening: Vienna Hybrid, Hromádka Variation\")]"
   ]
  },
  {
   "cell_type": "code",
   "execution_count": 92,
   "id": "490a1936-ac41-43c6-a4cd-739f4c4e72ac",
   "metadata": {},
   "outputs": [
    {
     "data": {
      "text/plain": [
       "5"
      ]
     },
     "execution_count": 92,
     "metadata": {},
     "output_type": "execute_result"
    }
   ],
   "source": [
    "filtered_row = all_openings_df[\n",
    "    (all_openings_df['eco'] == 'C28') &\n",
    "    (all_openings_df['name'] == \"Bishop's Opening: Vienna Hybrid, Hromádka Variation\")\n",
    "]\n",
    "\n",
    "# Ensure the row exists and extract the PGN\n",
    "if not filtered_row.empty:\n",
    "    pgn_string = filtered_row.iloc[0]['pgn']  # Extract the PGN string\n",
    "    \n",
    "    # Count the highest move number in the PGN\n",
    "    move_numbers = re.findall(r'\\d+\\.', pgn_string)  # Find all occurrences of numbered moves\n",
    "    highest_move_number = int(move_numbers[-1][:-1]) if move_numbers else 0  # Extract the last move number\n",
    "    \n",
    "highest_move_number"
   ]
  },
  {
   "cell_type": "code",
   "execution_count": 342,
   "id": "7e03c823-951f-4d35-926d-f97cb97a7cc3",
   "metadata": {},
   "outputs": [
    {
     "data": {
      "text/plain": [
       "'1. e4 e5 2. Nc3 Nc6 3. Bc4 Nf6 4. Nge2 Bc5 5. O-O O-O 6. d3 a6 7. a4 d6 8. Bg5 Be6 9. Nd5 Bxd5 10. exd5 Na5 11. Ba2 b5 12. c3 Ba7 13. b4 Nb7 14. axb5 axb5 15. Bb3 h6 16. Bh4 g5 17. Bg3 c5 18. c4 bxc4 19. dxc4 cxb4 20. Nc1 Nc5 21. Nd3 Nxb3 22. Qxb3 e4 23. Nxb4 Bc5 24. Nc6 Qc7 25. Rxa8 Rxa8 26. h3 h5 27. Qb2 Kg7 28. h4 gxh4 29. Bxh4 Qd7 30. Qxf6+ Kh7 31. Re1 Qg4 32. Qxf7+ Qg7 33. Qxg7+ Kxg7 34. Rxe4 Ra1+ 35. Kh2 Ra2 36. Rf4 Kh6 37. Ne7 Bd4 38. Nf5+ Kg6 39. Nxd4 Rd2 40. Nf3'"
      ]
     },
     "execution_count": 342,
     "metadata": {},
     "output_type": "execute_result"
    }
   ],
   "source": [
    "formatted_moves"
   ]
  },
  {
   "cell_type": "code",
   "execution_count": 344,
   "id": "6240b957-3303-4923-92b8-718f082bf8e5",
   "metadata": {},
   "outputs": [],
   "source": [
    "opening_end=highest_move_number+5"
   ]
  },
  {
   "cell_type": "code",
   "execution_count": 355,
   "id": "365bc88f-ce71-4f1e-9bf2-5a2fcc292d07",
   "metadata": {},
   "outputs": [
    {
     "name": "stdout",
     "output_type": "stream",
     "text": [
      "Move Number Notation    Eval Diff   Classification Cumulative Accuracy (%)  \n",
      "---------------------------------------------------------------------------\n",
      "1           e4          0.03        Great Move     90.00                    \n",
      "            e5          0.09        Great Move     90.00                    \n",
      "2           Nc3         0.21        Good Move      83.33                    \n",
      "            Nc6         0.00        Best Move      87.50                    \n",
      "3           Bc4         0.10        Great Move     88.00                    \n",
      "            Nf6         0.05        Great Move     88.33                    \n",
      "4           Nge2        0.53        Inaccuracy     82.86                    \n",
      "            Bc5         0.63        Inaccuracy     78.75                    \n",
      "5           O-O         0.05        Great Move     80.00                    \n",
      "            O-O         0.01        Great Move     81.00                    \n",
      "6           d3          0.02        Great Move     81.82                    \n",
      "            a6          0.14        Great Move     82.50                    \n",
      "7           a4          0.04        Great Move     83.08                    \n",
      "            d6          0.03        Great Move     83.57                    \n",
      "8           Bg5         0.04        Great Move     84.00                    \n",
      "            Be6         0.78        Inaccuracy     81.88                    \n",
      "\n",
      "Final Accuracy: 81.88%\n"
     ]
    }
   ],
   "source": [
    "# Function to calculate and print accuracy for every move with legal SAN moves and shows every move by move accuracy\n",
    "def calculate_and_print_moves_with_restrictions(first_game, stockfish, highest_move, additional_moves=3):\n",
    "    \"\"\"\n",
    "    Calculate and print the accuracy for every move with detailed information up to (highest_move + additional_moves).\n",
    "\n",
    "    Parameters:\n",
    "    - first_game: The chess.pgn.Game object.\n",
    "    - stockfish: The Stockfish engine object.\n",
    "    - highest_move: The ECO highest move number.\n",
    "    - additional_moves: Additional full moves to include.\n",
    "\n",
    "    Returns:\n",
    "    - None (prints details for every move and cumulative accuracy).\n",
    "    \"\"\"\n",
    "    # Calculate the move limit in half-moves (White + Black for each move)\n",
    "    move_limit = (highest_move + additional_moves) * 2\n",
    "\n",
    "    # Initialize board, move counts, and cumulative accuracy\n",
    "    board = first_game.board()\n",
    "    move_counts = {\"Best Move\": 0, \"Great Move\": 0, \"Good Move\": 0, \"Inaccuracy\": 0, \"Mistake\": 0, \"Blunder\": 0}\n",
    "\n",
    "    # Print header for move details\n",
    "    print(f\"{'Move Number':<12}{'Notation':<12}{'Eval Diff':<12}{'Classification':<15}{'Cumulative Accuracy (%)':<25}\")\n",
    "    print(\"-\" * 75)\n",
    "\n",
    "    for i, move in enumerate(first_game.mainline_moves()):\n",
    "        if i >= move_limit:  # Stop if we've reached the move limit\n",
    "            break\n",
    "\n",
    "        # Get evaluation before the move\n",
    "        stockfish.set_fen_position(board.fen())\n",
    "        current_eval = stockfish.get_evaluation()\n",
    "\n",
    "        # Apply the move\n",
    "        notation = board.san(move)  # Convert move to SAN format\n",
    "        board.push(move)\n",
    "\n",
    "        # Get evaluation after the move\n",
    "        stockfish.set_fen_position(board.fen())\n",
    "        played_eval = stockfish.get_evaluation()\n",
    "\n",
    "        # Classify the move\n",
    "        if current_eval[\"type\"] == \"cp\" and played_eval[\"type\"] == \"cp\":\n",
    "            eval_diff = abs((played_eval[\"value\"] - current_eval[\"value\"]) / 100)\n",
    "            classification = classify_move(eval_diff)\n",
    "            move_counts[classification] += 1\n",
    "\n",
    "            # Calculate cumulative accuracy\n",
    "            cumulative_accuracy = calculate_accuracy(move_counts)\n",
    "\n",
    "            # Print move details\n",
    "            move_number = (i // 2) + 1 if i % 2 == 0 else \"\"\n",
    "            print(f\"{move_number:<12}{notation:<12}{eval_diff:<12.2f}{classification:<15}{cumulative_accuracy:<25.2f}\")\n",
    "\n",
    "    # Print final accuracy\n",
    "    final_accuracy = calculate_accuracy(move_counts)\n",
    "    print(\"\\nFinal Accuracy:\", f\"{final_accuracy:.2f}%\")\n",
    "\n",
    "# Example usage\n",
    "highest_move = 5  # Replace with actual ECO highest move\n",
    "additional_moves = 3  # Additional full moves\n",
    "calculate_and_print_moves_with_restrictions(first_game, stockfish, highest_move, additional_moves)\n"
   ]
  },
  {
   "cell_type": "code",
   "execution_count": 143,
   "id": "b5b5216c-c081-467f-b310-f2bf6ca78344",
   "metadata": {},
   "outputs": [
    {
     "name": "stdout",
     "output_type": "stream",
     "text": [
      "\n",
      "Final Accuracy for Black: 81.25%\n"
     ]
    }
   ],
   "source": [
    "def calculate_and_print_player_accuracy(first_game, stockfish, highest_move, additional_moves=3, player_color=\"black\"):\n",
    "    \"\"\"\n",
    "    Calculate and print the accuracy for a specified player's moves with detailed information\n",
    "    up to (highest_move + additional_moves).\n",
    "\n",
    "    Parameters:\n",
    "    - first_game: The chess.pgn.Game object.\n",
    "    - stockfish: The Stockfish engine object.\n",
    "    - highest_move: The ECO highest move number.\n",
    "    - additional_moves: Additional full moves to include.\n",
    "    - player_color: \"white\" or \"black\" to specify the player whose moves to analyze.\n",
    "\n",
    "    Returns:\n",
    "    - None (prints details for every move of the specified player and cumulative accuracy).\n",
    "    \"\"\"\n",
    "    # Validate player_color\n",
    "    if player_color not in [\"white\", \"black\"]:\n",
    "        raise ValueError(\"player_color must be 'white' or 'black'.\")\n",
    "\n",
    "    # Calculate the move limit in full moves (White + Black)\n",
    "    move_limit = highest_move + additional_moves\n",
    "\n",
    "    # Determine the starting index based on player_color\n",
    "    is_white = player_color == \"white\"\n",
    "    start_index = 0 if is_white else 1\n",
    "\n",
    "    # Initialize board, move counts, and cumulative accuracy\n",
    "    board = first_game.board()\n",
    "    move_counts = {\"Best Move\": 0, \"Great Move\": 0, \"Good Move\": 0, \"Inaccuracy\": 0, \"Mistake\": 0, \"Blunder\": 0}\n",
    "\n",
    "    move_number = 1\n",
    "    for i, move in enumerate(first_game.mainline_moves()):\n",
    "        if move_number > move_limit:  # Stop after the specified number of full moves\n",
    "            break\n",
    "\n",
    "        if i % 2 == start_index:  # Analyze moves for the specified player\n",
    "            # Get evaluation before the move\n",
    "            stockfish.set_fen_position(board.fen())\n",
    "            current_eval = stockfish.get_evaluation()\n",
    "\n",
    "            # Apply the move\n",
    "            notation = board.san(move)  # Convert move to SAN format\n",
    "            board.push(move)\n",
    "\n",
    "            # Get evaluation after the move\n",
    "            stockfish.set_fen_position(board.fen())\n",
    "            played_eval = stockfish.get_evaluation()\n",
    "\n",
    "            # Classify the move\n",
    "            if current_eval[\"type\"] == \"cp\" and played_eval[\"type\"] == \"cp\":\n",
    "                eval_diff = abs((played_eval[\"value\"] - current_eval[\"value\"]) / 100)\n",
    "                classification = classify_move(eval_diff)\n",
    "                move_counts[classification] += 1\n",
    "\n",
    "                # Calculate cumulative accuracy for the specified player's moves\n",
    "                cumulative_accuracy = calculate_accuracy(move_counts)\n",
    "            move_number += 1\n",
    "        else:\n",
    "            # Push opponent's move to maintain board position\n",
    "            board.push(move)\n",
    "\n",
    "    # Print final accuracy\n",
    "    final_accuracy = calculate_accuracy(move_counts)\n",
    "    print(f\"\\nFinal Accuracy for {player_color.capitalize()}: {final_accuracy:.2f}%\")\n",
    "    games_df['Opening Accuracy']=round(final_accuracy,2)\n",
    "\n",
    "# Example usage\n",
    "highest_move = 5  # Replace with actual ECO highest move\n",
    "additional_moves = 3  # Additional full moves\n",
    "player_color = \"black\"  # Change to \"black\" to analyze Black's performance\n",
    "\n",
    "calculate_and_print_player_accuracy(first_game, stockfish, highest_move, additional_moves, player_color)\n"
   ]
  },
  {
   "cell_type": "code",
   "execution_count": 98,
   "id": "8daf5d21-e291-48bf-938d-da5c512b5e1f",
   "metadata": {
    "scrolled": true
   },
   "outputs": [
    {
     "data": {
      "text/html": [
       "<div>\n",
       "<style scoped>\n",
       "    .dataframe tbody tr th:only-of-type {\n",
       "        vertical-align: middle;\n",
       "    }\n",
       "\n",
       "    .dataframe tbody tr th {\n",
       "        vertical-align: top;\n",
       "    }\n",
       "\n",
       "    .dataframe thead th {\n",
       "        text-align: right;\n",
       "    }\n",
       "</style>\n",
       "<table border=\"1\" class=\"dataframe\">\n",
       "  <thead>\n",
       "    <tr style=\"text-align: right;\">\n",
       "      <th></th>\n",
       "      <th>Color</th>\n",
       "      <th>Opponent</th>\n",
       "      <th>Accuracy</th>\n",
       "      <th>Result</th>\n",
       "      <th>Number of Moves</th>\n",
       "      <th>ECO</th>\n",
       "      <th>Opening Name</th>\n",
       "      <th>Date</th>\n",
       "      <th>PGN Name</th>\n",
       "      <th>Opening Accuracy</th>\n",
       "    </tr>\n",
       "  </thead>\n",
       "  <tbody>\n",
       "    <tr>\n",
       "      <th>0</th>\n",
       "      <td>Black</td>\n",
       "      <td>marwanchessksa</td>\n",
       "      <td>69.24</td>\n",
       "      <td>1-0</td>\n",
       "      <td>79</td>\n",
       "      <td>C28</td>\n",
       "      <td>Bishop's Opening: Vienna Hybrid, Hromádka Vari...</td>\n",
       "      <td>2024.12.17</td>\n",
       "      <td>marwanchessksa_vs_pranavks_2024.12.17.pgn</td>\n",
       "      <td>81.25</td>\n",
       "    </tr>\n",
       "  </tbody>\n",
       "</table>\n",
       "</div>"
      ],
      "text/plain": [
       "   Color        Opponent  Accuracy Result Number of Moves  ECO  \\\n",
       "0  Black  marwanchessksa     69.24    1-0              79  C28   \n",
       "\n",
       "                                        Opening Name        Date  \\\n",
       "0  Bishop's Opening: Vienna Hybrid, Hromádka Vari...  2024.12.17   \n",
       "\n",
       "                                    PGN Name  Opening Accuracy  \n",
       "0  marwanchessksa_vs_pranavks_2024.12.17.pgn             81.25  "
      ]
     },
     "execution_count": 98,
     "metadata": {},
     "output_type": "execute_result"
    }
   ],
   "source": [
    "games_df"
   ]
  },
  {
   "cell_type": "code",
   "execution_count": 106,
   "id": "a741b827-6efb-4645-85bd-24794e018950",
   "metadata": {},
   "outputs": [
    {
     "data": {
      "text/plain": [
       "<_io.TextIOWrapper name='marwanchessksa_vs_pranavks_2024.12.17.pgn' mode='r' encoding='UTF-8'>"
      ]
     },
     "execution_count": 106,
     "metadata": {},
     "output_type": "execute_result"
    }
   ],
   "source": [
    "pgn"
   ]
  },
  {
   "cell_type": "code",
   "execution_count": 239,
   "id": "0ae2bfd0-a063-4d77-98c9-817c93ff6faf",
   "metadata": {},
   "outputs": [],
   "source": [
    "def endgame_start_index(game):\n",
    "    \"\"\"\n",
    "    Determines the move number where the endgame starts based on the board's state.\n",
    "    \n",
    "    Parameters:\n",
    "    - game: chess.pgn.Game object, the game to analyze.\n",
    "    \n",
    "    Returns:\n",
    "    - int, the move number where the endgame starts, or None if the endgame criteria are not met.\n",
    "    \"\"\"\n",
    "    board = game.board()\n",
    "    for i, move in enumerate(game.mainline_moves()):\n",
    "        board.push(move)\n",
    "        major_minor_count = sum(\n",
    "            len(board.pieces(piece_type, color))\n",
    "            for piece_type in [chess.QUEEN, chess.ROOK, chess.BISHOP, chess.KNIGHT]\n",
    "            for color in [chess.WHITE, chess.BLACK]\n",
    "        )\n",
    "        if major_minor_count <= 6:\n",
    "            move_notation = board.san(move)  # Get the move notation using SAN\n",
    "            print(f\"Endgame starts at move {move_number}: {move_notation}\")\n",
    "            return (i // 2) + 1  # Convert half-move to full-move index\n",
    "            move_notation = board.san(move)  # Get the move notation using SAN\n",
    "            print(f\"Endgame starts at move {move_number}: {move_notation}\")\n",
    "    return None  # Endgame criteria not met within the moves recorded\n"
   ]
  },
  {
   "cell_type": "code",
   "execution_count": 236,
   "id": "92addaec-aa78-4154-bc3b-d37aae743c02",
   "metadata": {},
   "outputs": [
    {
     "ename": "AssertionError",
     "evalue": "san() and lan() expect move to be legal or null, but got f7g7 in r7/6Qk/2Np4/2bP3p/2P1p2B/8/5PP1/4R1K1 b - - 0 33",
     "output_type": "error",
     "traceback": [
      "\u001b[0;31m---------------------------------------------------------------------------\u001b[0m",
      "\u001b[0;31mAssertionError\u001b[0m                            Traceback (most recent call last)",
      "Cell \u001b[0;32mIn[236], line 38\u001b[0m\n\u001b[1;32m     29\u001b[0m     \u001b[38;5;28;01mreturn\u001b[39;00m \u001b[38;5;28;01mNone\u001b[39;00m, \u001b[38;5;28;01mNone\u001b[39;00m  \u001b[38;5;66;03m# Endgame criteria not met\u001b[39;00m\n\u001b[1;32m     31\u001b[0m \u001b[38;5;66;03m# Usage Example\u001b[39;00m\n\u001b[1;32m     32\u001b[0m \u001b[38;5;66;03m# Assuming `first_game` is your chess.pgn.Game object loaded from a PGN file\u001b[39;00m\n\u001b[1;32m     33\u001b[0m \u001b[38;5;66;03m# Example loading a game:\u001b[39;00m\n\u001b[0;32m   (...)\u001b[0m\n\u001b[1;32m     36\u001b[0m \n\u001b[1;32m     37\u001b[0m \u001b[38;5;66;03m# Example usage of the function\u001b[39;00m\n\u001b[0;32m---> 38\u001b[0m start_index, start_move \u001b[38;5;241m=\u001b[39m \u001b[43mendgame_start_index_yes\u001b[49m\u001b[43m(\u001b[49m\u001b[43mfirst_game\u001b[49m\u001b[43m)\u001b[49m\n\u001b[1;32m     39\u001b[0m \u001b[38;5;28;01mif\u001b[39;00m start_index \u001b[38;5;129;01mis\u001b[39;00m \u001b[38;5;129;01mnot\u001b[39;00m \u001b[38;5;28;01mNone\u001b[39;00m:\n\u001b[1;32m     40\u001b[0m     \u001b[38;5;28mprint\u001b[39m(\u001b[38;5;124mf\u001b[39m\u001b[38;5;124m\"\u001b[39m\u001b[38;5;124mEndgame begins at move \u001b[39m\u001b[38;5;132;01m{\u001b[39;00mstart_index\u001b[38;5;132;01m}\u001b[39;00m\u001b[38;5;124m, with the move \u001b[39m\u001b[38;5;132;01m{\u001b[39;00mstart_move\u001b[38;5;132;01m}\u001b[39;00m\u001b[38;5;124m.\u001b[39m\u001b[38;5;124m\"\u001b[39m)\n",
      "Cell \u001b[0;32mIn[236], line 25\u001b[0m, in \u001b[0;36mendgame_start_index_yes\u001b[0;34m(game)\u001b[0m\n\u001b[1;32m     23\u001b[0m \u001b[38;5;28;01mif\u001b[39;00m major_minor_count \u001b[38;5;241m<\u001b[39m\u001b[38;5;241m=\u001b[39m \u001b[38;5;241m6\u001b[39m:\n\u001b[1;32m     24\u001b[0m     move_number \u001b[38;5;241m=\u001b[39m (i \u001b[38;5;241m/\u001b[39m\u001b[38;5;241m/\u001b[39m \u001b[38;5;241m2\u001b[39m) \u001b[38;5;241m+\u001b[39m \u001b[38;5;241m1\u001b[39m  \u001b[38;5;66;03m# Convert half-move index to full-move index\u001b[39;00m\n\u001b[0;32m---> 25\u001b[0m     move_notation \u001b[38;5;241m=\u001b[39m \u001b[43mboard\u001b[49m\u001b[38;5;241;43m.\u001b[39;49m\u001b[43msan\u001b[49m\u001b[43m(\u001b[49m\u001b[43mmove\u001b[49m\u001b[43m)\u001b[49m  \u001b[38;5;66;03m# Get the move notation using SAN\u001b[39;00m\n\u001b[1;32m     26\u001b[0m     \u001b[38;5;28mprint\u001b[39m(\u001b[38;5;124mf\u001b[39m\u001b[38;5;124m\"\u001b[39m\u001b[38;5;124mEndgame starts at move \u001b[39m\u001b[38;5;132;01m{\u001b[39;00mmove_number\u001b[38;5;132;01m}\u001b[39;00m\u001b[38;5;124m: \u001b[39m\u001b[38;5;132;01m{\u001b[39;00mmove_notation\u001b[38;5;132;01m}\u001b[39;00m\u001b[38;5;124m\"\u001b[39m)\n\u001b[1;32m     27\u001b[0m     \u001b[38;5;28;01mreturn\u001b[39;00m move_number, move_notation\n",
      "File \u001b[0;32m/Library/Frameworks/Python.framework/Versions/3.13/lib/python3.13/site-packages/chess/__init__.py:2986\u001b[0m, in \u001b[0;36mBoard.san\u001b[0;34m(self, move)\u001b[0m\n\u001b[1;32m   2981\u001b[0m \u001b[38;5;28;01mdef\u001b[39;00m \u001b[38;5;21msan\u001b[39m(\u001b[38;5;28mself\u001b[39m, move: Move) \u001b[38;5;241m-\u001b[39m\u001b[38;5;241m>\u001b[39m \u001b[38;5;28mstr\u001b[39m:\n\u001b[1;32m   2982\u001b[0m \u001b[38;5;250m    \u001b[39m\u001b[38;5;124;03m\"\"\"\u001b[39;00m\n\u001b[1;32m   2983\u001b[0m \u001b[38;5;124;03m    Gets the standard algebraic notation of the given move in the context\u001b[39;00m\n\u001b[1;32m   2984\u001b[0m \u001b[38;5;124;03m    of the current position.\u001b[39;00m\n\u001b[1;32m   2985\u001b[0m \u001b[38;5;124;03m    \"\"\"\u001b[39;00m\n\u001b[0;32m-> 2986\u001b[0m     \u001b[38;5;28;01mreturn\u001b[39;00m \u001b[38;5;28;43mself\u001b[39;49m\u001b[38;5;241;43m.\u001b[39;49m\u001b[43m_algebraic\u001b[49m\u001b[43m(\u001b[49m\u001b[43mmove\u001b[49m\u001b[43m)\u001b[49m\n",
      "File \u001b[0;32m/Library/Frameworks/Python.framework/Versions/3.13/lib/python3.13/site-packages/chess/__init__.py:2999\u001b[0m, in \u001b[0;36mBoard._algebraic\u001b[0;34m(self, move, long)\u001b[0m\n\u001b[1;32m   2998\u001b[0m \u001b[38;5;28;01mdef\u001b[39;00m \u001b[38;5;21m_algebraic\u001b[39m(\u001b[38;5;28mself\u001b[39m, move: Move, \u001b[38;5;241m*\u001b[39m, long: \u001b[38;5;28mbool\u001b[39m \u001b[38;5;241m=\u001b[39m \u001b[38;5;28;01mFalse\u001b[39;00m) \u001b[38;5;241m-\u001b[39m\u001b[38;5;241m>\u001b[39m \u001b[38;5;28mstr\u001b[39m:\n\u001b[0;32m-> 2999\u001b[0m     san \u001b[38;5;241m=\u001b[39m \u001b[38;5;28;43mself\u001b[39;49m\u001b[38;5;241;43m.\u001b[39;49m\u001b[43m_algebraic_and_push\u001b[49m\u001b[43m(\u001b[49m\u001b[43mmove\u001b[49m\u001b[43m,\u001b[49m\u001b[43m \u001b[49m\u001b[43mlong\u001b[49m\u001b[38;5;241;43m=\u001b[39;49m\u001b[43mlong\u001b[49m\u001b[43m)\u001b[49m\n\u001b[1;32m   3000\u001b[0m     \u001b[38;5;28mself\u001b[39m\u001b[38;5;241m.\u001b[39mpop()\n\u001b[1;32m   3001\u001b[0m     \u001b[38;5;28;01mreturn\u001b[39;00m san\n",
      "File \u001b[0;32m/Library/Frameworks/Python.framework/Versions/3.13/lib/python3.13/site-packages/chess/__init__.py:3004\u001b[0m, in \u001b[0;36mBoard._algebraic_and_push\u001b[0;34m(self, move, long)\u001b[0m\n\u001b[1;32m   3003\u001b[0m \u001b[38;5;28;01mdef\u001b[39;00m \u001b[38;5;21m_algebraic_and_push\u001b[39m(\u001b[38;5;28mself\u001b[39m, move: Move, \u001b[38;5;241m*\u001b[39m, long: \u001b[38;5;28mbool\u001b[39m \u001b[38;5;241m=\u001b[39m \u001b[38;5;28;01mFalse\u001b[39;00m) \u001b[38;5;241m-\u001b[39m\u001b[38;5;241m>\u001b[39m \u001b[38;5;28mstr\u001b[39m:\n\u001b[0;32m-> 3004\u001b[0m     san \u001b[38;5;241m=\u001b[39m \u001b[38;5;28;43mself\u001b[39;49m\u001b[38;5;241;43m.\u001b[39;49m\u001b[43m_algebraic_without_suffix\u001b[49m\u001b[43m(\u001b[49m\u001b[43mmove\u001b[49m\u001b[43m,\u001b[49m\u001b[43m \u001b[49m\u001b[43mlong\u001b[49m\u001b[38;5;241;43m=\u001b[39;49m\u001b[43mlong\u001b[49m\u001b[43m)\u001b[49m\n\u001b[1;32m   3006\u001b[0m     \u001b[38;5;66;03m# Look ahead for check or checkmate.\u001b[39;00m\n\u001b[1;32m   3007\u001b[0m     \u001b[38;5;28mself\u001b[39m\u001b[38;5;241m.\u001b[39mpush(move)\n",
      "File \u001b[0;32m/Library/Frameworks/Python.framework/Versions/3.13/lib/python3.13/site-packages/chess/__init__.py:3040\u001b[0m, in \u001b[0;36mBoard._algebraic_without_suffix\u001b[0;34m(self, move, long)\u001b[0m\n\u001b[1;32m   3037\u001b[0m         \u001b[38;5;28;01mreturn\u001b[39;00m \u001b[38;5;124m\"\u001b[39m\u001b[38;5;124mO-O\u001b[39m\u001b[38;5;124m\"\u001b[39m\n\u001b[1;32m   3039\u001b[0m piece_type \u001b[38;5;241m=\u001b[39m \u001b[38;5;28mself\u001b[39m\u001b[38;5;241m.\u001b[39mpiece_type_at(move\u001b[38;5;241m.\u001b[39mfrom_square)\n\u001b[0;32m-> 3040\u001b[0m \u001b[38;5;28;01massert\u001b[39;00m piece_type, \u001b[38;5;124mf\u001b[39m\u001b[38;5;124m\"\u001b[39m\u001b[38;5;124msan() and lan() expect move to be legal or null, but got \u001b[39m\u001b[38;5;132;01m{\u001b[39;00mmove\u001b[38;5;132;01m}\u001b[39;00m\u001b[38;5;124m in \u001b[39m\u001b[38;5;132;01m{\u001b[39;00m\u001b[38;5;28mself\u001b[39m\u001b[38;5;241m.\u001b[39mfen()\u001b[38;5;132;01m}\u001b[39;00m\u001b[38;5;124m\"\u001b[39m\n\u001b[1;32m   3041\u001b[0m capture \u001b[38;5;241m=\u001b[39m \u001b[38;5;28mself\u001b[39m\u001b[38;5;241m.\u001b[39mis_capture(move)\n\u001b[1;32m   3043\u001b[0m \u001b[38;5;28;01mif\u001b[39;00m piece_type \u001b[38;5;241m==\u001b[39m PAWN:\n",
      "\u001b[0;31mAssertionError\u001b[0m: san() and lan() expect move to be legal or null, but got f7g7 in r7/6Qk/2Np4/2bP3p/2P1p2B/8/5PP1/4R1K1 b - - 0 33"
     ]
    }
   ],
   "source": [
    "import chess\n",
    "import chess.pgn\n",
    "\n",
    "def endgame_start_index_yes(game):\n",
    "    \"\"\"\n",
    "    Determines the move number where the endgame starts based on the board's state.\n",
    "    \n",
    "    Parameters:\n",
    "    - game: chess.pgn.Game object, the game to analyze.\n",
    "    \n",
    "    Returns:\n",
    "    - int, the move number where the endgame starts, or None if the endgame criteria are not met.\n",
    "    - str, the SAN of the move where the endgame starts, or None if the endgame criteria are not met.\n",
    "    \"\"\"\n",
    "    board = game.board()\n",
    "    for i, move in enumerate(game.mainline_moves()):\n",
    "        board.push(move)\n",
    "        major_minor_count = sum(\n",
    "            len(board.pieces(piece_type, color))\n",
    "            for piece_type in [chess.QUEEN, chess.ROOK, chess.BISHOP, chess.KNIGHT]\n",
    "            for color in [chess.WHITE, chess.BLACK]\n",
    "        )\n",
    "        if major_minor_count <= 6:\n",
    "            move_number = (i // 2) + 1  # Convert half-move index to full-move index\n",
    "            move_notation = board.san(move)  # Get the move notation using SAN\n",
    "            print(f\"Endgame starts at move {move_number}: {move_notation}\")\n",
    "            return move_number, move_notation\n",
    "    print(\"Endgame criteria not met within the moves recorded.\")\n",
    "    return None, None  # Endgame criteria not met\n",
    "\n",
    "# Usage Example\n",
    "# Assuming `first_game` is your chess.pgn.Game object loaded from a PGN file\n",
    "# Example loading a game:\n",
    "# with open('path_to_game.pgn', 'r') as pgn:\n",
    "#     first_game = chess.pgn.read_game(pgn)\n",
    "\n",
    "# Example usage of the function\n",
    "start_index, start_move = endgame_start_index_yes(first_game)\n",
    "if start_index is not None:\n",
    "    print(f\"Endgame begins at move {start_index}, with the move {start_move}.\")\n",
    "else:\n",
    "    print(\"No endgame start identified.\")\n"
   ]
  },
  {
   "cell_type": "code",
   "execution_count": 240,
   "id": "6925afaf-8ca1-4dce-a254-d00279c73707",
   "metadata": {},
   "outputs": [
    {
     "ename": "AssertionError",
     "evalue": "san() and lan() expect move to be legal or null, but got f7g7 in r7/6Qk/2Np4/2bP3p/2P1p2B/8/5PP1/4R1K1 b - - 0 33",
     "output_type": "error",
     "traceback": [
      "\u001b[0;31m---------------------------------------------------------------------------\u001b[0m",
      "\u001b[0;31mAssertionError\u001b[0m                            Traceback (most recent call last)",
      "Cell \u001b[0;32mIn[240], line 1\u001b[0m\n\u001b[0;32m----> 1\u001b[0m \u001b[43mendgame_start_index\u001b[49m\u001b[43m(\u001b[49m\u001b[43mfirst_game\u001b[49m\u001b[43m)\u001b[49m\n",
      "Cell \u001b[0;32mIn[239], line 20\u001b[0m, in \u001b[0;36mendgame_start_index\u001b[0;34m(game)\u001b[0m\n\u001b[1;32m     14\u001b[0m major_minor_count \u001b[38;5;241m=\u001b[39m \u001b[38;5;28msum\u001b[39m(\n\u001b[1;32m     15\u001b[0m     \u001b[38;5;28mlen\u001b[39m(board\u001b[38;5;241m.\u001b[39mpieces(piece_type, color))\n\u001b[1;32m     16\u001b[0m     \u001b[38;5;28;01mfor\u001b[39;00m piece_type \u001b[38;5;129;01min\u001b[39;00m [chess\u001b[38;5;241m.\u001b[39mQUEEN, chess\u001b[38;5;241m.\u001b[39mROOK, chess\u001b[38;5;241m.\u001b[39mBISHOP, chess\u001b[38;5;241m.\u001b[39mKNIGHT]\n\u001b[1;32m     17\u001b[0m     \u001b[38;5;28;01mfor\u001b[39;00m color \u001b[38;5;129;01min\u001b[39;00m [chess\u001b[38;5;241m.\u001b[39mWHITE, chess\u001b[38;5;241m.\u001b[39mBLACK]\n\u001b[1;32m     18\u001b[0m )\n\u001b[1;32m     19\u001b[0m \u001b[38;5;28;01mif\u001b[39;00m major_minor_count \u001b[38;5;241m<\u001b[39m\u001b[38;5;241m=\u001b[39m \u001b[38;5;241m6\u001b[39m:\n\u001b[0;32m---> 20\u001b[0m     move_notation \u001b[38;5;241m=\u001b[39m \u001b[43mboard\u001b[49m\u001b[38;5;241;43m.\u001b[39;49m\u001b[43msan\u001b[49m\u001b[43m(\u001b[49m\u001b[43mmove\u001b[49m\u001b[43m)\u001b[49m  \u001b[38;5;66;03m# Get the move notation using SAN\u001b[39;00m\n\u001b[1;32m     21\u001b[0m     \u001b[38;5;28mprint\u001b[39m(\u001b[38;5;124mf\u001b[39m\u001b[38;5;124m\"\u001b[39m\u001b[38;5;124mEndgame starts at move \u001b[39m\u001b[38;5;132;01m{\u001b[39;00mmove_number\u001b[38;5;132;01m}\u001b[39;00m\u001b[38;5;124m: \u001b[39m\u001b[38;5;132;01m{\u001b[39;00mmove_notation\u001b[38;5;132;01m}\u001b[39;00m\u001b[38;5;124m\"\u001b[39m)\n\u001b[1;32m     22\u001b[0m     \u001b[38;5;28;01mreturn\u001b[39;00m (i \u001b[38;5;241m/\u001b[39m\u001b[38;5;241m/\u001b[39m \u001b[38;5;241m2\u001b[39m) \u001b[38;5;241m+\u001b[39m \u001b[38;5;241m1\u001b[39m  \u001b[38;5;66;03m# Convert half-move to full-move index\u001b[39;00m\n",
      "File \u001b[0;32m/Library/Frameworks/Python.framework/Versions/3.13/lib/python3.13/site-packages/chess/__init__.py:2986\u001b[0m, in \u001b[0;36mBoard.san\u001b[0;34m(self, move)\u001b[0m\n\u001b[1;32m   2981\u001b[0m \u001b[38;5;28;01mdef\u001b[39;00m \u001b[38;5;21msan\u001b[39m(\u001b[38;5;28mself\u001b[39m, move: Move) \u001b[38;5;241m-\u001b[39m\u001b[38;5;241m>\u001b[39m \u001b[38;5;28mstr\u001b[39m:\n\u001b[1;32m   2982\u001b[0m \u001b[38;5;250m    \u001b[39m\u001b[38;5;124;03m\"\"\"\u001b[39;00m\n\u001b[1;32m   2983\u001b[0m \u001b[38;5;124;03m    Gets the standard algebraic notation of the given move in the context\u001b[39;00m\n\u001b[1;32m   2984\u001b[0m \u001b[38;5;124;03m    of the current position.\u001b[39;00m\n\u001b[1;32m   2985\u001b[0m \u001b[38;5;124;03m    \"\"\"\u001b[39;00m\n\u001b[0;32m-> 2986\u001b[0m     \u001b[38;5;28;01mreturn\u001b[39;00m \u001b[38;5;28;43mself\u001b[39;49m\u001b[38;5;241;43m.\u001b[39;49m\u001b[43m_algebraic\u001b[49m\u001b[43m(\u001b[49m\u001b[43mmove\u001b[49m\u001b[43m)\u001b[49m\n",
      "File \u001b[0;32m/Library/Frameworks/Python.framework/Versions/3.13/lib/python3.13/site-packages/chess/__init__.py:2999\u001b[0m, in \u001b[0;36mBoard._algebraic\u001b[0;34m(self, move, long)\u001b[0m\n\u001b[1;32m   2998\u001b[0m \u001b[38;5;28;01mdef\u001b[39;00m \u001b[38;5;21m_algebraic\u001b[39m(\u001b[38;5;28mself\u001b[39m, move: Move, \u001b[38;5;241m*\u001b[39m, long: \u001b[38;5;28mbool\u001b[39m \u001b[38;5;241m=\u001b[39m \u001b[38;5;28;01mFalse\u001b[39;00m) \u001b[38;5;241m-\u001b[39m\u001b[38;5;241m>\u001b[39m \u001b[38;5;28mstr\u001b[39m:\n\u001b[0;32m-> 2999\u001b[0m     san \u001b[38;5;241m=\u001b[39m \u001b[38;5;28;43mself\u001b[39;49m\u001b[38;5;241;43m.\u001b[39;49m\u001b[43m_algebraic_and_push\u001b[49m\u001b[43m(\u001b[49m\u001b[43mmove\u001b[49m\u001b[43m,\u001b[49m\u001b[43m \u001b[49m\u001b[43mlong\u001b[49m\u001b[38;5;241;43m=\u001b[39;49m\u001b[43mlong\u001b[49m\u001b[43m)\u001b[49m\n\u001b[1;32m   3000\u001b[0m     \u001b[38;5;28mself\u001b[39m\u001b[38;5;241m.\u001b[39mpop()\n\u001b[1;32m   3001\u001b[0m     \u001b[38;5;28;01mreturn\u001b[39;00m san\n",
      "File \u001b[0;32m/Library/Frameworks/Python.framework/Versions/3.13/lib/python3.13/site-packages/chess/__init__.py:3004\u001b[0m, in \u001b[0;36mBoard._algebraic_and_push\u001b[0;34m(self, move, long)\u001b[0m\n\u001b[1;32m   3003\u001b[0m \u001b[38;5;28;01mdef\u001b[39;00m \u001b[38;5;21m_algebraic_and_push\u001b[39m(\u001b[38;5;28mself\u001b[39m, move: Move, \u001b[38;5;241m*\u001b[39m, long: \u001b[38;5;28mbool\u001b[39m \u001b[38;5;241m=\u001b[39m \u001b[38;5;28;01mFalse\u001b[39;00m) \u001b[38;5;241m-\u001b[39m\u001b[38;5;241m>\u001b[39m \u001b[38;5;28mstr\u001b[39m:\n\u001b[0;32m-> 3004\u001b[0m     san \u001b[38;5;241m=\u001b[39m \u001b[38;5;28;43mself\u001b[39;49m\u001b[38;5;241;43m.\u001b[39;49m\u001b[43m_algebraic_without_suffix\u001b[49m\u001b[43m(\u001b[49m\u001b[43mmove\u001b[49m\u001b[43m,\u001b[49m\u001b[43m \u001b[49m\u001b[43mlong\u001b[49m\u001b[38;5;241;43m=\u001b[39;49m\u001b[43mlong\u001b[49m\u001b[43m)\u001b[49m\n\u001b[1;32m   3006\u001b[0m     \u001b[38;5;66;03m# Look ahead for check or checkmate.\u001b[39;00m\n\u001b[1;32m   3007\u001b[0m     \u001b[38;5;28mself\u001b[39m\u001b[38;5;241m.\u001b[39mpush(move)\n",
      "File \u001b[0;32m/Library/Frameworks/Python.framework/Versions/3.13/lib/python3.13/site-packages/chess/__init__.py:3040\u001b[0m, in \u001b[0;36mBoard._algebraic_without_suffix\u001b[0;34m(self, move, long)\u001b[0m\n\u001b[1;32m   3037\u001b[0m         \u001b[38;5;28;01mreturn\u001b[39;00m \u001b[38;5;124m\"\u001b[39m\u001b[38;5;124mO-O\u001b[39m\u001b[38;5;124m\"\u001b[39m\n\u001b[1;32m   3039\u001b[0m piece_type \u001b[38;5;241m=\u001b[39m \u001b[38;5;28mself\u001b[39m\u001b[38;5;241m.\u001b[39mpiece_type_at(move\u001b[38;5;241m.\u001b[39mfrom_square)\n\u001b[0;32m-> 3040\u001b[0m \u001b[38;5;28;01massert\u001b[39;00m piece_type, \u001b[38;5;124mf\u001b[39m\u001b[38;5;124m\"\u001b[39m\u001b[38;5;124msan() and lan() expect move to be legal or null, but got \u001b[39m\u001b[38;5;132;01m{\u001b[39;00mmove\u001b[38;5;132;01m}\u001b[39;00m\u001b[38;5;124m in \u001b[39m\u001b[38;5;132;01m{\u001b[39;00m\u001b[38;5;28mself\u001b[39m\u001b[38;5;241m.\u001b[39mfen()\u001b[38;5;132;01m}\u001b[39;00m\u001b[38;5;124m\"\u001b[39m\n\u001b[1;32m   3041\u001b[0m capture \u001b[38;5;241m=\u001b[39m \u001b[38;5;28mself\u001b[39m\u001b[38;5;241m.\u001b[39mis_capture(move)\n\u001b[1;32m   3043\u001b[0m \u001b[38;5;28;01mif\u001b[39;00m piece_type \u001b[38;5;241m==\u001b[39m PAWN:\n",
      "\u001b[0;31mAssertionError\u001b[0m: san() and lan() expect move to be legal or null, but got f7g7 in r7/6Qk/2Np4/2bP3p/2P1p2B/8/5PP1/4R1K1 b - - 0 33"
     ]
    }
   ],
   "source": [
    "endgame_start_index(first_game)"
   ]
  },
  {
   "cell_type": "code",
   "execution_count": 175,
   "id": "06b8c6b9-ec93-472b-b4d2-8ce7844ab91e",
   "metadata": {},
   "outputs": [
    {
     "data": {
      "text/plain": [
       "<Game at 0x10ccb8770 ('marwanchessksa' vs. 'pranavks', '2024.12.17' at 'Chess.com')>"
      ]
     },
     "execution_count": 175,
     "metadata": {},
     "output_type": "execute_result"
    }
   ],
   "source": [
    "first_game"
   ]
  },
  {
   "cell_type": "code",
   "execution_count": 108,
   "id": "28a3eb1b-0159-4228-908b-3f2792f1d6d3",
   "metadata": {},
   "outputs": [
    {
     "data": {
      "text/plain": [
       "<Game at 0x10ccb8770 ('marwanchessksa' vs. 'pranavks', '2024.12.17' at 'Chess.com')>"
      ]
     },
     "execution_count": 108,
     "metadata": {},
     "output_type": "execute_result"
    }
   ],
   "source": [
    "first_game"
   ]
  },
  {
   "cell_type": "code",
   "execution_count": 144,
   "id": "abd0f416-4783-4352-a96c-3a01c7f5af5c",
   "metadata": {},
   "outputs": [
    {
     "ename": "StockfishException",
     "evalue": "The Stockfish process has crashed",
     "output_type": "error",
     "traceback": [
      "\u001b[0;31m---------------------------------------------------------------------------\u001b[0m",
      "\u001b[0;31mStockfishException\u001b[0m                        Traceback (most recent call last)",
      "Cell \u001b[0;32mIn[144], line 47\u001b[0m\n\u001b[1;32m     42\u001b[0m     \u001b[38;5;28mprint\u001b[39m(\u001b[38;5;124mf\u001b[39m\u001b[38;5;124m\"\u001b[39m\u001b[38;5;130;01m\\n\u001b[39;00m\u001b[38;5;124mEndgame Accuracy for \u001b[39m\u001b[38;5;132;01m{\u001b[39;00mplayer_color\u001b[38;5;241m.\u001b[39mcapitalize()\u001b[38;5;132;01m}\u001b[39;00m\u001b[38;5;124m: \u001b[39m\u001b[38;5;132;01m{\u001b[39;00mfinal_accuracy\u001b[38;5;132;01m:\u001b[39;00m\u001b[38;5;124m.2f\u001b[39m\u001b[38;5;132;01m}\u001b[39;00m\u001b[38;5;124m%\u001b[39m\u001b[38;5;124m\"\u001b[39m)\n\u001b[1;32m     44\u001b[0m \u001b[38;5;66;03m# Example usage\u001b[39;00m\n\u001b[1;32m     45\u001b[0m \u001b[38;5;66;03m# Assuming 'first_game' and 'stockfish' are already defined and 'classify_move', 'calculate_accuracy',\u001b[39;00m\n\u001b[1;32m     46\u001b[0m \u001b[38;5;66;03m# and 'endgame_start_index' are implemented correctly.\u001b[39;00m\n\u001b[0;32m---> 47\u001b[0m \u001b[43mcalculate_and_print_endgame_accuracy\u001b[49m\u001b[43m(\u001b[49m\u001b[43mfirst_game\u001b[49m\u001b[43m,\u001b[49m\u001b[43m \u001b[49m\u001b[43mstockfish\u001b[49m\u001b[43m,\u001b[49m\u001b[43m \u001b[49m\u001b[43mplayer_color\u001b[49m\u001b[38;5;241;43m=\u001b[39;49m\u001b[38;5;124;43m\"\u001b[39;49m\u001b[38;5;124;43mblack\u001b[39;49m\u001b[38;5;124;43m\"\u001b[39;49m\u001b[43m)\u001b[49m\n",
      "Cell \u001b[0;32mIn[144], line 31\u001b[0m, in \u001b[0;36mcalculate_and_print_endgame_accuracy\u001b[0;34m(game, stockfish, player_color)\u001b[0m\n\u001b[1;32m     29\u001b[0m \u001b[38;5;28;01mif\u001b[39;00m i \u001b[38;5;241m%\u001b[39m \u001b[38;5;241m2\u001b[39m \u001b[38;5;241m==\u001b[39m (\u001b[38;5;241m0\u001b[39m \u001b[38;5;28;01mif\u001b[39;00m is_white \u001b[38;5;28;01melse\u001b[39;00m \u001b[38;5;241m1\u001b[39m):\n\u001b[1;32m     30\u001b[0m     stockfish\u001b[38;5;241m.\u001b[39mset_fen_position(board\u001b[38;5;241m.\u001b[39mfen())\n\u001b[0;32m---> 31\u001b[0m     current_eval \u001b[38;5;241m=\u001b[39m \u001b[43mstockfish\u001b[49m\u001b[38;5;241;43m.\u001b[39;49m\u001b[43mget_evaluation\u001b[49m\u001b[43m(\u001b[49m\u001b[43m)\u001b[49m\n\u001b[1;32m     33\u001b[0m     board\u001b[38;5;241m.\u001b[39mpush(move)\n\u001b[1;32m     34\u001b[0m     played_eval \u001b[38;5;241m=\u001b[39m stockfish\u001b[38;5;241m.\u001b[39mget_evaluation()\n",
      "File \u001b[0;32m/Library/Frameworks/Python.framework/Versions/3.13/lib/python3.13/site-packages/stockfish/models.py:498\u001b[0m, in \u001b[0;36mStockfish.get_evaluation\u001b[0;34m(self)\u001b[0m\n\u001b[1;32m    491\u001b[0m \u001b[38;5;250m\u001b[39m\u001b[38;5;124;03m\"\"\"Evaluates current position\u001b[39;00m\n\u001b[1;32m    492\u001b[0m \n\u001b[1;32m    493\u001b[0m \u001b[38;5;124;03mReturns:\u001b[39;00m\n\u001b[1;32m    494\u001b[0m \u001b[38;5;124;03m    A dictionary of the current advantage with \"type\" as \"cp\" (centipawns) or \"mate\" (checkmate in)\u001b[39;00m\n\u001b[1;32m    495\u001b[0m \u001b[38;5;124;03m\"\"\"\u001b[39;00m\n\u001b[1;32m    497\u001b[0m evaluation \u001b[38;5;241m=\u001b[39m \u001b[38;5;28mdict\u001b[39m()\n\u001b[0;32m--> 498\u001b[0m fen_position \u001b[38;5;241m=\u001b[39m \u001b[38;5;28;43mself\u001b[39;49m\u001b[38;5;241;43m.\u001b[39;49m\u001b[43mget_fen_position\u001b[49m\u001b[43m(\u001b[49m\u001b[43m)\u001b[49m\n\u001b[1;32m    499\u001b[0m compare \u001b[38;5;241m=\u001b[39m \u001b[38;5;241m1\u001b[39m \u001b[38;5;28;01mif\u001b[39;00m \u001b[38;5;124m\"\u001b[39m\u001b[38;5;124mw\u001b[39m\u001b[38;5;124m\"\u001b[39m \u001b[38;5;129;01min\u001b[39;00m fen_position \u001b[38;5;28;01melse\u001b[39;00m \u001b[38;5;241m-\u001b[39m\u001b[38;5;241m1\u001b[39m\n\u001b[1;32m    500\u001b[0m \u001b[38;5;66;03m# Stockfish shows advantage relative to current player. This function will instead\u001b[39;00m\n\u001b[1;32m    501\u001b[0m \u001b[38;5;66;03m# use positive to represent advantage white, and negative for advantage black.\u001b[39;00m\n",
      "File \u001b[0;32m/Library/Frameworks/Python.framework/Versions/3.13/lib/python3.13/site-packages/stockfish/models.py:293\u001b[0m, in \u001b[0;36mStockfish.get_fen_position\u001b[0;34m(self)\u001b[0m\n\u001b[1;32m    291\u001b[0m \u001b[38;5;28mself\u001b[39m\u001b[38;5;241m.\u001b[39m_put(\u001b[38;5;124m\"\u001b[39m\u001b[38;5;124md\u001b[39m\u001b[38;5;124m\"\u001b[39m)\n\u001b[1;32m    292\u001b[0m \u001b[38;5;28;01mwhile\u001b[39;00m \u001b[38;5;28;01mTrue\u001b[39;00m:\n\u001b[0;32m--> 293\u001b[0m     text \u001b[38;5;241m=\u001b[39m \u001b[38;5;28;43mself\u001b[39;49m\u001b[38;5;241;43m.\u001b[39;49m\u001b[43m_read_line\u001b[49m\u001b[43m(\u001b[49m\u001b[43m)\u001b[49m\n\u001b[1;32m    294\u001b[0m     splitted_text \u001b[38;5;241m=\u001b[39m text\u001b[38;5;241m.\u001b[39msplit(\u001b[38;5;124m\"\u001b[39m\u001b[38;5;124m \u001b[39m\u001b[38;5;124m\"\u001b[39m)\n\u001b[1;32m    295\u001b[0m     \u001b[38;5;28;01mif\u001b[39;00m splitted_text[\u001b[38;5;241m0\u001b[39m] \u001b[38;5;241m==\u001b[39m \u001b[38;5;124m\"\u001b[39m\u001b[38;5;124mFen:\u001b[39m\u001b[38;5;124m\"\u001b[39m:\n",
      "File \u001b[0;32m/Library/Frameworks/Python.framework/Versions/3.13/lib/python3.13/site-packages/stockfish/models.py:160\u001b[0m, in \u001b[0;36mStockfish._read_line\u001b[0;34m(self)\u001b[0m\n\u001b[1;32m    158\u001b[0m     \u001b[38;5;28;01mraise\u001b[39;00m \u001b[38;5;167;01mBrokenPipeError\u001b[39;00m()\n\u001b[1;32m    159\u001b[0m \u001b[38;5;28;01mif\u001b[39;00m \u001b[38;5;28mself\u001b[39m\u001b[38;5;241m.\u001b[39m_stockfish\u001b[38;5;241m.\u001b[39mpoll() \u001b[38;5;129;01mis\u001b[39;00m \u001b[38;5;129;01mnot\u001b[39;00m \u001b[38;5;28;01mNone\u001b[39;00m:\n\u001b[0;32m--> 160\u001b[0m     \u001b[38;5;28;01mraise\u001b[39;00m StockfishException(\u001b[38;5;124m\"\u001b[39m\u001b[38;5;124mThe Stockfish process has crashed\u001b[39m\u001b[38;5;124m\"\u001b[39m)\n\u001b[1;32m    161\u001b[0m \u001b[38;5;28;01mreturn\u001b[39;00m \u001b[38;5;28mself\u001b[39m\u001b[38;5;241m.\u001b[39m_stockfish\u001b[38;5;241m.\u001b[39mstdout\u001b[38;5;241m.\u001b[39mreadline()\u001b[38;5;241m.\u001b[39mstrip()\n",
      "\u001b[0;31mStockfishException\u001b[0m: The Stockfish process has crashed"
     ]
    }
   ],
   "source": [
    "def calculate_and_print_endgame_accuracy(game, stockfish, player_color=\"black\"):\n",
    "    \"\"\"\n",
    "    Calculate and print the accuracy for a specified player's moves during the endgame.\n",
    "\n",
    "    Parameters:\n",
    "    - game: The chess.pgn.Game object.\n",
    "    - stockfish: The Stockfish engine object.\n",
    "    - player_color: \"white\" or \"black\" to specify the player whose endgame moves to analyze.\n",
    "\n",
    "    Returns:\n",
    "    - None (prints details for every endgame move of the specified player and cumulative accuracy).\n",
    "    \"\"\"\n",
    "    start_index = endgame_start_index(game)  # Assumes this function returns the start index for endgame\n",
    "    if start_index is None:\n",
    "        print(\"Endgame does not start in this game based on the given criteria.\")\n",
    "        return\n",
    "\n",
    "    # Initialize board and set up to start from the endgame index\n",
    "    board = game.board()\n",
    "    moves = list(game.mainline_moves())\n",
    "    for move in moves[:start_index]:\n",
    "        board.push(move)\n",
    "\n",
    "    move_counts = {\"Best Move\": 0, \"Great Move\": 0, \"Good Move\": 0, \"Inaccuracy\": 0, \"Mistake\": 0, \"Blunder\": 0}\n",
    "\n",
    "    # Analyze moves from the endgame start\n",
    "    is_white = player_color == \"white\"\n",
    "    for i, move in enumerate(moves[start_index:], start=start_index):\n",
    "        if i % 2 == (0 if is_white else 1):\n",
    "            stockfish.set_fen_position(board.fen())\n",
    "            current_eval = stockfish.get_evaluation()\n",
    "\n",
    "            board.push(move)\n",
    "            played_eval = stockfish.get_evaluation()\n",
    "\n",
    "            if current_eval[\"type\"] == \"cp\" and played_eval[\"type\"] == \"cp\":\n",
    "                eval_diff = abs((played_eval[\"value\"] - current_eval[\"value\"]) / 100)\n",
    "                classification = classify_move(eval_diff)\n",
    "                move_counts[classification] += 1\n",
    "\n",
    "    final_accuracy = calculate_accuracy(move_counts)\n",
    "    print(f\"\\nEndgame Accuracy for {player_color.capitalize()}: {final_accuracy:.2f}%\")\n",
    "\n",
    "# Example usage\n",
    "# Assuming 'first_game' and 'stockfish' are already defined and 'classify_move', 'calculate_accuracy',\n",
    "# and 'endgame_start_index' are implemented correctly.\n",
    "calculate_and_print_endgame_accuracy(first_game, stockfish, player_color=\"black\")"
   ]
  },
  {
   "cell_type": "code",
   "execution_count": 188,
   "id": "6afff630-bd33-4a7b-a84b-f269cbed9526",
   "metadata": {},
   "outputs": [
    {
     "ename": "StockfishException",
     "evalue": "The Stockfish process has crashed",
     "output_type": "error",
     "traceback": [
      "\u001b[0;31m---------------------------------------------------------------------------\u001b[0m",
      "\u001b[0;31mStockfishException\u001b[0m                        Traceback (most recent call last)",
      "Cell \u001b[0;32mIn[188], line 50\u001b[0m\n\u001b[1;32m     45\u001b[0m                 \u001b[38;5;28;01mbreak\u001b[39;00m\n\u001b[1;32m     47\u001b[0m \u001b[38;5;66;03m# Example usage\u001b[39;00m\n\u001b[1;32m     48\u001b[0m \u001b[38;5;66;03m# Assuming 'first_game' and 'stockfish' are already defined and 'classify_move', 'calculate_accuracy',\u001b[39;00m\n\u001b[1;32m     49\u001b[0m \u001b[38;5;66;03m# and 'endgame_start_index' are implemented correctly.\u001b[39;00m\n\u001b[0;32m---> 50\u001b[0m \u001b[43mcalculate_and_print_endgame_accuracy\u001b[49m\u001b[43m(\u001b[49m\u001b[43mfirst_game\u001b[49m\u001b[43m,\u001b[49m\u001b[43m \u001b[49m\u001b[43mstockfish\u001b[49m\u001b[43m,\u001b[49m\u001b[43m \u001b[49m\u001b[43mplayer_color\u001b[49m\u001b[38;5;241;43m=\u001b[39;49m\u001b[38;5;124;43m\"\u001b[39;49m\u001b[38;5;124;43mblack\u001b[39;49m\u001b[38;5;124;43m\"\u001b[39;49m\u001b[43m)\u001b[49m\n",
      "Cell \u001b[0;32mIn[188], line 28\u001b[0m, in \u001b[0;36mcalculate_and_print_endgame_accuracy\u001b[0;34m(game, stockfish, player_color)\u001b[0m\n\u001b[1;32m     26\u001b[0m \u001b[38;5;28;01mfor\u001b[39;00m i, move \u001b[38;5;129;01min\u001b[39;00m \u001b[38;5;28menumerate\u001b[39m(moves[start_index:], start\u001b[38;5;241m=\u001b[39mstart_index):\n\u001b[1;32m     27\u001b[0m     \u001b[38;5;28;01mif\u001b[39;00m i \u001b[38;5;241m%\u001b[39m \u001b[38;5;241m2\u001b[39m \u001b[38;5;241m==\u001b[39m (\u001b[38;5;241m0\u001b[39m \u001b[38;5;28;01mif\u001b[39;00m is_white \u001b[38;5;28;01melse\u001b[39;00m \u001b[38;5;241m1\u001b[39m):  \u001b[38;5;66;03m# Only analyze moves for the specified player\u001b[39;00m\n\u001b[0;32m---> 28\u001b[0m         \u001b[43mstockfish\u001b[49m\u001b[38;5;241;43m.\u001b[39;49m\u001b[43mset_fen_position\u001b[49m\u001b[43m(\u001b[49m\u001b[43mboard\u001b[49m\u001b[38;5;241;43m.\u001b[39;49m\u001b[43mfen\u001b[49m\u001b[43m(\u001b[49m\u001b[43m)\u001b[49m\u001b[43m)\u001b[49m\n\u001b[1;32m     29\u001b[0m         current_eval \u001b[38;5;241m=\u001b[39m stockfish\u001b[38;5;241m.\u001b[39mget_evaluation()\n\u001b[1;32m     30\u001b[0m         notation \u001b[38;5;241m=\u001b[39m board\u001b[38;5;241m.\u001b[39msan(move)  \u001b[38;5;66;03m# Get the SAN notation before pushing the move\u001b[39;00m\n",
      "File \u001b[0;32m/Library/Frameworks/Python.framework/Versions/3.13/lib/python3.13/site-packages/stockfish/models.py:207\u001b[0m, in \u001b[0;36mStockfish.set_fen_position\u001b[0;34m(self, fen_position, send_ucinewgame_token)\u001b[0m\n\u001b[1;32m    190\u001b[0m \u001b[38;5;28;01mdef\u001b[39;00m \u001b[38;5;21mset_fen_position\u001b[39m(\n\u001b[1;32m    191\u001b[0m     \u001b[38;5;28mself\u001b[39m, fen_position: \u001b[38;5;28mstr\u001b[39m, send_ucinewgame_token: \u001b[38;5;28mbool\u001b[39m \u001b[38;5;241m=\u001b[39m \u001b[38;5;28;01mTrue\u001b[39;00m\n\u001b[1;32m    192\u001b[0m ) \u001b[38;5;241m-\u001b[39m\u001b[38;5;241m>\u001b[39m \u001b[38;5;28;01mNone\u001b[39;00m:\n\u001b[1;32m    193\u001b[0m \u001b[38;5;250m    \u001b[39m\u001b[38;5;124;03m\"\"\"Sets current board position in Forsyth–Edwards notation (FEN).\u001b[39;00m\n\u001b[1;32m    194\u001b[0m \n\u001b[1;32m    195\u001b[0m \u001b[38;5;124;03m    Args:\u001b[39;00m\n\u001b[0;32m   (...)\u001b[0m\n\u001b[1;32m    205\u001b[0m \u001b[38;5;124;03m        None\u001b[39;00m\n\u001b[1;32m    206\u001b[0m \u001b[38;5;124;03m    \"\"\"\u001b[39;00m\n\u001b[0;32m--> 207\u001b[0m     \u001b[38;5;28;43mself\u001b[39;49m\u001b[38;5;241;43m.\u001b[39;49m\u001b[43m_prepare_for_new_position\u001b[49m\u001b[43m(\u001b[49m\u001b[43msend_ucinewgame_token\u001b[49m\u001b[43m)\u001b[49m\n\u001b[1;32m    208\u001b[0m     \u001b[38;5;28mself\u001b[39m\u001b[38;5;241m.\u001b[39m_put(\u001b[38;5;124mf\u001b[39m\u001b[38;5;124m\"\u001b[39m\u001b[38;5;124mposition fen \u001b[39m\u001b[38;5;132;01m{\u001b[39;00mfen_position\u001b[38;5;132;01m}\u001b[39;00m\u001b[38;5;124m\"\u001b[39m)\n",
      "File \u001b[0;32m/Library/Frameworks/Python.framework/Versions/3.13/lib/python3.13/site-packages/stockfish/models.py:144\u001b[0m, in \u001b[0;36mStockfish._prepare_for_new_position\u001b[0;34m(self, send_ucinewgame_token)\u001b[0m\n\u001b[1;32m    142\u001b[0m \u001b[38;5;28;01mif\u001b[39;00m send_ucinewgame_token:\n\u001b[1;32m    143\u001b[0m     \u001b[38;5;28mself\u001b[39m\u001b[38;5;241m.\u001b[39m_put(\u001b[38;5;124m\"\u001b[39m\u001b[38;5;124mucinewgame\u001b[39m\u001b[38;5;124m\"\u001b[39m)\n\u001b[0;32m--> 144\u001b[0m \u001b[38;5;28;43mself\u001b[39;49m\u001b[38;5;241;43m.\u001b[39;49m\u001b[43m_is_ready\u001b[49m\u001b[43m(\u001b[49m\u001b[43m)\u001b[49m\n\u001b[1;32m    145\u001b[0m \u001b[38;5;28mself\u001b[39m\u001b[38;5;241m.\u001b[39minfo \u001b[38;5;241m=\u001b[39m \u001b[38;5;124m\"\u001b[39m\u001b[38;5;124m\"\u001b[39m\n",
      "File \u001b[0;32m/Library/Frameworks/Python.framework/Versions/3.13/lib/python3.13/site-packages/stockfish/models.py:173\u001b[0m, in \u001b[0;36mStockfish._is_ready\u001b[0;34m(self)\u001b[0m\n\u001b[1;32m    171\u001b[0m \u001b[38;5;28;01mdef\u001b[39;00m \u001b[38;5;21m_is_ready\u001b[39m(\u001b[38;5;28mself\u001b[39m) \u001b[38;5;241m-\u001b[39m\u001b[38;5;241m>\u001b[39m \u001b[38;5;28;01mNone\u001b[39;00m:\n\u001b[1;32m    172\u001b[0m     \u001b[38;5;28mself\u001b[39m\u001b[38;5;241m.\u001b[39m_put(\u001b[38;5;124m\"\u001b[39m\u001b[38;5;124misready\u001b[39m\u001b[38;5;124m\"\u001b[39m)\n\u001b[0;32m--> 173\u001b[0m     \u001b[38;5;28;01mwhile\u001b[39;00m \u001b[38;5;28;43mself\u001b[39;49m\u001b[38;5;241;43m.\u001b[39;49m\u001b[43m_read_line\u001b[49m\u001b[43m(\u001b[49m\u001b[43m)\u001b[49m \u001b[38;5;241m!=\u001b[39m \u001b[38;5;124m\"\u001b[39m\u001b[38;5;124mreadyok\u001b[39m\u001b[38;5;124m\"\u001b[39m:\n\u001b[1;32m    174\u001b[0m         \u001b[38;5;28;01mpass\u001b[39;00m\n",
      "File \u001b[0;32m/Library/Frameworks/Python.framework/Versions/3.13/lib/python3.13/site-packages/stockfish/models.py:160\u001b[0m, in \u001b[0;36mStockfish._read_line\u001b[0;34m(self)\u001b[0m\n\u001b[1;32m    158\u001b[0m     \u001b[38;5;28;01mraise\u001b[39;00m \u001b[38;5;167;01mBrokenPipeError\u001b[39;00m()\n\u001b[1;32m    159\u001b[0m \u001b[38;5;28;01mif\u001b[39;00m \u001b[38;5;28mself\u001b[39m\u001b[38;5;241m.\u001b[39m_stockfish\u001b[38;5;241m.\u001b[39mpoll() \u001b[38;5;129;01mis\u001b[39;00m \u001b[38;5;129;01mnot\u001b[39;00m \u001b[38;5;28;01mNone\u001b[39;00m:\n\u001b[0;32m--> 160\u001b[0m     \u001b[38;5;28;01mraise\u001b[39;00m StockfishException(\u001b[38;5;124m\"\u001b[39m\u001b[38;5;124mThe Stockfish process has crashed\u001b[39m\u001b[38;5;124m\"\u001b[39m)\n\u001b[1;32m    161\u001b[0m \u001b[38;5;28;01mreturn\u001b[39;00m \u001b[38;5;28mself\u001b[39m\u001b[38;5;241m.\u001b[39m_stockfish\u001b[38;5;241m.\u001b[39mstdout\u001b[38;5;241m.\u001b[39mreadline()\u001b[38;5;241m.\u001b[39mstrip()\n",
      "\u001b[0;31mStockfishException\u001b[0m: The Stockfish process has crashed"
     ]
    }
   ],
   "source": [
    "def calculate_and_print_endgame_accuracy(game, stockfish, player_color=\"black\"):\n",
    "    \"\"\"\n",
    "    Calculate and print the accuracy for a specified player's moves during the endgame.\n",
    "\n",
    "    Parameters:\n",
    "    - game: The chess.pgn.Game object.\n",
    "    - stockfish: The Stockfish engine object.\n",
    "    - player_color: \"white\" or \"black\" to specify the player whose endgame moves to analyze.\n",
    "\n",
    "    Returns:\n",
    "    - None (prints details and accuracy for every endgame move of the specified player).\n",
    "    \"\"\"\n",
    "    start_index = endgame_start_index(game)  # Assumes this function returns the start index for endgame\n",
    "    if start_index is None:\n",
    "        print(\"Endgame does not start in this game based on the given criteria.\")\n",
    "        return\n",
    "\n",
    "    board = game.board()\n",
    "    moves = list(game.mainline_moves())\n",
    "    for move in moves[:start_index]:\n",
    "        board.push(move)\n",
    "\n",
    "    move_counts = {\"Best Move\": 0, \"Great Move\": 0, \"Good Move\": 0, \"Inaccuracy\": 0, \"Mistake\": 0, \"Blunder\": 0}\n",
    "    is_white = player_color == \"white\"\n",
    "\n",
    "    for i, move in enumerate(moves[start_index:], start=start_index):\n",
    "        if i % 2 == (0 if is_white else 1):  # Only analyze moves for the specified player\n",
    "            stockfish.set_fen_position(board.fen())\n",
    "            current_eval = stockfish.get_evaluation()\n",
    "            notation = board.san(move)  # Get the SAN notation before pushing the move\n",
    "            board.push(move)\n",
    "\n",
    "            if not board.is_game_over():\n",
    "                played_eval = stockfish.get_evaluation()\n",
    "\n",
    "                if current_eval[\"type\"] == \"cp\" and played_eval[\"type\"] == \"cp\":\n",
    "                    eval_diff = abs((played_eval[\"value\"] - current_eval[\"value\"]) / 100)\n",
    "                    classification = classify_move(eval_diff)\n",
    "                    move_counts[classification] += 1\n",
    "\n",
    "                    cumulative_accuracy = calculate_accuracy(move_counts)\n",
    "                    print(f\"Move {i + 1} ({notation}): {classification}, Cumulative Accuracy: {cumulative_accuracy:.2f}%\")\n",
    "            else:\n",
    "                print(\"Game ended after move.\")\n",
    "                break\n",
    "\n",
    "# Example usage\n",
    "# Assuming 'first_game' and 'stockfish' are already defined and 'classify_move', 'calculate_accuracy',\n",
    "# and 'endgame_start_index' are implemented correctly.\n",
    "calculate_and_print_endgame_accuracy(first_game, stockfish, player_color=\"black\")\n"
   ]
  },
  {
   "cell_type": "code",
   "execution_count": 213,
   "id": "af3c8d1f-8a4d-450c-87f3-b4ad14285727",
   "metadata": {},
   "outputs": [],
   "source": [
    "tester_df = pd.DataFrame(columns=['Color', 'Opponent', 'Accuracy', 'Result', 'Number of Moves', 'Date'])\n",
    "\n",
    "# Thresholds for move classifications\n",
    "THRESHOLDS = {\n",
    "    \"best\": 0,\n",
    "    \"great\": 0.2,\n",
    "    \"good\": 0.5,\n",
    "    \"inaccuracy\": 1.0,\n",
    "    \"mistake\": 3.0,\n",
    "    \"blunder\": float(\"inf\")\n",
    "}\n",
    "\n",
    "# Classification scores for accuracy calculation\n",
    "MOVE_SCORES = {\n",
    "    \"Best Move\": 1.0,\n",
    "    \"Great Move\": 0.9,\n",
    "    \"Good Move\": 0.7,\n",
    "    \"Inaccuracy\": 0.5,\n",
    "    \"Mistake\": 0.3,\n",
    "    \"Blunder\": 0.0\n",
    "}\n",
    "\n",
    "# Function to classify moves based on evaluation difference\n",
    "def classify_move(eval_diff):\n",
    "    if eval_diff == 0:\n",
    "        return \"Best Move\"\n",
    "    elif eval_diff <= THRESHOLDS[\"great\"]:\n",
    "        return \"Great Move\"\n",
    "    elif eval_diff <= THRESHOLDS[\"good\"]:\n",
    "        return \"Good Move\"\n",
    "    elif eval_diff <= THRESHOLDS[\"inaccuracy\"]:\n",
    "        return \"Inaccuracy\"\n",
    "    elif eval_diff <= THRESHOLDS[\"mistake\"]:\n",
    "        return \"Mistake\"\n",
    "    else:\n",
    "        return \"Blunder\"\n",
    "\n",
    "# Function to calculate accuracy\n",
    "def calculate_accuracy(move_counts):\n",
    "    total_moves = sum(move_counts.values())\n",
    "    if total_moves == 0:\n",
    "        return 0.0\n",
    "    score = sum(move_counts[move] * MOVE_SCORES[move] for move in move_counts)\n",
    "    return (score / total_moves) * 100\n",
    "\n",
    "# Read and analyze the game\n",
    "with open(pgn_name, \"r\") as f:\n",
    "    first_game = chess.pgn.read_game(f)\n",
    "\n",
    "# Extract metadata\n",
    "white_player = first_game.headers[\"White\"]\n",
    "black_player = first_game.headers[\"Black\"]\n",
    "result = first_game.headers[\"Result\"]\n",
    "date = first_game.headers[\"Date\"]\n",
    "\n",
    "# Determine your color and opponent\n",
    "if \"pranavks\" in white_player.lower():\n",
    "    color = \"White\"\n",
    "    opponent = black_player\n",
    "else:\n",
    "    color = \"Black\"\n",
    "    opponent = white_player\n",
    "\n",
    "# Initialize board and move counts\n",
    "board = first_game.board()\n",
    "move_counts = {\"Best Move\": 0, \"Great Move\": 0, \"Good Move\": 0, \"Inaccuracy\": 0, \"Mistake\": 0, \"Blunder\": 0}\n",
    "\n",
    "# Analyze moves\n",
    "for move in first_game.mainline_moves():\n",
    "    # Get evaluation before the move\n",
    "    stockfish.set_fen_position(board.fen())\n",
    "    current_eval = stockfish.get_evaluation()\n",
    "\n",
    "    # Apply the move\n",
    "    board.push(move)\n",
    "\n",
    "    # Get evaluation after the move\n",
    "    stockfish.set_fen_position(board.fen())\n",
    "    played_eval = stockfish.get_evaluation()\n",
    "\n",
    "    # Classify the move\n",
    "    if current_eval[\"type\"] == \"cp\" and played_eval[\"type\"] == \"cp\":\n",
    "        eval_diff = abs((played_eval[\"value\"] - current_eval[\"value\"]) / 100)\n",
    "        classification = classify_move(eval_diff)\n",
    "        move_counts[classification] += 1\n",
    "\n",
    "# Calculate accuracy and total moves\n",
    "accuracy = calculate_accuracy(move_counts)\n",
    "number_of_moves = len(list(first_game.mainline_moves()))\n",
    "\n",
    "new_row = pd.DataFrame([{\n",
    "    \"Color\": color,\n",
    "    \"Opponent\": opponent,\n",
    "    \"Accuracy\": round(accuracy, 2),\n",
    "    \"Result\": result,\n",
    "    \"Number of Moves\": number_of_moves,\n",
    "    \"Date\": date\n",
    "}])\n",
    "tester_df.loc[len(tester_df)] = [color,opponent,round(accuracy, 2),result,number_of_moves,date]\n"
   ]
  },
  {
   "cell_type": "code",
   "execution_count": 212,
   "id": "3b95c1d6-6b00-4541-ba6f-a9cf2dca27d1",
   "metadata": {},
   "outputs": [
    {
     "data": {
      "text/html": [
       "<div>\n",
       "<style scoped>\n",
       "    .dataframe tbody tr th:only-of-type {\n",
       "        vertical-align: middle;\n",
       "    }\n",
       "\n",
       "    .dataframe tbody tr th {\n",
       "        vertical-align: top;\n",
       "    }\n",
       "\n",
       "    .dataframe thead th {\n",
       "        text-align: right;\n",
       "    }\n",
       "</style>\n",
       "<table border=\"1\" class=\"dataframe\">\n",
       "  <thead>\n",
       "    <tr style=\"text-align: right;\">\n",
       "      <th></th>\n",
       "      <th>Color</th>\n",
       "      <th>Opponent</th>\n",
       "      <th>Accuracy</th>\n",
       "      <th>Result</th>\n",
       "      <th>Number of Moves</th>\n",
       "      <th>ECO</th>\n",
       "      <th>Opening Name</th>\n",
       "      <th>Date</th>\n",
       "      <th>PGN Name</th>\n",
       "      <th>Opening Accuracy</th>\n",
       "    </tr>\n",
       "  </thead>\n",
       "  <tbody>\n",
       "    <tr>\n",
       "      <th>0</th>\n",
       "      <td>Black</td>\n",
       "      <td>marwanchessksa</td>\n",
       "      <td>69.24</td>\n",
       "      <td>1-0</td>\n",
       "      <td>79</td>\n",
       "      <td>C28</td>\n",
       "      <td>Bishop's Opening: Vienna Hybrid, Hromádka Vari...</td>\n",
       "      <td>2024.12.17</td>\n",
       "      <td>marwanchessksa_vs_pranavks_2024.12.17.pgn</td>\n",
       "      <td>81.25</td>\n",
       "    </tr>\n",
       "  </tbody>\n",
       "</table>\n",
       "</div>"
      ],
      "text/plain": [
       "   Color        Opponent  Accuracy Result Number of Moves  ECO  \\\n",
       "0  Black  marwanchessksa     69.24    1-0              79  C28   \n",
       "\n",
       "                                        Opening Name        Date  \\\n",
       "0  Bishop's Opening: Vienna Hybrid, Hromádka Vari...  2024.12.17   \n",
       "\n",
       "                                    PGN Name  Opening Accuracy  \n",
       "0  marwanchessksa_vs_pranavks_2024.12.17.pgn             81.25  "
      ]
     },
     "execution_count": 212,
     "metadata": {},
     "output_type": "execute_result"
    }
   ],
   "source": [
    "games_df"
   ]
  },
  {
   "cell_type": "code",
   "execution_count": 214,
   "id": "26025836-9f38-473a-8878-8f1e2f194c8f",
   "metadata": {},
   "outputs": [
    {
     "data": {
      "text/html": [
       "<div>\n",
       "<style scoped>\n",
       "    .dataframe tbody tr th:only-of-type {\n",
       "        vertical-align: middle;\n",
       "    }\n",
       "\n",
       "    .dataframe tbody tr th {\n",
       "        vertical-align: top;\n",
       "    }\n",
       "\n",
       "    .dataframe thead th {\n",
       "        text-align: right;\n",
       "    }\n",
       "</style>\n",
       "<table border=\"1\" class=\"dataframe\">\n",
       "  <thead>\n",
       "    <tr style=\"text-align: right;\">\n",
       "      <th></th>\n",
       "      <th>Color</th>\n",
       "      <th>Opponent</th>\n",
       "      <th>Accuracy</th>\n",
       "      <th>Result</th>\n",
       "      <th>Number of Moves</th>\n",
       "      <th>Date</th>\n",
       "    </tr>\n",
       "  </thead>\n",
       "  <tbody>\n",
       "    <tr>\n",
       "      <th>0</th>\n",
       "      <td>Black</td>\n",
       "      <td>marwanchessksa</td>\n",
       "      <td>69.24</td>\n",
       "      <td>1-0</td>\n",
       "      <td>79</td>\n",
       "      <td>2024.12.17</td>\n",
       "    </tr>\n",
       "  </tbody>\n",
       "</table>\n",
       "</div>"
      ],
      "text/plain": [
       "   Color        Opponent  Accuracy Result  Number of Moves        Date\n",
       "0  Black  marwanchessksa     69.24    1-0               79  2024.12.17"
      ]
     },
     "execution_count": 214,
     "metadata": {},
     "output_type": "execute_result"
    }
   ],
   "source": [
    "tester_df"
   ]
  },
  {
   "cell_type": "code",
   "execution_count": 218,
   "id": "ce6c59ec-aee0-442f-a67c-0e7399ff0af7",
   "metadata": {},
   "outputs": [
    {
     "name": "stdout",
     "output_type": "stream",
     "text": [
      "   Color        Opponent  Accuracy Result  Number of Moves        Date\n",
      "0  Black  marwanchessksa     68.21    1-0               39  2024.12.17\n"
     ]
    }
   ],
   "source": [
    "import pandas as pd\n",
    "import chess\n",
    "import chess.pgn\n",
    "\n",
    "# Define thresholds and scores for move classifications\n",
    "THRESHOLDS = {\n",
    "    \"best\": 0,\n",
    "    \"great\": 0.2,\n",
    "    \"good\": 0.5,\n",
    "    \"inaccuracy\": 1.0,\n",
    "    \"mistake\": 3.0,\n",
    "    \"blunder\": float(\"inf\")\n",
    "}\n",
    "\n",
    "MOVE_SCORES = {\n",
    "    \"Best Move\": 1.0,\n",
    "    \"Great Move\": 0.9,\n",
    "    \"Good Move\": 0.7,\n",
    "    \"Inaccuracy\": 0.5,\n",
    "    \"Mistake\": 0.3,\n",
    "    \"Blunder\": 0.0\n",
    "}\n",
    "\n",
    "def classify_move(eval_diff):\n",
    "    if eval_diff == 0:\n",
    "        return \"Best Move\"\n",
    "    elif eval_diff <= THRESHOLDS[\"great\"]:\n",
    "        return \"Great Move\"\n",
    "    elif eval_diff <= THRESHOLDS[\"good\"]:\n",
    "        return \"Good Move\"\n",
    "    elif eval_diff <= THRESHOLDS[\"inaccuracy\"]:\n",
    "        return \"Inaccuracy\"\n",
    "    elif eval_diff <= THRESHOLDS[\"mistake\"]:\n",
    "        return \"Mistake\"\n",
    "    else:\n",
    "        return \"Blunder\"\n",
    "\n",
    "def calculate_accuracy(move_counts):\n",
    "    total_moves = sum(move_counts.values())\n",
    "    if total_moves == 0:\n",
    "        return 0.0\n",
    "    score = sum(move_counts[move] * MOVE_SCORES[move] for move in move_counts)\n",
    "    return (score / total_moves) * 100\n",
    "\n",
    "# Extract metadata from the game\n",
    "white_player = first_game.headers[\"White\"]\n",
    "black_player = first_game.headers[\"Black\"]\n",
    "result = first_game.headers[\"Result\"]\n",
    "date = first_game.headers[\"Date\"]\n",
    "\n",
    "# Determine player color and opponent based on a username\n",
    "if \"pranavks\" in white_player.lower():\n",
    "    color = \"White\"\n",
    "    opponent = black_player\n",
    "else:\n",
    "    color = \"Black\"\n",
    "    opponent = white_player\n",
    "\n",
    "# Initialize board and move counts for the black player\n",
    "board = first_game.board()\n",
    "move_counts = {\"Best Move\": 0, \"Great Move\": 0, \"Good Move\": 0, \"Inaccuracy\": 0, \"Mistake\": 0, \"Blunder\": 0}\n",
    "number_of_moves = 0\n",
    "\n",
    "# Analyze only the black player's moves\n",
    "for move in first_game.mainline_moves():\n",
    "    if board.turn == chess.BLACK:  # Check if it's black's turn\n",
    "        stockfish.set_fen_position(board.fen())\n",
    "        current_eval = stockfish.get_evaluation()\n",
    "        \n",
    "        board.push(move)\n",
    "        \n",
    "        stockfish.set_fen_position(board.fen())\n",
    "        played_eval = stockfish.get_evaluation()\n",
    "        \n",
    "        if current_eval[\"type\"] == \"cp\" and played_eval[\"type\"] == \"cp\":\n",
    "            eval_diff = abs((played_eval[\"value\"] - current_eval[\"value\"]) / 100)\n",
    "            classification = classify_move(eval_diff)\n",
    "            move_counts[classification] += 1\n",
    "            number_of_moves += 1\n",
    "    else:\n",
    "        board.push(move)\n",
    "\n",
    "# Calculate accuracy for black's moves\n",
    "accuracy = calculate_accuracy(move_counts)\n",
    "\n",
    "# Create a DataFrame for output\n",
    "tester_df = pd.DataFrame(columns=['Color', 'Opponent', 'Accuracy', 'Result', 'Number of Moves', 'Date'])\n",
    "new_row = {\n",
    "    \"Color\": color,\n",
    "    \"Opponent\": opponent,\n",
    "    \"Accuracy\": round(accuracy, 2),\n",
    "    \"Result\": result,\n",
    "    \"Number of Moves\": number_of_moves,\n",
    "    \"Date\": date\n",
    "}\n",
    "tester_df.loc[len(tester_df)] = [color,opponent,round(accuracy, 2),result,number_of_moves,date]\n",
    "\n",
    "# Output the DataFrame\n",
    "print(tester_df)\n"
   ]
  },
  {
   "cell_type": "code",
   "execution_count": 221,
   "id": "467756b7-1665-4daf-b793-2a63d1eb3f77",
   "metadata": {},
   "outputs": [
    {
     "name": "stdout",
     "output_type": "stream",
     "text": [
      "Endgame Accuracy for Black: 65.17%\n"
     ]
    }
   ],
   "source": [
    "import pandas as pd\n",
    "import chess\n",
    "import chess.pgn\n",
    "\n",
    "# Define your move classification thresholds and scores\n",
    "THRESHOLDS = {\n",
    "    \"best\": 0,\n",
    "    \"great\": 0.2,\n",
    "    \"good\": 0.5,\n",
    "    \"inaccuracy\": 1.0,\n",
    "    \"mistake\": 3.0,\n",
    "    \"blunder\": float(\"inf\")\n",
    "}\n",
    "\n",
    "MOVE_SCORES = {\n",
    "    \"Best Move\": 1.0,\n",
    "    \"Great Move\": 0.9,\n",
    "    \"Good Move\": 0.7,\n",
    "    \"Inaccuracy\": 0.5,\n",
    "    \"Mistake\": 0.3,\n",
    "    \"Blunder\": 0.0\n",
    "}\n",
    "\n",
    "def classify_move(eval_diff):\n",
    "    \"\"\" Classifies moves based on evaluation difference using defined thresholds. \"\"\"\n",
    "    if eval_diff == 0:\n",
    "        return \"Best Move\"\n",
    "    elif eval_diff <= THRESHOLDS[\"great\"]:\n",
    "        return \"Great Move\"\n",
    "    elif eval_diff <= THRESHOLDS[\"good\"]:\n",
    "        return \"Good Move\"\n",
    "    elif eval_diff <= THRESHOLDS[\"inaccuracy\"]:\n",
    "        return \"Inaccuracy\"\n",
    "    elif eval_diff <= THRESHOLDS[\"mistake\"]:\n",
    "        return \"Mistake\"\n",
    "    else:\n",
    "        return \"Blunder\"\n",
    "\n",
    "def calculate_accuracy(move_counts):\n",
    "    \"\"\" Calculates accuracy based on move classifications and their scores. \"\"\"\n",
    "    total_moves = sum(move_counts.values())\n",
    "    if total_moves == 0:\n",
    "        return 0.0\n",
    "    score = sum(move_counts[move] * MOVE_SCORES[move] for move in move_counts)\n",
    "    return (score / total_moves) * 100\n",
    "\n",
    "def endgame_start_index(game):\n",
    "    \"\"\" Placeholder function to determine the start index of the endgame. \"\"\"\n",
    "    # Replace this logic with your actual method to find the endgame start index.\n",
    "    return 20  # Example start index for the endgame\n",
    "\n",
    "def calculate_endgame_accuracy(game, stockfish, player_color=\"black\"):\n",
    "    \"\"\" Calculates and prints the accuracy for black's endgame moves. \"\"\"\n",
    "    start_index = endgame_start_index(game)\n",
    "    board = game.board()\n",
    "    moves = list(game.mainline_moves())\n",
    "    move_counts = {\"Best Move\": 0, \"Great Move\": 0, \"Good Move\": 0, \"Inaccuracy\": 0, \"Mistake\": 0, \"Blunder\": 0}\n",
    "    \n",
    "    # Initialize the board state to the endgame start index\n",
    "    for move in moves[:start_index]:\n",
    "        board.push(move)\n",
    "\n",
    "    # Process only black's endgame moves\n",
    "    for i, move in enumerate(moves[start_index:], start=start_index):\n",
    "        if board.turn == chess.BLACK:\n",
    "            if move in board.legal_moves:\n",
    "                stockfish.set_fen_position(board.fen())\n",
    "                current_eval = stockfish.get_evaluation()\n",
    "                \n",
    "                board.push(move)\n",
    "                \n",
    "                stockfish.set_fen_position(board.fen())\n",
    "                played_eval = stockfish.get_evaluation()\n",
    "                \n",
    "                if current_eval[\"type\"] == \"cp\" and played_eval[\"type\"] == \"cp\":\n",
    "                    eval_diff = abs((played_eval[\"value\"] - current_eval[\"value\"]) / 100)\n",
    "                    classification = classify_move(eval_diff)\n",
    "                    move_counts[classification] += 1\n",
    "            else:\n",
    "                print(f\"Illegal move detected, skipping: {move}\")\n",
    "        else:\n",
    "            board.push(move)  # Continue updating board for white's moves\n",
    "\n",
    "    # Calculate and print the final accuracy for black's endgame moves\n",
    "    accuracy = calculate_accuracy(move_counts)\n",
    "    print(f\"Endgame Accuracy for Black: {accuracy:.2f}%\")\n",
    "\n",
    "\n",
    "calculate_endgame_accuracy(first_game, stockfish, player_color=\"black\")\n"
   ]
  },
  {
   "cell_type": "code",
   "execution_count": 246,
   "id": "3a3c29c9-c78e-4745-86a5-3857af17b0d3",
   "metadata": {},
   "outputs": [
    {
     "name": "stdout",
     "output_type": "stream",
     "text": [
      "Move 66 (Kxg7): Great Move, Cumulative Accuracy: 90.00%\n",
      "Move 68 (Ra1+): Good Move, Cumulative Accuracy: 80.00%\n",
      "Move 70 (Ra2): Great Move, Cumulative Accuracy: 83.33%\n",
      "Move 72 (Kh6): Good Move, Cumulative Accuracy: 80.00%\n",
      "Move 74 (Bd4): Mistake, Cumulative Accuracy: 70.00%\n",
      "Move 76 (Kg6): Great Move, Cumulative Accuracy: 73.33%\n",
      "Move 78 (Rd2): Great Move, Cumulative Accuracy: 75.71%\n"
     ]
    }
   ],
   "source": [
    "import pandas as pd\n",
    "import chess\n",
    "import chess.pgn\n",
    "\n",
    "# Define your move classification thresholds and scores\n",
    "THRESHOLDS = {\n",
    "    \"best\": 0,\n",
    "    \"great\": 0.2,\n",
    "    \"good\": 0.5,\n",
    "    \"inaccuracy\": 1.0,\n",
    "    \"mistake\": 3.0,\n",
    "    \"blunder\": float(\"inf\")\n",
    "}\n",
    "\n",
    "MOVE_SCORES = {\n",
    "    \"Best Move\": 1.0,\n",
    "    \"Great Move\": 0.9,\n",
    "    \"Good Move\": 0.7,\n",
    "    \"Inaccuracy\": 0.5,\n",
    "    \"Mistake\": 0.3,\n",
    "    \"Blunder\": 0.0\n",
    "}\n",
    "\n",
    "def classify_move(eval_diff):\n",
    "    if eval_diff == 0:\n",
    "        return \"Best Move\"\n",
    "    elif eval_diff <= THRESHOLDS[\"great\"]:\n",
    "        return \"Great Move\"\n",
    "    elif eval_diff <= THRESHOLDS[\"good\"]:\n",
    "        return \"Good Move\"\n",
    "    elif eval_diff <= THRESHOLDS[\"inaccuracy\"]:\n",
    "        return \"Inaccuracy\"\n",
    "    elif eval_diff <= THRESHOLDS[\"mistake\"]:\n",
    "        return \"Mistake\"\n",
    "    else:\n",
    "        return \"Blunder\"\n",
    "\n",
    "def calculate_accuracy(move_counts):\n",
    "    total_moves = sum(move_counts.values())\n",
    "    if total_moves == 0:\n",
    "        return 0.0\n",
    "    score = sum(move_counts[move] * MOVE_SCORES[move] for move in move_counts)\n",
    "    return (score / total_moves) * 100\n",
    "\n",
    "def endgame_start_index(game):\n",
    "    # Example logic to determine the start index of the endgame.\n",
    "    return 65  # Placeholder, adjust as necessary.\n",
    "\n",
    "def calculate_endgame_accuracy(game, stockfish, player_color=\"black\"):\n",
    "    start_index = endgame_start_index(game)\n",
    "    board = game.board()\n",
    "    moves = list(game.mainline_moves())\n",
    "    move_counts = {\"Best Move\": 0, \"Great Move\": 0, \"Good Move\": 0, \"Inaccuracy\": 0, \"Mistake\": 0, \"Blunder\": 0}\n",
    "\n",
    "    # Initialize the board state to the endgame start index\n",
    "    for move in moves[:start_index]:\n",
    "        board.push(move)\n",
    "\n",
    "    # Process only black's endgame moves\n",
    "    for i, move in enumerate(moves[start_index:], start=start_index):\n",
    "        if board.turn == chess.BLACK:\n",
    "            if move in board.legal_moves:\n",
    "                notation = board.san(move)  # Get SAN notation for the current move\n",
    "                stockfish.set_fen_position(board.fen())\n",
    "                current_eval = stockfish.get_evaluation()\n",
    "                \n",
    "                board.push(move)\n",
    "                \n",
    "                stockfish.set_fen_position(board.fen())\n",
    "                played_eval = stockfish.get_evaluation()\n",
    "                \n",
    "                if current_eval[\"type\"] == \"cp\" and played_eval[\"type\"] == \"cp\":\n",
    "                    eval_diff = abs((played_eval[\"value\"] - current_eval[\"value\"]) / 100)\n",
    "                    classification = classify_move(eval_diff)\n",
    "                    move_counts[classification] += 1\n",
    "\n",
    "                    cumulative_accuracy = calculate_accuracy(move_counts)\n",
    "                    print(f\"Move {i + 1} ({notation}): {classification}, Cumulative Accuracy: {cumulative_accuracy:.2f}%\")\n",
    "            else:\n",
    "                print(f\"Illegal move detected, skipping: {notation}\")\n",
    "        else:\n",
    "            board.push(move)  # Continue updating board for white's moves\n",
    "    games_df['Endgame Accuracy']=round(cumulative_accuracy,2)\n",
    "calculate_endgame_accuracy(first_game, stockfish, player_color=\"black\")\n"
   ]
  },
  {
   "cell_type": "code",
   "execution_count": 247,
   "id": "a9b6eb24-48b5-4ae4-8e9e-95bb45906b48",
   "metadata": {},
   "outputs": [
    {
     "data": {
      "text/html": [
       "<div>\n",
       "<style scoped>\n",
       "    .dataframe tbody tr th:only-of-type {\n",
       "        vertical-align: middle;\n",
       "    }\n",
       "\n",
       "    .dataframe tbody tr th {\n",
       "        vertical-align: top;\n",
       "    }\n",
       "\n",
       "    .dataframe thead th {\n",
       "        text-align: right;\n",
       "    }\n",
       "</style>\n",
       "<table border=\"1\" class=\"dataframe\">\n",
       "  <thead>\n",
       "    <tr style=\"text-align: right;\">\n",
       "      <th></th>\n",
       "      <th>Color</th>\n",
       "      <th>Opponent</th>\n",
       "      <th>Accuracy</th>\n",
       "      <th>Result</th>\n",
       "      <th>Number of Moves</th>\n",
       "      <th>ECO</th>\n",
       "      <th>Opening Name</th>\n",
       "      <th>Date</th>\n",
       "      <th>PGN Name</th>\n",
       "      <th>Opening Accuracy</th>\n",
       "      <th>Endgame Accuracy</th>\n",
       "    </tr>\n",
       "  </thead>\n",
       "  <tbody>\n",
       "    <tr>\n",
       "      <th>0</th>\n",
       "      <td>Black</td>\n",
       "      <td>marwanchessksa</td>\n",
       "      <td>69.24</td>\n",
       "      <td>1-0</td>\n",
       "      <td>79</td>\n",
       "      <td>C28</td>\n",
       "      <td>Bishop's Opening: Vienna Hybrid, Hromádka Vari...</td>\n",
       "      <td>2024.12.17</td>\n",
       "      <td>marwanchessksa_vs_pranavks_2024.12.17.pgn</td>\n",
       "      <td>81.25</td>\n",
       "      <td>75.71</td>\n",
       "    </tr>\n",
       "  </tbody>\n",
       "</table>\n",
       "</div>"
      ],
      "text/plain": [
       "   Color        Opponent  Accuracy Result Number of Moves  ECO  \\\n",
       "0  Black  marwanchessksa     69.24    1-0              79  C28   \n",
       "\n",
       "                                        Opening Name        Date  \\\n",
       "0  Bishop's Opening: Vienna Hybrid, Hromádka Vari...  2024.12.17   \n",
       "\n",
       "                                    PGN Name  Opening Accuracy  \\\n",
       "0  marwanchessksa_vs_pranavks_2024.12.17.pgn             81.25   \n",
       "\n",
       "   Endgame Accuracy  \n",
       "0             75.71  "
      ]
     },
     "execution_count": 247,
     "metadata": {},
     "output_type": "execute_result"
    }
   ],
   "source": [
    "games_df"
   ]
  },
  {
   "cell_type": "code",
   "execution_count": 249,
   "id": "67d9b631-a0ff-4823-949c-1053413d89f3",
   "metadata": {},
   "outputs": [
    {
     "name": "stdout",
     "output_type": "stream",
     "text": [
      "Move 1 (Bxd5): Great Move, Cumulative Accuracy: 90.00%\n",
      "Move 3 (Na5): Mistake, Cumulative Accuracy: 60.00%\n",
      "Move 5 (b5): Great Move, Cumulative Accuracy: 70.00%\n",
      "Move 7 (Ba7): Great Move, Cumulative Accuracy: 75.00%\n",
      "Move 9 (Nb7): Great Move, Cumulative Accuracy: 78.00%\n",
      "Move 11 (axb5): Great Move, Cumulative Accuracy: 80.00%\n",
      "Move 13 (h6): Great Move, Cumulative Accuracy: 81.43%\n",
      "Move 15 (g5): Good Move, Cumulative Accuracy: 80.00%\n",
      "Move 17 (c5): Blunder, Cumulative Accuracy: 71.11%\n",
      "Move 19 (bxc4): Great Move, Cumulative Accuracy: 73.00%\n",
      "Move 21 (cxb4): Great Move, Cumulative Accuracy: 74.55%\n",
      "Move 23 (Nc5): Mistake, Cumulative Accuracy: 70.83%\n",
      "Move 25 (Nxb3): Inaccuracy, Cumulative Accuracy: 69.23%\n",
      "Move 27 (e4): Mistake, Cumulative Accuracy: 66.43%\n",
      "Move 29 (Bc5): Good Move, Cumulative Accuracy: 66.67%\n",
      "Move 31 (Qc7): Inaccuracy, Cumulative Accuracy: 65.62%\n",
      "Move 33 (Rxa8): Great Move, Cumulative Accuracy: 67.06%\n",
      "Move 35 (h5): Mistake, Cumulative Accuracy: 65.00%\n",
      "Move 37 (Kg7): Mistake, Cumulative Accuracy: 63.16%\n",
      "Move 39 (gxh4): Blunder, Cumulative Accuracy: 60.00%\n",
      "Move 41 (Qd7): Good Move, Cumulative Accuracy: 60.48%\n",
      "Move 43 (Kh7): Great Move, Cumulative Accuracy: 61.82%\n",
      "Move 45 (Qg4): Inaccuracy, Cumulative Accuracy: 61.30%\n",
      "Move 47 (Qg7): Good Move, Cumulative Accuracy: 61.67%\n"
     ]
    }
   ],
   "source": [
    "import pandas as pd\n",
    "import chess\n",
    "import chess.pgn\n",
    "\n",
    "# Your threshold and score definitions remain the same, as well as the classify_move and calculate_accuracy functions\n",
    "\n",
    "def calculate_middle_game_accuracy(game, stockfish, start_index, end_index, player_color=\"black\"):\n",
    "    \"\"\"\n",
    "    Calculates and prints the accuracy for a specified player's moves during the middle game.\n",
    "\n",
    "    Parameters:\n",
    "    - game: The chess.pgn.Game object.\n",
    "    - stockfish: The Stockfish engine object.\n",
    "    - start_index: int, the starting move number after the opening ends.\n",
    "    - end_index: int, the last move number before the endgame begins.\n",
    "    - player_color: str, \"white\" or \"black\" to specify the player whose moves to analyze.\n",
    "\n",
    "    Returns:\n",
    "    - None; prints move and cumulative accuracy for each move of the specified player in the middle game.\n",
    "    \"\"\"\n",
    "    board = game.board()\n",
    "    moves = list(game.mainline_moves())\n",
    "    move_counts = {\"Best Move\": 0, \"Great Move\": 0, \"Good Move\": 0, \"Inaccuracy\": 0, \"Mistake\": 0, \"Blunder\": 0}\n",
    "\n",
    "    # Initialize the board state to the start index, which is after the opening\n",
    "    for move in moves[:start_index]:\n",
    "        board.push(move)\n",
    "\n",
    "    # Process only the moves in the middle game segment\n",
    "    for i, move in enumerate(moves[start_index:end_index], start=start_index):\n",
    "        if board.turn == chess.BLACK if player_color == \"black\" else board.turn == chess.WHITE:\n",
    "            if move in board.legal_moves:\n",
    "                notation = board.san(move)  # Get SAN notation for the current move\n",
    "                stockfish.set_fen_position(board.fen())\n",
    "                current_eval = stockfish.get_evaluation()\n",
    "                \n",
    "                board.push(move)\n",
    "                \n",
    "                stockfish.set_fen_position(board.fen())\n",
    "                played_eval = stockfish.get_evaluation()\n",
    "                \n",
    "                if current_eval[\"type\"] == \"cp\" and played_eval[\"type\"] == \"cp\":\n",
    "                    eval_diff = abs((played_eval[\"value\"] - current_eval[\"value\"]) / 100)\n",
    "                    classification = classify_move(eval_diff)\n",
    "                    move_counts[classification] += 1\n",
    "\n",
    "                    cumulative_accuracy = calculate_accuracy(move_counts)\n",
    "                    print(f\"Move {i + 1 - start_index} ({notation}): {classification}, Cumulative Accuracy: {cumulative_accuracy:.2f}%\")\n",
    "            else:\n",
    "                print(f\"Illegal move detected, skipping: {notation}\")\n",
    "        else:\n",
    "            board.push(move)  # Continue updating board for the opponent's moves\n",
    "    games_df['Middlegame Accuracy']=round(cumulative_accuracy,2)\n",
    "\n",
    "# Usage Example\n",
    "# Assuming the game is loaded into `first_game` and `stockfish` is configured\n",
    "opening_end_index = 16  # End of opening, example value\n",
    "endgame_start_index = 66  # Start of endgame, example value\n",
    "calculate_middle_game_accuracy(first_game, stockfish, opening_end_index + 1, endgame_start_index - 1, player_color=\"black\")"
   ]
  },
  {
   "cell_type": "code",
   "execution_count": 250,
   "id": "cec66a7d-f231-485c-929a-03a36014bd15",
   "metadata": {},
   "outputs": [
    {
     "data": {
      "text/html": [
       "<div>\n",
       "<style scoped>\n",
       "    .dataframe tbody tr th:only-of-type {\n",
       "        vertical-align: middle;\n",
       "    }\n",
       "\n",
       "    .dataframe tbody tr th {\n",
       "        vertical-align: top;\n",
       "    }\n",
       "\n",
       "    .dataframe thead th {\n",
       "        text-align: right;\n",
       "    }\n",
       "</style>\n",
       "<table border=\"1\" class=\"dataframe\">\n",
       "  <thead>\n",
       "    <tr style=\"text-align: right;\">\n",
       "      <th></th>\n",
       "      <th>Color</th>\n",
       "      <th>Opponent</th>\n",
       "      <th>Accuracy</th>\n",
       "      <th>Result</th>\n",
       "      <th>Number of Moves</th>\n",
       "      <th>ECO</th>\n",
       "      <th>Opening Name</th>\n",
       "      <th>Date</th>\n",
       "      <th>PGN Name</th>\n",
       "      <th>Opening Accuracy</th>\n",
       "      <th>Endgame Accuracy</th>\n",
       "      <th>Middlegame Accuracy</th>\n",
       "    </tr>\n",
       "  </thead>\n",
       "  <tbody>\n",
       "    <tr>\n",
       "      <th>0</th>\n",
       "      <td>Black</td>\n",
       "      <td>marwanchessksa</td>\n",
       "      <td>69.24</td>\n",
       "      <td>1-0</td>\n",
       "      <td>79</td>\n",
       "      <td>C28</td>\n",
       "      <td>Bishop's Opening: Vienna Hybrid, Hromádka Vari...</td>\n",
       "      <td>2024.12.17</td>\n",
       "      <td>marwanchessksa_vs_pranavks_2024.12.17.pgn</td>\n",
       "      <td>81.25</td>\n",
       "      <td>75.71</td>\n",
       "      <td>61.67</td>\n",
       "    </tr>\n",
       "  </tbody>\n",
       "</table>\n",
       "</div>"
      ],
      "text/plain": [
       "   Color        Opponent  Accuracy Result Number of Moves  ECO  \\\n",
       "0  Black  marwanchessksa     69.24    1-0              79  C28   \n",
       "\n",
       "                                        Opening Name        Date  \\\n",
       "0  Bishop's Opening: Vienna Hybrid, Hromádka Vari...  2024.12.17   \n",
       "\n",
       "                                    PGN Name  Opening Accuracy  \\\n",
       "0  marwanchessksa_vs_pranavks_2024.12.17.pgn             81.25   \n",
       "\n",
       "   Endgame Accuracy  Middlegame Accuracy  \n",
       "0             75.71                61.67  "
      ]
     },
     "execution_count": 250,
     "metadata": {},
     "output_type": "execute_result"
    }
   ],
   "source": [
    "games_df"
   ]
  },
  {
   "cell_type": "code",
   "execution_count": 251,
   "id": "3ffe3479-831f-471d-92a9-e11d6fc682f8",
   "metadata": {},
   "outputs": [],
   "source": [
    "games_df.to_csv(\"one_game.csv\", index=False)"
   ]
  },
  {
   "cell_type": "code",
   "execution_count": null,
   "id": "3308a934-1008-4421-837f-b8d22b420d92",
   "metadata": {},
   "outputs": [],
   "source": []
  }
 ],
 "metadata": {
  "kernelspec": {
   "display_name": "Python 3 (ipykernel)",
   "language": "python",
   "name": "python3"
  },
  "language_info": {
   "codemirror_mode": {
    "name": "ipython",
    "version": 3
   },
   "file_extension": ".py",
   "mimetype": "text/x-python",
   "name": "python",
   "nbconvert_exporter": "python",
   "pygments_lexer": "ipython3",
   "version": "3.13.0"
  }
 },
 "nbformat": 4,
 "nbformat_minor": 5
}
